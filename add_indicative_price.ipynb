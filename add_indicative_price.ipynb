{
 "cells": [
  {
   "cell_type": "markdown",
   "id": "digital-medicine",
   "metadata": {},
   "source": [
    "clean the dataset and extract the models, get the average\n",
    "create: hasindicative price\n",
    "add theindicative price and save"
   ]
  },
  {
   "cell_type": "code",
   "execution_count": 1,
   "id": "hollywood-madonna",
   "metadata": {},
   "outputs": [],
   "source": [
    "# Some more magic so that the notebook will reload external python modules;\n",
    "# see http://stackoverflow.com/questions/1907993/autoreload-of-modules-in-ipython\n",
    "# This will automatically reload src/dtree.py every time you make changes and save the file\n",
    "%load_ext autoreload\n",
    "%autoreload 2"
   ]
  },
  {
   "cell_type": "code",
   "execution_count": 2,
   "id": "monetary-preparation",
   "metadata": {},
   "outputs": [],
   "source": [
    "%matplotlib inline"
   ]
  },
  {
   "cell_type": "code",
   "execution_count": 3,
   "id": "spoken-academy",
   "metadata": {},
   "outputs": [],
   "source": [
    "import numpy as np\n",
    "import pandas as pd\n",
    "from matplotlib import pyplot as plt"
   ]
  },
  {
   "cell_type": "code",
   "execution_count": 4,
   "id": "expressed-memphis",
   "metadata": {},
   "outputs": [
    {
     "name": "stdout",
     "output_type": "stream",
     "text": [
      "<class 'pandas.core.frame.DataFrame'>\n",
      "RangeIndex: 4340 entries, 0 to 4339\n",
      "Data columns (total 8 columns):\n",
      " #   Column         Non-Null Count  Dtype \n",
      "---  ------         --------------  ----- \n",
      " 0   name           4340 non-null   object\n",
      " 1   year           4340 non-null   int64 \n",
      " 2   selling_price  4340 non-null   int64 \n",
      " 3   km_driven      4340 non-null   int64 \n",
      " 4   fuel           4340 non-null   object\n",
      " 5   seller_type    4340 non-null   object\n",
      " 6   transmission   4340 non-null   object\n",
      " 7   owner          4340 non-null   object\n",
      "dtypes: int64(3), object(5)\n",
      "memory usage: 271.4+ KB\n"
     ]
    }
   ],
   "source": [
    "df = pd.read_csv('./extra_data.csv')\n",
    "df.info()"
   ]
  },
  {
   "cell_type": "code",
   "execution_count": 5,
   "id": "moved-barcelona",
   "metadata": {},
   "outputs": [
    {
     "data": {
      "text/plain": [
       "array(['Maruti 800 AC', 'Maruti Wagon R LXI Minor',\n",
       "       'Hyundai Verna 1.6 SX', ..., 'Mahindra Verito 1.5 D6 BSIII',\n",
       "       'Toyota Innova 2.5 VX (Diesel) 8 Seater BS IV',\n",
       "       'Hyundai i20 Magna 1.4 CRDi'], dtype=object)"
      ]
     },
     "execution_count": 5,
     "metadata": {},
     "output_type": "execute_result"
    }
   ],
   "source": [
    "df['name'].unique()"
   ]
  },
  {
   "cell_type": "code",
   "execution_count": 30,
   "id": "catholic-operator",
   "metadata": {},
   "outputs": [],
   "source": [
    "df = df[df.year == 2018]"
   ]
  },
  {
   "cell_type": "code",
   "execution_count": 31,
   "id": "obvious-subsection",
   "metadata": {},
   "outputs": [
    {
     "name": "stdout",
     "output_type": "stream",
     "text": [
      "609\n"
     ]
    }
   ],
   "source": [
    "print(len(df))"
   ]
  },
  {
   "cell_type": "code",
   "execution_count": 88,
   "id": "amino-graphics",
   "metadata": {},
   "outputs": [],
   "source": [
    "combined = pd.read_csv('./numerical_cleaned.csv')\n",
    "# needed_models = df_['model'].unique().tolist()\n",
    "# print(needed_models)\n",
    "prices = pd.read_csv('numerical_cleaned_train.csv')['price']\n",
    "trainLen = len(prices)\n",
    "train = combined[:trainLen]\n",
    "test = combined[trainLen:]\n",
    "# combined, train, test, price"
   ]
  },
  {
   "cell_type": "code",
   "execution_count": 89,
   "id": "blind-rochester",
   "metadata": {},
   "outputs": [],
   "source": [
    "def getModelToPrice(newCars, usePower=True):\n",
    "    modelToPrice = defaultdict(list)\n",
    "    for idx, row in newCars.iterrows():\n",
    "        model = row['model']\n",
    "        power = row['power']\n",
    "        if usePower == False:\n",
    "            power = ''\n",
    "        st = model + str(power)\n",
    "        p = price.iloc[idx]\n",
    "        modelToPrice[st].append(p) ##detail the features\n",
    "    return modelToPrice"
   ]
  },
  {
   "cell_type": "code",
   "execution_count": 90,
   "id": "floppy-costa",
   "metadata": {},
   "outputs": [],
   "source": [
    "newCars = train[train.age <= 6]\n",
    "price = pd.read_csv('numerical_cleaned_train.csv')['price']\n",
    "from collections import defaultdict\n",
    "\n",
    "modelToPrice = getModelToPrice(newCars)\n",
    "# print(len(needed_models))"
   ]
  },
  {
   "cell_type": "code",
   "execution_count": 91,
   "id": "objective-parade",
   "metadata": {},
   "outputs": [
    {
     "name": "stderr",
     "output_type": "stream",
     "text": [
      "G:\\softwares\\envs\\4277lab\\lib\\site-packages\\numpy\\lib\\function_base.py:380: RuntimeWarning: Mean of empty slice.\n",
      "  avg = a.mean(axis)\n",
      "G:\\softwares\\envs\\4277lab\\lib\\site-packages\\numpy\\core\\_methods.py:170: RuntimeWarning: invalid value encountered in double_scalars\n",
      "  ret = ret.dtype.type(ret / rcount)\n"
     ]
    },
    {
     "name": "stdout",
     "output_type": "stream",
     "text": [
      "18643\n"
     ]
    }
   ],
   "source": [
    "# fill in selling price by model to price\n",
    "combined['new_price'] = pd.Series([np.nan] * len(combined))\n",
    "\n",
    "for idx, row in combined.iterrows():\n",
    "    model = row['model']\n",
    "    power = row['power']\n",
    "    st = model + str(power)\n",
    "    p = np.average(modelToPrice[st])\n",
    "    combined.at[idx, 'new_price'] = p\n",
    "    \n",
    "print(combined['new_price'].isnull().sum())"
   ]
  },
  {
   "cell_type": "code",
   "execution_count": 92,
   "id": "violent-fifteen",
   "metadata": {},
   "outputs": [
    {
     "name": "stdout",
     "output_type": "stream",
     "text": [
      "6263692019.579191\n"
     ]
    }
   ],
   "source": [
    "from sklearn.metrics import mean_squared_error\n",
    "new = combined[:trainLen].copy()\n",
    "idx = new[~new.new_price.isnull()].index.tolist()\n",
    "predicted = new[~new.new_price.isnull()]['new_price']\n",
    "truth = []\n",
    "for i in idx:\n",
    "    x = prices[i]\n",
    "    truth.append(x)\n",
    "mse=mean_squared_error(predicted, truth)\n",
    "print(mse)"
   ]
  },
  {
   "cell_type": "code",
   "execution_count": 63,
   "id": "pacific-winning",
   "metadata": {},
   "outputs": [],
   "source": [
    "modelToPrice = getModelToPrice(newCars, False)\n",
    "for idx, row in combined.iterrows():\n",
    "    price = row['new_price']\n",
    "    if pd.isna(price):\n",
    "        model = row['model']\n",
    "        power = row['power']\n",
    "        power = ''\n",
    "        st = model + str(power)\n",
    "        p = np.average(modelToPrice[st])\n",
    "        combined.at[idx, 'new_price'] = p"
   ]
  },
  {
   "cell_type": "code",
   "execution_count": 64,
   "id": "rational-firmware",
   "metadata": {},
   "outputs": [
    {
     "name": "stdout",
     "output_type": "stream",
     "text": [
      "3149\n"
     ]
    }
   ],
   "source": [
    "print(combined[trainLen:]['new_price'].isnull().sum()) ## directly keep the results"
   ]
  },
  {
   "cell_type": "code",
   "execution_count": 74,
   "id": "moving-spanking",
   "metadata": {},
   "outputs": [
    {
     "ename": "KeyError",
     "evalue": "16785",
     "output_type": "error",
     "traceback": [
      "\u001b[1;31m---------------------------------------------------------------------------\u001b[0m",
      "\u001b[1;31mValueError\u001b[0m                                Traceback (most recent call last)",
      "\u001b[1;32mG:\\softwares\\envs\\4277lab\\lib\\site-packages\\pandas\\core\\indexes\\range.py\u001b[0m in \u001b[0;36mget_loc\u001b[1;34m(self, key, method, tolerance)\u001b[0m\n\u001b[0;32m    350\u001b[0m                 \u001b[1;32mtry\u001b[0m\u001b[1;33m:\u001b[0m\u001b[1;33m\u001b[0m\u001b[1;33m\u001b[0m\u001b[0m\n\u001b[1;32m--> 351\u001b[1;33m                     \u001b[1;32mreturn\u001b[0m \u001b[0mself\u001b[0m\u001b[1;33m.\u001b[0m\u001b[0m_range\u001b[0m\u001b[1;33m.\u001b[0m\u001b[0mindex\u001b[0m\u001b[1;33m(\u001b[0m\u001b[0mnew_key\u001b[0m\u001b[1;33m)\u001b[0m\u001b[1;33m\u001b[0m\u001b[1;33m\u001b[0m\u001b[0m\n\u001b[0m\u001b[0;32m    352\u001b[0m                 \u001b[1;32mexcept\u001b[0m \u001b[0mValueError\u001b[0m \u001b[1;32mas\u001b[0m \u001b[0merr\u001b[0m\u001b[1;33m:\u001b[0m\u001b[1;33m\u001b[0m\u001b[1;33m\u001b[0m\u001b[0m\n",
      "\u001b[1;31mValueError\u001b[0m: 16785 is not in range",
      "\nThe above exception was the direct cause of the following exception:\n",
      "\u001b[1;31mKeyError\u001b[0m                                  Traceback (most recent call last)",
      "\u001b[1;32m<ipython-input-74-ad720b1e5e79>\u001b[0m in \u001b[0;36m<module>\u001b[1;34m\u001b[0m\n\u001b[0;32m      4\u001b[0m \u001b[0mtruth\u001b[0m \u001b[1;33m=\u001b[0m \u001b[1;33m[\u001b[0m\u001b[1;33m]\u001b[0m\u001b[1;33m\u001b[0m\u001b[1;33m\u001b[0m\u001b[0m\n\u001b[0;32m      5\u001b[0m \u001b[1;32mfor\u001b[0m \u001b[0mi\u001b[0m \u001b[1;32min\u001b[0m \u001b[0midx\u001b[0m\u001b[1;33m:\u001b[0m\u001b[1;33m\u001b[0m\u001b[1;33m\u001b[0m\u001b[0m\n\u001b[1;32m----> 6\u001b[1;33m     \u001b[0mx\u001b[0m \u001b[1;33m=\u001b[0m \u001b[0mprices\u001b[0m\u001b[1;33m[\u001b[0m\u001b[0mi\u001b[0m\u001b[1;33m]\u001b[0m\u001b[1;33m\u001b[0m\u001b[1;33m\u001b[0m\u001b[0m\n\u001b[0m\u001b[0;32m      7\u001b[0m     \u001b[0mtruth\u001b[0m\u001b[1;33m.\u001b[0m\u001b[0mappend\u001b[0m\u001b[1;33m(\u001b[0m\u001b[0mx\u001b[0m\u001b[1;33m)\u001b[0m\u001b[1;33m\u001b[0m\u001b[1;33m\u001b[0m\u001b[0m\n\u001b[0;32m      8\u001b[0m \u001b[0mmse\u001b[0m\u001b[1;33m=\u001b[0m\u001b[0mmean_squared_error\u001b[0m\u001b[1;33m(\u001b[0m\u001b[0mpredicted\u001b[0m\u001b[1;33m,\u001b[0m \u001b[0mtruth\u001b[0m\u001b[1;33m)\u001b[0m\u001b[1;33m\u001b[0m\u001b[1;33m\u001b[0m\u001b[0m\n",
      "\u001b[1;32mG:\\softwares\\envs\\4277lab\\lib\\site-packages\\pandas\\core\\series.py\u001b[0m in \u001b[0;36m__getitem__\u001b[1;34m(self, key)\u001b[0m\n\u001b[0;32m    851\u001b[0m \u001b[1;33m\u001b[0m\u001b[0m\n\u001b[0;32m    852\u001b[0m         \u001b[1;32melif\u001b[0m \u001b[0mkey_is_scalar\u001b[0m\u001b[1;33m:\u001b[0m\u001b[1;33m\u001b[0m\u001b[1;33m\u001b[0m\u001b[0m\n\u001b[1;32m--> 853\u001b[1;33m             \u001b[1;32mreturn\u001b[0m \u001b[0mself\u001b[0m\u001b[1;33m.\u001b[0m\u001b[0m_get_value\u001b[0m\u001b[1;33m(\u001b[0m\u001b[0mkey\u001b[0m\u001b[1;33m)\u001b[0m\u001b[1;33m\u001b[0m\u001b[1;33m\u001b[0m\u001b[0m\n\u001b[0m\u001b[0;32m    854\u001b[0m \u001b[1;33m\u001b[0m\u001b[0m\n\u001b[0;32m    855\u001b[0m         \u001b[1;32mif\u001b[0m \u001b[0mis_hashable\u001b[0m\u001b[1;33m(\u001b[0m\u001b[0mkey\u001b[0m\u001b[1;33m)\u001b[0m\u001b[1;33m:\u001b[0m\u001b[1;33m\u001b[0m\u001b[1;33m\u001b[0m\u001b[0m\n",
      "\u001b[1;32mG:\\softwares\\envs\\4277lab\\lib\\site-packages\\pandas\\core\\series.py\u001b[0m in \u001b[0;36m_get_value\u001b[1;34m(self, label, takeable)\u001b[0m\n\u001b[0;32m    959\u001b[0m \u001b[1;33m\u001b[0m\u001b[0m\n\u001b[0;32m    960\u001b[0m         \u001b[1;31m# Similar to Index.get_value, but we do not fall back to positional\u001b[0m\u001b[1;33m\u001b[0m\u001b[1;33m\u001b[0m\u001b[1;33m\u001b[0m\u001b[0m\n\u001b[1;32m--> 961\u001b[1;33m         \u001b[0mloc\u001b[0m \u001b[1;33m=\u001b[0m \u001b[0mself\u001b[0m\u001b[1;33m.\u001b[0m\u001b[0mindex\u001b[0m\u001b[1;33m.\u001b[0m\u001b[0mget_loc\u001b[0m\u001b[1;33m(\u001b[0m\u001b[0mlabel\u001b[0m\u001b[1;33m)\u001b[0m\u001b[1;33m\u001b[0m\u001b[1;33m\u001b[0m\u001b[0m\n\u001b[0m\u001b[0;32m    962\u001b[0m         \u001b[1;32mreturn\u001b[0m \u001b[0mself\u001b[0m\u001b[1;33m.\u001b[0m\u001b[0mindex\u001b[0m\u001b[1;33m.\u001b[0m\u001b[0m_get_values_for_loc\u001b[0m\u001b[1;33m(\u001b[0m\u001b[0mself\u001b[0m\u001b[1;33m,\u001b[0m \u001b[0mloc\u001b[0m\u001b[1;33m,\u001b[0m \u001b[0mlabel\u001b[0m\u001b[1;33m)\u001b[0m\u001b[1;33m\u001b[0m\u001b[1;33m\u001b[0m\u001b[0m\n\u001b[0;32m    963\u001b[0m \u001b[1;33m\u001b[0m\u001b[0m\n",
      "\u001b[1;32mG:\\softwares\\envs\\4277lab\\lib\\site-packages\\pandas\\core\\indexes\\range.py\u001b[0m in \u001b[0;36mget_loc\u001b[1;34m(self, key, method, tolerance)\u001b[0m\n\u001b[0;32m    351\u001b[0m                     \u001b[1;32mreturn\u001b[0m \u001b[0mself\u001b[0m\u001b[1;33m.\u001b[0m\u001b[0m_range\u001b[0m\u001b[1;33m.\u001b[0m\u001b[0mindex\u001b[0m\u001b[1;33m(\u001b[0m\u001b[0mnew_key\u001b[0m\u001b[1;33m)\u001b[0m\u001b[1;33m\u001b[0m\u001b[1;33m\u001b[0m\u001b[0m\n\u001b[0;32m    352\u001b[0m                 \u001b[1;32mexcept\u001b[0m \u001b[0mValueError\u001b[0m \u001b[1;32mas\u001b[0m \u001b[0merr\u001b[0m\u001b[1;33m:\u001b[0m\u001b[1;33m\u001b[0m\u001b[1;33m\u001b[0m\u001b[0m\n\u001b[1;32m--> 353\u001b[1;33m                     \u001b[1;32mraise\u001b[0m \u001b[0mKeyError\u001b[0m\u001b[1;33m(\u001b[0m\u001b[0mkey\u001b[0m\u001b[1;33m)\u001b[0m \u001b[1;32mfrom\u001b[0m \u001b[0merr\u001b[0m\u001b[1;33m\u001b[0m\u001b[1;33m\u001b[0m\u001b[0m\n\u001b[0m\u001b[0;32m    354\u001b[0m             \u001b[1;32mraise\u001b[0m \u001b[0mKeyError\u001b[0m\u001b[1;33m(\u001b[0m\u001b[0mkey\u001b[0m\u001b[1;33m)\u001b[0m\u001b[1;33m\u001b[0m\u001b[1;33m\u001b[0m\u001b[0m\n\u001b[0;32m    355\u001b[0m         \u001b[1;32mreturn\u001b[0m \u001b[0msuper\u001b[0m\u001b[1;33m(\u001b[0m\u001b[1;33m)\u001b[0m\u001b[1;33m.\u001b[0m\u001b[0mget_loc\u001b[0m\u001b[1;33m(\u001b[0m\u001b[0mkey\u001b[0m\u001b[1;33m,\u001b[0m \u001b[0mmethod\u001b[0m\u001b[1;33m=\u001b[0m\u001b[0mmethod\u001b[0m\u001b[1;33m,\u001b[0m \u001b[0mtolerance\u001b[0m\u001b[1;33m=\u001b[0m\u001b[0mtolerance\u001b[0m\u001b[1;33m)\u001b[0m\u001b[1;33m\u001b[0m\u001b[1;33m\u001b[0m\u001b[0m\n",
      "\u001b[1;31mKeyError\u001b[0m: 16785"
     ]
    }
   ],
   "source": [
    "from sklearn.metrics import mean_squared_error\n",
    "idx = combined[~combined.new_price.isnull()].index.tolist()\n",
    "predicted = combined[~combined.new_price.isnull()][:trainLen]['new_price']\n",
    "truth = []\n",
    "for i in idx:\n",
    "    x = prices[i]\n",
    "    truth.append(x)\n",
    "mse=mean_squared_error(predicted, truth)\n",
    "print(mse)"
   ]
  },
  {
   "cell_type": "code",
   "execution_count": null,
   "id": "under-length",
   "metadata": {},
   "outputs": [],
   "source": [
    "cars = train[train.age <= 12 & train.age > 6]\n",
    "modelToPrice = getModelToPrice(cars, False)\n",
    "for idx, row in combined.iterrows():\n",
    "    price = row['new_price']\n",
    "    if pd.isna(price):\n",
    "        model = row['model']\n",
    "        power = row['power']\n",
    "        power = ''\n",
    "        st = model + str(power)\n",
    "        p = np.average(modelToPrice[st])\n",
    "        combined.at[idx, 'new_price'] = p"
   ]
  },
  {
   "cell_type": "code",
   "execution_count": 23,
   "id": "organized-address",
   "metadata": {},
   "outputs": [
    {
     "name": "stdout",
     "output_type": "stream",
     "text": [
      "0\n"
     ]
    }
   ],
   "source": [
    "df_['selling_price'] = df_['model']\n",
    "# fill in make\n",
    "df_valid = df_.dropna(subset = ['make'])\n",
    "\n",
    "missingMake = df_.make.isnull()\n",
    "dfm = df_[missingMake]\n",
    "missingModelAge = []\n",
    "for idx, row in dfm.iterrows():\n",
    "    model = row['model']\n",
    "    missingModelAge.append(model)\n",
    "\n",
    "mapper = {}\n",
    "for idx, row in df_valid.iterrows():\n",
    "    model = row['model']\n",
    "    make = row['make']\n",
    "    mapper[model] = make\n",
    "\n",
    "for idx, row in dfm.iterrows():\n",
    "    model = row['model']\n",
    "    df_.at[idx, 'make'] = mapper[model]\n",
    "\n",
    "print(df_['make'].isnull().sum())"
   ]
  },
  {
   "cell_type": "code",
   "execution_count": 19,
   "id": "small-showcase",
   "metadata": {},
   "outputs": [
    {
     "name": "stdout",
     "output_type": "stream",
     "text": [
      "94\n",
      "742\n"
     ]
    }
   ],
   "source": [
    "# from collections import defaultdict\n",
    "\n",
    "# modelToPrice = defaultdict(list)\n",
    "# for idx, row in newCars.iterrows():\n",
    "#     tokens = row['name'].split(' ')\n",
    "#     for token in tokens:\n",
    "#         token = token.lower()\n",
    "#         if token in needed_models:\n",
    "#             price = row['selling_price']\n",
    "#             modelToPrice[token].append(price) ##detail the features\n",
    "# print(len(modelToPrice))\n",
    "# print(len(needed_models))"
   ]
  },
  {
   "cell_type": "code",
   "execution_count": null,
   "id": "pharmaceutical-journalist",
   "metadata": {},
   "outputs": [],
   "source": [
    "# for data points missing selling price but make has a selling price, fill in its price based on similar power under the same make"
   ]
  },
  {
   "cell_type": "code",
   "execution_count": 20,
   "id": "pressed-cooper",
   "metadata": {},
   "outputs": [
    {
     "data": {
      "image/png": "[encoded data removed]",
      "text/plain": [
       "<Figure size 432x288 with 1 Axes>"
      ]
     },
     "metadata": {
      "needs_background": "light"
     },
     "output_type": "display_data"
    }
   ],
   "source": [
    "plt.boxplot(df_['power'])\n",
    "plt.show()"
   ]
  },
  {
   "cell_type": "code",
   "execution_count": 21,
   "id": "challenging-plastic",
   "metadata": {},
   "outputs": [
    {
     "name": "stdout",
     "output_type": "stream",
     "text": [
      "<class 'pandas.core.frame.DataFrame'>\n",
      "RangeIndex: 21784 entries, 0 to 21783\n",
      "Data columns (total 24 columns):\n",
      " #   Column           Non-Null Count  Dtype  \n",
      "---  ------           --------------  -----  \n",
      " 0   Unnamed: 0       21784 non-null  int64  \n",
      " 1   power            21784 non-null  float64\n",
      " 2   engine_cap       21784 non-null  float64\n",
      " 3   coe              21784 non-null  float64\n",
      " 4   dereg_value      21784 non-null  float64\n",
      " 5   mileage          21784 non-null  float64\n",
      " 6   omv              21784 non-null  float64\n",
      " 7   age              21784 non-null  int64  \n",
      " 8   remaining_coe    21784 non-null  int64  \n",
      " 9   bus/mini bus     21784 non-null  int64  \n",
      " 10  hatchback        21784 non-null  int64  \n",
      " 11  luxury sedan     21784 non-null  int64  \n",
      " 12  mid-sized sedan  21784 non-null  int64  \n",
      " 13  mpv              21784 non-null  int64  \n",
      " 14  others           21784 non-null  int64  \n",
      " 15  sports car       21784 non-null  int64  \n",
      " 16  stationwagon     21784 non-null  int64  \n",
      " 17  suv              21784 non-null  int64  \n",
      " 18  truck            21784 non-null  int64  \n",
      " 19  van              21784 non-null  int64  \n",
      " 20  auto             21784 non-null  int64  \n",
      " 21  manual           21784 non-null  int64  \n",
      " 22  make             18997 non-null  object \n",
      " 23  model            21784 non-null  object \n",
      "dtypes: float64(6), int64(16), object(2)\n",
      "memory usage: 4.0+ MB\n"
     ]
    }
   ],
   "source": [
    "df_.info()"
   ]
  },
  {
   "cell_type": "code",
   "execution_count": 27,
   "id": "informative-support",
   "metadata": {},
   "outputs": [],
   "source": [
    "# for data points missing selling price \n",
    "# but make has a selling price, fill in its price based on similar power under the same make\n",
    "df_['new_power'] = df_['power']\n",
    "df_['new_power'] = df_['new_power'] // 50 * 50"
   ]
  },
  {
   "cell_type": "code",
   "execution_count": null,
   "id": "deadly-industry",
   "metadata": {},
   "outputs": [],
   "source": [
    "for idx, row in df_.iterrows():\n",
    "    model = row['model']\n",
    "    if model in modelToPrice:\n",
    "        price = "
   ]
  }
 ],
 "metadata": {
  "kernelspec": {
   "display_name": "Python 3",
   "language": "python",
   "name": "python3"
  },
  "language_info": {
   "codemirror_mode": {
    "name": "ipython",
    "version": 3
   },
   "file_extension": ".py",
   "mimetype": "text/x-python",
   "name": "python",
   "nbconvert_exporter": "python",
   "pygments_lexer": "ipython3",
   "version": "3.7.9"
  }
 },
 "nbformat": 4,
 "nbformat_minor": 5
}
