{
 "cells": [
  {
   "cell_type": "code",
   "execution_count": 1,
   "metadata": {},
   "outputs": [],
   "source": [
    "# Some more magic so that the notebook will reload external python modules;\n",
    "# see http://stackoverflow.com/questions/1907993/autoreload-of-modules-in-ipython\n",
    "# This will automatically reload src/dtree.py every time you make changes and save the file\n",
    "%load_ext autoreload\n",
    "%autoreload 2"
   ]
  },
  {
   "cell_type": "code",
   "execution_count": 2,
   "metadata": {},
   "outputs": [],
   "source": [
    "%matplotlib inline"
   ]
  },
  {
   "cell_type": "code",
   "execution_count": 124,
   "metadata": {},
   "outputs": [],
   "source": [
    "import numpy as np\n",
    "import pandas as pd\n",
    "from matplotlib import pyplot as plt"
   ]
  },
  {
   "cell_type": "code",
   "execution_count": 125,
   "metadata": {},
   "outputs": [],
   "source": [
    "# combine\n",
    "# fill in make\n",
    "# fill in mileage, age\n",
    "# fill in power and engine cap\n",
    "# fill in policy-related values except depreciation rate\n",
    "# calculate price based on depreciation rate\n",
    "# save the values with price and evaluate the performance"
   ]
  },
  {
   "cell_type": "code",
   "execution_count": 126,
   "metadata": {},
   "outputs": [],
   "source": [
    "df = pd.read_csv('./train.csv')"
   ]
  },
  {
   "cell_type": "code",
   "execution_count": 127,
   "metadata": {},
   "outputs": [
    {
     "name": "stdout",
     "output_type": "stream",
     "text": [
      "<class 'pandas.core.frame.DataFrame'>\n",
      "RangeIndex: 16784 entries, 0 to 16783\n",
      "Data columns (total 30 columns):\n",
      " #   Column             Non-Null Count  Dtype  \n",
      "---  ------             --------------  -----  \n",
      " 0   listing_id         16784 non-null  int64  \n",
      " 1   title              16784 non-null  object \n",
      " 2   make               14624 non-null  object \n",
      " 3   model              16784 non-null  object \n",
      " 4   description        16439 non-null  object \n",
      " 5   manufactured       16590 non-null  float64\n",
      " 6   original_reg_date  318 non-null    object \n",
      " 7   reg_date           16583 non-null  object \n",
      " 8   type_of_vehicle    16784 non-null  object \n",
      " 9   category           16784 non-null  object \n",
      " 10  transmission       16784 non-null  object \n",
      " 11  curb_weight        16205 non-null  float64\n",
      " 12  power              14447 non-null  float64\n",
      " 13  fuel_type          3490 non-null   object \n",
      " 14  engine_cap         16731 non-null  float64\n",
      " 15  no_of_owners       16608 non-null  float64\n",
      " 16  depreciation       16351 non-null  float64\n",
      " 17  coe                15893 non-null  float64\n",
      " 18  road_tax           14630 non-null  float64\n",
      " 19  dereg_value        15595 non-null  float64\n",
      " 20  mileage            13060 non-null  float64\n",
      " 21  omv                16743 non-null  float64\n",
      " 22  arf                16500 non-null  float64\n",
      " 23  opc_scheme         207 non-null    object \n",
      " 24  lifespan           1702 non-null   object \n",
      " 25  eco_category       16784 non-null  object \n",
      " 26  features           16325 non-null  object \n",
      " 27  accessories        13971 non-null  object \n",
      " 28  indicative_price   0 non-null      float64\n",
      " 29  price              16784 non-null  float64\n",
      "dtypes: float64(14), int64(1), object(15)\n",
      "memory usage: 3.8+ MB\n"
     ]
    }
   ],
   "source": [
    "df.info()\n",
    "# ['depreciation', 'omv', 'arf', 'age', 'remaining_coe', 'dereg_value', 'truck', 'suv', 'sports car', 'luxury sedan',\\\n",
    "#          'bus/mini bus', 'mid-sized sedan', 'stationwagon', 'hatchback', 'mpv']"
   ]
  },
  {
   "cell_type": "markdown",
   "metadata": {},
   "source": [
    "df_valid = df.dropna(subset = ['fuel_type'])\n",
    "\n",
    "missingfuel_type = df.fuel_type.isnull()\n",
    "dfm = df[missingfuel_type]\n",
    "missingModelAge = []\n",
    "for idx, row in dfm.iterrows():\n",
    "    model = row['model']\n",
    "    missingModelAge.append(model)\n",
    "\n",
    "mapper = {}\n",
    "for idx, row in df_valid.iterrows():\n",
    "    model = row['model']\n",
    "    fuel_type = row['fuel_type']\n",
    "    mapper[model] = fuel_type\n",
    "\n",
    "for idx, row in dfm.iterrows():\n",
    "    model = row['model']\n",
    "    if model in mapper:\n",
    "        df.at[idx, 'fuel_type'] = mapper[model]\n",
    "\n",
    "print(df['fuel_type'].isnull().sum())"
   ]
  },
  {
   "cell_type": "code",
   "execution_count": 128,
   "metadata": {},
   "outputs": [
    {
     "name": "stdout",
     "output_type": "stream",
     "text": [
      "0\n"
     ]
    }
   ],
   "source": [
    "#fill in make\n",
    "dfvalid = df.dropna(subset = ['make'])\n",
    "\n",
    "missingMake = df.make.isnull()\n",
    "dfm = df[missingMake]\n",
    "missingModelAge = []\n",
    "for idx, row in dfm.iterrows():\n",
    "    model = row['model']\n",
    "    missingModelAge.append(model)\n",
    "\n",
    "mapper = {}\n",
    "for idx, row in dfvalid.iterrows():\n",
    "    model = row['model']\n",
    "    make = row['make']\n",
    "    mapper[model] = make\n",
    "\n",
    "for idx, row in dfm.iterrows():\n",
    "    model = row['model']\n",
    "    if len(mapper[model]):\n",
    "        df.at[idx, 'make'] = mapper[model]\n",
    "\n",
    "print(df['make'].isnull().sum())"
   ]
  },
  {
   "cell_type": "code",
   "execution_count": 129,
   "metadata": {},
   "outputs": [
    {
     "name": "stdout",
     "output_type": "stream",
     "text": [
      "0\n",
      "10000\n",
      "0\n"
     ]
    }
   ],
   "source": [
    "# fill in mileage\n",
    "df_valid = df.dropna(subset = ['mileage', 'no_of_owners'])\n",
    "no_of_ownerss = df_valid['no_of_owners'].to_numpy()\n",
    "caps = df_valid['mileage'].to_numpy()\n",
    "\n",
    "k = 1000\n",
    "for idx, row in df.iterrows():\n",
    "    if idx % 10000 == 0:\n",
    "        print(idx)\n",
    "\n",
    "    p, e = row['no_of_owners'], row['mileage']\n",
    "    \n",
    "    if type(row[\"mileage\"]) == float and pd.isna(row[\"mileage\"]):\n",
    "\n",
    "        diff = np.abs(no_of_ownerss - p)\n",
    "\n",
    "        indices = np.argsort(diff)[:k]\n",
    "\n",
    "        k_caps = caps[indices]\n",
    "\n",
    "        avg = np.average(k_caps)\n",
    "\n",
    "        # Set the weight value of the current row to the median\n",
    "        df.at[idx, 'mileage'] = avg\n",
    "print(df['mileage'].isnull().sum())"
   ]
  },
  {
   "cell_type": "code",
   "execution_count": 130,
   "metadata": {},
   "outputs": [
    {
     "name": "stdout",
     "output_type": "stream",
     "text": [
      "<class 'pandas.core.frame.DataFrame'>\n",
      "RangeIndex: 16784 entries, 0 to 16783\n",
      "Data columns (total 32 columns):\n",
      " #   Column             Non-Null Count  Dtype  \n",
      "---  ------             --------------  -----  \n",
      " 0   listing_id         16784 non-null  int64  \n",
      " 1   title              16784 non-null  object \n",
      " 2   make               16784 non-null  object \n",
      " 3   model              16784 non-null  object \n",
      " 4   description        16439 non-null  object \n",
      " 5   manufactured       16590 non-null  float64\n",
      " 6   original_reg_date  318 non-null    object \n",
      " 7   reg_date           16583 non-null  object \n",
      " 8   type_of_vehicle    16784 non-null  object \n",
      " 9   category           16784 non-null  object \n",
      " 10  transmission       16784 non-null  object \n",
      " 11  curb_weight        16205 non-null  float64\n",
      " 12  power              14447 non-null  float64\n",
      " 13  fuel_type          3490 non-null   object \n",
      " 14  engine_cap         16731 non-null  float64\n",
      " 15  no_of_owners       16608 non-null  float64\n",
      " 16  depreciation       16351 non-null  float64\n",
      " 17  coe                15893 non-null  float64\n",
      " 18  road_tax           14630 non-null  float64\n",
      " 19  dereg_value        15595 non-null  float64\n",
      " 20  mileage            16784 non-null  float64\n",
      " 21  omv                16743 non-null  float64\n",
      " 22  arf                16500 non-null  float64\n",
      " 23  opc_scheme         207 non-null    object \n",
      " 24  lifespan           1702 non-null   object \n",
      " 25  eco_category       16784 non-null  object \n",
      " 26  features           16325 non-null  object \n",
      " 27  accessories        13971 non-null  object \n",
      " 28  indicative_price   0 non-null      float64\n",
      " 29  price              16784 non-null  float64\n",
      " 30  age                16784 non-null  int64  \n",
      " 31  remaining_coe      16784 non-null  int64  \n",
      "dtypes: float64(14), int64(3), object(15)\n",
      "memory usage: 4.1+ MB\n"
     ]
    }
   ],
   "source": [
    "# get age and remaining coe\n",
    "d1 = df['manufactured'].isnull()\n",
    "df['age'] = df['manufactured'].copy()\n",
    "df.loc[d1, 'age'] = df.loc[d1, 'manufactured']\n",
    "d1 = df['age'].isnull()\n",
    "df.loc[d1, 'age'] = df.loc[d1, 'original_reg_date']\n",
    "d1 = df['age'].isnull()\n",
    "df.loc[d1, 'age'] = df.loc[d1, 'reg_date']\n",
    "\n",
    "def month(x):\n",
    "    if pd.isna(x):\n",
    "        return np.nan\n",
    "    mapper = {}\n",
    "    all_m = ['jan', 'feb', 'mar', 'apr', 'may', 'jun', 'jul', 'aug', 'sep', 'oct', 'nov', 'dec']\n",
    "    for i in range(12):\n",
    "        mapper[all_m[i]] = i + 1\n",
    "    if len(str(x)) < 11:\n",
    "        return (2021 - int(x)) * 12\n",
    "    s = x.split('-')\n",
    "    year = 2021 - int(s[-1])\n",
    "    month = mapper[s[-2]]\n",
    "    return year * 12 + month\n",
    "\n",
    "def filterNeg(x):\n",
    "    if x < 0:\n",
    "        return 0\n",
    "    return x\n",
    "    \n",
    "df['age'] = df['age'].map(month)\n",
    "\n",
    "d1 = df['reg_date'].isnull()\n",
    "df['remaining_coe'] = df['reg_date'].copy()\n",
    "df.loc[d1, 'remaining_coe'] = df.loc[d1, 'reg_date']\n",
    "d1 = df['remaining_coe'].isnull()\n",
    "df.loc[d1, 'remaining_coe'] = df.loc[d1, 'original_reg_date']\n",
    "d1 = df['remaining_coe'].isnull()\n",
    "df.loc[d1, 'remaining_coe'] = df.loc[d1, 'manufactured']\n",
    "df['remaining_coe'] = 120 - df['remaining_coe'].map(month)\n",
    "df['remaining_coe'] = df['remaining_coe'].map(filterNeg)\n",
    "\n",
    "hasLifeSpan = ~df['lifespan'].isnull()\n",
    "def get_remaining(x):\n",
    "    diffFrom2021 = month(x)\n",
    "    res = -diffFrom2021\n",
    "    if res < 0:\n",
    "        res = 0\n",
    "    return res ##check 2021\n",
    "df.loc[hasLifeSpan, 'remaining_coe'] = df.loc[hasLifeSpan, 'lifespan'].map(get_remaining)\n",
    "df.info()"
   ]
  },
  {
   "cell_type": "code",
   "execution_count": 131,
   "metadata": {},
   "outputs": [],
   "source": [
    "df = df.dropna(subset=['omv', 'depreciation', 'dereg_value'])"
   ]
  },
  {
   "cell_type": "code",
   "execution_count": 132,
   "metadata": {},
   "outputs": [],
   "source": [
    "# age,power, enginecap\n",
    "df.loc[df.age < 0, 'age'] = 0\n",
    "df.loc[df.age > 20000, 'age'] = 0"
   ]
  },
  {
   "cell_type": "code",
   "execution_count": 133,
   "metadata": {},
   "outputs": [
    {
     "name": "stdout",
     "output_type": "stream",
     "text": [
      "      listing_id                                              title  \\\n",
      "8199     1005670  Mercedes-Benz E-Class E300e Plug-in Hybrid AMG...   \n",
      "\n",
      "               make model                                        description  \\\n",
      "8199  mercedes-benz   amg  great deal! grab it! new facelifted 2021 with ...   \n",
      "\n",
      "      manufactured original_reg_date     reg_date type_of_vehicle  \\\n",
      "8199        2021.0               NaN  16-jun-2021    luxury sedan   \n",
      "\n",
      "                                               category  ...      arf  \\\n",
      "8199  parf car, almost new car, low mileage car, hyb...  ...  66486.0   \n",
      "\n",
      "      opc_scheme  lifespan   eco_category  \\\n",
      "8199         NaN       NaN  uncategorized   \n",
      "\n",
      "                                               features  \\\n",
      "8199  2.0l m274 powerplant with eq boost producing 3...   \n",
      "\n",
      "                                            accessories  indicative_price  \\\n",
      "8199  amg kits and wheels, memory seat, ambient ligh...               NaN   \n",
      "\n",
      "         price  age  remaining_coe  \n",
      "8199  249700.0    0            114  \n",
      "\n",
      "[1 rows x 32 columns]\n"
     ]
    }
   ],
   "source": [
    "##train\n",
    "print(df[df.engine_cap == 0])\n",
    "df.at[8199, 'engine_cap'] = np.nan"
   ]
  },
  {
   "cell_type": "code",
   "execution_count": 134,
   "metadata": {},
   "outputs": [
    {
     "name": "stdout",
     "output_type": "stream",
     "text": [
      "1469\n"
     ]
    }
   ],
   "source": [
    "df_valid = df.dropna(subset = ['power'])\n",
    "ps = df_valid['power'].to_numpy()\n",
    "\n",
    "missingPs = df.power.isnull()\n",
    "dfm = df[missingPs]\n",
    "missingPower = []\n",
    "for idx, row in dfm.iterrows():\n",
    "    model = row['model']\n",
    "    missingPower.append(model)\n",
    "\n",
    "mapper = defaultdict(list)\n",
    "for idx, row in df_valid.iterrows():\n",
    "    model = row['model']\n",
    "    power = row['power']\n",
    "    mapper[model].append(power)\n",
    "\n",
    "for idx, row in dfm.iterrows():\n",
    "    model = row['model']\n",
    "    if len(mapper[model]):\n",
    "        df.at[idx, 'power'] = np.average(mapper[model])\n",
    "\n",
    "print(df['power'].isnull().sum())"
   ]
  },
  {
   "cell_type": "code",
   "execution_count": 135,
   "metadata": {},
   "outputs": [
    {
     "name": "stdout",
     "output_type": "stream",
     "text": [
      "49\n"
     ]
    }
   ],
   "source": [
    "df_valid = df.dropna(subset = ['engine_cap'])\n",
    "ps = df_valid['engine_cap'].to_numpy()\n",
    "\n",
    "missingPs = df.power.isnull()\n",
    "dfm = df[missingPs]\n",
    "missingPower = []\n",
    "for idx, row in dfm.iterrows():\n",
    "    model = row['model']\n",
    "    missingPower.append(model)\n",
    "\n",
    "mapper = defaultdict(list)\n",
    "for idx, row in df_valid.iterrows():\n",
    "    model = row['model']\n",
    "    power = row['engine_cap']\n",
    "    mapper[model].append(power)\n",
    "\n",
    "for idx, row in dfm.iterrows():\n",
    "    model = row['model']\n",
    "    if len(mapper[model]):\n",
    "        df.at[idx, 'engine_cap'] = np.average(mapper[model])\n",
    "\n",
    "print(df['engine_cap'].isnull().sum())"
   ]
  },
  {
   "cell_type": "code",
   "execution_count": 136,
   "metadata": {},
   "outputs": [],
   "source": [
    "df_valid = df.dropna(subset = ['power', 'engine_cap'])\n",
    "powers = df_valid['power'].to_numpy()\n",
    "caps = df_valid['engine_cap'].to_numpy()\n",
    "\n",
    "k = 100\n",
    "\n",
    "# Loop over each data point in our dataset\n",
    "for idx, row in df.iterrows():\n",
    "    p, e = row['power'], row['engine_cap']\n",
    "    \n",
    "    if type(row[\"power\"]) == float and pd.isna(row[\"power\"]):\n",
    "        diff = np.abs(caps - e)\n",
    "\n",
    "        indices = np.argsort(diff)[:k]\n",
    "\n",
    "        k_powers = powers[indices]\n",
    "\n",
    "        avg = np.average(k_powers)\n",
    "\n",
    "        # Set the weight value of the current row to the median\n",
    "        df.at[idx, 'power'] = avg"
   ]
  },
  {
   "cell_type": "code",
   "execution_count": 137,
   "metadata": {},
   "outputs": [
    {
     "name": "stdout",
     "output_type": "stream",
     "text": [
      "0\n",
      "10000\n"
     ]
    }
   ],
   "source": [
    "df_valid = df.dropna(subset = ['power', 'engine_cap'])\n",
    "powers = df_valid['power'].to_numpy()\n",
    "caps = df_valid['engine_cap'].to_numpy()\n",
    "\n",
    "k = 50\n",
    "for idx, row in df.iterrows():\n",
    "    if idx % 10000 == 0:\n",
    "        print(idx)\n",
    "\n",
    "    p, e = row['power'], row['engine_cap']\n",
    "    \n",
    "    if type(row[\"engine_cap\"]) == float and pd.isna(row[\"engine_cap\"]):\n",
    "\n",
    "        diff = np.abs(powers - p)\n",
    "\n",
    "        indices = np.argsort(diff)[:k]\n",
    "\n",
    "        k_caps = caps[indices]\n",
    "\n",
    "        avg = np.average(k_caps)\n",
    "\n",
    "        # Set the weight value of the current row to the median\n",
    "        df.at[idx, 'engine_cap'] = avg"
   ]
  },
  {
   "cell_type": "markdown",
   "metadata": {},
   "source": [
    "df_ = df.copy()\n",
    "df_['efficiency'] = df_['power']\n",
    "for i in range(len(df_)):\n",
    "    x = df_.iloc[i]\n",
    "    df_['efficiency'][i] = x['power'] / x['engine_cap']\n",
    "\n",
    "plt.boxplot(df_[df_.fuel_type == 'diesel']['efficiency'])# / diesel['engine_cap'])\n",
    "plt.show()"
   ]
  },
  {
   "cell_type": "code",
   "execution_count": 23,
   "metadata": {},
   "outputs": [],
   "source": [
    "# plt.boxplot(df['power'])# / diesel['engine_cap'])\n",
    "# plt.show()"
   ]
  },
  {
   "cell_type": "code",
   "execution_count": 24,
   "metadata": {},
   "outputs": [],
   "source": [
    "# plt.boxplot(df['engine_cap'])# / diesel['engine_cap'])\n",
    "# plt.show()"
   ]
  },
  {
   "cell_type": "markdown",
   "metadata": {},
   "source": [
    "plt.boxplot(df_[df_.fuel_type == 'petrol']['efficiency'])# / diesel['engine_cap']) ##outlier\n",
    "plt.show()"
   ]
  },
  {
   "cell_type": "markdown",
   "metadata": {},
   "source": [
    "# fill omv, get data with missing omv and dereg_value, fill in the omv\n",
    "is_ = df[df.omv.isnull() & df.dereg_value.isnull()].index.tolist()\n",
    "filled_omvs = []\n",
    "for idx in is_:\n",
    "    ag = df.at[idx, 'age']\n",
    "    price = df.at[idx, 'price']\n",
    "    mo = reg.predict(np.array([[ag, price]]))\n",
    "    filled_omvs.append(mo)\n",
    "for i, idx in enumerate(is_):\n",
    "    df.at[idx, 'omv'] = filled_omvs[i]"
   ]
  },
  {
   "cell_type": "code",
   "execution_count": 19,
   "metadata": {},
   "outputs": [
    {
     "name": "stdout",
     "output_type": "stream",
     "text": [
      "<class 'pandas.core.frame.DataFrame'>\n",
      "Int64Index: 16749 entries, 0 to 16783\n",
      "Data columns (total 32 columns):\n",
      " #   Column             Non-Null Count  Dtype  \n",
      "---  ------             --------------  -----  \n",
      " 0   listing_id         16749 non-null  int64  \n",
      " 1   title              16749 non-null  object \n",
      " 2   make               16749 non-null  object \n",
      " 3   model              16749 non-null  object \n",
      " 4   description        16404 non-null  object \n",
      " 5   manufactured       16558 non-null  float64\n",
      " 6   original_reg_date  312 non-null    object \n",
      " 7   reg_date           16550 non-null  object \n",
      " 8   type_of_vehicle    16749 non-null  object \n",
      " 9   category           16749 non-null  object \n",
      " 10  transmission       16749 non-null  object \n",
      " 11  curb_weight        16205 non-null  float64\n",
      " 12  power              16749 non-null  float64\n",
      " 13  fuel_type          3489 non-null   object \n",
      " 14  engine_cap         16749 non-null  float64\n",
      " 15  no_of_owners       16575 non-null  float64\n",
      " 16  depreciation       16318 non-null  float64\n",
      " 17  coe                15862 non-null  float64\n",
      " 18  road_tax           14628 non-null  float64\n",
      " 19  dereg_value        15567 non-null  float64\n",
      " 20  mileage            16749 non-null  float64\n",
      " 21  omv                16749 non-null  float64\n",
      " 22  arf                16500 non-null  float64\n",
      " 23  opc_scheme         207 non-null    object \n",
      " 24  lifespan           1702 non-null   object \n",
      " 25  eco_category       16749 non-null  object \n",
      " 26  features           16294 non-null  object \n",
      " 27  accessories        13944 non-null  object \n",
      " 28  indicative_price   0 non-null      float64\n",
      " 29  price              16749 non-null  float64\n",
      " 30  age                16749 non-null  int64  \n",
      " 31  remaining_coe      16749 non-null  int64  \n",
      "dtypes: float64(14), int64(3), object(15)\n",
      "memory usage: 4.7+ MB\n"
     ]
    }
   ],
   "source": [
    "df.info()"
   ]
  },
  {
   "cell_type": "code",
   "execution_count": 138,
   "metadata": {},
   "outputs": [
    {
     "name": "stdout",
     "output_type": "stream",
     "text": [
      "0\n"
     ]
    }
   ],
   "source": [
    "# coe: fill in missing value for coe according to: age and power\n",
    "fill_arf = df[df.arf.isnull()]\n",
    "for idx, row in fill_arf.iterrows():\n",
    "    omv = row['omv']\n",
    "    if omv < 20000:\n",
    "        df.at[idx, 'arf'] = omv\n",
    "    elif omv >= 20000 and omv <= 50000:\n",
    "        df.at[idx, 'arf'] = (omv - 20000) * 1.40 + 20000\n",
    "    else:\n",
    "        df.at[idx, 'arf'] =  (omv - 50000) * 1.80 + 62000\n",
    "print(len(df[df.arf.isnull()]))\n",
    "# df = df[~(df.arf.isnull() & df.dereg_value.isnull())] # remove values whose dereg_value cannot be calculated"
   ]
  },
  {
   "cell_type": "code",
   "execution_count": 104,
   "metadata": {},
   "outputs": [
    {
     "name": "stdout",
     "output_type": "stream",
     "text": [
      "0\n"
     ]
    }
   ],
   "source": [
    "# for date missing both coe and dereg_value, record it's month engine and power\n",
    "coe_to_search = []\n",
    "to_search = df[df.coe.isnull() & df.dereg_value.isnull()]\n",
    "\n",
    "for idx, row in to_search.iterrows():\n",
    "    # category -> A / B\n",
    "    power = row[\"power\"]\n",
    "    engine_cap = row[\"engine_cap\"]\n",
    "    cat = 2\n",
    "    month = row[\"age\"]\n",
    "    if engine_cap <= 1600 and power <= 97:\n",
    "        cat = 1\n",
    "    coe_to_search.append((cat, month))\n",
    "\n",
    "coe_to_search = list(set(coe_to_search))\n",
    "print(len(coe_to_search))"
   ]
  },
  {
   "cell_type": "code",
   "execution_count": 55,
   "metadata": {},
   "outputs": [
    {
     "name": "stdout",
     "output_type": "stream",
     "text": [
      "10\n"
     ]
    }
   ],
   "source": [
    "print(len(df[df.coe.isnull()]))"
   ]
  },
  {
   "cell_type": "code",
   "execution_count": 139,
   "metadata": {},
   "outputs": [],
   "source": [
    "df = df.dropna(subset = ['coe'])"
   ]
  },
  {
   "cell_type": "code",
   "execution_count": 57,
   "metadata": {},
   "outputs": [
    {
     "name": "stdout",
     "output_type": "stream",
     "text": [
      "0\n"
     ]
    }
   ],
   "source": [
    "print(len(df[df.coe.isnull()]))"
   ]
  },
  {
   "cell_type": "code",
   "execution_count": 140,
   "metadata": {},
   "outputs": [
    {
     "name": "stdout",
     "output_type": "stream",
     "text": [
      "<class 'pandas.core.frame.DataFrame'>\n",
      "Int64Index: 15424 entries, 0 to 16783\n",
      "Data columns (total 32 columns):\n",
      " #   Column             Non-Null Count  Dtype  \n",
      "---  ------             --------------  -----  \n",
      " 0   listing_id         15424 non-null  int64  \n",
      " 1   title              15424 non-null  object \n",
      " 2   make               15424 non-null  object \n",
      " 3   model              15424 non-null  object \n",
      " 4   description        15099 non-null  object \n",
      " 5   manufactured       15420 non-null  float64\n",
      " 6   original_reg_date  21 non-null     object \n",
      " 7   reg_date           15424 non-null  object \n",
      " 8   type_of_vehicle    15424 non-null  object \n",
      " 9   category           15424 non-null  object \n",
      " 10  transmission       15424 non-null  object \n",
      " 11  curb_weight        15100 non-null  float64\n",
      " 12  power              15424 non-null  float64\n",
      " 13  fuel_type          3283 non-null   object \n",
      " 14  engine_cap         15424 non-null  float64\n",
      " 15  no_of_owners       15419 non-null  float64\n",
      " 16  depreciation       15424 non-null  float64\n",
      " 17  coe                15424 non-null  float64\n",
      " 18  road_tax           13476 non-null  float64\n",
      " 19  dereg_value        15424 non-null  float64\n",
      " 20  mileage            15424 non-null  float64\n",
      " 21  omv                15424 non-null  float64\n",
      " 22  arf                15424 non-null  float64\n",
      " 23  opc_scheme         202 non-null    object \n",
      " 24  lifespan           1589 non-null   object \n",
      " 25  eco_category       15424 non-null  object \n",
      " 26  features           15044 non-null  object \n",
      " 27  accessories        12863 non-null  object \n",
      " 28  indicative_price   0 non-null      float64\n",
      " 29  price              15424 non-null  float64\n",
      " 30  age                15424 non-null  int64  \n",
      " 31  remaining_coe      15424 non-null  int64  \n",
      "dtypes: float64(14), int64(3), object(15)\n",
      "memory usage: 3.9+ MB\n"
     ]
    }
   ],
   "source": [
    "df.info()\n",
    "df.to_csv('trian_clean.csv')"
   ]
  },
  {
   "cell_type": "code",
   "execution_count": 141,
   "metadata": {},
   "outputs": [],
   "source": [
    "prices = df['price']\n",
    "\n",
    "for idx in range(len(df)):\n",
    "    row = df.iloc[idx]\n",
    "    depreciation = row['depreciation']\n",
    "    age = row[\"age\"]\n",
    "    coe = row[\"coe\"]\n",
    "    omv = row[\"omv\"]\n",
    "    arf = row[\"arf\"]\n",
    "    remaining_coe = row['remaining_coe']\n",
    "\n",
    "    min_parf = min(0.55 * omv, arf)\n",
    "    if age <= 96:\n",
    "        min_parf = 0.5 * arf ####\n",
    "    elif age > 96 and age <= (2021 - 2008) * 12:\n",
    "        min_parf = min(omv, arf)\n",
    "    \n",
    "    # print(idx, len(prices))\n",
    "    new_coe = (prices.iloc[idx] - 0.5 * min_parf) / depreciation\n",
    "    if new_coe <= 120 and new_coe >= 0 and age >= (2021 - 2002) * 12:\n",
    "        df.iloc[idx, 31] = new_coe\n"
   ]
  },
  {
   "cell_type": "code",
   "execution_count": 118,
   "metadata": {},
   "outputs": [
    {
     "name": "stdout",
     "output_type": "stream",
     "text": [
      "<class 'pandas.core.frame.DataFrame'>\n",
      "RangeIndex: 5000 entries, 0 to 4999\n",
      "Data columns (total 16 columns):\n",
      " #   Column           Non-Null Count  Dtype  \n",
      "---  ------           --------------  -----  \n",
      " 0   Unnamed: 0       5000 non-null   int64  \n",
      " 1   mileage          5000 non-null   float64\n",
      " 2   depreciation     5000 non-null   float64\n",
      " 3   omv              5000 non-null   float64\n",
      " 4   age              5000 non-null   int64  \n",
      " 5   remaining_coe    5000 non-null   int64  \n",
      " 6   dereg_value      5000 non-null   float64\n",
      " 7   truck            5000 non-null   int64  \n",
      " 8   suv              5000 non-null   int64  \n",
      " 9   sports car       5000 non-null   int64  \n",
      " 10  luxury sedan     5000 non-null   int64  \n",
      " 11  bus/mini bus     5000 non-null   int64  \n",
      " 12  mid-sized sedan  5000 non-null   int64  \n",
      " 13  stationwagon     5000 non-null   int64  \n",
      " 14  hatchback        5000 non-null   int64  \n",
      " 15  mpv              5000 non-null   int64  \n",
      "dtypes: float64(4), int64(12)\n",
      "memory usage: 625.1 KB\n"
     ]
    }
   ],
   "source": [
    "df_test = pd.read_csv('./test/without_null_dep.csv')\n",
    "df_test.info()"
   ]
  },
  {
   "cell_type": "code",
   "execution_count": 111,
   "metadata": {},
   "outputs": [
    {
     "name": "stdout",
     "output_type": "stream",
     "text": [
      "<class 'pandas.core.frame.DataFrame'>\n",
      "Int64Index: 15434 entries, 0 to 16783\n",
      "Data columns (total 47 columns):\n",
      " #   Column             Non-Null Count  Dtype  \n",
      "---  ------             --------------  -----  \n",
      " 0   listing_id         15434 non-null  int64  \n",
      " 1   title              15434 non-null  object \n",
      " 2   make               15434 non-null  object \n",
      " 3   model              15434 non-null  object \n",
      " 4   description        15109 non-null  object \n",
      " 5   manufactured       15430 non-null  float64\n",
      " 6   original_reg_date  21 non-null     object \n",
      " 7   reg_date           15434 non-null  object \n",
      " 8   type_of_vehicle    15434 non-null  object \n",
      " 9   category           15434 non-null  object \n",
      " 10  transmission       15434 non-null  object \n",
      " 11  curb_weight        15110 non-null  float64\n",
      " 12  power              15434 non-null  float64\n",
      " 13  fuel_type          15434 non-null  object \n",
      " 14  engine_cap         15434 non-null  float64\n",
      " 15  no_of_owners       15429 non-null  float64\n",
      " 16  depreciation       15434 non-null  float64\n",
      " 17  coe                15424 non-null  float64\n",
      " 18  road_tax           13486 non-null  float64\n",
      " 19  dereg_value        15434 non-null  float64\n",
      " 20  mileage            15434 non-null  float64\n",
      " 21  omv                15434 non-null  float64\n",
      " 22  arf                15434 non-null  float64\n",
      " 23  opc_scheme         202 non-null    object \n",
      " 24  lifespan           1589 non-null   object \n",
      " 25  eco_category       15434 non-null  object \n",
      " 26  features           15054 non-null  object \n",
      " 27  accessories        12873 non-null  object \n",
      " 28  indicative_price   0 non-null      float64\n",
      " 29  price              15434 non-null  float64\n",
      " 30  age                15434 non-null  int64  \n",
      " 31  remaining_coe      15434 non-null  int64  \n",
      " 32  bus/mini bus       15434 non-null  uint8  \n",
      " 33  hatchback          15434 non-null  uint8  \n",
      " 34  luxury sedan       15434 non-null  uint8  \n",
      " 35  mid-sized sedan    15434 non-null  uint8  \n",
      " 36  mpv                15434 non-null  uint8  \n",
      " 37  others             15434 non-null  uint8  \n",
      " 38  sports car         15434 non-null  uint8  \n",
      " 39  stationwagon       15434 non-null  uint8  \n",
      " 40  suv                15434 non-null  uint8  \n",
      " 41  truck              15434 non-null  uint8  \n",
      " 42  van                15434 non-null  uint8  \n",
      " 43  diesel             15434 non-null  uint8  \n",
      " 44  electric           15434 non-null  uint8  \n",
      " 45  petrol             15434 non-null  uint8  \n",
      " 46  petrol-electric    15434 non-null  uint8  \n",
      "dtypes: float64(14), int64(3), object(15), uint8(15)\n",
      "memory usage: 4.6+ MB\n"
     ]
    }
   ],
   "source": [
    "df['fuel_type'] = df['fuel_type'].fillna('petrol')\n",
    "cars_dummies = pd.get_dummies(df['type_of_vehicle'])\n",
    "train = pd.concat([df, cars_dummies], axis=1)\n",
    "cars_dummies = pd.get_dummies(df['fuel_type'])\n",
    "train = pd.concat([train, cars_dummies], axis=1)\n",
    "\n",
    "train.info()"
   ]
  },
  {
   "cell_type": "code",
   "execution_count": 142,
   "metadata": {},
   "outputs": [
    {
     "name": "stdout",
     "output_type": "stream",
     "text": [
      "<class 'pandas.core.frame.DataFrame'>\n",
      "Int64Index: 15434 entries, 0 to 16783\n",
      "Data columns (total 15 columns):\n",
      " #   Column           Non-Null Count  Dtype  \n",
      "---  ------           --------------  -----  \n",
      " 0   mileage          15434 non-null  float64\n",
      " 1   depreciation     15434 non-null  float64\n",
      " 2   omv              15434 non-null  float64\n",
      " 3   age              15434 non-null  int64  \n",
      " 4   remaining_coe    15434 non-null  int64  \n",
      " 5   dereg_value      15434 non-null  float64\n",
      " 6   truck            15434 non-null  uint8  \n",
      " 7   suv              15434 non-null  uint8  \n",
      " 8   sports car       15434 non-null  uint8  \n",
      " 9   luxury sedan     15434 non-null  uint8  \n",
      " 10  bus/mini bus     15434 non-null  uint8  \n",
      " 11  mid-sized sedan  15434 non-null  uint8  \n",
      " 12  stationwagon     15434 non-null  uint8  \n",
      " 13  hatchback        15434 non-null  uint8  \n",
      " 14  mpv              15434 non-null  uint8  \n",
      "dtypes: float64(4), int64(2), uint8(9)\n",
      "memory usage: 1.5 MB\n"
     ]
    }
   ],
   "source": [
    "useful = ['mileage', 'depreciation', 'omv', 'age', 'remaining_coe', 'dereg_value', 'truck', 'suv', 'sports car', 'luxury sedan',\\\n",
    "         'bus/mini bus', 'mid-sized sedan', 'stationwagon', 'hatchback', 'mpv']#, 'coe'] #, engine_cap, power\n",
    "train = train[useful] ##rank usefulness, arf\n",
    "train.info()\n",
    "\n",
    "prices = df['price']"
   ]
  },
  {
   "cell_type": "code",
   "execution_count": 143,
   "metadata": {},
   "outputs": [
    {
     "ename": "ValueError",
     "evalue": "Found input variables with inconsistent numbers of samples: [15434, 15424]",
     "output_type": "error",
     "traceback": [
      "\u001b[1;31m---------------------------------------------------------------------------\u001b[0m",
      "\u001b[1;31mValueError\u001b[0m                                Traceback (most recent call last)",
      "\u001b[1;32m<ipython-input-143-a5e7f185fc15>\u001b[0m in \u001b[0;36m<module>\u001b[1;34m\u001b[0m\n\u001b[0;32m      8\u001b[0m X_train, X_test, y_train, y_test = train_test_split(train, prices, \n\u001b[0;32m      9\u001b[0m                                                     \u001b[0mtrain_size\u001b[0m\u001b[1;33m=\u001b[0m\u001b[1;36m0.7\u001b[0m\u001b[1;33m,\u001b[0m\u001b[1;33m\u001b[0m\u001b[1;33m\u001b[0m\u001b[0m\n\u001b[1;32m---> 10\u001b[1;33m                                                     test_size = 0.3, random_state=100)\n\u001b[0m\u001b[0;32m     11\u001b[0m \u001b[0mmodel\u001b[0m \u001b[1;33m=\u001b[0m \u001b[0mRandomForestRegressor\u001b[0m\u001b[1;33m(\u001b[0m\u001b[0mn_estimators\u001b[0m \u001b[1;33m=\u001b[0m \u001b[1;36m400\u001b[0m\u001b[1;33m,\u001b[0m \u001b[0mmax_features\u001b[0m \u001b[1;33m=\u001b[0m \u001b[1;36m8\u001b[0m\u001b[1;33m,\u001b[0m \u001b[0mrandom_state\u001b[0m\u001b[1;33m=\u001b[0m\u001b[1;36m0\u001b[0m\u001b[1;33m)\u001b[0m\u001b[1;33m\u001b[0m\u001b[1;33m\u001b[0m\u001b[0m\n\u001b[0;32m     12\u001b[0m \u001b[1;31m# model = RandomForestRegressor(n_estimators = 300)\u001b[0m\u001b[1;33m\u001b[0m\u001b[1;33m\u001b[0m\u001b[1;33m\u001b[0m\u001b[0m\n",
      "\u001b[1;32mG:\\softwares\\envs\\4277lab\\lib\\site-packages\\sklearn\\model_selection\\_split.py\u001b[0m in \u001b[0;36mtrain_test_split\u001b[1;34m(test_size, train_size, random_state, shuffle, stratify, *arrays)\u001b[0m\n\u001b[0;32m   2170\u001b[0m         \u001b[1;32mraise\u001b[0m \u001b[0mValueError\u001b[0m\u001b[1;33m(\u001b[0m\u001b[1;34m\"At least one array required as input\"\u001b[0m\u001b[1;33m)\u001b[0m\u001b[1;33m\u001b[0m\u001b[1;33m\u001b[0m\u001b[0m\n\u001b[0;32m   2171\u001b[0m \u001b[1;33m\u001b[0m\u001b[0m\n\u001b[1;32m-> 2172\u001b[1;33m     \u001b[0marrays\u001b[0m \u001b[1;33m=\u001b[0m \u001b[0mindexable\u001b[0m\u001b[1;33m(\u001b[0m\u001b[1;33m*\u001b[0m\u001b[0marrays\u001b[0m\u001b[1;33m)\u001b[0m\u001b[1;33m\u001b[0m\u001b[1;33m\u001b[0m\u001b[0m\n\u001b[0m\u001b[0;32m   2173\u001b[0m \u001b[1;33m\u001b[0m\u001b[0m\n\u001b[0;32m   2174\u001b[0m     \u001b[0mn_samples\u001b[0m \u001b[1;33m=\u001b[0m \u001b[0m_num_samples\u001b[0m\u001b[1;33m(\u001b[0m\u001b[0marrays\u001b[0m\u001b[1;33m[\u001b[0m\u001b[1;36m0\u001b[0m\u001b[1;33m]\u001b[0m\u001b[1;33m)\u001b[0m\u001b[1;33m\u001b[0m\u001b[1;33m\u001b[0m\u001b[0m\n",
      "\u001b[1;32mG:\\softwares\\envs\\4277lab\\lib\\site-packages\\sklearn\\utils\\validation.py\u001b[0m in \u001b[0;36mindexable\u001b[1;34m(*iterables)\u001b[0m\n\u001b[0;32m    297\u001b[0m     \"\"\"\n\u001b[0;32m    298\u001b[0m     \u001b[0mresult\u001b[0m \u001b[1;33m=\u001b[0m \u001b[1;33m[\u001b[0m\u001b[0m_make_indexable\u001b[0m\u001b[1;33m(\u001b[0m\u001b[0mX\u001b[0m\u001b[1;33m)\u001b[0m \u001b[1;32mfor\u001b[0m \u001b[0mX\u001b[0m \u001b[1;32min\u001b[0m \u001b[0miterables\u001b[0m\u001b[1;33m]\u001b[0m\u001b[1;33m\u001b[0m\u001b[1;33m\u001b[0m\u001b[0m\n\u001b[1;32m--> 299\u001b[1;33m     \u001b[0mcheck_consistent_length\u001b[0m\u001b[1;33m(\u001b[0m\u001b[1;33m*\u001b[0m\u001b[0mresult\u001b[0m\u001b[1;33m)\u001b[0m\u001b[1;33m\u001b[0m\u001b[1;33m\u001b[0m\u001b[0m\n\u001b[0m\u001b[0;32m    300\u001b[0m     \u001b[1;32mreturn\u001b[0m \u001b[0mresult\u001b[0m\u001b[1;33m\u001b[0m\u001b[1;33m\u001b[0m\u001b[0m\n\u001b[0;32m    301\u001b[0m \u001b[1;33m\u001b[0m\u001b[0m\n",
      "\u001b[1;32mG:\\softwares\\envs\\4277lab\\lib\\site-packages\\sklearn\\utils\\validation.py\u001b[0m in \u001b[0;36mcheck_consistent_length\u001b[1;34m(*arrays)\u001b[0m\n\u001b[0;32m    261\u001b[0m     \u001b[1;32mif\u001b[0m \u001b[0mlen\u001b[0m\u001b[1;33m(\u001b[0m\u001b[0muniques\u001b[0m\u001b[1;33m)\u001b[0m \u001b[1;33m>\u001b[0m \u001b[1;36m1\u001b[0m\u001b[1;33m:\u001b[0m\u001b[1;33m\u001b[0m\u001b[1;33m\u001b[0m\u001b[0m\n\u001b[0;32m    262\u001b[0m         raise ValueError(\"Found input variables with inconsistent numbers of\"\n\u001b[1;32m--> 263\u001b[1;33m                          \" samples: %r\" % [int(l) for l in lengths])\n\u001b[0m\u001b[0;32m    264\u001b[0m \u001b[1;33m\u001b[0m\u001b[0m\n\u001b[0;32m    265\u001b[0m \u001b[1;33m\u001b[0m\u001b[0m\n",
      "\u001b[1;31mValueError\u001b[0m: Found input variables with inconsistent numbers of samples: [15434, 15424]"
     ]
    }
   ],
   "source": [
    "from sklearn.ensemble import RandomForestRegressor\n",
    "from sklearn.tree import DecisionTreeClassifier\n",
    "from sklearn.metrics import mean_squared_error\n",
    "import pandas as pd\n",
    "import numpy as np\n",
    "from sklearn.model_selection import train_test_split\n",
    "\n",
    "X_train, X_test, y_train, y_test = train_test_split(train, prices, \n",
    "                                                    train_size=0.7,\n",
    "                                                    test_size = 0.3, random_state=100)\n",
    "model = RandomForestRegressor(n_estimators = 400, max_features = 8, random_state=0)\n",
    "# model = RandomForestRegressor(n_estimators = 300)\n",
    "\n",
    "model.fit(X_train, y_train)\n",
    "\n",
    "y_pred = model.predict(X_test)\n",
    "mse=mean_squared_error(y_test, y_pred)\n",
    "print(mse)"
   ]
  },
  {
   "cell_type": "code",
   "execution_count": 116,
   "metadata": {},
   "outputs": [
    {
     "data": {
      "text/plain": [
       "RandomForestRegressor(max_features=8, n_estimators=450, random_state=0)"
      ]
     },
     "execution_count": 116,
     "metadata": {},
     "output_type": "execute_result"
    }
   ],
   "source": [
    "model = RandomForestRegressor(n_estimators = 450, max_features = 8, random_state=0)\n",
    "# # model = RandomForestRegressor(n_estimators = 300)\n",
    "model.fit(train, prices)\n",
    "# model.fit(X, y)"
   ]
  },
  {
   "cell_type": "code",
   "execution_count": 121,
   "metadata": {},
   "outputs": [
    {
     "name": "stdout",
     "output_type": "stream",
     "text": [
      "<class 'pandas.core.frame.DataFrame'>\n",
      "RangeIndex: 5000 entries, 0 to 4999\n",
      "Data columns (total 15 columns):\n",
      " #   Column           Non-Null Count  Dtype  \n",
      "---  ------           --------------  -----  \n",
      " 0   mileage          5000 non-null   float64\n",
      " 1   depreciation     5000 non-null   float64\n",
      " 2   omv              5000 non-null   float64\n",
      " 3   age              5000 non-null   int64  \n",
      " 4   remaining_coe    5000 non-null   int64  \n",
      " 5   dereg_value      5000 non-null   float64\n",
      " 6   truck            5000 non-null   int64  \n",
      " 7   suv              5000 non-null   int64  \n",
      " 8   sports car       5000 non-null   int64  \n",
      " 9   luxury sedan     5000 non-null   int64  \n",
      " 10  bus/mini bus     5000 non-null   int64  \n",
      " 11  mid-sized sedan  5000 non-null   int64  \n",
      " 12  stationwagon     5000 non-null   int64  \n",
      " 13  hatchback        5000 non-null   int64  \n",
      " 14  mpv              5000 non-null   int64  \n",
      "dtypes: float64(4), int64(11)\n",
      "memory usage: 586.1 KB\n"
     ]
    }
   ],
   "source": [
    "cols = ['mileage', 'depreciation', 'omv', 'age', 'remaining_coe', 'dereg_value', 'truck', 'suv', 'sports car', 'luxury sedan',\\\n",
    "         'bus/mini bus', 'mid-sized sedan', 'stationwagon', 'hatchback', 'mpv']\n",
    "df_test = df_test[cols]\n",
    "\n",
    "df_test.info()"
   ]
  },
  {
   "cell_type": "code",
   "execution_count": 122,
   "metadata": {},
   "outputs": [
    {
     "name": "stdout",
     "output_type": "stream",
     "text": [
      "<class 'pandas.core.frame.DataFrame'>\n",
      "RangeIndex: 5000 entries, 0 to 4999\n",
      "Data columns (total 1 columns):\n",
      " #   Column     Non-Null Count  Dtype  \n",
      "---  ------     --------------  -----  \n",
      " 0   Predicted  5000 non-null   float64\n",
      "dtypes: float64(1)\n",
      "memory usage: 39.2 KB\n"
     ]
    }
   ],
   "source": [
    "y_pred = model.predict(df_test)\n",
    "y_pred = pd.DataFrame(y_pred)\n",
    "\n",
    "y_pred = y_pred.rename(columns={0: 'Predicted'})\n",
    "# y_pred = y_pred.dropna()\n",
    "y_pred.info()"
   ]
  },
  {
   "cell_type": "code",
   "execution_count": 123,
   "metadata": {},
   "outputs": [],
   "source": [
    "y_pred.to_csv('predictions_miss_2x.csv')"
   ]
  },
  {
   "cell_type": "code",
   "execution_count": 45,
   "metadata": {},
   "outputs": [],
   "source": [
    "new_preds = y_pred['Predicted'].tolist()"
   ]
  },
  {
   "cell_type": "code",
   "execution_count": 46,
   "metadata": {},
   "outputs": [],
   "source": [
    "cur_best = pd.read_csv('highest.csv')\n",
    "cur_pred = cur_best['Predicted'].tolist()"
   ]
  },
  {
   "cell_type": "code",
   "execution_count": 50,
   "metadata": {},
   "outputs": [
    {
     "name": "stdout",
     "output_type": "stream",
     "text": [
      "4868\n",
      "141\n",
      "10 132\n"
     ]
    }
   ],
   "source": [
    "print(len(new_preds))\n",
    "dropped = set(L)\n",
    "print(len(dropped))\n",
    "\n",
    "l1 = len(omvL)\n",
    "l2 = len(depL)\n",
    "print(l1, l2)"
   ]
  },
  {
   "cell_type": "code",
   "execution_count": 62,
   "metadata": {},
   "outputs": [],
   "source": [
    "combined_preds = []\n",
    "j = 0\n",
    "for i in range(5000):\n",
    "    if i in depL:\n",
    "        old = cur_pred[i]\n",
    "        combined_preds.append(old)\n",
    "    else:\n",
    "        new = new_preds[j]\n",
    "        combined_preds.append(new)\n",
    "        j += 1\n",
    "\n",
    "# print(combined_preds[-3:])\n",
    "# print(new_preds[-3:])\n",
    "for o in omvL:\n",
    "    combined_preds[o] = cur_pred[o]"
   ]
  },
  {
   "cell_type": "code",
   "execution_count": 64,
   "metadata": {},
   "outputs": [
    {
     "name": "stdout",
     "output_type": "stream",
     "text": [
      "<class 'pandas.core.frame.DataFrame'>\n",
      "RangeIndex: 5000 entries, 0 to 4999\n",
      "Data columns (total 1 columns):\n",
      " #   Column     Non-Null Count  Dtype  \n",
      "---  ------     --------------  -----  \n",
      " 0   Predicted  5000 non-null   float64\n",
      "dtypes: float64(1)\n",
      "memory usage: 39.2 KB\n"
     ]
    }
   ],
   "source": [
    "sr = pd.DataFrame(combined_preds)\n",
    "sr = sr.rename(columns={0: 'Predicted'})\n",
    "sr.info()\n",
    "sr.to_csv('predictions.csv')"
   ]
  },
  {
   "cell_type": "code",
   "execution_count": null,
   "metadata": {},
   "outputs": [],
   "source": []
  }
 ],
 "metadata": {
  "kernelspec": {
   "display_name": "Python 3",
   "language": "python",
   "name": "python3"
  },
  "language_info": {
   "codemirror_mode": {
    "name": "ipython",
    "version": 3
   },
   "file_extension": ".py",
   "mimetype": "text/x-python",
   "name": "python",
   "nbconvert_exporter": "python",
   "pygments_lexer": "ipython3",
   "version": "3.7.9"
  }
 },
 "nbformat": 4,
 "nbformat_minor": 2
}
