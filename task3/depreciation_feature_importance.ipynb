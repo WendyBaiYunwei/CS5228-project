{
 "cells": [
  {
   "cell_type": "code",
   "execution_count": null,
   "metadata": {},
   "outputs": [],
   "source": [
    "import matplotlib.pyplot as plt\n",
    "import pandas as pd\n",
    "import numpy as np"
   ]
  },
  {
   "cell_type": "code",
   "execution_count": null,
   "metadata": {},
   "outputs": [],
   "source": [
    "def process_catagorical(df):\n",
    "    single_catagorical=['make','fuel_type','type_of_vehicle']\n",
    "    multi_catagorical=['category']\n",
    "\n",
    "    def to_cat(x,value_list):\n",
    "        c = value_list.index(x)\n",
    "        return c\n",
    "\n",
    "\n",
    "    for h in single_catagorical:\n",
    "        print(h)\n",
    "        df[h]=df[h].fillna('none')\n",
    "        value_list=list(set(df[h].values))\n",
    "        \n",
    "        if \"none\" in value_list:\n",
    "            value_list.remove(\"none\")\n",
    "            value_list.sort()\n",
    "            value_list=[\"none\"]+value_list\n",
    "        df[h] = df[h].apply(to_cat,args=(value_list,))\n",
    "\n",
    "    def to_multi_cat(x,value_list):\n",
    "        c=\"\"\n",
    "        for i,value in enumerate(value_list):\n",
    "            if value in x:\n",
    "                c+=\"-\"+str(i)+\"-\"\n",
    "        return c\n",
    "\n",
    "\n",
    "    for h in multi_catagorical:\n",
    "        print(h)\n",
    "        data=list(df[h].fillna('none').unique())\n",
    "        #print(data)\n",
    "        catagory=set([])\n",
    "        for l in data:\n",
    "            cat_l=l.strip('-').split(\",\")\n",
    "            for cat in cat_l:\n",
    "                if len(cat)!=0:\n",
    "                    catagory.add(cat.strip(\" \"))\n",
    "        value_list=list(catagory)\n",
    "        value_list.sort()\n",
    "        print(value_list)\n",
    "        df[h]=df[h].apply(to_multi_cat,args=(value_list,))\n",
    "    \n",
    "        for i in range(len(value_list)):\n",
    "            df[value_list[i]]=0\n",
    "            #df=post_process(df)\n",
    "            df.loc[df['category'].str.contains(\"-\"+str(i)+\"-\"), value_list[i]]=1\n",
    "            #df.head(20)\n",
    "\n",
    "    return df"
   ]
  },
  {
   "cell_type": "code",
   "execution_count": null,
   "metadata": {},
   "outputs": [],
   "source": [
    "def post_process(df):\n",
    "    df['trans'] = 1\n",
    "    df[df.transmission == 'manual']['trans'] = 0\n",
    "    # types = ['luxury sedan', 'sports car', 'suv']\n",
    "    # df['ordinal_type'] = 0\n",
    "    # df[df.type_of_vehicle.isin(types)]['ordinal_type'] = 1\n",
    "    df=process_catagorical(df)\n",
    "    #df = df.drop(columns = ['features', 'category', 'type_of_vehicle', 'description', 'model', 'make', 'title', 'transmission', 'fuel_type', 'Unnamed: 0'])\n",
    "    df = df.drop(columns = ['features', 'description', 'model', 'title', 'transmission', 'Unnamed: 0','category'])\n",
    "    return df"
   ]
  },
  {
   "cell_type": "code",
   "execution_count": null,
   "metadata": {},
   "outputs": [],
   "source": [
    "df = pd.read_csv('./train_num_cleaned.csv')\n",
    "df=post_process(df)\n",
    "df.head(20)"
   ]
  },
  {
   "cell_type": "code",
   "execution_count": null,
   "metadata": {},
   "outputs": [],
   "source": [
    "from sklearn.model_selection import train_test_split\n",
    "#X = df[['power', 'depreciation', 'road_tax', 'dereg_value', 'mileage', 'category_11']]\n",
    "X = df[[i for i in df.columns if i not in ['price','depreciation','dereg_value']]]\n",
    "y = df['dereg_value']\n",
    "X_train, X_test, y_train, y_test = train_test_split(X, y, \n",
    "                                                    train_size=0.7,\n",
    "                                                    test_size = 0.3, random_state=100)"
   ]
  },
  {
   "cell_type": "code",
   "execution_count": null,
   "metadata": {},
   "outputs": [],
   "source": [
    "from sklearn.ensemble import RandomForestRegressor\n",
    "\n",
    "model=RandomForestRegressor(n_estimators=500,max_features = 5).fit(X_train,y_train)\n",
    "sorted_idx = model.feature_importances_.argsort()\n",
    "plt.barh(X_train.columns[sorted_idx], model.feature_importances_[sorted_idx])\n",
    "plt.xlabel(\"Random Forest Feature Importance\")"
   ]
  }
 ],
 "metadata": {
  "language_info": {
   "name": "python"
  },
  "orig_nbformat": 4
 },
 "nbformat": 4,
 "nbformat_minor": 2
}
