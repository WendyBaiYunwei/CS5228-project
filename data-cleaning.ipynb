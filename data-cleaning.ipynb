{
 "cells": [
  {
   "cell_type": "code",
   "execution_count": 39,
   "metadata": {},
   "outputs": [
    {
     "name": "stdout",
     "output_type": "stream",
     "text": [
      "The autoreload extension is already loaded. To reload it, use:\n",
      "  %reload_ext autoreload\n"
     ]
    }
   ],
   "source": [
    "# Some more magic so that the notebook will reload external python modules;\n",
    "# see http://stackoverflow.com/questions/1907993/autoreload-of-modules-in-ipython\n",
    "# This will automatically reload src/dtree.py every time you make changes and save the file\n",
    "%load_ext autoreload\n",
    "%autoreload 2"
   ]
  },
  {
   "cell_type": "code",
   "execution_count": 40,
   "metadata": {},
   "outputs": [],
   "source": [
    "%matplotlib inline"
   ]
  },
  {
   "cell_type": "code",
   "execution_count": 41,
   "metadata": {},
   "outputs": [],
   "source": [
    "import numpy as np\n",
    "import pandas as pd\n",
    "from matplotlib import pyplot as plt"
   ]
  },
  {
   "cell_type": "code",
   "execution_count": 81,
   "metadata": {},
   "outputs": [],
   "source": [
    "df = pd.read_csv('./test.csv')"
   ]
  },
  {
   "cell_type": "code",
   "execution_count": 82,
   "metadata": {},
   "outputs": [
    {
     "name": "stdout",
     "output_type": "stream",
     "text": [
      "<class 'pandas.core.frame.DataFrame'>\n",
      "RangeIndex: 5000 entries, 0 to 4999\n",
      "Data columns (total 29 columns):\n",
      " #   Column             Non-Null Count  Dtype  \n",
      "---  ------             --------------  -----  \n",
      " 0   listing_id         5000 non-null   int64  \n",
      " 1   title              5000 non-null   object \n",
      " 2   make               4373 non-null   object \n",
      " 3   model              5000 non-null   object \n",
      " 4   description        4889 non-null   object \n",
      " 5   manufactured       4939 non-null   float64\n",
      " 6   original_reg_date  100 non-null    object \n",
      " 7   reg_date           4939 non-null   object \n",
      " 8   type_of_vehicle    5000 non-null   object \n",
      " 9   category           5000 non-null   object \n",
      " 10  transmission       5000 non-null   object \n",
      " 11  curb_weight        4844 non-null   float64\n",
      " 12  power              4325 non-null   float64\n",
      " 13  fuel_type          1051 non-null   object \n",
      " 14  engine_cap         4985 non-null   float64\n",
      " 15  no_of_owners       4944 non-null   float64\n",
      " 16  depreciation       4868 non-null   float64\n",
      " 17  coe                4755 non-null   float64\n",
      " 18  road_tax           4366 non-null   float64\n",
      " 19  dereg_value        4665 non-null   float64\n",
      " 20  mileage            3856 non-null   float64\n",
      " 21  omv                4988 non-null   float64\n",
      " 22  arf                4913 non-null   float64\n",
      " 23  opc_scheme         58 non-null     object \n",
      " 24  lifespan           504 non-null    object \n",
      " 25  eco_category       5000 non-null   object \n",
      " 26  features           4873 non-null   object \n",
      " 27  accessories        4159 non-null   object \n",
      " 28  indicative_price   0 non-null      float64\n",
      "dtypes: float64(13), int64(1), object(15)\n",
      "memory usage: 1.1+ MB\n"
     ]
    }
   ],
   "source": [
    "df.info()"
   ]
  },
  {
   "cell_type": "markdown",
   "metadata": {},
   "source": [
    "df_valid = df.dropna(subset = ['fuel_type'])\n",
    "\n",
    "missingfuel_type = df.fuel_type.isnull()\n",
    "dfm = df[missingfuel_type]\n",
    "missingModelAge = []\n",
    "for idx, row in dfm.iterrows():\n",
    "    model = row['model']\n",
    "    missingModelAge.append(model)\n",
    "\n",
    "mapper = {}\n",
    "for idx, row in df_valid.iterrows():\n",
    "    model = row['model']\n",
    "    fuel_type = row['fuel_type']\n",
    "    mapper[model] = fuel_type\n",
    "\n",
    "for idx, row in dfm.iterrows():\n",
    "    model = row['model']\n",
    "    if model in mapper:\n",
    "        df.at[idx, 'fuel_type'] = mapper[model]\n",
    "\n",
    "print(df['fuel_type'].isnull().sum())"
   ]
  },
  {
   "cell_type": "code",
   "execution_count": 83,
   "metadata": {},
   "outputs": [
    {
     "name": "stdout",
     "output_type": "stream",
     "text": [
      "0\n",
      "0\n"
     ]
    }
   ],
   "source": [
    "df_valid = df.dropna(subset = ['mileage', 'mileage'])\n",
    "no_of_ownerss = df_valid['no_of_owners'].to_numpy()\n",
    "caps = df_valid['mileage'].to_numpy()\n",
    "\n",
    "k = 100\n",
    "for idx, row in df.iterrows():\n",
    "    if idx % 10000 == 0:\n",
    "        print(idx)\n",
    "\n",
    "    p, e = row['no_of_owners'], row['mileage']\n",
    "    \n",
    "    if type(row[\"mileage\"]) == float and pd.isna(row[\"mileage\"]):\n",
    "\n",
    "        diff = np.abs(no_of_ownerss - p)\n",
    "\n",
    "        indices = np.argsort(diff)[:k]\n",
    "\n",
    "        k_caps = caps[indices]\n",
    "\n",
    "        avg = np.average(k_caps)\n",
    "\n",
    "        # Set the weight value of the current row to the median\n",
    "        df.at[idx, 'mileage'] = avg\n",
    "print(df['mileage'].isnull().sum())"
   ]
  },
  {
   "cell_type": "code",
   "execution_count": 84,
   "metadata": {},
   "outputs": [
    {
     "name": "stderr",
     "output_type": "stream",
     "text": [
      "G:\\softwares\\envs\\4277lab\\lib\\site-packages\\ipykernel_launcher.py:3: SettingWithCopyWarning: \n",
      "A value is trying to be set on a copy of a slice from a DataFrame\n",
      "\n",
      "See the caveats in the documentation: https://pandas.pydata.org/pandas-docs/stable/user_guide/indexing.html#returning-a-view-versus-a-copy\n",
      "  This is separate from the ipykernel package so we can avoid doing imports until\n",
      "G:\\softwares\\envs\\4277lab\\lib\\site-packages\\ipykernel_launcher.py:5: SettingWithCopyWarning: \n",
      "A value is trying to be set on a copy of a slice from a DataFrame\n",
      "\n",
      "See the caveats in the documentation: https://pandas.pydata.org/pandas-docs/stable/user_guide/indexing.html#returning-a-view-versus-a-copy\n",
      "  \"\"\"\n",
      "G:\\softwares\\envs\\4277lab\\lib\\site-packages\\ipykernel_launcher.py:31: SettingWithCopyWarning: \n",
      "A value is trying to be set on a copy of a slice from a DataFrame\n",
      "\n",
      "See the caveats in the documentation: https://pandas.pydata.org/pandas-docs/stable/user_guide/indexing.html#returning-a-view-versus-a-copy\n",
      "G:\\softwares\\envs\\4277lab\\lib\\site-packages\\ipykernel_launcher.py:33: SettingWithCopyWarning: \n",
      "A value is trying to be set on a copy of a slice from a DataFrame\n",
      "\n",
      "See the caveats in the documentation: https://pandas.pydata.org/pandas-docs/stable/user_guide/indexing.html#returning-a-view-versus-a-copy\n",
      "G:\\softwares\\envs\\4277lab\\lib\\site-packages\\ipykernel_launcher.py:35: SettingWithCopyWarning: \n",
      "A value is trying to be set on a copy of a slice from a DataFrame\n",
      "\n",
      "See the caveats in the documentation: https://pandas.pydata.org/pandas-docs/stable/user_guide/indexing.html#returning-a-view-versus-a-copy\n",
      "G:\\softwares\\envs\\4277lab\\lib\\site-packages\\ipykernel_launcher.py:46: SettingWithCopyWarning: \n",
      "A value is trying to be set on a copy of a slice from a DataFrame\n",
      "\n",
      "See the caveats in the documentation: https://pandas.pydata.org/pandas-docs/stable/user_guide/indexing.html#returning-a-view-versus-a-copy\n"
     ]
    }
   ],
   "source": [
    "d1 = df['manufactured'].isnull()\n",
    "df['age'] = df['manufactured'].copy()\n",
    "df['age'][d1] = df['manufactured'][d1]\n",
    "d1 = df['age'].isnull()\n",
    "df['age'][d1] = df['reg_date'][d1]\n",
    "d1 = df['age'].isnull()\n",
    "df['age'][d1] = df['original_reg_date'][d1]\n",
    "def month(x):\n",
    "    if pd.isna(x):\n",
    "        return np.nan\n",
    "    mapper = {}\n",
    "    all_m = ['jan', 'feb', 'mar', 'apr', 'may', 'jun', 'jul', 'aug', 'sep', 'oct', 'nov', 'dec']\n",
    "    for i in range(12):\n",
    "        mapper[all_m[i]] = i + 1\n",
    "    if len(str(x)) < 11:\n",
    "        return (2021 - int(x)) * 12\n",
    "    s = x.split('-')\n",
    "    year = 2021 - int(s[-1])\n",
    "    month = mapper[s[-2]]\n",
    "    return year * 12 + month\n",
    "\n",
    "def filterNeg(x):\n",
    "    if x < 0:\n",
    "        return 0\n",
    "    return x\n",
    "    \n",
    "df['age'] = df['age'].map(month)\n",
    "\n",
    "d1 = df['reg_date'].isnull()\n",
    "df['remaining_coe'] = df['reg_date'].copy()\n",
    "df['remaining_coe'][d1] = df['reg_date'][d1]\n",
    "d1 = df['remaining_coe'].isnull()\n",
    "df['remaining_coe'][d1] = df['original_reg_date'][d1]\n",
    "d1 = df['remaining_coe'].isnull()\n",
    "df['remaining_coe'][d1] = df['manufactured'][d1]\n",
    "df['remaining_coe'] = 120 - df['remaining_coe'].map(month)\n",
    "df['remaining_coe'] = df['remaining_coe'].map(filterNeg)\n",
    "\n",
    "hasLifeSpan = ~df['lifespan'].isnull()\n",
    "def get_remaining(x):\n",
    "    diffFrom2021 = month(x)\n",
    "    res = -diffFrom2021\n",
    "    if res < 0:\n",
    "        res = 0\n",
    "    return res ##check 2021\n",
    "df['remaining_coe'][hasLifeSpan] = df['lifespan'][hasLifeSpan].map(get_remaining)\n"
   ]
  },
  {
   "cell_type": "code",
   "execution_count": 85,
   "metadata": {},
   "outputs": [
    {
     "name": "stderr",
     "output_type": "stream",
     "text": [
      "G:\\softwares\\envs\\4277lab\\lib\\site-packages\\numpy\\lib\\function_base.py:380: RuntimeWarning: Mean of empty slice.\n",
      "  avg = a.mean(axis)\n",
      "G:\\softwares\\envs\\4277lab\\lib\\site-packages\\numpy\\core\\_methods.py:170: RuntimeWarning: invalid value encountered in double_scalars\n",
      "  ret = ret.dtype.type(ret / rcount)\n"
     ]
    }
   ],
   "source": [
    "from collections import defaultdict\n",
    "df_valid = df.dropna(subset = ['omv'])\n",
    "omvs = df_valid['omv'].to_numpy()\n",
    "\n",
    "\n",
    "# missingOmvModelsAge (1 year)\n",
    "# missingomv = avg(modelAgeToSimilarOmv)\n",
    "missingOmv = df.omv.isnull()\n",
    "dfm = df[missingOmv]\n",
    "missingModelAge = []\n",
    "for idx, row in dfm.iterrows():\n",
    "    model = row['model']\n",
    "    age = row['age']\n",
    "    p = (model, age)\n",
    "    missingModelAge.append(p)\n",
    "\n",
    "mapper = defaultdict(list)\n",
    "for idx, row in df_valid.iterrows():\n",
    "    model = row['model']\n",
    "    age = row['age']\n",
    "    omv = row['omv']\n",
    "    p = (model, age)\n",
    "    mapper[p].append(omv)\n",
    "\n",
    "for idx, row in dfm.iterrows():\n",
    "    model = row['model']\n",
    "    age = row['age']\n",
    "    p = (model, age)\n",
    "    df.at[idx, 'omv'] = np.average(mapper[p])"
   ]
  },
  {
   "cell_type": "code",
   "execution_count": 86,
   "metadata": {},
   "outputs": [
    {
     "name": "stdout",
     "output_type": "stream",
     "text": [
      "      listing_id                                              title  \\\n",
      "706       861845               Lotus Super Seven (COE till 03/2028)   \n",
      "1026      974600                    Morris Minor (COE till 06/2030)   \n",
      "1770      943314          Alfa Romeo Spider 2000 (COE till 07/2030)   \n",
      "1889      772738              Mercedes-Benz 250S (COE till 04/2029)   \n",
      "1904     1007657  Jaguar E-Type Series 1 Roadster 3.8M (COE till...   \n",
      "2015      944008              Mercedes-Benz 280S (COE till 03/2029)   \n",
      "2062     1018356          Volkswagen Beetle 1200 (COE till 03/2030)   \n",
      "2282      786155                  Mercedes-Benz 200 (New 10-yr COE)   \n",
      "2633      982455                       Fiat 500C (COE till 06/2030)   \n",
      "2814      975422             Mercedes-Benz 280SL (COE till 01/2029)   \n",
      "3224      970068               Mercedes-Benz 200 (COE till 12/2030)   \n",
      "4006     1018257            Porsche 911 Gemballa (COE till 01/2024)   \n",
      "\n",
      "               make   model  \\\n",
      "706           lotus   super   \n",
      "1026         morris   minor   \n",
      "1770     alfa romeo  spider   \n",
      "1889  mercedes-benz     250   \n",
      "1904         jaguar  e-type   \n",
      "2015  mercedes-benz    280s   \n",
      "2062     volkswagen  beetle   \n",
      "2282  mercedes-benz     200   \n",
      "2633           fiat     500   \n",
      "2814  mercedes-benz    280s   \n",
      "3224  mercedes-benz     200   \n",
      "4006        porsche     911   \n",
      "\n",
      "                                            description  manufactured  \\\n",
      "706   only lotus s4 unit in the market! original sin...        1972.0   \n",
      "1026  new paintwork with choice of colour. newly don...        1957.0   \n",
      "1770  type 2 model, known as \"kamm tail\". the car ca...        1972.0   \n",
      "1889  beautiful classic w108 mercedes 250s. call now...        1967.0   \n",
      "1904  collector's item! 2 owners, the only jaguar e ...        1964.0   \n",
      "2015  one of a kind to drive this car daily or even ...        1971.0   \n",
      "2062  car just went through 8 months of restoration ...        1974.0   \n",
      "2282                                                  6        1984.0   \n",
      "2633                fiat 500c for sale. consigned unit.        1952.0   \n",
      "2814  elegant r107 280sl in cuban silver metallic pa...        1983.0   \n",
      "3224  the only classic in that remain original in th...        1970.0   \n",
      "4006  originally hand built by the iconic & legendar...        1982.0   \n",
      "\n",
      "     original_reg_date     reg_date type_of_vehicle  \\\n",
      "706        31-jul-1972  24-oct-1973      sports car   \n",
      "1026               NaN  27-feb-1957          others   \n",
      "1770               NaN  12-feb-1973      sports car   \n",
      "1889               NaN  26-may-1967    luxury sedan   \n",
      "1904               NaN  01-jul-1964      sports car   \n",
      "2015               NaN  01-oct-1971    luxury sedan   \n",
      "2062               NaN  03-mar-1975          others   \n",
      "2282               NaN  02-may-1984    luxury sedan   \n",
      "2633               NaN  14-jan-1953          others   \n",
      "2814               NaN  16-nov-1983      sports car   \n",
      "3224               NaN  20-mar-1970    luxury sedan   \n",
      "4006               NaN  24-feb-1984      sports car   \n",
      "\n",
      "                                               category  ... omv  arf  \\\n",
      "706   imported used vehicle, coe car, rare & exotic,...  ... NaN  NaN   \n",
      "1026               coe car, rare & exotic, vintage cars  ... NaN  NaN   \n",
      "1770  coe car, rare & exotic, low mileage car, vinta...  ... NaN  NaN   \n",
      "1889               coe car, rare & exotic, vintage cars  ... NaN  NaN   \n",
      "1904  coe car, direct owner sale, low mileage car, v...  ... NaN  NaN   \n",
      "2015             coe car, low mileage car, vintage cars  ... NaN  NaN   \n",
      "2062  coe car, direct owner sale, rare & exotic, vin...  ... NaN  NaN   \n",
      "2282                            coe car, premium ad car  ... NaN  NaN   \n",
      "2633  coe car, rare & exotic, consignment car, vinta...  ... NaN  NaN   \n",
      "2814          coe car, direct owner sale, rare & exotic  ... NaN  NaN   \n",
      "3224  coe car, direct owner sale, rare & exotic, low...  ... NaN  NaN   \n",
      "4006            coe car, rare & exotic, low mileage car  ... NaN  NaN   \n",
      "\n",
      "      opc_scheme lifespan   eco_category  \\\n",
      "706          NaN      NaN  uncategorized   \n",
      "1026         NaN      NaN  uncategorized   \n",
      "1770         NaN      NaN  uncategorized   \n",
      "1889         NaN      NaN  uncategorized   \n",
      "1904         NaN      NaN  uncategorized   \n",
      "2015         NaN      NaN  uncategorized   \n",
      "2062         NaN      NaN  uncategorized   \n",
      "2282         NaN      NaN  uncategorized   \n",
      "2633         NaN      NaN  uncategorized   \n",
      "2814         NaN      NaN  uncategorized   \n",
      "3224         NaN      NaN  uncategorized   \n",
      "4006         NaN      NaN  uncategorized   \n",
      "\n",
      "                                               features  \\\n",
      "706   1.3l, inline 4 engine, producing 105bhp and 14...   \n",
      "1026                                                NaN   \n",
      "1770  2l inline 4 engine pushing out 132bhp, 5 speed...   \n",
      "1889                                                NaN   \n",
      "1904  a true example of vintage car with full histor...   \n",
      "2015  reputable super rich owner. collectors unit. f...   \n",
      "2062  1974 lotus white volkswagen beetle, 4-speed ma...   \n",
      "2282                                                NaN   \n",
      "2633                                                NaN   \n",
      "2814  2.8 litre 6 cylinders engine and smooth automa...   \n",
      "3224  the only classic in that remain original in th...   \n",
      "4006  1060 kg, 3.6l rs air cooled engine with 964 ec...   \n",
      "\n",
      "                                            accessories  indicative_price  \\\n",
      "706   13\" sports rims, roll over bar, hollbay tuned ...               NaN   \n",
      "1026                                                NaN               NaN   \n",
      "1770          easy to use soft top. plate not included.               NaN   \n",
      "1889                                                NaN               NaN   \n",
      "1904  car is on a normal black plate and daily drive...               NaN   \n",
      "2015                                                 80               NaN   \n",
      "2062  high coe value, black plate can be driven dail...               NaN   \n",
      "2282                    free 1 yr insurance & road tax.               NaN   \n",
      "2633                                                NaN               NaN   \n",
      "2814  beautifully restored. nardi wooden steering wh...               NaN   \n",
      "3224                                                NaN               NaN   \n",
      "4006  only 2 gemballa's were registered here locally...               NaN   \n",
      "\n",
      "      age  remaining_coe  \n",
      "706   588              0  \n",
      "1026  768              0  \n",
      "1770  588              0  \n",
      "1889  648              0  \n",
      "1904  684              0  \n",
      "2015  600              0  \n",
      "2062  564              0  \n",
      "2282  444              0  \n",
      "2633  828              0  \n",
      "2814  456              0  \n",
      "3224  612              0  \n",
      "4006  468              0  \n",
      "\n",
      "[12 rows x 31 columns]\n"
     ]
    }
   ],
   "source": [
    "print(df[df.omv.isnull()])"
   ]
  },
  {
   "cell_type": "code",
   "execution_count": 92,
   "metadata": {},
   "outputs": [],
   "source": [
    "missingOmv = df.omv.isnull()\n",
    "# print(df[missingOmv]['category'].unique())\n",
    "# print(df[missingOmv][df.category.str.contains('low mileage')])\n",
    "# print(df[missingOmv][df.age < 120]['category'])"
   ]
  },
  {
   "cell_type": "code",
   "execution_count": 94,
   "metadata": {},
   "outputs": [],
   "source": [
    "vintage = df_train[df_train.age > 400]"
   ]
  },
  {
   "cell_type": "code",
   "execution_count": 48,
   "metadata": {},
   "outputs": [
    {
     "name": "stderr",
     "output_type": "stream",
     "text": [
      "G:\\softwares\\envs\\4277lab\\lib\\site-packages\\ipykernel_launcher.py:1: UserWarning: Boolean Series key will be reindexed to match DataFrame index.\n",
      "  \"\"\"Entry point for launching an IPython kernel.\n"
     ]
    },
    {
     "name": "stdout",
     "output_type": "stream",
     "text": [
      "49\n"
     ]
    },
    {
     "data": {
      "image/png": "[encoded data removed]",
      "text/plain": [
       "<Figure size 432x288 with 1 Axes>"
      ]
     },
     "metadata": {
      "needs_background": "light"
     },
     "output_type": "display_data"
    }
   ],
   "source": [
    "\n",
    "vr = []\n",
    "## for train\n",
    "for i in range(len(vintage)):\n",
    "    x = vintage.iloc[i]\n",
    "    vr.append(x['price'] / x['omv'])\n",
    "plt.boxplot(vr)\n",
    "plt.show()\n"
   ]
  },
  {
   "cell_type": "code",
   "execution_count": 49,
   "metadata": {},
   "outputs": [
    {
     "name": "stdout",
     "output_type": "stream",
     "text": [
      "11.976095665952132\n"
     ]
    }
   ],
   "source": [
    "print(np.average(vr))"
   ]
  },
  {
   "cell_type": "code",
   "execution_count": 50,
   "metadata": {},
   "outputs": [
    {
     "name": "stdout",
     "output_type": "stream",
     "text": [
      "0.5739133084347103\n",
      "[[ 1.49472428e-01 -2.37188626e-01 -2.58796188e+02]]\n"
     ]
    }
   ],
   "source": [
    "## estimated omv\n",
    "from sklearn.linear_model import LinearRegression\n",
    "df_ = vintage.copy()\n",
    "price = np.array(df_['price']).reshape(-1, 1)\n",
    "\n",
    "age = np.array(df_['age']).reshape(-1, 1)\n",
    "\n",
    "mileage = np.array(df_['mileage']).reshape(-1, 1)\n",
    "\n",
    "X = np.concatenate((price, mileage, age), axis=1)\n",
    "y = np.array(df_['omv']).reshape(-1, 1)\n",
    "\n",
    "reg = LinearRegression().fit(X, y)\n",
    "print(reg.score(X, y))\n",
    "print(reg.coef_)\n"
   ]
  },
  {
   "cell_type": "code",
   "execution_count": 51,
   "metadata": {},
   "outputs": [
    {
     "name": "stdout",
     "output_type": "stream",
     "text": [
      "33\n",
      "2\n"
     ]
    },
    {
     "name": "stderr",
     "output_type": "stream",
     "text": [
      "G:\\softwares\\envs\\4277lab\\lib\\site-packages\\ipykernel_launcher.py:2: UserWarning: Boolean Series key will be reindexed to match DataFrame index.\n",
      "  \n"
     ]
    }
   ],
   "source": [
    "missingPriceAges = []\n",
    "missingVintage = df[df.omv.isnull()][df.age >= 120]\n",
    "idxs = missingVintage.index\n",
    "print(len(missingVintage))\n",
    "for idx, row in missingVintage.iterrows():\n",
    "    price = row['price']\n",
    "    mileage = row['mileage']\n",
    "    age = row['age']\n",
    "    missingPriceAges.append((price, mileage, age))\n",
    "# print(len(missingPriceAges))\n",
    "omvs = reg.predict(np.array(missingPriceAges))\n",
    "count = 0\n",
    "for i in idxs:\n",
    "    df.at[i, 'omv'] = omvs[count]\n",
    "    count += 1\n",
    "print(df['omv'].isnull().sum())"
   ]
  },
  {
   "cell_type": "code",
   "execution_count": 52,
   "metadata": {},
   "outputs": [
    {
     "name": "stdout",
     "output_type": "stream",
     "text": [
      "       listing_id                                              title  \\\n",
      "10005     1012882  BMW 5 Series 530e Plug-in Hybrid iPerformance ...   \n",
      "13671     1012878  Land Rover Range Rover Velar 2.0A P300 SE R Dy...   \n",
      "\n",
      "             make  model                                        description  \\\n",
      "10005         bmw   530e  1 and only 2021 bmw 530e m-sport model in sing...   \n",
      "13671  land rover  range                                                 19   \n",
      "\n",
      "       manufactured original_reg_date reg_date type_of_vehicle  \\\n",
      "10005           NaN       18-may-2021      NaN    luxury sedan   \n",
      "13671           NaN       21-may-2019      NaN             suv   \n",
      "\n",
      "                                                category  ... arf  opc_scheme  \\\n",
      "10005  imported used vehicle, coe car, low mileage ca...  ... NaN         NaN   \n",
      "13671    imported used vehicle, coe car, low mileage car  ... NaN         NaN   \n",
      "\n",
      "       lifespan   eco_category  \\\n",
      "10005       NaN  uncategorized   \n",
      "13671       NaN  uncategorized   \n",
      "\n",
      "                                                features  \\\n",
      "10005  1998cc , combine 288bhp and 420nm torque, 0-10...   \n",
      "13671  2.0 turbo engine producing 296bhp, 400nm. 6.2s...   \n",
      "\n",
      "                                             accessories  indicative_price  \\\n",
      "10005  m-sports model, 360 surround cameras sensor, p...               NaN   \n",
      "13671  pro duo 2 x 10\" colour touch screen, apple car...               NaN   \n",
      "\n",
      "          price  age  remaining_coe  \n",
      "10005  284900.0    5            115  \n",
      "13671  294800.0   29             91  \n",
      "\n",
      "[2 rows x 32 columns]\n"
     ]
    }
   ],
   "source": [
    "print(df[df.omv.isnull()])"
   ]
  },
  {
   "cell_type": "code",
   "execution_count": 53,
   "metadata": {},
   "outputs": [
    {
     "name": "stdout",
     "output_type": "stream",
     "text": [
      "0.5913382251792068\n",
      "[[0.28852777 1.96375018 8.31220721]]\n"
     ]
    },
    {
     "name": "stderr",
     "output_type": "stream",
     "text": [
      "G:\\softwares\\envs\\4277lab\\lib\\site-packages\\ipykernel_launcher.py:2: UserWarning: Boolean Series key will be reindexed to match DataFrame index.\n",
      "  \n"
     ]
    }
   ],
   "source": [
    "# get the omv through regressor\n",
    "df_ = df[df.category.str.contains('low mileage')][df.price > 250000].copy()\n",
    "df_ = df_.dropna(subset=['omv'])\n",
    "price = np.array(df_['price']).reshape(-1, 1)\n",
    "\n",
    "age = np.array(df_['age']).reshape(-1, 1)\n",
    "\n",
    "mileage = np.array(df_['mileage']).reshape(-1, 1)\n",
    "\n",
    "X = np.concatenate((price, mileage, age), axis=1)\n",
    "y = np.array(df_['omv']).reshape(-1, 1)\n",
    "\n",
    "reg = LinearRegression().fit(X, y)\n",
    "print(reg.score(X, y))\n",
    "print(reg.coef_)"
   ]
  },
  {
   "cell_type": "code",
   "execution_count": 54,
   "metadata": {},
   "outputs": [
    {
     "name": "stdout",
     "output_type": "stream",
     "text": [
      "0\n"
     ]
    }
   ],
   "source": [
    "missingPriceAges = []\n",
    "missing = df[df.omv.isnull()]\n",
    "idxs = missing.index\n",
    "\n",
    "for idx, row in missing.iterrows():\n",
    "    price = row['price']\n",
    "    mileage = row['mileage']\n",
    "    age = row['age']\n",
    "    missingPriceAges.append((price, mileage, age))\n",
    "# print(len(missingPriceAges))\n",
    "omvs = reg.predict(np.array(missingPriceAges))\n",
    "count = 0\n",
    "for i in idxs:\n",
    "    df.at[i, 'omv'] = omvs[count]\n",
    "    count += 1\n",
    "print(df['omv'].isnull().sum())"
   ]
  },
  {
   "cell_type": "code",
   "execution_count": 55,
   "metadata": {},
   "outputs": [
    {
     "data": {
      "image/png": "[encoded data removed]",
      "text/plain": [
       "<Figure size 432x288 with 1 Axes>"
      ]
     },
     "metadata": {
      "needs_background": "light"
     },
     "output_type": "display_data"
    }
   ],
   "source": [
    "plt.boxplot(df['age'])\n",
    "plt.show()"
   ]
  },
  {
   "cell_type": "code",
   "execution_count": 56,
   "metadata": {},
   "outputs": [
    {
     "name": "stdout",
     "output_type": "stream",
     "text": [
      "Empty DataFrame\n",
      "Columns: [listing_id, title, make, model, description, manufactured, original_reg_date, reg_date, type_of_vehicle, category, transmission, curb_weight, power, fuel_type, engine_cap, no_of_owners, depreciation, coe, road_tax, dereg_value, mileage, omv, arf, opc_scheme, lifespan, eco_category, features, accessories, indicative_price, price, age, remaining_coe]\n",
      "Index: []\n",
      "\n",
      "[0 rows x 32 columns]\n",
      "      listing_id                                              title  \\\n",
      "6300      976150  Mercedes-Benz G-Class G350d AMG Line 4MATIC Pr...   \n",
      "\n",
      "               make model                                        description  \\\n",
      "6300  mercedes-benz   amg  5 years warranty or 130,000km. call our friend...   \n",
      "\n",
      "      manufactured original_reg_date     reg_date type_of_vehicle  \\\n",
      "6300        2925.0               NaN  03-mar-2021             suv   \n",
      "\n",
      "                                               category  ...       arf  \\\n",
      "6300  parf car, almost new car, premium ad car, low ...  ...  169412.0   \n",
      "\n",
      "      opc_scheme  lifespan   eco_category  \\\n",
      "6300         NaN       NaN  uncategorized   \n",
      "\n",
      "                                               features  accessories  \\\n",
      "6300  powered by inline 6 producing 281bhp, max torq...          NaN   \n",
      "\n",
      "      indicative_price     price    age  remaining_coe  \n",
      "6300               NaN  551100.0 -10848            117  \n",
      "\n",
      "[1 rows x 32 columns]\n"
     ]
    }
   ],
   "source": [
    "print(df[df.age > 20000])\n",
    "print(df[df.age < 0])"
   ]
  },
  {
   "cell_type": "code",
   "execution_count": 57,
   "metadata": {},
   "outputs": [
    {
     "name": "stderr",
     "output_type": "stream",
     "text": [
      "G:\\softwares\\envs\\4277lab\\lib\\site-packages\\ipykernel_launcher.py:1: SettingWithCopyWarning: \n",
      "A value is trying to be set on a copy of a slice from a DataFrame\n",
      "\n",
      "See the caveats in the documentation: https://pandas.pydata.org/pandas-docs/stable/user_guide/indexing.html#returning-a-view-versus-a-copy\n",
      "  \"\"\"Entry point for launching an IPython kernel.\n",
      "G:\\softwares\\envs\\4277lab\\lib\\site-packages\\ipykernel_launcher.py:2: SettingWithCopyWarning: \n",
      "A value is trying to be set on a copy of a slice from a DataFrame\n",
      "\n",
      "See the caveats in the documentation: https://pandas.pydata.org/pandas-docs/stable/user_guide/indexing.html#returning-a-view-versus-a-copy\n",
      "  \n"
     ]
    }
   ],
   "source": [
    "df['age'][df.age < 0] = 0\n",
    "df['age'][df.age > 20000] = 0"
   ]
  },
  {
   "cell_type": "code",
   "execution_count": 58,
   "metadata": {},
   "outputs": [
    {
     "name": "stdout",
     "output_type": "stream",
     "text": [
      "      listing_id                                              title make  \\\n",
      "8199     1005670  Mercedes-Benz E-Class E300e Plug-in Hybrid AMG...  NaN   \n",
      "\n",
      "     model                                        description  manufactured  \\\n",
      "8199   amg  great deal! grab it! new facelifted 2021 with ...        2021.0   \n",
      "\n",
      "     original_reg_date     reg_date type_of_vehicle  \\\n",
      "8199               NaN  16-jun-2021    luxury sedan   \n",
      "\n",
      "                                               category  ...      arf  \\\n",
      "8199  parf car, almost new car, low mileage car, hyb...  ...  66486.0   \n",
      "\n",
      "      opc_scheme  lifespan   eco_category  \\\n",
      "8199         NaN       NaN  uncategorized   \n",
      "\n",
      "                                               features  \\\n",
      "8199  2.0l m274 powerplant with eq boost producing 3...   \n",
      "\n",
      "                                            accessories  indicative_price  \\\n",
      "8199  amg kits and wheels, memory seat, ambient ligh...               NaN   \n",
      "\n",
      "         price  age  remaining_coe  \n",
      "8199  249700.0    0            114  \n",
      "\n",
      "[1 rows x 32 columns]\n"
     ]
    }
   ],
   "source": [
    "##train\n",
    "print(df[df.engine_cap == 0])\n",
    "df.at[8199, 'engine_cap'] = np.nan"
   ]
  },
  {
   "cell_type": "code",
   "execution_count": 59,
   "metadata": {},
   "outputs": [
    {
     "name": "stdout",
     "output_type": "stream",
     "text": [
      "1582\n"
     ]
    },
    {
     "name": "stderr",
     "output_type": "stream",
     "text": [
      "G:\\softwares\\envs\\4277lab\\lib\\site-packages\\numpy\\lib\\function_base.py:380: RuntimeWarning: Mean of empty slice.\n",
      "  avg = a.mean(axis)\n",
      "G:\\softwares\\envs\\4277lab\\lib\\site-packages\\numpy\\core\\_methods.py:170: RuntimeWarning: invalid value encountered in double_scalars\n",
      "  ret = ret.dtype.type(ret / rcount)\n"
     ]
    }
   ],
   "source": [
    "df_valid = df.dropna(subset = ['power'])\n",
    "ps = df_valid['power'].to_numpy()\n",
    "\n",
    "missingPs = df.power.isnull()\n",
    "dfm = df[missingPs]\n",
    "missingPower = []\n",
    "for idx, row in dfm.iterrows():\n",
    "    model = row['model']\n",
    "    missingPower.append(model)\n",
    "\n",
    "mapper = defaultdict(list)\n",
    "for idx, row in df_valid.iterrows():\n",
    "    model = row['model']\n",
    "    power = row['power']\n",
    "    mapper[model].append(power)\n",
    "\n",
    "for idx, row in dfm.iterrows():\n",
    "    model = row['model']\n",
    "    df.at[idx, 'power'] = np.average(mapper[model])\n",
    "\n",
    "print(df['power'].isnull().sum())"
   ]
  },
  {
   "cell_type": "code",
   "execution_count": 60,
   "metadata": {},
   "outputs": [
    {
     "name": "stderr",
     "output_type": "stream",
     "text": [
      "G:\\softwares\\envs\\4277lab\\lib\\site-packages\\numpy\\lib\\function_base.py:380: RuntimeWarning: Mean of empty slice.\n",
      "  avg = a.mean(axis)\n",
      "G:\\softwares\\envs\\4277lab\\lib\\site-packages\\numpy\\core\\_methods.py:170: RuntimeWarning: invalid value encountered in double_scalars\n",
      "  ret = ret.dtype.type(ret / rcount)\n"
     ]
    },
    {
     "name": "stdout",
     "output_type": "stream",
     "text": [
      "54\n"
     ]
    }
   ],
   "source": [
    "df_valid = df.dropna(subset = ['engine_cap'])\n",
    "ps = df_valid['engine_cap'].to_numpy()\n",
    "\n",
    "missingPs = df.power.isnull()\n",
    "dfm = df[missingPs]\n",
    "missingPower = []\n",
    "for idx, row in dfm.iterrows():\n",
    "    model = row['model']\n",
    "    missingPower.append(model)\n",
    "\n",
    "mapper = defaultdict(list)\n",
    "for idx, row in df_valid.iterrows():\n",
    "    model = row['model']\n",
    "    power = row['engine_cap']\n",
    "    mapper[model].append(power)\n",
    "\n",
    "for idx, row in dfm.iterrows():\n",
    "    model = row['model']\n",
    "    df.at[idx, 'engine_cap'] = np.average(mapper[model])\n",
    "\n",
    "print(df['engine_cap'].isnull().sum())"
   ]
  },
  {
   "cell_type": "code",
   "execution_count": 61,
   "metadata": {},
   "outputs": [],
   "source": [
    "df_valid = df.dropna(subset = ['power', 'engine_cap'])\n",
    "powers = df_valid['power'].to_numpy()\n",
    "caps = df_valid['engine_cap'].to_numpy()\n",
    "\n",
    "k = 10\n",
    "\n",
    "# Loop over each data point in our dataset\n",
    "for idx, row in df.iterrows():\n",
    "    p, e = row['power'], row['engine_cap']\n",
    "    \n",
    "    if type(row[\"power\"]) == float and pd.isna(row[\"power\"]):\n",
    "        diff = np.abs(caps - e)\n",
    "\n",
    "        indices = np.argsort(diff)[:k]\n",
    "\n",
    "        k_powers = powers[indices]\n",
    "\n",
    "        avg = np.average(k_powers)\n",
    "\n",
    "        # Set the weight value of the current row to the median\n",
    "        df.at[idx, 'power'] = avg"
   ]
  },
  {
   "cell_type": "code",
   "execution_count": 62,
   "metadata": {},
   "outputs": [
    {
     "name": "stdout",
     "output_type": "stream",
     "text": [
      "0\n",
      "10000\n"
     ]
    }
   ],
   "source": [
    "df_valid = df.dropna(subset = ['power', 'engine_cap'])\n",
    "powers = df_valid['power'].to_numpy()\n",
    "caps = df_valid['engine_cap'].to_numpy()\n",
    "\n",
    "k = 10\n",
    "for idx, row in df.iterrows():\n",
    "    if idx % 10000 == 0:\n",
    "        print(idx)\n",
    "\n",
    "    p, e = row['power'], row['engine_cap']\n",
    "    \n",
    "    if type(row[\"engine_cap\"]) == float and pd.isna(row[\"engine_cap\"]):\n",
    "\n",
    "        diff = np.abs(powers - p)\n",
    "\n",
    "        indices = np.argsort(diff)[:k]\n",
    "\n",
    "        k_caps = caps[indices]\n",
    "\n",
    "        avg = np.average(k_caps)\n",
    "\n",
    "        # Set the weight value of the current row to the median\n",
    "        df.at[idx, 'engine_cap'] = avg"
   ]
  },
  {
   "cell_type": "markdown",
   "metadata": {},
   "source": [
    "df_ = df.copy()\n",
    "df_['efficiency'] = df_['power']\n",
    "for i in range(len(df_)):\n",
    "    x = df_.iloc[i]\n",
    "    df_['efficiency'][i] = x['power'] / x['engine_cap']\n",
    "\n",
    "plt.boxplot(df_[df_.fuel_type == 'diesel']['efficiency'])# / diesel['engine_cap'])\n",
    "plt.show()"
   ]
  },
  {
   "cell_type": "code",
   "execution_count": 63,
   "metadata": {},
   "outputs": [
    {
     "data": {
      "image/png": "[encoded data removed]",
      "text/plain": [
       "<Figure size 432x288 with 1 Axes>"
      ]
     },
     "metadata": {
      "needs_background": "light"
     },
     "output_type": "display_data"
    }
   ],
   "source": [
    "plt.boxplot(df['power'])# / diesel['engine_cap'])\n",
    "plt.show()"
   ]
  },
  {
   "cell_type": "code",
   "execution_count": 64,
   "metadata": {},
   "outputs": [
    {
     "data": {
      "image/png": "[encoded data removed]",
      "text/plain": [
       "<Figure size 432x288 with 1 Axes>"
      ]
     },
     "metadata": {
      "needs_background": "light"
     },
     "output_type": "display_data"
    }
   ],
   "source": [
    "plt.boxplot(df['engine_cap'])# / diesel['engine_cap'])\n",
    "plt.show()"
   ]
  },
  {
   "cell_type": "markdown",
   "metadata": {},
   "source": [
    "plt.boxplot(df_[df_.fuel_type == 'petrol']['efficiency'])# / diesel['engine_cap']) ##outlier\n",
    "plt.show()"
   ]
  },
  {
   "cell_type": "markdown",
   "metadata": {},
   "source": [
    "# fill omv, get data with missing omv and dereg_value, fill in the omv\n",
    "is_ = df[df.omv.isnull() & df.dereg_value.isnull()].index.tolist()\n",
    "filled_omvs = []\n",
    "for idx in is_:\n",
    "    ag = df.at[idx, 'age']\n",
    "    price = df.at[idx, 'price']\n",
    "    mo = reg.predict(np.array([[ag, price]]))\n",
    "    filled_omvs.append(mo)\n",
    "for i, idx in enumerate(is_):\n",
    "    df.at[idx, 'omv'] = filled_omvs[i]"
   ]
  },
  {
   "cell_type": "code",
   "execution_count": 65,
   "metadata": {},
   "outputs": [],
   "source": [
    "avg = np.average(df['coe'].dropna())\n",
    "df['coe'] = df['coe'].fillna(avg)"
   ]
  },
  {
   "cell_type": "code",
   "execution_count": 66,
   "metadata": {},
   "outputs": [
    {
     "name": "stdout",
     "output_type": "stream",
     "text": [
      "0\n"
     ]
    }
   ],
   "source": [
    "# coe: fill in missing value for coe according to: age and power\n",
    "fill_arf = df[df.arf.isnull() & df.dereg_value.isnull()]['arf'].index.tolist()\n",
    "for idx in fill_arf:\n",
    "    omv = df.at[idx, 'omv']\n",
    "    if omv < 20000:\n",
    "        df.at[idx, 'arf'] = omv\n",
    "    elif omv >= 20000 and omv <= 50000:\n",
    "        df.at[idx, 'arf'] = (omv - 20000) * 1.40 + 20000\n",
    "    else:\n",
    "        df.at[idx, 'arf'] =  (omv - 50000) * 1.80 + 62000\n",
    "print(len(df[df.arf.isnull() & df.dereg_value.isnull()]))\n",
    "# df = df[~(df.arf.isnull() & df.dereg_value.isnull())] # remove values whose dereg_value cannot be calculated"
   ]
  },
  {
   "cell_type": "code",
   "execution_count": 67,
   "metadata": {},
   "outputs": [
    {
     "name": "stdout",
     "output_type": "stream",
     "text": [
      "0\n"
     ]
    }
   ],
   "source": [
    "# for date missing both coe and dereg_value, record it's month engine and power\n",
    "coe_to_search = []\n",
    "to_search = df[df.coe.isnull() & df.dereg_value.isnull()]\n",
    "\n",
    "for idx, row in to_search.iterrows():\n",
    "    # category -> A / B\n",
    "    power = row[\"power\"]\n",
    "    engine_cap = row[\"engine_cap\"]\n",
    "    cat = 2\n",
    "    month = row[\"age\"]\n",
    "    if engine_cap <= 1600 and power <= 97:\n",
    "        cat = 1\n",
    "    coe_to_search.append((cat, month))\n",
    "\n",
    "coe_to_search = list(set(coe_to_search))\n",
    "print(len(coe_to_search))"
   ]
  },
  {
   "cell_type": "code",
   "execution_count": 68,
   "metadata": {},
   "outputs": [
    {
     "name": "stdout",
     "output_type": "stream",
     "text": [
      "0\n",
      "10000\n",
      "0\n"
     ]
    }
   ],
   "source": [
    "t_to_coe = {}\n",
    "\n",
    "for t in coe_to_search:\n",
    "    t_to_coe[str(t)] = []\n",
    "\n",
    "remains = df[~df.coe.isnull()]\n",
    "\n",
    "for idx, row in remains.iterrows():\n",
    "    if idx % 10000 == 0:\n",
    "        print(idx)\n",
    "\n",
    "    power = row[\"power\"]\n",
    "    engine_cap = row[\"engine_cap\"]\n",
    "    cat = 2\n",
    "    month = row[\"age\"]\n",
    "    if engine_cap <= 1600 and power <= 97:\n",
    "        cat = 1\n",
    "    \n",
    "    t = (cat, month)\n",
    "    \n",
    "    coe = row[\"coe\"]\n",
    "    if t in coe_to_search:\n",
    "        t_to_coe[str(t)].append(coe)\n",
    "        \n",
    "c = 0\n",
    "for idx, row in df.iterrows():\n",
    "    power = row[\"power\"]\n",
    "    engine_cap = row[\"engine_cap\"]\n",
    "    cat = 2\n",
    "    month = row[\"age\"]\n",
    "    if engine_cap <= 1600 and power <= 97:\n",
    "        cat = 1\n",
    "    t = str((cat, month))\n",
    "\n",
    "    if type(row[\"coe\"]) == float and pd.isna(row[\"coe\"]):\n",
    "        if t in t_to_coe:\n",
    "            l = t_to_coe[t]\n",
    "            if len(l) > 0:\n",
    "                avg = sum(l) / len(l)\n",
    "                df.at[idx, 'coe'] = avg\n",
    "                c += 1\n",
    "print(c)"
   ]
  },
  {
   "cell_type": "code",
   "execution_count": 69,
   "metadata": {},
   "outputs": [],
   "source": [
    "import math\n",
    "for idx, row in df.iterrows():\n",
    "    if type(row[\"dereg_value\"]) == float and pd.isna(row[\"dereg_value\"]):\n",
    "        max_age = 10 * 12\n",
    "        age = row[\"age\"]\n",
    "        time_left = max_age - age\n",
    "        coe = row[\"coe\"]\n",
    "        omv = row[\"omv\"]\n",
    "        arf = row[\"arf\"]\n",
    "        parf_ratio = 0\n",
    "        if age <  5 * 12:\n",
    "            parf_ratio = 0.75\n",
    "        elif age >= 5 * 12 and age < 10 * 12:\n",
    "            parf_ratio = 0.75 - math.ceil((age - 5 * 12) / 12) * 0.05 \n",
    "        coe_rebate = coe * row['remaining_coe'] / 120\n",
    "        dereg_value = parf_ratio * arf + coe_rebate\n",
    "        if dereg_value <= 0:\n",
    "            dereg_value = 0\n",
    "        df.at[idx, \"dereg_value\"] = dereg_value"
   ]
  },
  {
   "cell_type": "code",
   "execution_count": 70,
   "metadata": {},
   "outputs": [
    {
     "name": "stdout",
     "output_type": "stream",
     "text": [
      "<class 'pandas.core.frame.DataFrame'>\n",
      "RangeIndex: 16784 entries, 0 to 16783\n",
      "Data columns (total 32 columns):\n",
      " #   Column             Non-Null Count  Dtype  \n",
      "---  ------             --------------  -----  \n",
      " 0   listing_id         16784 non-null  int64  \n",
      " 1   title              16784 non-null  object \n",
      " 2   make               14624 non-null  object \n",
      " 3   model              16784 non-null  object \n",
      " 4   description        16439 non-null  object \n",
      " 5   manufactured       16590 non-null  float64\n",
      " 6   original_reg_date  318 non-null    object \n",
      " 7   reg_date           16583 non-null  object \n",
      " 8   type_of_vehicle    16784 non-null  object \n",
      " 9   category           16784 non-null  object \n",
      " 10  transmission       16784 non-null  object \n",
      " 11  curb_weight        16205 non-null  float64\n",
      " 12  power              16784 non-null  float64\n",
      " 13  fuel_type          3490 non-null   object \n",
      " 14  engine_cap         16784 non-null  float64\n",
      " 15  no_of_owners       16608 non-null  float64\n",
      " 16  depreciation       16351 non-null  float64\n",
      " 17  coe                16784 non-null  float64\n",
      " 18  road_tax           14630 non-null  float64\n",
      " 19  dereg_value        16784 non-null  float64\n",
      " 20  mileage            16784 non-null  float64\n",
      " 21  omv                16784 non-null  float64\n",
      " 22  arf                16722 non-null  float64\n",
      " 23  opc_scheme         207 non-null    object \n",
      " 24  lifespan           1702 non-null   object \n",
      " 25  eco_category       16784 non-null  object \n",
      " 26  features           16325 non-null  object \n",
      " 27  accessories        13971 non-null  object \n",
      " 28  indicative_price   0 non-null      float64\n",
      " 29  price              16784 non-null  float64\n",
      " 30  age                16784 non-null  int64  \n",
      " 31  remaining_coe      16784 non-null  int64  \n",
      "dtypes: float64(14), int64(3), object(15)\n",
      "memory usage: 4.1+ MB\n"
     ]
    }
   ],
   "source": [
    "df.info()"
   ]
  },
  {
   "cell_type": "code",
   "execution_count": 71,
   "metadata": {},
   "outputs": [],
   "source": [
    "# drop irrelevant\n",
    "df = df.drop(columns = ['title', 'make', 'model', 'description', 'arf', 'original_reg_date','reg_date', 'opc_scheme', 'listing_id', 'indicative_price', 'manufactured', 'no_of_owners', 'lifespan', 'eco_category', 'accessories', 'depreciation', 'road_tax', 'features'])"
   ]
  },
  {
   "cell_type": "code",
   "execution_count": 72,
   "metadata": {},
   "outputs": [
    {
     "name": "stdout",
     "output_type": "stream",
     "text": [
      "<class 'pandas.core.frame.DataFrame'>\n",
      "RangeIndex: 16784 entries, 0 to 16783\n",
      "Data columns (total 12 columns):\n",
      " #   Column           Non-Null Count  Dtype  \n",
      "---  ------           --------------  -----  \n",
      " 0   type_of_vehicle  16784 non-null  object \n",
      " 1   category         16784 non-null  object \n",
      " 2   transmission     16784 non-null  object \n",
      " 3   power            16784 non-null  float64\n",
      " 4   engine_cap       16784 non-null  float64\n",
      " 5   coe              16784 non-null  float64\n",
      " 6   dereg_value      16784 non-null  float64\n",
      " 7   mileage          16784 non-null  float64\n",
      " 8   omv              16784 non-null  float64\n",
      " 9   price            16784 non-null  float64\n",
      " 10  age              16784 non-null  int64  \n",
      " 11  remaining_coe    16784 non-null  int64  \n",
      "dtypes: float64(7), int64(2), object(3)\n",
      "memory usage: 1.5+ MB\n"
     ]
    }
   ],
   "source": [
    "df = df.drop(columns = ['curb_weight', 'fuel_type'])\n",
    "df.info()"
   ]
  },
  {
   "cell_type": "code",
   "execution_count": 73,
   "metadata": {},
   "outputs": [],
   "source": [
    "cars_dummies = pd.get_dummies(df['type_of_vehicle'])\n",
    "df = pd.concat([df, cars_dummies], axis=1)\n",
    "cars_dummies = pd.get_dummies(df['transmission'])\n",
    "df = pd.concat([df, cars_dummies], axis=1)\n",
    "df = df.drop(columns = ['type_of_vehicle', 'category', 'transmission'])"
   ]
  },
  {
   "cell_type": "code",
   "execution_count": 74,
   "metadata": {},
   "outputs": [
    {
     "name": "stdout",
     "output_type": "stream",
     "text": [
      "<class 'pandas.core.frame.DataFrame'>\n",
      "RangeIndex: 16784 entries, 0 to 16783\n",
      "Data columns (total 22 columns):\n",
      " #   Column           Non-Null Count  Dtype  \n",
      "---  ------           --------------  -----  \n",
      " 0   power            16784 non-null  float64\n",
      " 1   engine_cap       16784 non-null  float64\n",
      " 2   coe              16784 non-null  float64\n",
      " 3   dereg_value      16784 non-null  float64\n",
      " 4   mileage          16784 non-null  float64\n",
      " 5   omv              16784 non-null  float64\n",
      " 6   price            16784 non-null  float64\n",
      " 7   age              16784 non-null  int64  \n",
      " 8   remaining_coe    16784 non-null  int64  \n",
      " 9   bus/mini bus     16784 non-null  uint8  \n",
      " 10  hatchback        16784 non-null  uint8  \n",
      " 11  luxury sedan     16784 non-null  uint8  \n",
      " 12  mid-sized sedan  16784 non-null  uint8  \n",
      " 13  mpv              16784 non-null  uint8  \n",
      " 14  others           16784 non-null  uint8  \n",
      " 15  sports car       16784 non-null  uint8  \n",
      " 16  stationwagon     16784 non-null  uint8  \n",
      " 17  suv              16784 non-null  uint8  \n",
      " 18  truck            16784 non-null  uint8  \n",
      " 19  van              16784 non-null  uint8  \n",
      " 20  auto             16784 non-null  uint8  \n",
      " 21  manual           16784 non-null  uint8  \n",
      "dtypes: float64(7), int64(2), uint8(13)\n",
      "memory usage: 1.4 MB\n"
     ]
    }
   ],
   "source": [
    "df.info()"
   ]
  },
  {
   "cell_type": "code",
   "execution_count": 75,
   "metadata": {},
   "outputs": [],
   "source": [
    "df.to_csv('numerical_cleaned_train.csv')"
   ]
  },
  {
   "cell_type": "code",
   "execution_count": 76,
   "metadata": {},
   "outputs": [],
   "source": [
    "df_train = df.copy()"
   ]
  },
  {
   "cell_type": "code",
   "execution_count": null,
   "metadata": {},
   "outputs": [],
   "source": []
  }
 ],
 "metadata": {
  "kernelspec": {
   "display_name": "Python 3",
   "language": "python",
   "name": "python3"
  },
  "language_info": {
   "codemirror_mode": {
    "name": "ipython",
    "version": 3
   },
   "file_extension": ".py",
   "mimetype": "text/x-python",
   "name": "python",
   "nbconvert_exporter": "python",
   "pygments_lexer": "ipython3",
   "version": "3.7.9"
  }
 },
 "nbformat": 4,
 "nbformat_minor": 2
}
