{
 "cells": [
  {
   "cell_type": "code",
   "execution_count": 1,
   "metadata": {},
   "outputs": [],
   "source": [
    "# Some more magic so that the notebook will reload external python modules;\n",
    "# see http://stackoverflow.com/questions/1907993/autoreload-of-modules-in-ipython\n",
    "# This will automatically reload src/dtree.py every time you make changes and save the file\n",
    "%load_ext autoreload\n",
    "%autoreload 2"
   ]
  },
  {
   "cell_type": "code",
   "execution_count": 2,
   "metadata": {},
   "outputs": [],
   "source": [
    "%matplotlib inline"
   ]
  },
  {
   "cell_type": "code",
   "execution_count": 3,
   "metadata": {},
   "outputs": [],
   "source": [
    "import numpy as np\n",
    "import pandas as pd\n",
    "from matplotlib import pyplot as plt"
   ]
  },
  {
   "cell_type": "code",
   "execution_count": 4,
   "metadata": {},
   "outputs": [],
   "source": [
    "df = pd.read_csv('./train.csv')"
   ]
  },
  {
   "cell_type": "code",
   "execution_count": 5,
   "metadata": {},
   "outputs": [
    {
     "name": "stdout",
     "output_type": "stream",
     "text": [
      "(16784, 30)\n",
      "['listing_id', 'title', 'make', 'model', 'description', 'manufactured', 'original_reg_date', 'reg_date', 'type_of_vehicle', 'category', 'transmission', 'curb_weight', 'power', 'fuel_type', 'engine_cap', 'no_of_owners', 'depreciation', 'coe', 'road_tax', 'dereg_value', 'mileage', 'omv', 'arf', 'opc_scheme', 'lifespan', 'eco_category', 'features', 'accessories', 'indicative_price', 'price']\n",
      "listing_id                                                     1030324\n",
      "title                           BMW 3 Series 320i Gran Turismo M-Sport\n",
      "make                                                               bmw\n",
      "model                                                             320i\n",
      "description          1 owner! 320i gt m-sports model! big brake kit...\n",
      "manufactured                                                    2013.0\n",
      "original_reg_date                                                  NaN\n",
      "reg_date                                                   09-dec-2013\n",
      "type_of_vehicle                                           luxury sedan\n",
      "category                     parf car, premium ad car, low mileage car\n",
      "transmission                                                      auto\n",
      "curb_weight                                                     1560.0\n",
      "power                                                            135.0\n",
      "fuel_type                                                          NaN\n",
      "engine_cap                                                      1997.0\n",
      "no_of_owners                                                       1.0\n",
      "depreciation                                                   17700.0\n",
      "coe                                                            77100.0\n",
      "road_tax                                                        1210.0\n",
      "dereg_value                                                    47514.0\n",
      "mileage                                                        73000.0\n",
      "omv                                                            45330.0\n",
      "arf                                                            50462.0\n",
      "opc_scheme                                                         NaN\n",
      "lifespan                                                           NaN\n",
      "eco_category                                             uncategorized\n",
      "features             5 doors gt, powerful and fuel efficient 2.0l t...\n",
      "accessories          bmw i-drive, navigation, bluetooth/aux/usb inp...\n",
      "indicative_price                                                   NaN\n",
      "price                                                          71300.0\n",
      "Name: 0, dtype: object\n"
     ]
    }
   ],
   "source": [
    "print(df.shape)\n",
    "print(df.columns.to_list())\n",
    "print(df.iloc[0])"
   ]
  },
  {
   "cell_type": "code",
   "execution_count": 6,
   "metadata": {},
   "outputs": [
    {
     "name": "stdout",
     "output_type": "stream",
     "text": [
      "2160\n"
     ]
    }
   ],
   "source": [
    "missing_make = np.array(df['make'].isnull())\n",
    "print(missing_make.sum())"
   ]
  },
  {
   "cell_type": "code",
   "execution_count": 7,
   "metadata": {},
   "outputs": [
    {
     "name": "stderr",
     "output_type": "stream",
     "text": [
      "G:\\softwares\\envs\\4277lab\\lib\\site-packages\\ipykernel_launcher.py:23: SettingWithCopyWarning: \n",
      "A value is trying to be set on a copy of a slice from a DataFrame\n",
      "\n",
      "See the caveats in the documentation: https://pandas.pydata.org/pandas-docs/stable/user_guide/indexing.html#returning-a-view-versus-a-copy\n"
     ]
    }
   ],
   "source": [
    "def extract_model(de):\n",
    "    model_list = ['alfa romeo', 'alpine', 'aston martin', 'audi', 'austin', 'bentley', 'bmw',\n",
    " 'byd', 'chery', 'chevrolet', 'chrysler', 'citroen', 'cupra', 'daf', 'daihatsu',\n",
    " 'daimler', 'dodge', 'dongfeng', 'ferrari', 'fiat', 'ford', 'foton',\n",
    " 'golden dragon', 'hafei', 'higer', 'hino', 'honda', 'hummer', 'hyundai',\n",
    " 'infiniti', 'international', 'isuzu', 'iveco', 'jaguar', 'jeep', 'joylong',\n",
    " 'kia', 'lamborghini', 'land rover', 'lexus', 'lotus', 'man', 'maserati', 'maxus',\n",
    " 'mazda', 'mclaren', 'mercedes', 'mercedes-benz', 'mg', 'mini', 'mitsubishi',\n",
    " 'mitsuoka', 'morris', 'nissan', 'opel', 'perodua', 'peugeot', 'porsche',\n",
    " 'proton', 'renault', 'riley', 'rolls-royce', 'rover', 'ruf', 'saab', 'scania',\n",
    " 'seat', 'skoda', 'ssangyong', 'subaru', 'suzuki', 'tesla', 'toyota', 'ud',\n",
    " 'volkswagen', 'volvo', 'yutong']\n",
    "    des = de.split(' ')\n",
    "    for d in des:\n",
    "        if d in model_list:\n",
    "            return d\n",
    "    return False\n",
    "\n",
    "df['title'] = df['title'].str.lower().replace('-', '')\n",
    "make_from_titles = df['title'].map(extract_model)\n",
    "b = np.array(make_from_titles, dtype=bool)\n",
    "remains = np.logical_and(b, missing_make)\n",
    "df['make'][remains] = make_from_titles[remains]\n",
    "#2103 make filled"
   ]
  },
  {
   "cell_type": "code",
   "execution_count": 8,
   "metadata": {},
   "outputs": [
    {
     "name": "stderr",
     "output_type": "stream",
     "text": [
      "G:\\softwares\\envs\\4277lab\\lib\\site-packages\\ipykernel_launcher.py:3: SettingWithCopyWarning: \n",
      "A value is trying to be set on a copy of a slice from a DataFrame\n",
      "\n",
      "See the caveats in the documentation: https://pandas.pydata.org/pandas-docs/stable/user_guide/indexing.html#returning-a-view-versus-a-copy\n",
      "  This is separate from the ipykernel package so we can avoid doing imports until\n",
      "G:\\softwares\\envs\\4277lab\\lib\\site-packages\\ipykernel_launcher.py:5: SettingWithCopyWarning: \n",
      "A value is trying to be set on a copy of a slice from a DataFrame\n",
      "\n",
      "See the caveats in the documentation: https://pandas.pydata.org/pandas-docs/stable/user_guide/indexing.html#returning-a-view-versus-a-copy\n",
      "  \"\"\"\n"
     ]
    }
   ],
   "source": [
    "d1 = df['original_reg_date'].isnull()\n",
    "df['age'] = df['original_reg_date'].copy()\n",
    "df['age'][d1] = df['reg_date'][d1]\n",
    "d1 = df['age'].isnull()\n",
    "df['age'][d1] = df['manufactured'][d1]\n",
    "\n",
    "def extract_year(date):\n",
    "    date = str(date)\n",
    "    if len(date) != 4:\n",
    "        if '.' in date and len(date) == 6:\n",
    "            year = date[:-2]\n",
    "        else:\n",
    "            l = date.split('-')\n",
    "            year = l[-1]\n",
    "    return int(year)\n",
    "df['age'] = 2021 - df['age'].map(extract_year)"
   ]
  },
  {
   "cell_type": "code",
   "execution_count": 9,
   "metadata": {},
   "outputs": [
    {
     "name": "stdout",
     "output_type": "stream",
     "text": [
      "0         8.0\n",
      "1         6.0\n",
      "2         5.0\n",
      "3         1.0\n",
      "4         2.0\n",
      "         ... \n",
      "16779     5.0\n",
      "16780     4.0\n",
      "16781    11.0\n",
      "16782     1.0\n",
      "16783     3.0\n",
      "Name: age, Length: 16784, dtype: float64\n",
      "108\n"
     ]
    }
   ],
   "source": [
    "# take out outliers\n",
    "df['age'] = df['age'][df.age < 30]\n",
    "df['age'] = df['age'][df.age >= 0]\n",
    "print(df['age'])\n",
    "print(df['age'].isna().sum())\n",
    "df = df.dropna(subset=['age'])"
   ]
  },
  {
   "cell_type": "code",
   "execution_count": 10,
   "metadata": {},
   "outputs": [
    {
     "data": {
      "image/png": "[encoded data removed]",
      "text/plain": [
       "<Figure size 432x288 with 1 Axes>"
      ]
     },
     "metadata": {
      "needs_background": "light"
     },
     "output_type": "display_data"
    }
   ],
   "source": [
    "# power\n",
    "plt.figure()\n",
    "plt.hist(df[\"power\"].to_numpy())\n",
    "plt.show()"
   ]
  },
  {
   "cell_type": "code",
   "execution_count": 11,
   "metadata": {},
   "outputs": [
    {
     "name": "stdout",
     "output_type": "stream",
     "text": [
      "310\n",
      "2253\n"
     ]
    }
   ],
   "source": [
    "print(len(df[df.power > 400]))\n",
    "print(df[\"power\"].isnull().sum())"
   ]
  },
  {
   "cell_type": "code",
   "execution_count": 12,
   "metadata": {},
   "outputs": [
    {
     "data": {
      "image/png": "[encoded data removed]",
      "text/plain": [
       "<Figure size 432x288 with 1 Axes>"
      ]
     },
     "metadata": {
      "needs_background": "light"
     },
     "output_type": "display_data"
    }
   ],
   "source": [
    "# plot correlation between power and engine cap\n",
    "plt.scatter(df[\"power\"], df[\"engine_cap\"])\n",
    "plt.show()"
   ]
  },
  {
   "cell_type": "code",
   "execution_count": 13,
   "metadata": {},
   "outputs": [
    {
     "name": "stdout",
     "output_type": "stream",
     "text": [
      "53\n"
     ]
    }
   ],
   "source": [
    "# engine cap\n",
    "print(df[\"engine_cap\"].isnull().sum())\n",
    "df = df.dropna(subset = [\"engine_cap\"]) # only dropping 53"
   ]
  },
  {
   "cell_type": "code",
   "execution_count": 14,
   "metadata": {},
   "outputs": [
    {
     "name": "stdout",
     "output_type": "stream",
     "text": [
      "0\n",
      "10000\n"
     ]
    }
   ],
   "source": [
    "# take out outliers acccording to scatter plot\n",
    "df = df[~((df['power'] > 200) & (df['engine_cap'] < 1000))]\n",
    "\n",
    "df_valid = df.dropna(subset = ['power'])\n",
    "powers = df_valid['power'].to_numpy()\n",
    "caps = df_valid['engine_cap'].to_numpy()\n",
    "\n",
    "# Find k data points with engine cap most similar to the power of x\n",
    "# Calculate the median power of those k data points\n",
    "# Set power of x to the calculated median\n",
    "# Set k as the number of nearest data points we want to consider\n",
    "k = 100\n",
    "\n",
    "# Loop over each data point in our dataset\n",
    "for idx, row in df.iterrows():\n",
    "    if idx % 10000 == 0:\n",
    "        print(idx)\n",
    "\n",
    "    p, e = row['power'], row['engine_cap']\n",
    "\n",
    "    diff = np.abs(caps - e)\n",
    "\n",
    "    indices = np.argsort(diff)[:k]\n",
    "\n",
    "    k_powers = powers[indices]\n",
    "\n",
    "    avg = np.average(k_powers)\n",
    "    \n",
    "    # Set the weight value of the current row to the median\n",
    "    df.at[idx, 'power'] = avg"
   ]
  },
  {
   "cell_type": "code",
   "execution_count": 15,
   "metadata": {},
   "outputs": [
    {
     "name": "stdout",
     "output_type": "stream",
     "text": [
      "3628\n"
     ]
    }
   ],
   "source": [
    "print(df['mileage'].isnull().sum())\n",
    "df['mileage'] = df['mileage'].fillna(df['mileage'].mode())"
   ]
  },
  {
   "cell_type": "code",
   "execution_count": 16,
   "metadata": {},
   "outputs": [
    {
     "data": {
      "image/png": "[encoded data removed]",
      "text/plain": [
       "<Figure size 432x288 with 1 Axes>"
      ]
     },
     "metadata": {
      "needs_background": "light"
     },
     "output_type": "display_data"
    }
   ],
   "source": [
    "plt.figure()\n",
    "plt.boxplot(df[\"mileage\"])\n",
    "plt.show()"
   ]
  },
  {
   "cell_type": "code",
   "execution_count": 17,
   "metadata": {},
   "outputs": [],
   "source": [
    "df = df[df.mileage < 400000]"
   ]
  },
  {
   "cell_type": "code",
   "execution_count": 18,
   "metadata": {},
   "outputs": [
    {
     "name": "stdout",
     "output_type": "stream",
     "text": [
      "135\n",
      "133\n"
     ]
    }
   ],
   "source": [
    "# coe: fill in missing value for coe according to: age and power\n",
    "print(df[\"arf\"].isnull().sum()) #284\n",
    "print(len(df[df.arf.isnull() & df.dereg_value.isnull()])) #222\n",
    "df = df[~(df.arf.isnull() & df.dereg_value.isnull())] # remove values whose dereg_value cannot be calculated"
   ]
  },
  {
   "cell_type": "code",
   "execution_count": 19,
   "metadata": {},
   "outputs": [],
   "source": [
    "# recalculate reg date: total months\n",
    "def to_months(x):\n",
    "    mapper = {}\n",
    "    all_m = ['jan', 'feb', 'mar', 'apr', 'may', 'jun', 'jul', 'aug', 'sep', 'oct', 'nov', 'dec']\n",
    "    for i in range(12):\n",
    "        mapper[all_m[i]] = i + 1\n",
    "    if len(str(x)) < 11:\n",
    "        return int(x)\n",
    "    s = x.split('-')\n",
    "    year = 2021 - int(s[-1])\n",
    "    month = mapper[s[-2]]\n",
    "    return year * 12 + month\n",
    "\n",
    "df = df.dropna(subset = ['reg_date'])\n",
    "df['age_in_month'] = df['reg_date'].map(to_months)"
   ]
  },
  {
   "cell_type": "code",
   "execution_count": 20,
   "metadata": {},
   "outputs": [
    {
     "name": "stdout",
     "output_type": "stream",
     "text": [
      "59\n"
     ]
    }
   ],
   "source": [
    "# for date missing both coe and dereg_value, record it's month engine and power\n",
    "coe_to_search = []\n",
    "to_search = df[df.coe.isnull() & df.dereg_value.isnull()]\n",
    "\n",
    "for idx, row in to_search.iterrows():\n",
    "    # category -> A / B\n",
    "    power = row[\"power\"]\n",
    "    engine_cap = row[\"engine_cap\"]\n",
    "    cat = 2\n",
    "    month = row[\"age_in_month\"]\n",
    "    if engine_cap <= 1600 and power <= 97:\n",
    "        cat = 1\n",
    "    coe_to_search.append((cat, month))\n",
    "\n",
    "coe_to_search = list(set(coe_to_search))\n",
    "print(len(coe_to_search))"
   ]
  },
  {
   "cell_type": "code",
   "execution_count": 21,
   "metadata": {},
   "outputs": [
    {
     "name": "stdout",
     "output_type": "stream",
     "text": [
      "0\n",
      "10000\n",
      "635\n"
     ]
    }
   ],
   "source": [
    "t_to_coe = {}\n",
    "\n",
    "for t in coe_to_search:\n",
    "    t_to_coe[str(t)] = []\n",
    "\n",
    "remains = df[~df.coe.isnull()]\n",
    "\n",
    "for idx, row in remains.iterrows():\n",
    "    if idx % 10000 == 0:\n",
    "        print(idx)\n",
    "\n",
    "    power = row[\"power\"]\n",
    "    engine_cap = row[\"engine_cap\"]\n",
    "    cat = 2\n",
    "    month = row[\"age_in_month\"]\n",
    "    if engine_cap <= 1600 and power <= 97:\n",
    "        cat = 1\n",
    "    \n",
    "    t = (cat, month)\n",
    "    \n",
    "    coe = row[\"coe\"]\n",
    "    if t in coe_to_search:\n",
    "        t_to_coe[str(t)].append(coe)\n",
    "        \n",
    "c = 0\n",
    "for idx, row in df.iterrows():\n",
    "    power = row[\"power\"]\n",
    "    engine_cap = row[\"engine_cap\"]\n",
    "    cat = 2\n",
    "    month = row[\"age_in_month\"]\n",
    "    if engine_cap <= 1600 and power <= 97:\n",
    "        cat = 1\n",
    "    t = str((cat, month))\n",
    "\n",
    "    if type(row[\"coe\"]) == float and pd.isna(row[\"coe\"]):\n",
    "        l = t_to_coe[t]\n",
    "        if len(l) > 0:\n",
    "            avg = sum(l) / len(l)\n",
    "            df.at[idx, 'coe'] = avg\n",
    "            c += 1\n",
    "print(c)"
   ]
  },
  {
   "cell_type": "code",
   "execution_count": 22,
   "metadata": {},
   "outputs": [
    {
     "name": "stdout",
     "output_type": "stream",
     "text": [
      "34\n"
     ]
    }
   ],
   "source": [
    "print(df['coe'].isnull().sum())"
   ]
  },
  {
   "cell_type": "code",
   "execution_count": 23,
   "metadata": {},
   "outputs": [],
   "source": [
    "df = df[~(df.coe.isnull() & df.dereg_value.isnull())]"
   ]
  },
  {
   "cell_type": "code",
   "execution_count": 24,
   "metadata": {},
   "outputs": [],
   "source": [
    "def clean_tax(x):\n",
    "    if type(x) != float:\n",
    "        return None\n",
    "    return x\n",
    "df = df.dropna(subset=[\"road_tax\"])\n",
    "df[\"road_tax\"] = df[\"road_tax\"].map(clean_tax)"
   ]
  },
  {
   "cell_type": "code",
   "execution_count": 25,
   "metadata": {},
   "outputs": [
    {
     "data": {
      "image/png": "[encoded data removed]",
      "text/plain": [
       "<Figure size 432x288 with 1 Axes>"
      ]
     },
     "metadata": {
      "needs_background": "light"
     },
     "output_type": "display_data"
    }
   ],
   "source": [
    "plt.figure()\n",
    "plt.boxplot(df[\"road_tax\"])\n",
    "plt.show()"
   ]
  },
  {
   "cell_type": "code",
   "execution_count": 26,
   "metadata": {},
   "outputs": [
    {
     "name": "stdout",
     "output_type": "stream",
     "text": [
      "974.0\n"
     ]
    }
   ],
   "source": [
    "print(df[\"road_tax\"].median())"
   ]
  },
  {
   "cell_type": "code",
   "execution_count": 27,
   "metadata": {},
   "outputs": [],
   "source": [
    "import math\n",
    "for idx, row in df.iterrows():\n",
    "    rd_tax = row[\"road_tax\"]\n",
    "    if type(rd_tax) == float and pd.isna(rd_tax):\n",
    "        rd_tax = 974.0\n",
    "    if type(row[\"dereg_value\"]) == float and pd.isna(row[\"dereg_value\"]):\n",
    "        max_age = 10 * 12\n",
    "        age = row[\"age_in_month\"]\n",
    "        time_left = max_age - age\n",
    "        coe = row[\"coe\"]\n",
    "        omv = row[\"omv\"]\n",
    "        arf = row[\"arf\"]\n",
    "        parf_ratio = 0\n",
    "        if age <  5 * 12:\n",
    "            parf_ratio = 0.75\n",
    "        elif age >= 5 * 12 and age < 10 * 12:\n",
    "            parf_ratio = 0.75 - math.ceil((age - 5 * 12) / 12) * 0.05 \n",
    "        coe_rebate = coe * time_left / 120\n",
    "        dereg_value = parf_ratio * arf + coe_rebate\n",
    "        df.at[idx, \"remaining_val\"] = dereg_value - rd_tax\n",
    "        df.at[idx, \"dereg_value\"] = dereg_value\n",
    "    else:\n",
    "        df.at[idx, \"remaining_val\"] = row[\"dereg_value\"] - rd_tax"
   ]
  },
  {
   "cell_type": "code",
   "execution_count": 28,
   "metadata": {},
   "outputs": [],
   "source": [
    "df = df.dropna(subset = ['depreciation'])"
   ]
  },
  {
   "cell_type": "code",
   "execution_count": 29,
   "metadata": {},
   "outputs": [
    {
     "name": "stdout",
     "output_type": "stream",
     "text": [
      "['listing_id', 'title', 'make', 'model', 'description', 'manufactured', 'original_reg_date', 'reg_date', 'type_of_vehicle', 'category', 'transmission', 'curb_weight', 'power', 'fuel_type', 'engine_cap', 'no_of_owners', 'depreciation', 'coe', 'road_tax', 'dereg_value', 'mileage', 'omv', 'arf', 'opc_scheme', 'lifespan', 'eco_category', 'features', 'accessories', 'indicative_price', 'price', 'age', 'age_in_month', 'remaining_val']\n"
     ]
    }
   ],
   "source": [
    "print(df.columns.to_list())"
   ]
  },
  {
   "cell_type": "code",
   "execution_count": 31,
   "metadata": {},
   "outputs": [],
   "source": [
    "# remove extra  attributes and final cleanup\n",
    "df = df.drop(columns = ['listing_id','indicative_price','opc_scheme'])"
   ]
  },
  {
   "cell_type": "code",
   "execution_count": 32,
   "metadata": {},
   "outputs": [
    {
     "name": "stdout",
     "output_type": "stream",
     "text": [
      "(12012, 30)\n"
     ]
    }
   ],
   "source": [
    "print(df.shape)"
   ]
  },
  {
   "cell_type": "code",
   "execution_count": 33,
   "metadata": {},
   "outputs": [
    {
     "data": {
      "text/html": [
       "<div>\n",
       "<style scoped>\n",
       "    .dataframe tbody tr th:only-of-type {\n",
       "        vertical-align: middle;\n",
       "    }\n",
       "\n",
       "    .dataframe tbody tr th {\n",
       "        vertical-align: top;\n",
       "    }\n",
       "\n",
       "    .dataframe thead th {\n",
       "        text-align: right;\n",
       "    }\n",
       "</style>\n",
       "<table border=\"1\" class=\"dataframe\">\n",
       "  <thead>\n",
       "    <tr style=\"text-align: right;\">\n",
       "      <th></th>\n",
       "      <th>title</th>\n",
       "      <th>make</th>\n",
       "      <th>model</th>\n",
       "      <th>description</th>\n",
       "      <th>manufactured</th>\n",
       "      <th>original_reg_date</th>\n",
       "      <th>reg_date</th>\n",
       "      <th>type_of_vehicle</th>\n",
       "      <th>category</th>\n",
       "      <th>transmission</th>\n",
       "      <th>...</th>\n",
       "      <th>omv</th>\n",
       "      <th>arf</th>\n",
       "      <th>lifespan</th>\n",
       "      <th>eco_category</th>\n",
       "      <th>features</th>\n",
       "      <th>accessories</th>\n",
       "      <th>price</th>\n",
       "      <th>age</th>\n",
       "      <th>age_in_month</th>\n",
       "      <th>remaining_val</th>\n",
       "    </tr>\n",
       "  </thead>\n",
       "  <tbody>\n",
       "    <tr>\n",
       "      <th>0</th>\n",
       "      <td>bmw 3 series 320i gran turismo m-sport</td>\n",
       "      <td>bmw</td>\n",
       "      <td>320i</td>\n",
       "      <td>1 owner! 320i gt m-sports model! big brake kit...</td>\n",
       "      <td>2013.0</td>\n",
       "      <td>NaN</td>\n",
       "      <td>09-dec-2013</td>\n",
       "      <td>luxury sedan</td>\n",
       "      <td>parf car, premium ad car, low mileage car</td>\n",
       "      <td>auto</td>\n",
       "      <td>...</td>\n",
       "      <td>45330.0</td>\n",
       "      <td>50462.0</td>\n",
       "      <td>NaN</td>\n",
       "      <td>uncategorized</td>\n",
       "      <td>5 doors gt, powerful and fuel efficient 2.0l t...</td>\n",
       "      <td>bmw i-drive, navigation, bluetooth/aux/usb inp...</td>\n",
       "      <td>71300.0</td>\n",
       "      <td>8.0</td>\n",
       "      <td>108</td>\n",
       "      <td>46304.0</td>\n",
       "    </tr>\n",
       "    <tr>\n",
       "      <th>2</th>\n",
       "      <td>mercedes-benz cla-class cla180</td>\n",
       "      <td>mercedes-benz</td>\n",
       "      <td>cla180</td>\n",
       "      <td>1 owner c&amp;c unit. full agent service with 1 mo...</td>\n",
       "      <td>2016.0</td>\n",
       "      <td>NaN</td>\n",
       "      <td>25-jul-2016</td>\n",
       "      <td>luxury sedan</td>\n",
       "      <td>parf car, premium ad car</td>\n",
       "      <td>auto</td>\n",
       "      <td>...</td>\n",
       "      <td>27886.0</td>\n",
       "      <td>26041.0</td>\n",
       "      <td>NaN</td>\n",
       "      <td>uncategorized</td>\n",
       "      <td>responsive and fuel efficient 1.6l inline 4 cy...</td>\n",
       "      <td>dual electric/memory seats. factory fitted aud...</td>\n",
       "      <td>95500.0</td>\n",
       "      <td>5.0</td>\n",
       "      <td>67</td>\n",
       "      <td>43777.0</td>\n",
       "    </tr>\n",
       "    <tr>\n",
       "      <th>3</th>\n",
       "      <td>mercedes-benz e-class e180 avantgarde</td>\n",
       "      <td>mercedes-benz</td>\n",
       "      <td>e180</td>\n",
       "      <td>fully agent maintained, 3 years warranty 10 ye...</td>\n",
       "      <td>2019.0</td>\n",
       "      <td>NaN</td>\n",
       "      <td>17-nov-2020</td>\n",
       "      <td>luxury sedan</td>\n",
       "      <td>parf car, almost new car, consignment car</td>\n",
       "      <td>auto</td>\n",
       "      <td>...</td>\n",
       "      <td>46412.0</td>\n",
       "      <td>56977.0</td>\n",
       "      <td>NaN</td>\n",
       "      <td>uncategorized</td>\n",
       "      <td>1.5l inline-4 twin scroll turbocharged engine,...</td>\n",
       "      <td>64 colour ambient lighting. active parking ass...</td>\n",
       "      <td>197900.0</td>\n",
       "      <td>1.0</td>\n",
       "      <td>23</td>\n",
       "      <td>79617.0</td>\n",
       "    </tr>\n",
       "    <tr>\n",
       "      <th>4</th>\n",
       "      <td>honda civic 1.6a vti</td>\n",
       "      <td>honda</td>\n",
       "      <td>civic</td>\n",
       "      <td>kah motor unit! 1 owner, lowest 1.98% for full...</td>\n",
       "      <td>2019.0</td>\n",
       "      <td>NaN</td>\n",
       "      <td>20-sep-2019</td>\n",
       "      <td>mid-sized sedan</td>\n",
       "      <td>parf car</td>\n",
       "      <td>auto</td>\n",
       "      <td>...</td>\n",
       "      <td>20072.0</td>\n",
       "      <td>20101.0</td>\n",
       "      <td>NaN</td>\n",
       "      <td>uncategorized</td>\n",
       "      <td>1.6l i-vtec engine, 123 bhp, earth dreams cvt ...</td>\n",
       "      <td>s/rims, premium leather seats, factory touch s...</td>\n",
       "      <td>103200.0</td>\n",
       "      <td>2.0</td>\n",
       "      <td>33</td>\n",
       "      <td>35711.0</td>\n",
       "    </tr>\n",
       "    <tr>\n",
       "      <th>6</th>\n",
       "      <td>volvo v40 t2</td>\n",
       "      <td>volvo</td>\n",
       "      <td>v40</td>\n",
       "      <td>beautiful exterior and interior. straight chas...</td>\n",
       "      <td>2015.0</td>\n",
       "      <td>NaN</td>\n",
       "      <td>11-dec-2015</td>\n",
       "      <td>hatchback</td>\n",
       "      <td>parf car, premium ad car</td>\n",
       "      <td>auto</td>\n",
       "      <td>...</td>\n",
       "      <td>22809.0</td>\n",
       "      <td>18933.0</td>\n",
       "      <td>NaN</td>\n",
       "      <td>uncategorized</td>\n",
       "      <td>1.5l inline 4 cylinder turbocharged engine, fr...</td>\n",
       "      <td>multi-function steering wheel, original audio ...</td>\n",
       "      <td>62500.0</td>\n",
       "      <td>6.0</td>\n",
       "      <td>84</td>\n",
       "      <td>36627.0</td>\n",
       "    </tr>\n",
       "  </tbody>\n",
       "</table>\n",
       "<p>5 rows × 30 columns</p>\n",
       "</div>"
      ],
      "text/plain": [
       "                                    title           make   model  \\\n",
       "0  bmw 3 series 320i gran turismo m-sport            bmw    320i   \n",
       "2          mercedes-benz cla-class cla180  mercedes-benz  cla180   \n",
       "3   mercedes-benz e-class e180 avantgarde  mercedes-benz    e180   \n",
       "4                    honda civic 1.6a vti          honda   civic   \n",
       "6                            volvo v40 t2          volvo     v40   \n",
       "\n",
       "                                         description  manufactured  \\\n",
       "0  1 owner! 320i gt m-sports model! big brake kit...        2013.0   \n",
       "2  1 owner c&c unit. full agent service with 1 mo...        2016.0   \n",
       "3  fully agent maintained, 3 years warranty 10 ye...        2019.0   \n",
       "4  kah motor unit! 1 owner, lowest 1.98% for full...        2019.0   \n",
       "6  beautiful exterior and interior. straight chas...        2015.0   \n",
       "\n",
       "  original_reg_date     reg_date  type_of_vehicle  \\\n",
       "0               NaN  09-dec-2013     luxury sedan   \n",
       "2               NaN  25-jul-2016     luxury sedan   \n",
       "3               NaN  17-nov-2020     luxury sedan   \n",
       "4               NaN  20-sep-2019  mid-sized sedan   \n",
       "6               NaN  11-dec-2015        hatchback   \n",
       "\n",
       "                                    category transmission  ...      omv  \\\n",
       "0  parf car, premium ad car, low mileage car         auto  ...  45330.0   \n",
       "2                   parf car, premium ad car         auto  ...  27886.0   \n",
       "3  parf car, almost new car, consignment car         auto  ...  46412.0   \n",
       "4                                   parf car         auto  ...  20072.0   \n",
       "6                   parf car, premium ad car         auto  ...  22809.0   \n",
       "\n",
       "       arf lifespan   eco_category  \\\n",
       "0  50462.0      NaN  uncategorized   \n",
       "2  26041.0      NaN  uncategorized   \n",
       "3  56977.0      NaN  uncategorized   \n",
       "4  20101.0      NaN  uncategorized   \n",
       "6  18933.0      NaN  uncategorized   \n",
       "\n",
       "                                            features  \\\n",
       "0  5 doors gt, powerful and fuel efficient 2.0l t...   \n",
       "2  responsive and fuel efficient 1.6l inline 4 cy...   \n",
       "3  1.5l inline-4 twin scroll turbocharged engine,...   \n",
       "4  1.6l i-vtec engine, 123 bhp, earth dreams cvt ...   \n",
       "6  1.5l inline 4 cylinder turbocharged engine, fr...   \n",
       "\n",
       "                                         accessories     price  age  \\\n",
       "0  bmw i-drive, navigation, bluetooth/aux/usb inp...   71300.0  8.0   \n",
       "2  dual electric/memory seats. factory fitted aud...   95500.0  5.0   \n",
       "3  64 colour ambient lighting. active parking ass...  197900.0  1.0   \n",
       "4  s/rims, premium leather seats, factory touch s...  103200.0  2.0   \n",
       "6  multi-function steering wheel, original audio ...   62500.0  6.0   \n",
       "\n",
       "   age_in_month  remaining_val  \n",
       "0           108        46304.0  \n",
       "2            67        43777.0  \n",
       "3            23        79617.0  \n",
       "4            33        35711.0  \n",
       "6            84        36627.0  \n",
       "\n",
       "[5 rows x 30 columns]"
      ]
     },
     "execution_count": 33,
     "metadata": {},
     "output_type": "execute_result"
    }
   ],
   "source": [
    "df.head()"
   ]
  },
  {
   "cell_type": "code",
   "execution_count": 34,
   "metadata": {},
   "outputs": [],
   "source": [
    "df.to_csv('numerical_cleaned.csv')  "
   ]
  },
  {
   "cell_type": "code",
   "execution_count": null,
   "metadata": {},
   "outputs": [],
   "source": []
  }
 ],
 "metadata": {
  "kernelspec": {
   "display_name": "Python 3",
   "language": "python",
   "name": "python3"
  },
  "language_info": {
   "codemirror_mode": {
    "name": "ipython",
    "version": 3
   },
   "file_extension": ".py",
   "mimetype": "text/x-python",
   "name": "python",
   "nbconvert_exporter": "python",
   "pygments_lexer": "ipython3",
   "version": "3.7.9"
  }
 },
 "nbformat": 4,
 "nbformat_minor": 2
}
