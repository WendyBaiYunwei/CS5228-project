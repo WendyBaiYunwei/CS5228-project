{
 "cells": [
  {
   "cell_type": "code",
   "execution_count": 135,
   "metadata": {},
   "outputs": [
    {
     "name": "stdout",
     "output_type": "stream",
     "text": [
      "The autoreload extension is already loaded. To reload it, use:\n",
      "  %reload_ext autoreload\n"
     ]
    }
   ],
   "source": [
    "# Some more magic so that the notebook will reload external python modules;\n",
    "# see http://stackoverflow.com/questions/1907993/autoreload-of-modules-in-ipython\n",
    "# This will automatically reload src/dtree.py every time you make changes and save the file\n",
    "%load_ext autoreload\n",
    "%autoreload 2"
   ]
  },
  {
   "cell_type": "code",
   "execution_count": 136,
   "metadata": {},
   "outputs": [],
   "source": [
    "%matplotlib inline"
   ]
  },
  {
   "cell_type": "code",
   "execution_count": 137,
   "metadata": {},
   "outputs": [],
   "source": [
    "import numpy as np\n",
    "import pandas as pd\n",
    "from matplotlib import pyplot as plt"
   ]
  },
  {
   "cell_type": "code",
   "execution_count": 138,
   "metadata": {},
   "outputs": [],
   "source": [
    "# combine\n",
    "# fill in make\n",
    "# fill in mileage, age\n",
    "# fill in power and engine cap\n",
    "# fill in policy-related values except depreciation rate\n",
    "# calculate price based on depreciation rate\n",
    "# save the values with price and evaluate the performance"
   ]
  },
  {
   "cell_type": "code",
   "execution_count": 174,
   "metadata": {},
   "outputs": [],
   "source": [
    "df1 = pd.read_csv('./train.csv')\n",
    "df2 = pd.read_csv('./test.csv')\n",
    "l = df2.columns.tolist()\n",
    "df1 = df1[l]\n",
    "df = pd.concat([df1, df2])\n",
    "trainLen = len(df1)\n",
    "def divideDf(df):\n",
    "    train = df[:trainLen]\n",
    "    test = df[trainLen:]\n",
    "    return len(train), train, test\n",
    "\n",
    "def combineDf(train, test):\n",
    "    return pd.concat([train, test])"
   ]
  },
  {
   "cell_type": "code",
   "execution_count": 175,
   "metadata": {},
   "outputs": [
    {
     "name": "stdout",
     "output_type": "stream",
     "text": [
      "<class 'pandas.core.frame.DataFrame'>\n",
      "RangeIndex: 16784 entries, 0 to 16783\n",
      "Data columns (total 29 columns):\n",
      " #   Column             Non-Null Count  Dtype  \n",
      "---  ------             --------------  -----  \n",
      " 0   listing_id         16784 non-null  int64  \n",
      " 1   title              16784 non-null  object \n",
      " 2   make               14624 non-null  object \n",
      " 3   model              16784 non-null  object \n",
      " 4   description        16439 non-null  object \n",
      " 5   manufactured       16590 non-null  float64\n",
      " 6   original_reg_date  318 non-null    object \n",
      " 7   reg_date           16583 non-null  object \n",
      " 8   type_of_vehicle    16784 non-null  object \n",
      " 9   category           16784 non-null  object \n",
      " 10  transmission       16784 non-null  object \n",
      " 11  curb_weight        16205 non-null  float64\n",
      " 12  power              14447 non-null  float64\n",
      " 13  fuel_type          3490 non-null   object \n",
      " 14  engine_cap         16731 non-null  float64\n",
      " 15  no_of_owners       16608 non-null  float64\n",
      " 16  depreciation       16351 non-null  float64\n",
      " 17  coe                15893 non-null  float64\n",
      " 18  road_tax           14630 non-null  float64\n",
      " 19  dereg_value        15595 non-null  float64\n",
      " 20  mileage            13060 non-null  float64\n",
      " 21  omv                16743 non-null  float64\n",
      " 22  arf                16500 non-null  float64\n",
      " 23  opc_scheme         207 non-null    object \n",
      " 24  lifespan           1702 non-null   object \n",
      " 25  eco_category       16784 non-null  object \n",
      " 26  features           16325 non-null  object \n",
      " 27  accessories        13971 non-null  object \n",
      " 28  indicative_price   0 non-null      float64\n",
      "dtypes: float64(13), int64(1), object(15)\n",
      "memory usage: 3.7+ MB\n",
      "<class 'pandas.core.frame.DataFrame'>\n",
      "RangeIndex: 5000 entries, 0 to 4999\n",
      "Data columns (total 29 columns):\n",
      " #   Column             Non-Null Count  Dtype  \n",
      "---  ------             --------------  -----  \n",
      " 0   listing_id         5000 non-null   int64  \n",
      " 1   title              5000 non-null   object \n",
      " 2   make               4373 non-null   object \n",
      " 3   model              5000 non-null   object \n",
      " 4   description        4889 non-null   object \n",
      " 5   manufactured       4939 non-null   float64\n",
      " 6   original_reg_date  100 non-null    object \n",
      " 7   reg_date           4939 non-null   object \n",
      " 8   type_of_vehicle    5000 non-null   object \n",
      " 9   category           5000 non-null   object \n",
      " 10  transmission       5000 non-null   object \n",
      " 11  curb_weight        4844 non-null   float64\n",
      " 12  power              4325 non-null   float64\n",
      " 13  fuel_type          1051 non-null   object \n",
      " 14  engine_cap         4985 non-null   float64\n",
      " 15  no_of_owners       4944 non-null   float64\n",
      " 16  depreciation       4868 non-null   float64\n",
      " 17  coe                4755 non-null   float64\n",
      " 18  road_tax           4366 non-null   float64\n",
      " 19  dereg_value        4665 non-null   float64\n",
      " 20  mileage            3856 non-null   float64\n",
      " 21  omv                4988 non-null   float64\n",
      " 22  arf                4913 non-null   float64\n",
      " 23  opc_scheme         58 non-null     object \n",
      " 24  lifespan           504 non-null    object \n",
      " 25  eco_category       5000 non-null   object \n",
      " 26  features           4873 non-null   object \n",
      " 27  accessories        4159 non-null   object \n",
      " 28  indicative_price   0 non-null      float64\n",
      "dtypes: float64(13), int64(1), object(15)\n",
      "memory usage: 1.1+ MB\n"
     ]
    }
   ],
   "source": [
    "df1.info()\n",
    "df2.info()\n",
    "# ['depreciation', 'omv', 'arf', 'age', 'remaining_coe', 'dereg_value', 'truck', 'suv', 'sports car', 'luxury sedan',\\\n",
    "#          'bus/mini bus', 'mid-sized sedan', 'stationwagon', 'hatchback', 'mpv']"
   ]
  },
  {
   "cell_type": "code",
   "execution_count": 176,
   "metadata": {},
   "outputs": [
    {
     "name": "stdout",
     "output_type": "stream",
     "text": [
      "<class 'pandas.core.frame.DataFrame'>\n",
      "Int64Index: 21784 entries, 0 to 4999\n",
      "Data columns (total 29 columns):\n",
      " #   Column             Non-Null Count  Dtype  \n",
      "---  ------             --------------  -----  \n",
      " 0   listing_id         21784 non-null  int64  \n",
      " 1   title              21784 non-null  object \n",
      " 2   make               18997 non-null  object \n",
      " 3   model              21784 non-null  object \n",
      " 4   description        21328 non-null  object \n",
      " 5   manufactured       21529 non-null  float64\n",
      " 6   original_reg_date  418 non-null    object \n",
      " 7   reg_date           21522 non-null  object \n",
      " 8   type_of_vehicle    21784 non-null  object \n",
      " 9   category           21784 non-null  object \n",
      " 10  transmission       21784 non-null  object \n",
      " 11  curb_weight        21049 non-null  float64\n",
      " 12  power              18772 non-null  float64\n",
      " 13  fuel_type          4541 non-null   object \n",
      " 14  engine_cap         21716 non-null  float64\n",
      " 15  no_of_owners       21552 non-null  float64\n",
      " 16  depreciation       21219 non-null  float64\n",
      " 17  coe                20648 non-null  float64\n",
      " 18  road_tax           18996 non-null  float64\n",
      " 19  dereg_value        20260 non-null  float64\n",
      " 20  mileage            16916 non-null  float64\n",
      " 21  omv                21731 non-null  float64\n",
      " 22  arf                21413 non-null  float64\n",
      " 23  opc_scheme         265 non-null    object \n",
      " 24  lifespan           2206 non-null   object \n",
      " 25  eco_category       21784 non-null  object \n",
      " 26  features           21198 non-null  object \n",
      " 27  accessories        18130 non-null  object \n",
      " 28  indicative_price   0 non-null      float64\n",
      "dtypes: float64(13), int64(1), object(15)\n",
      "memory usage: 5.0+ MB\n"
     ]
    }
   ],
   "source": [
    "df.info()"
   ]
  },
  {
   "cell_type": "markdown",
   "metadata": {},
   "source": [
    "df_valid = df.dropna(subset = ['fuel_type'])\n",
    "\n",
    "missingfuel_type = df.fuel_type.isnull()\n",
    "dfm = df[missingfuel_type]\n",
    "missingModelAge = []\n",
    "for idx, row in dfm.iterrows():\n",
    "    model = row['model']\n",
    "    missingModelAge.append(model)\n",
    "\n",
    "mapper = {}\n",
    "for idx, row in df_valid.iterrows():\n",
    "    model = row['model']\n",
    "    fuel_type = row['fuel_type']\n",
    "    mapper[model] = fuel_type\n",
    "\n",
    "for idx, row in dfm.iterrows():\n",
    "    model = row['model']\n",
    "    if model in mapper:\n",
    "        df.at[idx, 'fuel_type'] = mapper[model]\n",
    "\n",
    "print(df['fuel_type'].isnull().sum())"
   ]
  },
  {
   "cell_type": "code",
   "execution_count": 177,
   "metadata": {},
   "outputs": [
    {
     "name": "stdout",
     "output_type": "stream",
     "text": [
      "0\n"
     ]
    }
   ],
   "source": [
    "#fill in make\n",
    "dfvalid = df.dropna(subset = ['make'])\n",
    "\n",
    "missingMake = df.make.isnull()\n",
    "dfm = df[missingMake]\n",
    "missingModelAge = []\n",
    "for idx, row in dfm.iterrows():\n",
    "    model = row['model']\n",
    "    missingModelAge.append(model)\n",
    "\n",
    "mapper = {}\n",
    "for idx, row in dfvalid.iterrows():\n",
    "    model = row['model']\n",
    "    make = row['make']\n",
    "    mapper[model] = make\n",
    "\n",
    "for idx, row in dfm.iterrows():\n",
    "    model = row['model']\n",
    "    df.at[idx, 'make'] = mapper[model]\n",
    "\n",
    "print(df['make'].isnull().sum())"
   ]
  },
  {
   "cell_type": "code",
   "execution_count": 178,
   "metadata": {},
   "outputs": [
    {
     "name": "stdout",
     "output_type": "stream",
     "text": [
      "0\n",
      "10000\n",
      "0\n",
      "0\n"
     ]
    }
   ],
   "source": [
    "# fill in mileage\n",
    "df_valid = df.dropna(subset = ['mileage', 'no_of_owners'])\n",
    "no_of_ownerss = df_valid['no_of_owners'].to_numpy()\n",
    "caps = df_valid['mileage'].to_numpy()\n",
    "\n",
    "k = 1000\n",
    "for idx, row in df.iterrows():\n",
    "    if idx % 10000 == 0:\n",
    "        print(idx)\n",
    "\n",
    "    p, e = row['no_of_owners'], row['mileage']\n",
    "    \n",
    "    if type(row[\"mileage\"]) == float and pd.isna(row[\"mileage\"]):\n",
    "\n",
    "        diff = np.abs(no_of_ownerss - p)\n",
    "\n",
    "        indices = np.argsort(diff)[:k]\n",
    "\n",
    "        k_caps = caps[indices]\n",
    "\n",
    "        avg = np.average(k_caps)\n",
    "\n",
    "        # Set the weight value of the current row to the median\n",
    "        df.at[idx, 'mileage'] = avg\n",
    "print(df['mileage'].isnull().sum())"
   ]
  },
  {
   "cell_type": "code",
   "execution_count": 179,
   "metadata": {},
   "outputs": [
    {
     "name": "stdout",
     "output_type": "stream",
     "text": [
      "<class 'pandas.core.frame.DataFrame'>\n",
      "Int64Index: 21784 entries, 0 to 4999\n",
      "Data columns (total 31 columns):\n",
      " #   Column             Non-Null Count  Dtype  \n",
      "---  ------             --------------  -----  \n",
      " 0   listing_id         21784 non-null  int64  \n",
      " 1   title              21784 non-null  object \n",
      " 2   make               21784 non-null  object \n",
      " 3   model              21784 non-null  object \n",
      " 4   description        21328 non-null  object \n",
      " 5   manufactured       21529 non-null  float64\n",
      " 6   original_reg_date  418 non-null    object \n",
      " 7   reg_date           21522 non-null  object \n",
      " 8   type_of_vehicle    21784 non-null  object \n",
      " 9   category           21784 non-null  object \n",
      " 10  transmission       21784 non-null  object \n",
      " 11  curb_weight        21049 non-null  float64\n",
      " 12  power              18772 non-null  float64\n",
      " 13  fuel_type          4541 non-null   object \n",
      " 14  engine_cap         21716 non-null  float64\n",
      " 15  no_of_owners       21552 non-null  float64\n",
      " 16  depreciation       21219 non-null  float64\n",
      " 17  coe                20648 non-null  float64\n",
      " 18  road_tax           18996 non-null  float64\n",
      " 19  dereg_value        20260 non-null  float64\n",
      " 20  mileage            21784 non-null  float64\n",
      " 21  omv                21731 non-null  float64\n",
      " 22  arf                21413 non-null  float64\n",
      " 23  opc_scheme         265 non-null    object \n",
      " 24  lifespan           2206 non-null   object \n",
      " 25  eco_category       21784 non-null  object \n",
      " 26  features           21198 non-null  object \n",
      " 27  accessories        18130 non-null  object \n",
      " 28  indicative_price   0 non-null      float64\n",
      " 29  age                21784 non-null  int64  \n",
      " 30  remaining_coe      21784 non-null  int64  \n",
      "dtypes: float64(13), int64(3), object(15)\n",
      "memory usage: 5.8+ MB\n"
     ]
    }
   ],
   "source": [
    "# get age and remaining coe\n",
    "d1 = df['manufactured'].isnull()\n",
    "df['age'] = df['manufactured'].copy()\n",
    "df.loc[d1, 'age'] = df.loc[d1, 'manufactured']\n",
    "d1 = df['age'].isnull()\n",
    "df.loc[d1, 'age'] = df.loc[d1, 'original_reg_date']\n",
    "d1 = df['age'].isnull()\n",
    "df.loc[d1, 'age'] = df.loc[d1, 'reg_date']\n",
    "\n",
    "def month(x):\n",
    "    if pd.isna(x):\n",
    "        return np.nan\n",
    "    mapper = {}\n",
    "    all_m = ['jan', 'feb', 'mar', 'apr', 'may', 'jun', 'jul', 'aug', 'sep', 'oct', 'nov', 'dec']\n",
    "    for i in range(12):\n",
    "        mapper[all_m[i]] = i + 1\n",
    "    if len(str(x)) < 11:\n",
    "        return (2021 - int(x)) * 12\n",
    "    s = x.split('-')\n",
    "    year = 2021 - int(s[-1])\n",
    "    month = mapper[s[-2]]\n",
    "    return year * 12 + month\n",
    "\n",
    "def filterNeg(x):\n",
    "    if x < 0:\n",
    "        return 0\n",
    "    return x\n",
    "    \n",
    "df['age'] = df['age'].map(month)\n",
    "\n",
    "d1 = df['reg_date'].isnull()\n",
    "df['remaining_coe'] = df['reg_date'].copy()\n",
    "df.loc[d1, 'remaining_coe'] = df.loc[d1, 'reg_date']\n",
    "d1 = df['remaining_coe'].isnull()\n",
    "df.loc[d1, 'remaining_coe'] = df.loc[d1, 'original_reg_date']\n",
    "d1 = df['remaining_coe'].isnull()\n",
    "df.loc[d1, 'remaining_coe'] = df.loc[d1, 'manufactured']\n",
    "df['remaining_coe'] = 120 - df['remaining_coe'].map(month)\n",
    "df['remaining_coe'] = df['remaining_coe'].map(filterNeg)\n",
    "\n",
    "hasLifeSpan = ~df['lifespan'].isnull()\n",
    "def get_remaining(x):\n",
    "    diffFrom2021 = month(x)\n",
    "    res = -diffFrom2021\n",
    "    if res < 0:\n",
    "        res = 0\n",
    "    return res ##check 2021\n",
    "df.loc[hasLifeSpan, 'remaining_coe'] = df.loc[hasLifeSpan, 'lifespan'].map(get_remaining)\n",
    "df.info()"
   ]
  },
  {
   "cell_type": "code",
   "execution_count": 180,
   "metadata": {},
   "outputs": [],
   "source": [
    "# get omv\n",
    "from collections import defaultdict\n",
    "df_valid = df.dropna(subset = ['omv'])\n",
    "# df_valid = pd.concat([df_valid, df_train], axis = 0)\n",
    "# print(df_valid.shape)\n",
    "omvs = df_valid['omv'].to_numpy()\n",
    "\n",
    "\n",
    "# missingOmvModelsAge (1 year)\n",
    "# missingomv = avg(modelAgeToSimilarOmv)\n",
    "missingOmv = df.omv.isnull()\n",
    "dfm = df[missingOmv]\n",
    "missingModelAge = []\n",
    "for idx, row in dfm.iterrows():\n",
    "    model = row['model']\n",
    "    age = row['age']\n",
    "    p = (model, age)\n",
    "    missingModelAge.append(p)\n",
    "\n",
    "mapper = defaultdict(list)\n",
    "for idx, row in df_valid.iterrows():\n",
    "    model = row['model']\n",
    "    age = row['age']\n",
    "    omv = row['omv']\n",
    "    p = (model, age)\n",
    "    mapper[p].append(omv)\n",
    "\n",
    "for idx, row in dfm.iterrows():\n",
    "    model = row['model']\n",
    "    age = row['age']\n",
    "    p = (model, age)\n",
    "    if len(mapper[p]):\n",
    "        df.at[idx, 'omv'] = np.average(mapper[p])"
   ]
  },
  {
   "cell_type": "code",
   "execution_count": 181,
   "metadata": {},
   "outputs": [
    {
     "name": "stdout",
     "output_type": "stream",
     "text": [
      "45\n"
     ]
    }
   ],
   "source": [
    "print(len(df[df.omv.isnull()]))\n",
    "# print(df[missingOmv]['category'].unique())\n",
    "# print(df[missingOmv][df.category.str.contains('low mileage')])\n",
    "# print(df[missingOmv][df.age < 120]['category'])\n",
    "# print(df[missingOmv])"
   ]
  },
  {
   "cell_type": "code",
   "execution_count": 182,
   "metadata": {},
   "outputs": [],
   "source": [
    "df_valid = df.dropna(subset = ['omv'])\n",
    "# df_valid = pd.concat([df_valid, df_train], axis = 0)\n",
    "# print(df_valid.shape)\n",
    "omvs = df_valid['omv'].to_numpy()\n",
    "\n",
    "\n",
    "# missingOmvModelsAge (1 year)\n",
    "# missingomv = avg(modelAgeToSimilarOmv)\n",
    "missingOmv = df.omv.isnull()\n",
    "dfm = df[missingOmv]\n",
    "missingModelAge = []\n",
    "for idx, row in dfm.iterrows():\n",
    "    model = row['model']\n",
    "    age = row['age'] // 24 * 24\n",
    "    p = (model, age)\n",
    "    missingModelAge.append(p)\n",
    "\n",
    "mapper = defaultdict(list)\n",
    "for idx, row in df_valid.iterrows():\n",
    "    model = row['model']\n",
    "    age = row['age'] // 24 * 24\n",
    "    omv = row['omv']\n",
    "    p = (model, age)\n",
    "    mapper[p].append(omv)\n",
    "\n",
    "for idx, row in dfm.iterrows():\n",
    "    model = row['model']\n",
    "    age = row['age'] // 24 * 24\n",
    "    p = (model, age)\n",
    "    if len(mapper[p]):\n",
    "        df.at[idx, 'omv'] = np.average(mapper[p])"
   ]
  },
  {
   "cell_type": "code",
   "execution_count": 183,
   "metadata": {},
   "outputs": [
    {
     "name": "stdout",
     "output_type": "stream",
     "text": [
      "21784\n",
      "16784\n",
      "16751\n",
      "5000\n"
     ]
    }
   ],
   "source": [
    "df = df_.copy()\n",
    "print(len(df))\n",
    "print(len(df) - 5000)\n",
    "train = df[:trainLen].dropna(subset=['omv'])\n",
    "trainLen = len(train)\n",
    "print(trainLen)\n",
    "test = df[16784:].copy()\n",
    "df = pd.concat([train, test])\n",
    "print(len(test))"
   ]
  },
  {
   "cell_type": "code",
   "execution_count": 184,
   "metadata": {},
   "outputs": [
    {
     "name": "stdout",
     "output_type": "stream",
     "text": [
      "[706, 1026, 1770, 1889, 1904, 2015, 2062, 2282, 2633, 3224]\n"
     ]
    },
    {
     "name": "stderr",
     "output_type": "stream",
     "text": [
      "G:\\softwares\\envs\\4277lab\\lib\\site-packages\\ipykernel_launcher.py:4: SettingWithCopyWarning: \n",
      "A value is trying to be set on a copy of a slice from a DataFrame.\n",
      "Try using .loc[row_indexer,col_indexer] = value instead\n",
      "\n",
      "See the caveats in the documentation: https://pandas.pydata.org/pandas-docs/stable/user_guide/indexing.html#returning-a-view-versus-a-copy\n",
      "  after removing the cwd from sys.path.\n"
     ]
    }
   ],
   "source": [
    "test_df = df[-5000:]\n",
    "omvL = test_df[test_df.omv.isnull()].index.tolist()\n",
    "print(omvL)\n",
    "test_df['omv'] = test_df['omv'].fillna(0)\n",
    "\n",
    "df = pd.concat([df[:-5000], test_df])\n",
    "# prices = [120000, 33800, 109888, 718000, 718000, 109888] ####\n",
    "# df[:trainLen] = df[:trainLen].dropna(subset = ['omv'])"
   ]
  },
  {
   "cell_type": "code",
   "execution_count": 208,
   "metadata": {},
   "outputs": [],
   "source": [
    "# df_valid = df.dropna(subset = ['omv'])\n",
    "# df_valid = pd.concat([df_valid, df_train], axis = 0)\n",
    "# df.at[706, 'omv'] = np.average(df_valid[df_valid.age > 500]['omv'])"
   ]
  },
  {
   "cell_type": "code",
   "execution_count": 209,
   "metadata": {},
   "outputs": [],
   "source": [
    "# vintage = df_train[df_train.age > 120].dropna(subset=['omv'])"
   ]
  },
  {
   "cell_type": "code",
   "execution_count": 210,
   "metadata": {},
   "outputs": [
    {
     "ename": "NameError",
     "evalue": "name 'vintage' is not defined",
     "output_type": "error",
     "traceback": [
      "\u001b[1;31m---------------------------------------------------------------------------\u001b[0m",
      "\u001b[1;31mNameError\u001b[0m                                 Traceback (most recent call last)",
      "\u001b[1;32m<ipython-input-210-cc12d690f477>\u001b[0m in \u001b[0;36m<module>\u001b[1;34m\u001b[0m\n\u001b[0;32m      1\u001b[0m \u001b[1;31m## estimated omv\u001b[0m\u001b[1;33m\u001b[0m\u001b[1;33m\u001b[0m\u001b[1;33m\u001b[0m\u001b[0m\n\u001b[0;32m      2\u001b[0m \u001b[1;32mfrom\u001b[0m \u001b[0msklearn\u001b[0m\u001b[1;33m.\u001b[0m\u001b[0mlinear_model\u001b[0m \u001b[1;32mimport\u001b[0m \u001b[0mLinearRegression\u001b[0m\u001b[1;33m\u001b[0m\u001b[1;33m\u001b[0m\u001b[0m\n\u001b[1;32m----> 3\u001b[1;33m \u001b[0mdf_\u001b[0m \u001b[1;33m=\u001b[0m \u001b[0mvintage\u001b[0m\u001b[1;33m.\u001b[0m\u001b[0mcopy\u001b[0m\u001b[1;33m(\u001b[0m\u001b[1;33m)\u001b[0m\u001b[1;33m\u001b[0m\u001b[1;33m\u001b[0m\u001b[0m\n\u001b[0m\u001b[0;32m      4\u001b[0m \u001b[0mprice\u001b[0m \u001b[1;33m=\u001b[0m \u001b[0mnp\u001b[0m\u001b[1;33m.\u001b[0m\u001b[0marray\u001b[0m\u001b[1;33m(\u001b[0m\u001b[0mdf_\u001b[0m\u001b[1;33m[\u001b[0m\u001b[1;34m'price'\u001b[0m\u001b[1;33m]\u001b[0m\u001b[1;33m)\u001b[0m\u001b[1;33m.\u001b[0m\u001b[0mreshape\u001b[0m\u001b[1;33m(\u001b[0m\u001b[1;33m-\u001b[0m\u001b[1;36m1\u001b[0m\u001b[1;33m,\u001b[0m \u001b[1;36m1\u001b[0m\u001b[1;33m)\u001b[0m\u001b[1;33m\u001b[0m\u001b[1;33m\u001b[0m\u001b[0m\n\u001b[0;32m      5\u001b[0m \u001b[1;33m\u001b[0m\u001b[0m\n",
      "\u001b[1;31mNameError\u001b[0m: name 'vintage' is not defined"
     ]
    }
   ],
   "source": [
    "# ## estimated omv\n",
    "# from sklearn.linear_model import LinearRegression\n",
    "# df_ = vintage.copy()\n",
    "# price = np.array(df_['price']).reshape(-1, 1)\n",
    "\n",
    "# age = np.array(df_['age']).reshape(-1, 1)\n",
    "\n",
    "# mileage = np.array(df_['mileage']).reshape(-1, 1)\n",
    "\n",
    "# X = np.concatenate((price, mileage, age), axis=1)\n",
    "# y = np.array(df_['omv']).reshape(-1, 1)\n",
    "\n",
    "# reg = LinearRegression().fit(X, y)\n",
    "# print(reg.score(X, y))\n",
    "# print(reg.coef_)\n"
   ]
  },
  {
   "cell_type": "code",
   "execution_count": null,
   "metadata": {},
   "outputs": [],
   "source": [
    "# missingPriceAges = []\n",
    "# missingVintage = df[df.omv.isnull()][df.age >= 120]\n",
    "# idxs = missingVintage.index\n",
    "# # print(len(missingVintage))\n",
    "# for idx, row in missingVintage.iterrows():\n",
    "#     price = row['price']\n",
    "#     mileage = row['mileage']\n",
    "#     age = row['age']\n",
    "#     missingPriceAges.append((price, mileage, age))\n",
    "# # print(len(missingPriceAges))\n",
    "# omvs = reg.predict(np.array(missingPriceAges))\n",
    "# count = 0\n",
    "# for i in idxs:\n",
    "#     df.at[i, 'omv'] = omvs[count]\n",
    "#     count += 1\n",
    "# print(df['omv'].isnull().sum())"
   ]
  },
  {
   "cell_type": "code",
   "execution_count": null,
   "metadata": {},
   "outputs": [],
   "source": [
    "# # get the omv through regressor\n",
    "# df_ = df[df.category.str.contains('low mileage')][df.price > 250000].copy()\n",
    "# df_ = df_.dropna(subset=['omv'])\n",
    "# price = np.array(df_['price']).reshape(-1, 1)\n",
    "\n",
    "# age = np.array(df_['age']).reshape(-1, 1)\n",
    "\n",
    "# mileage = np.array(df_['mileage']).reshape(-1, 1)\n",
    "\n",
    "# X = np.concatenate((price, mileage, age), axis=1)\n",
    "# y = np.array(df_['omv']).reshape(-1, 1)\n",
    "\n",
    "# reg = LinearRegression().fit(X, y)\n",
    "# print(reg.score(X, y))\n",
    "# print(reg.coef_)"
   ]
  },
  {
   "cell_type": "code",
   "execution_count": null,
   "metadata": {},
   "outputs": [],
   "source": [
    "# missingPriceAges = []\n",
    "# missing = df[df.omv.isnull()]\n",
    "# idxs = missing.index\n",
    "\n",
    "# for idx, row in missing.iterrows():\n",
    "#     price = row['price']\n",
    "#     mileage = row['mileage']\n",
    "#     age = row['age']\n",
    "#     missingPriceAges.append((price, mileage, age))\n",
    "# # print(len(missingPriceAges))\n",
    "# omvs = reg.predict(np.array(missingPriceAges))\n",
    "# count = 0\n",
    "# for i in idxs:\n",
    "#     df.at[i, 'omv'] = omvs[count]\n",
    "#     count += 1\n",
    "# print(df['omv'].isnull().sum())"
   ]
  },
  {
   "cell_type": "code",
   "execution_count": 211,
   "metadata": {},
   "outputs": [
    {
     "data": {
      "image/png": "[encoded data removed]",
      "text/plain": [
       "<Figure size 432x288 with 1 Axes>"
      ]
     },
     "metadata": {
      "needs_background": "light"
     },
     "output_type": "display_data"
    }
   ],
   "source": [
    "# ## age outlier\n",
    "# plt.boxplot(df['age'])\n",
    "# plt.show()"
   ]
  },
  {
   "cell_type": "code",
   "execution_count": 212,
   "metadata": {},
   "outputs": [
    {
     "name": "stdout",
     "output_type": "stream",
     "text": [
      "Empty DataFrame\n",
      "Columns: [listing_id, title, make, model, description, manufactured, original_reg_date, reg_date, type_of_vehicle, category, transmission, curb_weight, power, fuel_type, engine_cap, no_of_owners, depreciation, coe, road_tax, dereg_value, mileage, omv, arf, opc_scheme, lifespan, eco_category, features, accessories, indicative_price, age, remaining_coe]\n",
      "Index: []\n",
      "\n",
      "[0 rows x 31 columns]\n",
      "      listing_id                                              title  \\\n",
      "6300      976150  Mercedes-Benz G-Class G350d AMG Line 4MATIC Pr...   \n",
      "\n",
      "               make model                                        description  \\\n",
      "6300  mercedes-benz   amg  5 years warranty or 130,000km. call our friend...   \n",
      "\n",
      "      manufactured original_reg_date     reg_date type_of_vehicle  \\\n",
      "6300        2925.0               NaN  03-mar-2021             suv   \n",
      "\n",
      "                                               category  ...       omv  \\\n",
      "6300  parf car, almost new car, premium ad car, low ...  ...  109673.0   \n",
      "\n",
      "           arf  opc_scheme lifespan   eco_category  \\\n",
      "6300  169412.0         NaN      NaN  uncategorized   \n",
      "\n",
      "                                               features  accessories  \\\n",
      "6300  powered by inline 6 producing 281bhp, max torq...          NaN   \n",
      "\n",
      "      indicative_price    age  remaining_coe  \n",
      "6300               NaN -10848            117  \n",
      "\n",
      "[1 rows x 31 columns]\n"
     ]
    }
   ],
   "source": [
    "# print(df[df.age > 20000])\n",
    "# print(df[df.age < 0])"
   ]
  },
  {
   "cell_type": "code",
   "execution_count": 185,
   "metadata": {},
   "outputs": [],
   "source": [
    "# age,power, enginecap\n",
    "df.loc[df.age < 0, 'age'] = 0\n",
    "df.loc[df.age > 20000, 'age'] = 0"
   ]
  },
  {
   "cell_type": "code",
   "execution_count": 186,
   "metadata": {},
   "outputs": [
    {
     "name": "stdout",
     "output_type": "stream",
     "text": [
      "      listing_id                                              title  \\\n",
      "8199     1005670  Mercedes-Benz E-Class E300e Plug-in Hybrid AMG...   \n",
      "\n",
      "               make model                                        description  \\\n",
      "8199  mercedes-benz   amg  great deal! grab it! new facelifted 2021 with ...   \n",
      "\n",
      "      manufactured original_reg_date     reg_date type_of_vehicle  \\\n",
      "8199        2021.0               NaN  16-jun-2021    luxury sedan   \n",
      "\n",
      "                                               category  ...      omv  \\\n",
      "8199  parf car, almost new car, low mileage car, hyb...  ...  52492.0   \n",
      "\n",
      "          arf  opc_scheme lifespan   eco_category  \\\n",
      "8199  66486.0         NaN      NaN  uncategorized   \n",
      "\n",
      "                                               features  \\\n",
      "8199  2.0l m274 powerplant with eq boost producing 3...   \n",
      "\n",
      "                                            accessories  indicative_price  \\\n",
      "8199  amg kits and wheels, memory seat, ambient ligh...               NaN   \n",
      "\n",
      "      age  remaining_coe  \n",
      "8199    0            114  \n",
      "\n",
      "[1 rows x 31 columns]\n"
     ]
    }
   ],
   "source": [
    "##train\n",
    "print(df[df.engine_cap == 0])\n",
    "df.at[8199, 'engine_cap'] = np.nan"
   ]
  },
  {
   "cell_type": "code",
   "execution_count": 79,
   "metadata": {},
   "outputs": [
    {
     "data": {
      "text/plain": [
       "{'whiskers': [<matplotlib.lines.Line2D at 0x146efa4ce88>,\n",
       "  <matplotlib.lines.Line2D at 0x146f2b11948>],\n",
       " 'caps': [<matplotlib.lines.Line2D at 0x146f2b11d48>,\n",
       "  <matplotlib.lines.Line2D at 0x146f2b11d88>],\n",
       " 'boxes': [<matplotlib.lines.Line2D at 0x146efa24e08>],\n",
       " 'medians': [<matplotlib.lines.Line2D at 0x146f2b11e48>],\n",
       " 'fliers': [<matplotlib.lines.Line2D at 0x146f2b23d88>],\n",
       " 'means': []}"
      ]
     },
     "execution_count": 79,
     "metadata": {},
     "output_type": "execute_result"
    },
    {
     "data": {
      "image/png": "[encoded data removed]",
      "text/plain": [
       "<Figure size 432x288 with 1 Axes>"
      ]
     },
     "metadata": {
      "needs_background": "light"
     },
     "output_type": "display_data"
    }
   ],
   "source": [
    "plt.boxplot(df['engine_cap'].dropna())"
   ]
  },
  {
   "cell_type": "code",
   "execution_count": 187,
   "metadata": {},
   "outputs": [
    {
     "name": "stdout",
     "output_type": "stream",
     "text": [
      "1982\n"
     ]
    }
   ],
   "source": [
    "df_valid = df.dropna(subset = ['power'])\n",
    "ps = df_valid['power'].to_numpy()\n",
    "\n",
    "missingPs = df.power.isnull()\n",
    "dfm = df[missingPs]\n",
    "missingPower = []\n",
    "for idx, row in dfm.iterrows():\n",
    "    model = row['model']\n",
    "    missingPower.append(model)\n",
    "\n",
    "mapper = defaultdict(list)\n",
    "for idx, row in df_valid.iterrows():\n",
    "    model = row['model']\n",
    "    power = row['power']\n",
    "    mapper[model].append(power)\n",
    "\n",
    "for idx, row in dfm.iterrows():\n",
    "    model = row['model']\n",
    "    if len(mapper[model]):\n",
    "        df.at[idx, 'power'] = np.average(mapper[model])\n",
    "\n",
    "print(df['power'].isnull().sum())"
   ]
  },
  {
   "cell_type": "code",
   "execution_count": 188,
   "metadata": {},
   "outputs": [
    {
     "name": "stdout",
     "output_type": "stream",
     "text": [
      "67\n"
     ]
    }
   ],
   "source": [
    "df_valid = df.dropna(subset = ['engine_cap'])\n",
    "ps = df_valid['engine_cap'].to_numpy()\n",
    "\n",
    "missingPs = df.power.isnull()\n",
    "dfm = df[missingPs]\n",
    "missingPower = []\n",
    "for idx, row in dfm.iterrows():\n",
    "    model = row['model']\n",
    "    missingPower.append(model)\n",
    "\n",
    "mapper = defaultdict(list)\n",
    "for idx, row in df_valid.iterrows():\n",
    "    model = row['model']\n",
    "    power = row['engine_cap']\n",
    "    mapper[model].append(power)\n",
    "\n",
    "for idx, row in dfm.iterrows():\n",
    "    model = row['model']\n",
    "    if len(mapper[model]):\n",
    "        df.at[idx, 'engine_cap'] = np.average(mapper[model])\n",
    "\n",
    "print(df['engine_cap'].isnull().sum())"
   ]
  },
  {
   "cell_type": "code",
   "execution_count": 189,
   "metadata": {},
   "outputs": [],
   "source": [
    "df_valid = df.dropna(subset = ['power', 'engine_cap'])\n",
    "powers = df_valid['power'].to_numpy()\n",
    "caps = df_valid['engine_cap'].to_numpy()\n",
    "\n",
    "k = 100\n",
    "\n",
    "# Loop over each data point in our dataset\n",
    "for idx, row in df.iterrows():\n",
    "    p, e = row['power'], row['engine_cap']\n",
    "    \n",
    "    if type(row[\"power\"]) == float and pd.isna(row[\"power\"]):\n",
    "        diff = np.abs(caps - e)\n",
    "\n",
    "        indices = np.argsort(diff)[:k]\n",
    "\n",
    "        k_powers = powers[indices]\n",
    "\n",
    "        avg = np.average(k_powers)\n",
    "\n",
    "        # Set the weight value of the current row to the median\n",
    "        df.at[idx, 'power'] = avg"
   ]
  },
  {
   "cell_type": "code",
   "execution_count": 190,
   "metadata": {},
   "outputs": [
    {
     "name": "stdout",
     "output_type": "stream",
     "text": [
      "0\n",
      "10000\n",
      "0\n"
     ]
    }
   ],
   "source": [
    "df_valid = df.dropna(subset = ['power', 'engine_cap'])\n",
    "powers = df_valid['power'].to_numpy()\n",
    "caps = df_valid['engine_cap'].to_numpy()\n",
    "\n",
    "k = 50\n",
    "for idx, row in df.iterrows():\n",
    "    if idx % 10000 == 0:\n",
    "        print(idx)\n",
    "\n",
    "    p, e = row['power'], row['engine_cap']\n",
    "    \n",
    "    if type(row[\"engine_cap\"]) == float and pd.isna(row[\"engine_cap\"]):\n",
    "\n",
    "        diff = np.abs(powers - p)\n",
    "\n",
    "        indices = np.argsort(diff)[:k]\n",
    "\n",
    "        k_caps = caps[indices]\n",
    "\n",
    "        avg = np.average(k_caps)\n",
    "\n",
    "        # Set the weight value of the current row to the median\n",
    "        df.at[idx, 'engine_cap'] = avg"
   ]
  },
  {
   "cell_type": "markdown",
   "metadata": {},
   "source": [
    "df_ = df.copy()\n",
    "df_['efficiency'] = df_['power']\n",
    "for i in range(len(df_)):\n",
    "    x = df_.iloc[i]\n",
    "    df_['efficiency'][i] = x['power'] / x['engine_cap']\n",
    "\n",
    "plt.boxplot(df_[df_.fuel_type == 'diesel']['efficiency'])# / diesel['engine_cap'])\n",
    "plt.show()"
   ]
  },
  {
   "cell_type": "code",
   "execution_count": 23,
   "metadata": {},
   "outputs": [],
   "source": [
    "# plt.boxplot(df['power'])# / diesel['engine_cap'])\n",
    "# plt.show()"
   ]
  },
  {
   "cell_type": "code",
   "execution_count": 24,
   "metadata": {},
   "outputs": [],
   "source": [
    "# plt.boxplot(df['engine_cap'])# / diesel['engine_cap'])\n",
    "# plt.show()"
   ]
  },
  {
   "cell_type": "markdown",
   "metadata": {},
   "source": [
    "plt.boxplot(df_[df_.fuel_type == 'petrol']['efficiency'])# / diesel['engine_cap']) ##outlier\n",
    "plt.show()"
   ]
  },
  {
   "cell_type": "markdown",
   "metadata": {},
   "source": [
    "# fill omv, get data with missing omv and dereg_value, fill in the omv\n",
    "is_ = df[df.omv.isnull() & df.dereg_value.isnull()].index.tolist()\n",
    "filled_omvs = []\n",
    "for idx in is_:\n",
    "    ag = df.at[idx, 'age']\n",
    "    price = df.at[idx, 'price']\n",
    "    mo = reg.predict(np.array([[ag, price]]))\n",
    "    filled_omvs.append(mo)\n",
    "for i, idx in enumerate(is_):\n",
    "    df.at[idx, 'omv'] = filled_omvs[i]"
   ]
  },
  {
   "cell_type": "code",
   "execution_count": null,
   "metadata": {},
   "outputs": [],
   "source": [
    "print(df['coe'].isnull().sum())"
   ]
  },
  {
   "cell_type": "code",
   "execution_count": null,
   "metadata": {},
   "outputs": [],
   "source": [
    "plt.boxplot(df['coe'].dropna())\n",
    "plt.show()"
   ]
  },
  {
   "cell_type": "code",
   "execution_count": 191,
   "metadata": {},
   "outputs": [
    {
     "name": "stdout",
     "output_type": "stream",
     "text": [
      "0\n"
     ]
    }
   ],
   "source": [
    "# coe: fill in missing value for coe according to: age and power\n",
    "fill_arf = df[df.arf.isnull()]\n",
    "for idx, row in fill_arf.iterrows():\n",
    "    omv = row['omv']\n",
    "    if omv < 20000:\n",
    "        df.at[idx, 'arf'] = omv\n",
    "    elif omv >= 20000 and omv <= 50000:\n",
    "        df.at[idx, 'arf'] = (omv - 20000) * 1.40 + 20000\n",
    "    else:\n",
    "        df.at[idx, 'arf'] =  (omv - 50000) * 1.80 + 62000\n",
    "print(len(df[df.arf.isnull()]))\n",
    "# df = df[~(df.arf.isnull() & df.dereg_value.isnull())] # remove values whose dereg_value cannot be calculated"
   ]
  },
  {
   "cell_type": "code",
   "execution_count": 192,
   "metadata": {},
   "outputs": [
    {
     "name": "stdout",
     "output_type": "stream",
     "text": [
      "32\n"
     ]
    }
   ],
   "source": [
    "# for date missing both coe and dereg_value, record it's month engine and power\n",
    "coe_to_search = []\n",
    "to_search = df[df.coe.isnull() & df.dereg_value.isnull()]\n",
    "\n",
    "for idx, row in to_search.iterrows():\n",
    "    # category -> A / B\n",
    "    power = row[\"power\"]\n",
    "    engine_cap = row[\"engine_cap\"]\n",
    "    cat = 2\n",
    "    month = row[\"age\"]\n",
    "    if engine_cap <= 1600 and power <= 97:\n",
    "        cat = 1\n",
    "    coe_to_search.append((cat, month))\n",
    "\n",
    "coe_to_search = list(set(coe_to_search))\n",
    "print(len(coe_to_search))"
   ]
  },
  {
   "cell_type": "code",
   "execution_count": 193,
   "metadata": {},
   "outputs": [
    {
     "name": "stdout",
     "output_type": "stream",
     "text": [
      "1134\n"
     ]
    }
   ],
   "source": [
    "print(len(df[df.coe.isnull()]))"
   ]
  },
  {
   "cell_type": "code",
   "execution_count": 194,
   "metadata": {},
   "outputs": [
    {
     "name": "stdout",
     "output_type": "stream",
     "text": [
      "0\n",
      "10000\n",
      "1130\n"
     ]
    }
   ],
   "source": [
    "t_to_coe = {}\n",
    "\n",
    "for t in coe_to_search:\n",
    "    t_to_coe[str(t)] = []\n",
    "\n",
    "remains = df[~df.coe.isnull()]\n",
    "\n",
    "for idx, row in remains.iterrows():\n",
    "    if idx % 10000 == 0:\n",
    "        print(idx)\n",
    "\n",
    "    power = row[\"power\"]\n",
    "    engine_cap = row[\"engine_cap\"]\n",
    "    cat = 2\n",
    "    month = row[\"age\"]\n",
    "    if engine_cap <= 1600 and power <= 97:\n",
    "        cat = 1\n",
    "    \n",
    "    t = (cat, month)\n",
    "    \n",
    "    coe = row[\"coe\"]\n",
    "    if t in coe_to_search:\n",
    "        t_to_coe[str(t)].append(coe)\n",
    "        \n",
    "c = 0\n",
    "for idx, row in df.iterrows():\n",
    "    power = row[\"power\"]\n",
    "    engine_cap = row[\"engine_cap\"]\n",
    "    cat = 2\n",
    "    month = row[\"age\"]\n",
    "    if engine_cap <= 1600 and power <= 97:\n",
    "        cat = 1\n",
    "    t = str((cat, month))\n",
    "\n",
    "    if type(row[\"coe\"]) == float and pd.isna(row[\"coe\"]):\n",
    "        if t in t_to_coe:\n",
    "            l = t_to_coe[t]\n",
    "            if len(l) > 0:\n",
    "                avg = sum(l) / len(l)\n",
    "                df.at[idx, 'coe'] = avg\n",
    "                c += 1\n",
    "print(c)"
   ]
  },
  {
   "cell_type": "code",
   "execution_count": 195,
   "metadata": {},
   "outputs": [
    {
     "name": "stdout",
     "output_type": "stream",
     "text": [
      "4\n"
     ]
    }
   ],
   "source": [
    "print(len(df[df.coe.isnull()]))"
   ]
  },
  {
   "cell_type": "code",
   "execution_count": 196,
   "metadata": {},
   "outputs": [
    {
     "name": "stdout",
     "output_type": "stream",
     "text": [
      "0\n"
     ]
    }
   ],
   "source": [
    "avg = np.average(df[~df.coe.isnull()]['coe'])\n",
    "df['coe'] = df['coe'].fillna(avg)\n",
    "print(df['coe'].isnull().sum())"
   ]
  },
  {
   "cell_type": "code",
   "execution_count": 197,
   "metadata": {},
   "outputs": [
    {
     "name": "stdout",
     "output_type": "stream",
     "text": [
      "<class 'pandas.core.frame.DataFrame'>\n",
      "Int64Index: 21751 entries, 0 to 4999\n",
      "Data columns (total 31 columns):\n",
      " #   Column             Non-Null Count  Dtype  \n",
      "---  ------             --------------  -----  \n",
      " 0   listing_id         21751 non-null  int64  \n",
      " 1   title              21751 non-null  object \n",
      " 2   make               21751 non-null  object \n",
      " 3   model              21751 non-null  object \n",
      " 4   description        21295 non-null  object \n",
      " 5   manufactured       21497 non-null  float64\n",
      " 6   original_reg_date  415 non-null    object \n",
      " 7   reg_date           21490 non-null  object \n",
      " 8   type_of_vehicle    21751 non-null  object \n",
      " 9   category           21751 non-null  object \n",
      " 10  transmission       21751 non-null  object \n",
      " 11  curb_weight        21040 non-null  float64\n",
      " 12  power              21751 non-null  float64\n",
      " 13  fuel_type          4539 non-null   object \n",
      " 14  engine_cap         21751 non-null  float64\n",
      " 15  no_of_owners       21520 non-null  float64\n",
      " 16  depreciation       21187 non-null  float64\n",
      " 17  coe                21751 non-null  float64\n",
      " 18  road_tax           18988 non-null  float64\n",
      " 19  dereg_value        20231 non-null  float64\n",
      " 20  mileage            21751 non-null  float64\n",
      " 21  omv                21751 non-null  float64\n",
      " 22  arf                21751 non-null  float64\n",
      " 23  opc_scheme         265 non-null    object \n",
      " 24  lifespan           2204 non-null   object \n",
      " 25  eco_category       21751 non-null  object \n",
      " 26  features           21169 non-null  object \n",
      " 27  accessories        18105 non-null  object \n",
      " 28  indicative_price   0 non-null      float64\n",
      " 29  age                21751 non-null  int64  \n",
      " 30  remaining_coe      21751 non-null  int64  \n",
      "dtypes: float64(13), int64(3), object(15)\n",
      "memory usage: 5.8+ MB\n"
     ]
    }
   ],
   "source": [
    "df.info()\n",
    "df.to_csv('combined1.csv')"
   ]
  },
  {
   "cell_type": "code",
   "execution_count": 204,
   "metadata": {},
   "outputs": [],
   "source": [
    "df = pd.read_csv('combined1.csv')"
   ]
  },
  {
   "cell_type": "code",
   "execution_count": 205,
   "metadata": {},
   "outputs": [
    {
     "name": "stdout",
     "output_type": "stream",
     "text": [
      "<class 'pandas.core.frame.DataFrame'>\n",
      "RangeIndex: 21751 entries, 0 to 21750\n",
      "Data columns (total 32 columns):\n",
      " #   Column             Non-Null Count  Dtype  \n",
      "---  ------             --------------  -----  \n",
      " 0   Unnamed: 0         21751 non-null  int64  \n",
      " 1   listing_id         21751 non-null  int64  \n",
      " 2   title              21751 non-null  object \n",
      " 3   make               21751 non-null  object \n",
      " 4   model              21751 non-null  object \n",
      " 5   description        21295 non-null  object \n",
      " 6   manufactured       21497 non-null  float64\n",
      " 7   original_reg_date  415 non-null    object \n",
      " 8   reg_date           21490 non-null  object \n",
      " 9   type_of_vehicle    21751 non-null  object \n",
      " 10  category           21751 non-null  object \n",
      " 11  transmission       21751 non-null  object \n",
      " 12  curb_weight        21040 non-null  float64\n",
      " 13  power              21751 non-null  float64\n",
      " 14  fuel_type          4539 non-null   object \n",
      " 15  engine_cap         21751 non-null  float64\n",
      " 16  no_of_owners       21520 non-null  float64\n",
      " 17  depreciation       21187 non-null  float64\n",
      " 18  coe                21751 non-null  float64\n",
      " 19  road_tax           18988 non-null  float64\n",
      " 20  dereg_value        20231 non-null  float64\n",
      " 21  mileage            21751 non-null  float64\n",
      " 22  omv                21751 non-null  float64\n",
      " 23  arf                21751 non-null  float64\n",
      " 24  opc_scheme         265 non-null    object \n",
      " 25  lifespan           2204 non-null   object \n",
      " 26  eco_category       21751 non-null  object \n",
      " 27  features           21169 non-null  object \n",
      " 28  accessories        18105 non-null  object \n",
      " 29  indicative_price   0 non-null      float64\n",
      " 30  age                21751 non-null  int64  \n",
      " 31  remaining_coe      21751 non-null  int64  \n",
      "dtypes: float64(13), int64(4), object(15)\n",
      "memory usage: 5.3+ MB\n"
     ]
    }
   ],
   "source": [
    "df.info()"
   ]
  },
  {
   "cell_type": "code",
   "execution_count": 206,
   "metadata": {},
   "outputs": [],
   "source": [
    "train = df[:-5000].copy()\n",
    "prices = pd.read_csv('train.csv')['price']\n",
    "prices = prices[train.index]\n",
    "\n",
    "for idx in range(len(train)):\n",
    "    row = train.iloc[idx]\n",
    "    depreciation = row['depreciation']\n",
    "    age = row[\"age\"]\n",
    "    coe = row[\"coe\"]\n",
    "    omv = row[\"omv\"]\n",
    "    arf = row[\"arf\"]\n",
    "    remaining_coe = row['remaining_coe']\n",
    "\n",
    "    min_parf = min(0.55 * omv, arf)\n",
    "    if age <= 96:\n",
    "        min_parf = 0.5 * arf ####\n",
    "    elif age > 96 and age <= (2021 - 2008) * 12:\n",
    "        min_parf = min(omv, arf)\n",
    "    \n",
    "    # print(idx, len(prices))\n",
    "    new_coe = (prices.iloc[idx] - 0.5 * min_parf) / depreciation\n",
    "    if new_coe <= 120 and new_coe >= 0 and age >= (2021 - 2002) * 12:\n",
    "        train.iloc[idx, 31] = new_coe\n"
   ]
  },
  {
   "cell_type": "code",
   "execution_count": 203,
   "metadata": {},
   "outputs": [
    {
     "name": "stdout",
     "output_type": "stream",
     "text": [
      "<class 'pandas.core.frame.DataFrame'>\n",
      "RangeIndex: 21751 entries, 0 to 21750\n",
      "Data columns (total 32 columns):\n",
      " #   Column             Non-Null Count  Dtype  \n",
      "---  ------             --------------  -----  \n",
      " 0   Unnamed: 0         21751 non-null  int64  \n",
      " 1   listing_id         21751 non-null  int64  \n",
      " 2   title              21751 non-null  object \n",
      " 3   make               21751 non-null  object \n",
      " 4   model              21751 non-null  object \n",
      " 5   description        21295 non-null  object \n",
      " 6   manufactured       21497 non-null  float64\n",
      " 7   original_reg_date  415 non-null    object \n",
      " 8   reg_date           21490 non-null  object \n",
      " 9   type_of_vehicle    21751 non-null  object \n",
      " 10  category           21751 non-null  object \n",
      " 11  transmission       21751 non-null  object \n",
      " 12  curb_weight        21040 non-null  float64\n",
      " 13  power              21751 non-null  float64\n",
      " 14  fuel_type          4539 non-null   object \n",
      " 15  engine_cap         21751 non-null  float64\n",
      " 16  no_of_owners       21520 non-null  float64\n",
      " 17  depreciation       21187 non-null  float64\n",
      " 18  coe                21751 non-null  float64\n",
      " 19  road_tax           18988 non-null  float64\n",
      " 20  dereg_value        20231 non-null  float64\n",
      " 21  mileage            21751 non-null  float64\n",
      " 22  omv                21751 non-null  float64\n",
      " 23  arf                21751 non-null  float64\n",
      " 24  opc_scheme         265 non-null    object \n",
      " 25  lifespan           2204 non-null   object \n",
      " 26  eco_category       21751 non-null  object \n",
      " 27  features           21169 non-null  object \n",
      " 28  accessories        18105 non-null  object \n",
      " 29  indicative_price   0 non-null      float64\n",
      " 30  age                21751 non-null  float64\n",
      " 31  remaining_coe      21751 non-null  int64  \n",
      "dtypes: float64(14), int64(3), object(15)\n",
      "memory usage: 5.3+ MB\n"
     ]
    }
   ],
   "source": [
    "df = pd.concat([train, df[-5000:]])\n",
    "df.info()"
   ]
  },
  {
   "cell_type": "code",
   "execution_count": 207,
   "metadata": {},
   "outputs": [
    {
     "name": "stdout",
     "output_type": "stream",
     "text": [
      "0\n"
     ]
    }
   ],
   "source": [
    "for idx in range(len(df)):\n",
    "    row = df.iloc[idx]\n",
    "    if pd.isnull(row[\"dereg_value\"]):\n",
    "        max_age = 10 * 12\n",
    "        age = row[\"age\"]\n",
    "        time_left = max_age - age\n",
    "        coe = row[\"coe\"]\n",
    "        omv = row[\"omv\"]\n",
    "        arf = row[\"arf\"]\n",
    "        parf_ratio = 0\n",
    "        if age <  5 * 12:\n",
    "            parf_ratio = 0.75\n",
    "        elif age >= 5 * 12 and age < 10 * 12:\n",
    "            parf_ratio = 0.75 - math.ceil((age - 5 * 12) / 12) * 0.05 \n",
    "        remaining_coe = row['remaining_coe']\n",
    "        depreciation = row['depreciation']\n",
    "        \n",
    "        coe_rebate = coe * remaining_coe / 120\n",
    "        dereg_value = parf_ratio * arf + coe_rebate\n",
    "        if dereg_value <= 0:\n",
    "            dereg_value = 0\n",
    "        df.iat[idx, 20] = dereg_value #####\n",
    "print(df.dereg_value.isnull().sum())"
   ]
  },
  {
   "cell_type": "code",
   "execution_count": 208,
   "metadata": {},
   "outputs": [],
   "source": [
    "## train\n",
    "df_train = df[:-5000]\n",
    "df_test = df[-5000:]\n",
    "df_train.to_csv('train_raw.csv')\n",
    "df_test.to_csv('test_raw.csv')\n"
   ]
  },
  {
   "cell_type": "code",
   "execution_count": 258,
   "metadata": {},
   "outputs": [],
   "source": [
    "df_train = pd.read_csv('train_raw.csv')\n",
    "df_test = pd.read_csv('test_raw.csv')"
   ]
  },
  {
   "cell_type": "code",
   "execution_count": 210,
   "metadata": {},
   "outputs": [
    {
     "name": "stdout",
     "output_type": "stream",
     "text": [
      "<class 'pandas.core.frame.DataFrame'>\n",
      "Int64Index: 16319 entries, 0 to 16750\n",
      "Data columns (total 32 columns):\n",
      " #   Column             Non-Null Count  Dtype  \n",
      "---  ------             --------------  -----  \n",
      " 0   Unnamed: 0         16319 non-null  int64  \n",
      " 1   listing_id         16319 non-null  int64  \n",
      " 2   title              16319 non-null  object \n",
      " 3   make               16319 non-null  object \n",
      " 4   model              16319 non-null  object \n",
      " 5   description        15980 non-null  object \n",
      " 6   manufactured       16313 non-null  float64\n",
      " 7   original_reg_date  40 non-null     object \n",
      " 8   reg_date           16319 non-null  object \n",
      " 9   type_of_vehicle    16319 non-null  object \n",
      " 10  category           16319 non-null  object \n",
      " 11  transmission       16319 non-null  object \n",
      " 12  curb_weight        15968 non-null  float64\n",
      " 13  power              16319 non-null  float64\n",
      " 14  fuel_type          3404 non-null   object \n",
      " 15  engine_cap         16319 non-null  float64\n",
      " 16  no_of_owners       16313 non-null  float64\n",
      " 17  depreciation       16319 non-null  float64\n",
      " 18  coe                16319 non-null  float64\n",
      " 19  road_tax           14259 non-null  float64\n",
      " 20  dereg_value        16319 non-null  float64\n",
      " 21  mileage            16319 non-null  float64\n",
      " 22  omv                16319 non-null  float64\n",
      " 23  arf                16319 non-null  float64\n",
      " 24  opc_scheme         207 non-null    object \n",
      " 25  lifespan           1677 non-null   object \n",
      " 26  eco_category       16319 non-null  object \n",
      " 27  features           15900 non-null  object \n",
      " 28  accessories        13603 non-null  object \n",
      " 29  indicative_price   0 non-null      float64\n",
      " 30  age                16319 non-null  int64  \n",
      " 31  remaining_coe      16319 non-null  int64  \n",
      "dtypes: float64(13), int64(4), object(15)\n",
      "memory usage: 4.1+ MB\n"
     ]
    }
   ],
   "source": [
    "df_train = df_train.dropna(subset = ['depreciation'])\n",
    "df_train.info()"
   ]
  },
  {
   "cell_type": "code",
   "execution_count": 211,
   "metadata": {},
   "outputs": [
    {
     "name": "stdout",
     "output_type": "stream",
     "text": [
      "<class 'pandas.core.frame.DataFrame'>\n",
      "Int64Index: 5000 entries, 0 to 4999\n",
      "Data columns (total 15 columns):\n",
      " #   Column           Non-Null Count  Dtype  \n",
      "---  ------           --------------  -----  \n",
      " 0   depreciation     4868 non-null   float64\n",
      " 1   omv              5000 non-null   float64\n",
      " 2   arf              5000 non-null   float64\n",
      " 3   age              5000 non-null   int64  \n",
      " 4   remaining_coe    5000 non-null   int64  \n",
      " 5   dereg_value      5000 non-null   float64\n",
      " 6   truck            5000 non-null   uint8  \n",
      " 7   suv              5000 non-null   uint8  \n",
      " 8   sports car       5000 non-null   uint8  \n",
      " 9   luxury sedan     5000 non-null   uint8  \n",
      " 10  bus/mini bus     5000 non-null   uint8  \n",
      " 11  mid-sized sedan  5000 non-null   uint8  \n",
      " 12  stationwagon     5000 non-null   uint8  \n",
      " 13  hatchback        5000 non-null   uint8  \n",
      " 14  mpv              5000 non-null   uint8  \n",
      "dtypes: float64(4), int64(2), uint8(9)\n",
      "memory usage: 446.4 KB\n"
     ]
    }
   ],
   "source": [
    "df_test = df_test_.copy()\n",
    "useful = ['depreciation', 'omv', 'arf', 'age', 'remaining_coe', 'dereg_value', 'truck', 'suv', 'sports car', 'luxury sedan',\\\n",
    "         'bus/mini bus', 'mid-sized sedan', 'stationwagon', 'hatchback', 'mpv']\n",
    "cars_dummies = pd.get_dummies(df_test['type_of_vehicle'])\n",
    "df_test = pd.concat([df_test, cars_dummies], axis=1)\n",
    "df_test = df_test[useful]\n",
    "df_test.to_csv('./test/with_dep.csv')\n",
    "df_test.info()"
   ]
  },
  {
   "cell_type": "code",
   "execution_count": 213,
   "metadata": {},
   "outputs": [
    {
     "name": "stdout",
     "output_type": "stream",
     "text": [
      "<class 'pandas.core.frame.DataFrame'>\n",
      "RangeIndex: 5000 entries, 0 to 4999\n",
      "Data columns (total 16 columns):\n",
      " #   Column           Non-Null Count  Dtype  \n",
      "---  ------           --------------  -----  \n",
      " 0   Unnamed: 0       5000 non-null   int64  \n",
      " 1   depreciation     5000 non-null   float64\n",
      " 2   omv              5000 non-null   float64\n",
      " 3   arf              5000 non-null   float64\n",
      " 4   age              5000 non-null   int64  \n",
      " 5   remaining_coe    5000 non-null   int64  \n",
      " 6   dereg_value      5000 non-null   float64\n",
      " 7   truck            5000 non-null   int64  \n",
      " 8   suv              5000 non-null   int64  \n",
      " 9   sports car       5000 non-null   int64  \n",
      " 10  luxury sedan     5000 non-null   int64  \n",
      " 11  bus/mini bus     5000 non-null   int64  \n",
      " 12  mid-sized sedan  5000 non-null   int64  \n",
      " 13  stationwagon     5000 non-null   int64  \n",
      " 14  hatchback        5000 non-null   int64  \n",
      " 15  mpv              5000 non-null   int64  \n",
      "dtypes: float64(4), int64(12)\n",
      "memory usage: 625.1 KB\n"
     ]
    }
   ],
   "source": [
    "# l = df_test[~df_test.depreciation.isnull()]['listing_id'].tolist()\n",
    "# print(l)\n",
    "df_test = pd.read_csv('./test/with_dep.csv')\n",
    "depL = df_test[df_test.depreciation.isnull()].index.tolist()\n",
    "# print(omvL + depL)\n",
    "\n",
    "df_test['depreciation'] = df_test['depreciation'].fillna(0)\n",
    "df_test.info()"
   ]
  },
  {
   "cell_type": "code",
   "execution_count": 214,
   "metadata": {},
   "outputs": [
    {
     "name": "stdout",
     "output_type": "stream",
     "text": [
      "<class 'pandas.core.frame.DataFrame'>\n",
      "RangeIndex: 5000 entries, 0 to 4999\n",
      "Data columns (total 15 columns):\n",
      " #   Column           Non-Null Count  Dtype  \n",
      "---  ------           --------------  -----  \n",
      " 0   depreciation     5000 non-null   float64\n",
      " 1   omv              5000 non-null   float64\n",
      " 2   arf              5000 non-null   float64\n",
      " 3   age              5000 non-null   int64  \n",
      " 4   remaining_coe    5000 non-null   int64  \n",
      " 5   dereg_value      5000 non-null   float64\n",
      " 6   truck            5000 non-null   int64  \n",
      " 7   suv              5000 non-null   int64  \n",
      " 8   sports car       5000 non-null   int64  \n",
      " 9   luxury sedan     5000 non-null   int64  \n",
      " 10  bus/mini bus     5000 non-null   int64  \n",
      " 11  mid-sized sedan  5000 non-null   int64  \n",
      " 12  stationwagon     5000 non-null   int64  \n",
      " 13  hatchback        5000 non-null   int64  \n",
      " 14  mpv              5000 non-null   int64  \n",
      "dtypes: float64(4), int64(11)\n",
      "memory usage: 586.1 KB\n"
     ]
    }
   ],
   "source": [
    "useful = ['depreciation', 'omv', 'arf', 'age', 'remaining_coe', 'dereg_value', 'truck', 'suv', 'sports car', 'luxury sedan',\\\n",
    "         'bus/mini bus', 'mid-sized sedan', 'stationwagon', 'hatchback', 'mpv']\n",
    "df_test = df_test[useful]\n",
    "df_test.to_csv('./test/without_null_dep.csv')\n",
    "df_test.info()"
   ]
  },
  {
   "cell_type": "code",
   "execution_count": null,
   "metadata": {},
   "outputs": [],
   "source": [
    "\n",
    "# # depreciation: model, age, mileage based on df\n",
    "# mam_dep = defaultdict(list)\n",
    "# for idx, row in df.iterrows():\n",
    "#     #500\n",
    "#     m1 = row['model']\n",
    "#     m2 = row['mileage'] // 500 * 500\n",
    "#     a = row['age'] // 18 * 18\n",
    "#     t = (m1,m2,a)\n",
    "#     mam_dep[t].append(row['depreciation'])\n",
    "\n",
    "# for idx, row in df_test.iterrows():\n",
    "#     #500\n",
    "#     dep = row['depreciation']\n",
    "#     if type(dep) == float and pd.isna(dep):\n",
    "#         m1 = row['model']\n",
    "#         m2 = row['mileage'] // 500 * 500\n",
    "#         a = row['age'] // 18 * 18\n",
    "#         t = (m1,m2,a)\n",
    "#         df_test.at[idx, 'depreciation'] = np.average(mam_dep[t])\n",
    "# print(df_test['depreciation'].isnull().sum())"
   ]
  },
  {
   "cell_type": "code",
   "execution_count": null,
   "metadata": {},
   "outputs": [],
   "source": [
    "# # depreciation: model, age, mileage based on df\n",
    "# mam_dep = defaultdict(list)\n",
    "# for idx, row in df.iterrows():\n",
    "#     #500\n",
    "#     m1 = row['model']\n",
    "#     m2 = row['mileage'] // 1000 * 1000\n",
    "#     a = row['age'] // 48 * 48\n",
    "#     t = (m1,m2,a)\n",
    "#     mam_dep[t].append(row['depreciation'])\n",
    "\n",
    "# for idx, row in df_test.iterrows():\n",
    "#     #500\n",
    "#     dep = row['depreciation']\n",
    "#     if type(dep) == float and pd.isna(dep):\n",
    "#         m1 = row['model']\n",
    "#         m2 = row['mileage']// 1000 * 1000\n",
    "#         a = row['age'] // 48 * 48\n",
    "#         t = (m1,m2,a)\n",
    "#         df_test.at[idx, 'depreciation'] = np.average(mam_dep[t])\n",
    "# print(df_test['depreciation'].isnull().sum())"
   ]
  },
  {
   "cell_type": "code",
   "execution_count": null,
   "metadata": {},
   "outputs": [],
   "source": [
    "# # depreciation: model, age, mileage based on df\n",
    "# mam_dep = defaultdict(list)\n",
    "# for idx, row in df.iterrows():\n",
    "#     #500\n",
    "#     m1 = row['make']\n",
    "#     m2 = row['mileage'] // 500 * 500\n",
    "#     a = row['age'] // 18 * 18\n",
    "#     p = row['power'] // 20 *20\n",
    "#     t = (m1,m2,a, p)\n",
    "#     mam_dep[t].append(row['depreciation'])\n",
    "\n",
    "# for idx, row in df_test.iterrows():\n",
    "#     #500\n",
    "#     dep = row['depreciation']\n",
    "#     if type(dep) == float and pd.isna(dep):\n",
    "#         m1 = row['make']\n",
    "#         m2 = row['mileage'] // 500 * 500\n",
    "#         a = row['age'] // 18 * 18\n",
    "#         p = row['power'] // 20 *20\n",
    "#         t = (m1,m2,a, p)\n",
    "#         df_test.at[idx, 'depreciation'] = np.average(mam_dep[t])\n",
    "# print(df_test['depreciation'].isnull().sum())"
   ]
  },
  {
   "cell_type": "code",
   "execution_count": null,
   "metadata": {},
   "outputs": [],
   "source": [
    "# # depreciation: model, age, mileage based on df\n",
    "# mam_dep = defaultdict(list)\n",
    "# for idx, row in df.iterrows():\n",
    "#     #500\n",
    "#     m1 = row['make']\n",
    "#     m2 = row['mileage'] // 500 * 500\n",
    "#     a = row['age'] // 18 * 18\n",
    "#     p = row['power'] // 50 * 50\n",
    "#     t = (m1,m2,a, p)\n",
    "#     mam_dep[t].append(row['depreciation'])\n",
    "\n",
    "# for idx, row in df_test.iterrows():\n",
    "#     #500\n",
    "#     dep = row['depreciation']\n",
    "#     if type(dep) == float and pd.isna(dep):\n",
    "#         m1 = row['make']\n",
    "#         m2 = row['mileage'] // 500 * 500\n",
    "#         a = row['age'] // 18 * 18\n",
    "#         p = row['power'] // 50 * 50\n",
    "#         t = (m1,m2,a, p)\n",
    "#         df_test.at[idx, 'depreciation'] = np.average(mam_dep[t])\n",
    "# print(df_test['depreciation'].isnull().sum())"
   ]
  },
  {
   "cell_type": "code",
   "execution_count": null,
   "metadata": {},
   "outputs": [],
   "source": [
    "# # depreciation: model, age, mileage based on df\n",
    "# mam_dep = defaultdict(list)\n",
    "# for idx, row in df.iterrows():\n",
    "#     #500\n",
    "#     m1 = row['model']\n",
    "#     a = row['age'] // 24 * 24\n",
    "#     t = (m1,a)\n",
    "#     mam_dep[t].append(row['depreciation'])\n",
    "\n",
    "# for idx, row in df_test.iterrows():\n",
    "#     #500\n",
    "#     dep = row['depreciation']\n",
    "#     if type(dep) == float and pd.isna(dep):\n",
    "#         m1 = row['model']\n",
    "#         a = row['age'] // 24 * 24\n",
    "#         t = (m1,a)\n",
    "#         df_test.at[idx, 'depreciation'] = np.average(mam_dep[t])\n",
    "# print(df_test['depreciation'].isnull().sum())"
   ]
  },
  {
   "cell_type": "code",
   "execution_count": null,
   "metadata": {},
   "outputs": [],
   "source": [
    "# # depreciation: model, age, mileage based on df\n",
    "# mam_dep = defaultdict(list)\n",
    "# for idx, row in df.iterrows():\n",
    "#     #500\n",
    "#     m1 = row['model']\n",
    "#     a = row['age'] // 48 * 48\n",
    "#     t = (m1,a)\n",
    "#     mam_dep[t].append(row['depreciation'])\n",
    "\n",
    "# for idx, row in df_test.iterrows():\n",
    "#     #500\n",
    "#     dep = row['depreciation']\n",
    "#     if type(dep) == float and pd.isna(dep):\n",
    "#         m1 = row['model']\n",
    "#         a = row['age'] // 48 * 48\n",
    "#         t = (m1,a)\n",
    "#         df_test.at[idx, 'depreciation'] = np.average(mam_dep[t])\n",
    "# print(df_test['depreciation'].isnull().sum())"
   ]
  },
  {
   "cell_type": "code",
   "execution_count": null,
   "metadata": {},
   "outputs": [],
   "source": [
    "# # depreciation: model, age, mileage based on df\n",
    "# mam_dep = defaultdict(list)\n",
    "# for idx, row in df.iterrows():\n",
    "#     #500\n",
    "#     m1 = row['make']\n",
    "#     a = row['age'] // 48 * 48\n",
    "#     p = row['power'] // 50 * 50\n",
    "#     t = (m1,a, p)\n",
    "#     mam_dep[t].append(row['depreciation'])\n",
    "\n",
    "# for idx, row in df_test.iterrows():\n",
    "#     #500\n",
    "#     dep = row['depreciation']\n",
    "#     if type(dep) == float and pd.isna(dep):\n",
    "#         m1 = row['make']\n",
    "#         a = row['age'] // 48 * 48\n",
    "#         p = row['power'] // 50 * 50\n",
    "#         t = (m1,a, p)\n",
    "#         df_test.at[idx, 'depreciation'] = np.average(mam_dep[t])\n",
    "# print(df_test['depreciation'].isnull().sum())"
   ]
  },
  {
   "cell_type": "code",
   "execution_count": 248,
   "metadata": {},
   "outputs": [
    {
     "name": "stdout",
     "output_type": "stream",
     "text": [
      "<class 'pandas.core.frame.DataFrame'>\n",
      "Int64Index: 4863 entries, 0 to 4993\n",
      "Data columns (total 17 columns):\n",
      " #   Column           Non-Null Count  Dtype  \n",
      "---  ------           --------------  -----  \n",
      " 0   Unnamed: 0       4863 non-null   int64  \n",
      " 1   Unnamed: 0.1     4863 non-null   int64  \n",
      " 2   depreciation     4863 non-null   float64\n",
      " 3   omv              4863 non-null   float64\n",
      " 4   arf              4863 non-null   float64\n",
      " 5   age              4863 non-null   int64  \n",
      " 6   remaining_coe    4863 non-null   int64  \n",
      " 7   dereg_value      4860 non-null   float64\n",
      " 8   truck            4863 non-null   int64  \n",
      " 9   suv              4863 non-null   int64  \n",
      " 10  sports car       4863 non-null   int64  \n",
      " 11  luxury sedan     4863 non-null   int64  \n",
      " 12  bus/mini bus     4863 non-null   int64  \n",
      " 13  mid-sized sedan  4863 non-null   int64  \n",
      " 14  stationwagon     4863 non-null   int64  \n",
      " 15  hatchback        4863 non-null   int64  \n",
      " 16  mpv              4863 non-null   int64  \n",
      "dtypes: float64(4), int64(13)\n",
      "memory usage: 683.9 KB\n"
     ]
    }
   ],
   "source": [
    "\n",
    "# for idx, row in df_test.iterrows():\n",
    "#     if type(row[\"dereg_value\"]) == float and pd.isna(row[\"dereg_value\"]):\n",
    "#         max_age = 10 * 12\n",
    "#         age = row[\"age\"]\n",
    "#         time_left = max_age - age\n",
    "#         coe = row[\"coe\"]\n",
    "#         omv = row[\"omv\"]\n",
    "#         arf = row[\"arf\"]\n",
    "#         parf_ratio = 0\n",
    "#         if age <  5 * 12:\n",
    "#             parf_ratio = 0.75\n",
    "#         elif age >= 5 * 12 and age < 10 * 12:\n",
    "#             parf_ratio = 0.75 - math.ceil((age - 5 * 12) / 12) * 0.05 \n",
    "#         remaining_coe = row['remaining_coe']\n",
    "#         depreciation = row['depreciation']\n",
    "#         coe_rebate = coe * remaining_coe / 120\n",
    "#         dereg_value = parf_ratio * arf + coe_rebate\n",
    "#         if dereg_value <= 0:\n",
    "#             dereg_value = 0\n",
    "#         df_test.at[idx, \"dereg_value\"] = dereg_value\n",
    "# # df_test = df_test.dropna()\n",
    "# df_test.info()"
   ]
  },
  {
   "cell_type": "code",
   "execution_count": 216,
   "metadata": {},
   "outputs": [
    {
     "name": "stdout",
     "output_type": "stream",
     "text": [
      "<class 'pandas.core.frame.DataFrame'>\n",
      "Int64Index: 16319 entries, 0 to 16750\n",
      "Data columns (total 15 columns):\n",
      " #   Column           Non-Null Count  Dtype  \n",
      "---  ------           --------------  -----  \n",
      " 0   depreciation     16319 non-null  float64\n",
      " 1   omv              16319 non-null  float64\n",
      " 2   arf              16319 non-null  float64\n",
      " 3   age              16319 non-null  int64  \n",
      " 4   remaining_coe    16319 non-null  int64  \n",
      " 5   dereg_value      16319 non-null  float64\n",
      " 6   truck            16319 non-null  uint8  \n",
      " 7   suv              16319 non-null  uint8  \n",
      " 8   sports car       16319 non-null  uint8  \n",
      " 9   luxury sedan     16319 non-null  uint8  \n",
      " 10  bus/mini bus     16319 non-null  uint8  \n",
      " 11  mid-sized sedan  16319 non-null  uint8  \n",
      " 12  stationwagon     16319 non-null  uint8  \n",
      " 13  hatchback        16319 non-null  uint8  \n",
      " 14  mpv              16319 non-null  uint8  \n",
      "dtypes: float64(4), int64(2), uint8(9)\n",
      "memory usage: 1.5 MB\n"
     ]
    }
   ],
   "source": [
    "cars_dummies = pd.get_dummies(df_train['type_of_vehicle'])\n",
    "train = pd.concat([df_train, cars_dummies], axis=1)\n",
    "useful = ['depreciation', 'omv', 'arf', 'age', 'remaining_coe', 'dereg_value', 'truck', 'suv', 'sports car', 'luxury sedan',\\\n",
    "         'bus/mini bus', 'mid-sized sedan', 'stationwagon', 'hatchback', 'mpv']\n",
    "train = train[useful]\n",
    "train.info()\n",
    "\n",
    "old_train = pd.read_csv('train.csv')['price']\n",
    "vi = train.index\n",
    "prices = old_train[vi]"
   ]
  },
  {
   "cell_type": "code",
   "execution_count": 41,
   "metadata": {},
   "outputs": [
    {
     "name": "stdout",
     "output_type": "stream",
     "text": [
      "373840272.0245684\n"
     ]
    }
   ],
   "source": [
    "from sklearn.ensemble import RandomForestRegressor\n",
    "from sklearn.tree import DecisionTreeClassifier\n",
    "from sklearn.metrics import mean_squared_error\n",
    "import pandas as pd\n",
    "import numpy as np\n",
    "from sklearn.model_selection import train_test_split\n",
    "\n",
    "X_train, X_test, y_train, y_test = train_test_split(train, prices, \n",
    "                                                    train_size=0.7,\n",
    "                                                    test_size = 0.3, random_state=100)\n",
    "model = RandomForestRegressor(n_estimators = 500, max_features = 7, random_state=0)\n",
    "# model = RandomForestRegressor(n_estimators = 300)\n",
    "\n",
    "model.fit(X_train, y_train)\n",
    "\n",
    "y_pred = model.predict(X_test)\n",
    "mse=mean_squared_error(y_test, y_pred)\n",
    "print(mse)"
   ]
  },
  {
   "cell_type": "code",
   "execution_count": 42,
   "metadata": {},
   "outputs": [
    {
     "data": {
      "text/plain": [
       "RandomForestRegressor(max_features=7, n_estimators=600, random_state=0)"
      ]
     },
     "execution_count": 42,
     "metadata": {},
     "output_type": "execute_result"
    }
   ],
   "source": [
    "model = RandomForestRegressor(n_estimators = 600, max_features = 7, random_state=0)\n",
    "# # model = RandomForestRegressor(n_estimators = 300)\n",
    "model.fit(train, prices)\n",
    "# model.fit(X, y)"
   ]
  },
  {
   "cell_type": "code",
   "execution_count": 43,
   "metadata": {},
   "outputs": [
    {
     "name": "stdout",
     "output_type": "stream",
     "text": [
      "<class 'pandas.core.frame.DataFrame'>\n",
      "Int64Index: 4868 entries, 0 to 4999\n",
      "Data columns (total 15 columns):\n",
      " #   Column           Non-Null Count  Dtype  \n",
      "---  ------           --------------  -----  \n",
      " 0   depreciation     4868 non-null   float64\n",
      " 1   omv              4868 non-null   float64\n",
      " 2   arf              4868 non-null   float64\n",
      " 3   age              4868 non-null   int64  \n",
      " 4   remaining_coe    4868 non-null   int64  \n",
      " 5   dereg_value      4868 non-null   float64\n",
      " 6   truck            4868 non-null   int64  \n",
      " 7   suv              4868 non-null   int64  \n",
      " 8   sports car       4868 non-null   int64  \n",
      " 9   luxury sedan     4868 non-null   int64  \n",
      " 10  bus/mini bus     4868 non-null   int64  \n",
      " 11  mid-sized sedan  4868 non-null   int64  \n",
      " 12  stationwagon     4868 non-null   int64  \n",
      " 13  hatchback        4868 non-null   int64  \n",
      " 14  mpv              4868 non-null   int64  \n",
      "dtypes: float64(4), int64(11)\n",
      "memory usage: 608.5 KB\n"
     ]
    }
   ],
   "source": [
    "\n",
    "df_test.info()"
   ]
  },
  {
   "cell_type": "code",
   "execution_count": 44,
   "metadata": {},
   "outputs": [
    {
     "name": "stdout",
     "output_type": "stream",
     "text": [
      "<class 'pandas.core.frame.DataFrame'>\n",
      "RangeIndex: 4868 entries, 0 to 4867\n",
      "Data columns (total 1 columns):\n",
      " #   Column     Non-Null Count  Dtype  \n",
      "---  ------     --------------  -----  \n",
      " 0   Predicted  4868 non-null   float64\n",
      "dtypes: float64(1)\n",
      "memory usage: 38.2 KB\n"
     ]
    }
   ],
   "source": [
    "y_pred = model.predict(df_test)\n",
    "y_pred = pd.DataFrame(y_pred)\n",
    "y_pred.to_csv('predictions_miss2.csv')\n",
    "y_pred = y_pred.rename(columns={0: 'Predicted'})\n",
    "# y_pred = y_pred.dropna()\n",
    "y_pred.info()"
   ]
  },
  {
   "cell_type": "code",
   "execution_count": 45,
   "metadata": {},
   "outputs": [],
   "source": [
    "new_preds = y_pred['Predicted'].tolist()"
   ]
  },
  {
   "cell_type": "code",
   "execution_count": 46,
   "metadata": {},
   "outputs": [],
   "source": [
    "cur_best = pd.read_csv('highest.csv')\n",
    "cur_pred = cur_best['Predicted'].tolist()"
   ]
  },
  {
   "cell_type": "code",
   "execution_count": 50,
   "metadata": {},
   "outputs": [
    {
     "name": "stdout",
     "output_type": "stream",
     "text": [
      "4868\n",
      "141\n",
      "10 132\n"
     ]
    }
   ],
   "source": [
    "print(len(new_preds))\n",
    "dropped = set(L)\n",
    "print(len(dropped))\n",
    "\n",
    "l1 = len(omvL)\n",
    "l2 = len(depL)\n",
    "print(l1, l2)"
   ]
  },
  {
   "cell_type": "code",
   "execution_count": 62,
   "metadata": {},
   "outputs": [],
   "source": [
    "combined_preds = []\n",
    "j = 0\n",
    "for i in range(5000):\n",
    "    if i in depL:\n",
    "        old = cur_pred[i]\n",
    "        combined_preds.append(old)\n",
    "    else:\n",
    "        new = new_preds[j]\n",
    "        combined_preds.append(new)\n",
    "        j += 1\n",
    "\n",
    "# print(combined_preds[-3:])\n",
    "# print(new_preds[-3:])\n",
    "for o in omvL:\n",
    "    combined_preds[o] = cur_pred[o]"
   ]
  },
  {
   "cell_type": "code",
   "execution_count": 64,
   "metadata": {},
   "outputs": [
    {
     "name": "stdout",
     "output_type": "stream",
     "text": [
      "<class 'pandas.core.frame.DataFrame'>\n",
      "RangeIndex: 5000 entries, 0 to 4999\n",
      "Data columns (total 1 columns):\n",
      " #   Column     Non-Null Count  Dtype  \n",
      "---  ------     --------------  -----  \n",
      " 0   Predicted  5000 non-null   float64\n",
      "dtypes: float64(1)\n",
      "memory usage: 39.2 KB\n"
     ]
    }
   ],
   "source": [
    "sr = pd.DataFrame(combined_preds)\n",
    "sr = sr.rename(columns={0: 'Predicted'})\n",
    "sr.info()\n",
    "sr.to_csv('predictions.csv')"
   ]
  },
  {
   "cell_type": "code",
   "execution_count": null,
   "metadata": {},
   "outputs": [],
   "source": []
  }
 ],
 "metadata": {
  "kernelspec": {
   "display_name": "Python 3",
   "language": "python",
   "name": "python3"
  },
  "language_info": {
   "codemirror_mode": {
    "name": "ipython",
    "version": 3
   },
   "file_extension": ".py",
   "mimetype": "text/x-python",
   "name": "python",
   "nbconvert_exporter": "python",
   "pygments_lexer": "ipython3",
   "version": "3.7.9"
  }
 },
 "nbformat": 4,
 "nbformat_minor": 2
}
