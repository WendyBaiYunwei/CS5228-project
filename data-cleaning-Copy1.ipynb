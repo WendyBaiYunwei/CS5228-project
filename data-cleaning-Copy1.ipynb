{
 "cells": [
  {
   "cell_type": "code",
   "execution_count": 1,
   "metadata": {},
   "outputs": [],
   "source": [
    "# Some more magic so that the notebook will reload external python modules;\n",
    "# see http://stackoverflow.com/questions/1907993/autoreload-of-modules-in-ipython\n",
    "# This will automatically reload src/dtree.py every time you make changes and save the file\n",
    "%load_ext autoreload\n",
    "%autoreload 2"
   ]
  },
  {
   "cell_type": "code",
   "execution_count": 2,
   "metadata": {},
   "outputs": [],
   "source": [
    "%matplotlib inline"
   ]
  },
  {
   "cell_type": "code",
   "execution_count": 3,
   "metadata": {},
   "outputs": [],
   "source": [
    "import numpy as np\n",
    "import pandas as pd\n",
    "from matplotlib import pyplot as plt"
   ]
  },
  {
   "cell_type": "code",
   "execution_count": 4,
   "metadata": {},
   "outputs": [],
   "source": [
    "# combine\n",
    "# fill in make\n",
    "# fill in mileage, age\n",
    "# fill in power and engine cap\n",
    "# fill in policy-related values except depreciation rate\n",
    "# calculate price based on depreciation rate\n",
    "# save the values with price and evaluate the performance"
   ]
  },
  {
   "cell_type": "code",
   "execution_count": 5,
   "metadata": {},
   "outputs": [],
   "source": [
    "df1 = pd.read_csv('./train.csv')\n",
    "df2 = pd.read_csv('./test.csv')\n",
    "l = df2.columns.tolist()\n",
    "df1 = df1[l]\n",
    "df = pd.concat([df1, df2])\n",
    "trainLen = len(df1)"
   ]
  },
  {
   "cell_type": "code",
   "execution_count": 6,
   "metadata": {},
   "outputs": [
    {
     "name": "stdout",
     "output_type": "stream",
     "text": [
      "21784\n"
     ]
    }
   ],
   "source": [
    "print(len(df1) + len(df2))"
   ]
  },
  {
   "cell_type": "code",
   "execution_count": 7,
   "metadata": {},
   "outputs": [
    {
     "name": "stdout",
     "output_type": "stream",
     "text": [
      "<class 'pandas.core.frame.DataFrame'>\n",
      "Int64Index: 21784 entries, 0 to 4999\n",
      "Data columns (total 29 columns):\n",
      " #   Column             Non-Null Count  Dtype  \n",
      "---  ------             --------------  -----  \n",
      " 0   listing_id         21784 non-null  int64  \n",
      " 1   title              21784 non-null  object \n",
      " 2   make               18997 non-null  object \n",
      " 3   model              21784 non-null  object \n",
      " 4   description        21328 non-null  object \n",
      " 5   manufactured       21529 non-null  float64\n",
      " 6   original_reg_date  418 non-null    object \n",
      " 7   reg_date           21522 non-null  object \n",
      " 8   type_of_vehicle    21784 non-null  object \n",
      " 9   category           21784 non-null  object \n",
      " 10  transmission       21784 non-null  object \n",
      " 11  curb_weight        21049 non-null  float64\n",
      " 12  power              18772 non-null  float64\n",
      " 13  fuel_type          4541 non-null   object \n",
      " 14  engine_cap         21716 non-null  float64\n",
      " 15  no_of_owners       21552 non-null  float64\n",
      " 16  depreciation       21219 non-null  float64\n",
      " 17  coe                20648 non-null  float64\n",
      " 18  road_tax           18996 non-null  float64\n",
      " 19  dereg_value        20260 non-null  float64\n",
      " 20  mileage            16916 non-null  float64\n",
      " 21  omv                21731 non-null  float64\n",
      " 22  arf                21413 non-null  float64\n",
      " 23  opc_scheme         265 non-null    object \n",
      " 24  lifespan           2206 non-null   object \n",
      " 25  eco_category       21784 non-null  object \n",
      " 26  features           21198 non-null  object \n",
      " 27  accessories        18130 non-null  object \n",
      " 28  indicative_price   0 non-null      float64\n",
      "dtypes: float64(13), int64(1), object(15)\n",
      "memory usage: 5.0+ MB\n"
     ]
    }
   ],
   "source": [
    "df.info()"
   ]
  },
  {
   "cell_type": "markdown",
   "metadata": {},
   "source": [
    "df_valid = df.dropna(subset = ['fuel_type'])\n",
    "\n",
    "missingfuel_type = df.fuel_type.isnull()\n",
    "dfm = df[missingfuel_type]\n",
    "missingModelAge = []\n",
    "for idx, row in dfm.iterrows():\n",
    "    model = row['model']\n",
    "    missingModelAge.append(model)\n",
    "\n",
    "mapper = {}\n",
    "for idx, row in df_valid.iterrows():\n",
    "    model = row['model']\n",
    "    fuel_type = row['fuel_type']\n",
    "    mapper[model] = fuel_type\n",
    "\n",
    "for idx, row in dfm.iterrows():\n",
    "    model = row['model']\n",
    "    if model in mapper:\n",
    "        df.at[idx, 'fuel_type'] = mapper[model]\n",
    "\n",
    "print(df['fuel_type'].isnull().sum())"
   ]
  },
  {
   "cell_type": "code",
   "execution_count": 8,
   "metadata": {},
   "outputs": [
    {
     "name": "stdout",
     "output_type": "stream",
     "text": [
      "0\n"
     ]
    }
   ],
   "source": [
    "#fill in make\n",
    "dfvalid = df.dropna(subset = ['make'])\n",
    "\n",
    "missingMake = df.make.isnull()\n",
    "dfm = df[missingMake]\n",
    "missingModelAge = []\n",
    "for idx, row in dfm.iterrows():\n",
    "    model = row['model']\n",
    "    missingModelAge.append(model)\n",
    "\n",
    "mapper = {}\n",
    "for idx, row in dfvalid.iterrows():\n",
    "    model = row['model']\n",
    "    make = row['make']\n",
    "    mapper[model] = make\n",
    "\n",
    "for idx, row in dfm.iterrows():\n",
    "    model = row['model']\n",
    "    df.at[idx, 'make'] = mapper[model]\n",
    "\n",
    "print(df['make'].isnull().sum())"
   ]
  },
  {
   "cell_type": "code",
   "execution_count": 9,
   "metadata": {},
   "outputs": [
    {
     "name": "stdout",
     "output_type": "stream",
     "text": [
      "0\n",
      "10000\n",
      "0\n",
      "0\n"
     ]
    }
   ],
   "source": [
    "# fill in mileage\n",
    "df_valid = df.dropna(subset = ['mileage', 'no_of_owners'])\n",
    "no_of_ownerss = df_valid['no_of_owners'].to_numpy()\n",
    "caps = df_valid['mileage'].to_numpy()\n",
    "\n",
    "k = 100\n",
    "for idx, row in df.iterrows():\n",
    "    if idx % 10000 == 0:\n",
    "        print(idx)\n",
    "\n",
    "    p, e = row['no_of_owners'], row['mileage']\n",
    "    \n",
    "    if type(row[\"mileage\"]) == float and pd.isna(row[\"mileage\"]):\n",
    "\n",
    "        diff = np.abs(no_of_ownerss - p)\n",
    "\n",
    "        indices = np.argsort(diff)[:k]\n",
    "\n",
    "        k_caps = caps[indices]\n",
    "\n",
    "        avg = np.average(k_caps)\n",
    "\n",
    "        # Set the weight value of the current row to the median\n",
    "        df.at[idx, 'mileage'] = avg\n",
    "print(df['mileage'].isnull().sum())"
   ]
  },
  {
   "cell_type": "code",
   "execution_count": 10,
   "metadata": {},
   "outputs": [
    {
     "name": "stderr",
     "output_type": "stream",
     "text": [
      "G:\\softwares\\envs\\4277lab\\lib\\site-packages\\ipykernel_launcher.py:4: SettingWithCopyWarning: \n",
      "A value is trying to be set on a copy of a slice from a DataFrame\n",
      "\n",
      "See the caveats in the documentation: https://pandas.pydata.org/pandas-docs/stable/user_guide/indexing.html#returning-a-view-versus-a-copy\n",
      "  after removing the cwd from sys.path.\n",
      "G:\\softwares\\envs\\4277lab\\lib\\site-packages\\pandas\\core\\indexing.py:1637: SettingWithCopyWarning: \n",
      "A value is trying to be set on a copy of a slice from a DataFrame\n",
      "\n",
      "See the caveats in the documentation: https://pandas.pydata.org/pandas-docs/stable/user_guide/indexing.html#returning-a-view-versus-a-copy\n",
      "  self._setitem_single_block(indexer, value, name)\n",
      "G:\\softwares\\envs\\4277lab\\lib\\site-packages\\ipykernel_launcher.py:6: SettingWithCopyWarning: \n",
      "A value is trying to be set on a copy of a slice from a DataFrame\n",
      "\n",
      "See the caveats in the documentation: https://pandas.pydata.org/pandas-docs/stable/user_guide/indexing.html#returning-a-view-versus-a-copy\n",
      "  \n",
      "G:\\softwares\\envs\\4277lab\\lib\\site-packages\\ipykernel_launcher.py:8: SettingWithCopyWarning: \n",
      "A value is trying to be set on a copy of a slice from a DataFrame\n",
      "\n",
      "See the caveats in the documentation: https://pandas.pydata.org/pandas-docs/stable/user_guide/indexing.html#returning-a-view-versus-a-copy\n",
      "  \n",
      "G:\\softwares\\envs\\4277lab\\lib\\site-packages\\ipykernel_launcher.py:32: SettingWithCopyWarning: \n",
      "A value is trying to be set on a copy of a slice from a DataFrame\n",
      "\n",
      "See the caveats in the documentation: https://pandas.pydata.org/pandas-docs/stable/user_guide/indexing.html#returning-a-view-versus-a-copy\n",
      "G:\\softwares\\envs\\4277lab\\lib\\site-packages\\ipykernel_launcher.py:34: SettingWithCopyWarning: \n",
      "A value is trying to be set on a copy of a slice from a DataFrame\n",
      "\n",
      "See the caveats in the documentation: https://pandas.pydata.org/pandas-docs/stable/user_guide/indexing.html#returning-a-view-versus-a-copy\n",
      "G:\\softwares\\envs\\4277lab\\lib\\site-packages\\ipykernel_launcher.py:36: SettingWithCopyWarning: \n",
      "A value is trying to be set on a copy of a slice from a DataFrame\n",
      "\n",
      "See the caveats in the documentation: https://pandas.pydata.org/pandas-docs/stable/user_guide/indexing.html#returning-a-view-versus-a-copy\n",
      "G:\\softwares\\envs\\4277lab\\lib\\site-packages\\ipykernel_launcher.py:47: SettingWithCopyWarning: \n",
      "A value is trying to be set on a copy of a slice from a DataFrame\n",
      "\n",
      "See the caveats in the documentation: https://pandas.pydata.org/pandas-docs/stable/user_guide/indexing.html#returning-a-view-versus-a-copy\n"
     ]
    }
   ],
   "source": [
    "# get age and remaining coe\n",
    "d1 = df['manufactured'].isnull()\n",
    "df['age'] = df['manufactured'].copy()\n",
    "df['age'][d1] = df['manufactured'][d1]\n",
    "d1 = df['age'].isnull()\n",
    "df['age'][d1] = df['reg_date'][d1]\n",
    "d1 = df['age'].isnull()\n",
    "df['age'][d1] = df['original_reg_date'][d1]\n",
    "def month(x):\n",
    "    if pd.isna(x):\n",
    "        return np.nan\n",
    "    mapper = {}\n",
    "    all_m = ['jan', 'feb', 'mar', 'apr', 'may', 'jun', 'jul', 'aug', 'sep', 'oct', 'nov', 'dec']\n",
    "    for i in range(12):\n",
    "        mapper[all_m[i]] = i + 1\n",
    "    if len(str(x)) < 11:\n",
    "        return (2021 - int(x)) * 12\n",
    "    s = x.split('-')\n",
    "    year = 2021 - int(s[-1])\n",
    "    month = mapper[s[-2]]\n",
    "    return year * 12 + month\n",
    "\n",
    "def filterNeg(x):\n",
    "    if x < 0:\n",
    "        return 0\n",
    "    return x\n",
    "    \n",
    "df['age'] = df['age'].map(month)\n",
    "\n",
    "d1 = df['reg_date'].isnull()\n",
    "df['remaining_coe'] = df['reg_date'].copy()\n",
    "df['remaining_coe'][d1] = df['reg_date'][d1]\n",
    "d1 = df['remaining_coe'].isnull()\n",
    "df['remaining_coe'][d1] = df['original_reg_date'][d1]\n",
    "d1 = df['remaining_coe'].isnull()\n",
    "df['remaining_coe'][d1] = df['manufactured'][d1]\n",
    "df['remaining_coe'] = 120 - df['remaining_coe'].map(month)\n",
    "df['remaining_coe'] = df['remaining_coe'].map(filterNeg)\n",
    "\n",
    "hasLifeSpan = ~df['lifespan'].isnull()\n",
    "def get_remaining(x):\n",
    "    diffFrom2021 = month(x)\n",
    "    res = -diffFrom2021\n",
    "    if res < 0:\n",
    "        res = 0\n",
    "    return res ##check 2021\n",
    "df['remaining_coe'][hasLifeSpan] = df['lifespan'][hasLifeSpan].map(get_remaining)\n"
   ]
  },
  {
   "cell_type": "code",
   "execution_count": 11,
   "metadata": {},
   "outputs": [
    {
     "name": "stderr",
     "output_type": "stream",
     "text": [
      "G:\\softwares\\envs\\4277lab\\lib\\site-packages\\numpy\\lib\\function_base.py:380: RuntimeWarning: Mean of empty slice.\n",
      "  avg = a.mean(axis)\n",
      "G:\\softwares\\envs\\4277lab\\lib\\site-packages\\numpy\\core\\_methods.py:170: RuntimeWarning: invalid value encountered in double_scalars\n",
      "  ret = ret.dtype.type(ret / rcount)\n",
      "G:\\softwares\\envs\\4277lab\\lib\\site-packages\\numpy\\lib\\function_base.py:380: RuntimeWarning: Mean of empty slice.\n",
      "  avg = a.mean(axis)\n",
      "G:\\softwares\\envs\\4277lab\\lib\\site-packages\\numpy\\core\\_methods.py:170: RuntimeWarning: invalid value encountered in double_scalars\n",
      "  ret = ret.dtype.type(ret / rcount)\n",
      "G:\\softwares\\envs\\4277lab\\lib\\site-packages\\numpy\\lib\\function_base.py:380: RuntimeWarning: Mean of empty slice.\n",
      "  avg = a.mean(axis)\n",
      "G:\\softwares\\envs\\4277lab\\lib\\site-packages\\numpy\\core\\_methods.py:170: RuntimeWarning: invalid value encountered in double_scalars\n",
      "  ret = ret.dtype.type(ret / rcount)\n",
      "G:\\softwares\\envs\\4277lab\\lib\\site-packages\\numpy\\lib\\function_base.py:380: RuntimeWarning: Mean of empty slice.\n",
      "  avg = a.mean(axis)\n",
      "G:\\softwares\\envs\\4277lab\\lib\\site-packages\\numpy\\core\\_methods.py:170: RuntimeWarning: invalid value encountered in double_scalars\n",
      "  ret = ret.dtype.type(ret / rcount)\n",
      "G:\\softwares\\envs\\4277lab\\lib\\site-packages\\numpy\\lib\\function_base.py:380: RuntimeWarning: Mean of empty slice.\n",
      "  avg = a.mean(axis)\n",
      "G:\\softwares\\envs\\4277lab\\lib\\site-packages\\numpy\\core\\_methods.py:170: RuntimeWarning: invalid value encountered in double_scalars\n",
      "  ret = ret.dtype.type(ret / rcount)\n",
      "G:\\softwares\\envs\\4277lab\\lib\\site-packages\\numpy\\lib\\function_base.py:380: RuntimeWarning: Mean of empty slice.\n",
      "  avg = a.mean(axis)\n",
      "G:\\softwares\\envs\\4277lab\\lib\\site-packages\\numpy\\core\\_methods.py:170: RuntimeWarning: invalid value encountered in double_scalars\n",
      "  ret = ret.dtype.type(ret / rcount)\n",
      "G:\\softwares\\envs\\4277lab\\lib\\site-packages\\numpy\\lib\\function_base.py:380: RuntimeWarning: Mean of empty slice.\n",
      "  avg = a.mean(axis)\n",
      "G:\\softwares\\envs\\4277lab\\lib\\site-packages\\numpy\\core\\_methods.py:170: RuntimeWarning: invalid value encountered in double_scalars\n",
      "  ret = ret.dtype.type(ret / rcount)\n",
      "G:\\softwares\\envs\\4277lab\\lib\\site-packages\\numpy\\lib\\function_base.py:380: RuntimeWarning: Mean of empty slice.\n",
      "  avg = a.mean(axis)\n",
      "G:\\softwares\\envs\\4277lab\\lib\\site-packages\\numpy\\core\\_methods.py:170: RuntimeWarning: invalid value encountered in double_scalars\n",
      "  ret = ret.dtype.type(ret / rcount)\n",
      "G:\\softwares\\envs\\4277lab\\lib\\site-packages\\numpy\\lib\\function_base.py:380: RuntimeWarning: Mean of empty slice.\n",
      "  avg = a.mean(axis)\n",
      "G:\\softwares\\envs\\4277lab\\lib\\site-packages\\numpy\\core\\_methods.py:170: RuntimeWarning: invalid value encountered in double_scalars\n",
      "  ret = ret.dtype.type(ret / rcount)\n",
      "G:\\softwares\\envs\\4277lab\\lib\\site-packages\\numpy\\lib\\function_base.py:380: RuntimeWarning: Mean of empty slice.\n",
      "  avg = a.mean(axis)\n",
      "G:\\softwares\\envs\\4277lab\\lib\\site-packages\\numpy\\core\\_methods.py:170: RuntimeWarning: invalid value encountered in double_scalars\n",
      "  ret = ret.dtype.type(ret / rcount)\n",
      "G:\\softwares\\envs\\4277lab\\lib\\site-packages\\numpy\\lib\\function_base.py:380: RuntimeWarning: Mean of empty slice.\n",
      "  avg = a.mean(axis)\n",
      "G:\\softwares\\envs\\4277lab\\lib\\site-packages\\numpy\\core\\_methods.py:170: RuntimeWarning: invalid value encountered in double_scalars\n",
      "  ret = ret.dtype.type(ret / rcount)\n",
      "G:\\softwares\\envs\\4277lab\\lib\\site-packages\\numpy\\lib\\function_base.py:380: RuntimeWarning: Mean of empty slice.\n",
      "  avg = a.mean(axis)\n",
      "G:\\softwares\\envs\\4277lab\\lib\\site-packages\\numpy\\core\\_methods.py:170: RuntimeWarning: invalid value encountered in double_scalars\n",
      "  ret = ret.dtype.type(ret / rcount)\n",
      "G:\\softwares\\envs\\4277lab\\lib\\site-packages\\numpy\\lib\\function_base.py:380: RuntimeWarning: Mean of empty slice.\n",
      "  avg = a.mean(axis)\n",
      "G:\\softwares\\envs\\4277lab\\lib\\site-packages\\numpy\\core\\_methods.py:170: RuntimeWarning: invalid value encountered in double_scalars\n",
      "  ret = ret.dtype.type(ret / rcount)\n",
      "G:\\softwares\\envs\\4277lab\\lib\\site-packages\\numpy\\lib\\function_base.py:380: RuntimeWarning: Mean of empty slice.\n",
      "  avg = a.mean(axis)\n",
      "G:\\softwares\\envs\\4277lab\\lib\\site-packages\\numpy\\core\\_methods.py:170: RuntimeWarning: invalid value encountered in double_scalars\n",
      "  ret = ret.dtype.type(ret / rcount)\n",
      "G:\\softwares\\envs\\4277lab\\lib\\site-packages\\numpy\\lib\\function_base.py:380: RuntimeWarning: Mean of empty slice.\n",
      "  avg = a.mean(axis)\n",
      "G:\\softwares\\envs\\4277lab\\lib\\site-packages\\numpy\\core\\_methods.py:170: RuntimeWarning: invalid value encountered in double_scalars\n",
      "  ret = ret.dtype.type(ret / rcount)\n",
      "G:\\softwares\\envs\\4277lab\\lib\\site-packages\\numpy\\lib\\function_base.py:380: RuntimeWarning: Mean of empty slice.\n",
      "  avg = a.mean(axis)\n",
      "G:\\softwares\\envs\\4277lab\\lib\\site-packages\\numpy\\core\\_methods.py:170: RuntimeWarning: invalid value encountered in double_scalars\n",
      "  ret = ret.dtype.type(ret / rcount)\n",
      "G:\\softwares\\envs\\4277lab\\lib\\site-packages\\numpy\\lib\\function_base.py:380: RuntimeWarning: Mean of empty slice.\n",
      "  avg = a.mean(axis)\n",
      "G:\\softwares\\envs\\4277lab\\lib\\site-packages\\numpy\\core\\_methods.py:170: RuntimeWarning: invalid value encountered in double_scalars\n",
      "  ret = ret.dtype.type(ret / rcount)\n",
      "G:\\softwares\\envs\\4277lab\\lib\\site-packages\\numpy\\lib\\function_base.py:380: RuntimeWarning: Mean of empty slice.\n",
      "  avg = a.mean(axis)\n",
      "G:\\softwares\\envs\\4277lab\\lib\\site-packages\\numpy\\core\\_methods.py:170: RuntimeWarning: invalid value encountered in double_scalars\n",
      "  ret = ret.dtype.type(ret / rcount)\n",
      "G:\\softwares\\envs\\4277lab\\lib\\site-packages\\numpy\\lib\\function_base.py:380: RuntimeWarning: Mean of empty slice.\n",
      "  avg = a.mean(axis)\n",
      "G:\\softwares\\envs\\4277lab\\lib\\site-packages\\numpy\\core\\_methods.py:170: RuntimeWarning: invalid value encountered in double_scalars\n",
      "  ret = ret.dtype.type(ret / rcount)\n",
      "G:\\softwares\\envs\\4277lab\\lib\\site-packages\\numpy\\lib\\function_base.py:380: RuntimeWarning: Mean of empty slice.\n",
      "  avg = a.mean(axis)\n",
      "G:\\softwares\\envs\\4277lab\\lib\\site-packages\\numpy\\core\\_methods.py:170: RuntimeWarning: invalid value encountered in double_scalars\n",
      "  ret = ret.dtype.type(ret / rcount)\n",
      "G:\\softwares\\envs\\4277lab\\lib\\site-packages\\numpy\\lib\\function_base.py:380: RuntimeWarning: Mean of empty slice.\n",
      "  avg = a.mean(axis)\n",
      "G:\\softwares\\envs\\4277lab\\lib\\site-packages\\numpy\\core\\_methods.py:170: RuntimeWarning: invalid value encountered in double_scalars\n",
      "  ret = ret.dtype.type(ret / rcount)\n",
      "G:\\softwares\\envs\\4277lab\\lib\\site-packages\\numpy\\lib\\function_base.py:380: RuntimeWarning: Mean of empty slice.\n",
      "  avg = a.mean(axis)\n",
      "G:\\softwares\\envs\\4277lab\\lib\\site-packages\\numpy\\core\\_methods.py:170: RuntimeWarning: invalid value encountered in double_scalars\n",
      "  ret = ret.dtype.type(ret / rcount)\n",
      "G:\\softwares\\envs\\4277lab\\lib\\site-packages\\numpy\\lib\\function_base.py:380: RuntimeWarning: Mean of empty slice.\n",
      "  avg = a.mean(axis)\n",
      "G:\\softwares\\envs\\4277lab\\lib\\site-packages\\numpy\\core\\_methods.py:170: RuntimeWarning: invalid value encountered in double_scalars\n",
      "  ret = ret.dtype.type(ret / rcount)\n",
      "G:\\softwares\\envs\\4277lab\\lib\\site-packages\\numpy\\lib\\function_base.py:380: RuntimeWarning: Mean of empty slice.\n",
      "  avg = a.mean(axis)\n",
      "G:\\softwares\\envs\\4277lab\\lib\\site-packages\\numpy\\core\\_methods.py:170: RuntimeWarning: invalid value encountered in double_scalars\n",
      "  ret = ret.dtype.type(ret / rcount)\n",
      "G:\\softwares\\envs\\4277lab\\lib\\site-packages\\numpy\\lib\\function_base.py:380: RuntimeWarning: Mean of empty slice.\n",
      "  avg = a.mean(axis)\n",
      "G:\\softwares\\envs\\4277lab\\lib\\site-packages\\numpy\\core\\_methods.py:170: RuntimeWarning: invalid value encountered in double_scalars\n",
      "  ret = ret.dtype.type(ret / rcount)\n",
      "G:\\softwares\\envs\\4277lab\\lib\\site-packages\\numpy\\lib\\function_base.py:380: RuntimeWarning: Mean of empty slice.\n",
      "  avg = a.mean(axis)\n",
      "G:\\softwares\\envs\\4277lab\\lib\\site-packages\\numpy\\core\\_methods.py:170: RuntimeWarning: invalid value encountered in double_scalars\n",
      "  ret = ret.dtype.type(ret / rcount)\n",
      "G:\\softwares\\envs\\4277lab\\lib\\site-packages\\numpy\\lib\\function_base.py:380: RuntimeWarning: Mean of empty slice.\n",
      "  avg = a.mean(axis)\n",
      "G:\\softwares\\envs\\4277lab\\lib\\site-packages\\numpy\\core\\_methods.py:170: RuntimeWarning: invalid value encountered in double_scalars\n",
      "  ret = ret.dtype.type(ret / rcount)\n",
      "G:\\softwares\\envs\\4277lab\\lib\\site-packages\\numpy\\lib\\function_base.py:380: RuntimeWarning: Mean of empty slice.\n",
      "  avg = a.mean(axis)\n",
      "G:\\softwares\\envs\\4277lab\\lib\\site-packages\\numpy\\core\\_methods.py:170: RuntimeWarning: invalid value encountered in double_scalars\n",
      "  ret = ret.dtype.type(ret / rcount)\n",
      "G:\\softwares\\envs\\4277lab\\lib\\site-packages\\numpy\\lib\\function_base.py:380: RuntimeWarning: Mean of empty slice.\n",
      "  avg = a.mean(axis)\n",
      "G:\\softwares\\envs\\4277lab\\lib\\site-packages\\numpy\\core\\_methods.py:170: RuntimeWarning: invalid value encountered in double_scalars\n",
      "  ret = ret.dtype.type(ret / rcount)\n",
      "G:\\softwares\\envs\\4277lab\\lib\\site-packages\\numpy\\lib\\function_base.py:380: RuntimeWarning: Mean of empty slice.\n",
      "  avg = a.mean(axis)\n",
      "G:\\softwares\\envs\\4277lab\\lib\\site-packages\\numpy\\core\\_methods.py:170: RuntimeWarning: invalid value encountered in double_scalars\n",
      "  ret = ret.dtype.type(ret / rcount)\n",
      "G:\\softwares\\envs\\4277lab\\lib\\site-packages\\numpy\\lib\\function_base.py:380: RuntimeWarning: Mean of empty slice.\n",
      "  avg = a.mean(axis)\n",
      "G:\\softwares\\envs\\4277lab\\lib\\site-packages\\numpy\\core\\_methods.py:170: RuntimeWarning: invalid value encountered in double_scalars\n",
      "  ret = ret.dtype.type(ret / rcount)\n",
      "G:\\softwares\\envs\\4277lab\\lib\\site-packages\\numpy\\lib\\function_base.py:380: RuntimeWarning: Mean of empty slice.\n",
      "  avg = a.mean(axis)\n",
      "G:\\softwares\\envs\\4277lab\\lib\\site-packages\\numpy\\core\\_methods.py:170: RuntimeWarning: invalid value encountered in double_scalars\n",
      "  ret = ret.dtype.type(ret / rcount)\n",
      "G:\\softwares\\envs\\4277lab\\lib\\site-packages\\numpy\\lib\\function_base.py:380: RuntimeWarning: Mean of empty slice.\n",
      "  avg = a.mean(axis)\n",
      "G:\\softwares\\envs\\4277lab\\lib\\site-packages\\numpy\\core\\_methods.py:170: RuntimeWarning: invalid value encountered in double_scalars\n",
      "  ret = ret.dtype.type(ret / rcount)\n",
      "G:\\softwares\\envs\\4277lab\\lib\\site-packages\\numpy\\lib\\function_base.py:380: RuntimeWarning: Mean of empty slice.\n",
      "  avg = a.mean(axis)\n",
      "G:\\softwares\\envs\\4277lab\\lib\\site-packages\\numpy\\core\\_methods.py:170: RuntimeWarning: invalid value encountered in double_scalars\n",
      "  ret = ret.dtype.type(ret / rcount)\n",
      "G:\\softwares\\envs\\4277lab\\lib\\site-packages\\numpy\\lib\\function_base.py:380: RuntimeWarning: Mean of empty slice.\n",
      "  avg = a.mean(axis)\n",
      "G:\\softwares\\envs\\4277lab\\lib\\site-packages\\numpy\\core\\_methods.py:170: RuntimeWarning: invalid value encountered in double_scalars\n",
      "  ret = ret.dtype.type(ret / rcount)\n",
      "G:\\softwares\\envs\\4277lab\\lib\\site-packages\\numpy\\lib\\function_base.py:380: RuntimeWarning: Mean of empty slice.\n",
      "  avg = a.mean(axis)\n",
      "G:\\softwares\\envs\\4277lab\\lib\\site-packages\\numpy\\core\\_methods.py:170: RuntimeWarning: invalid value encountered in double_scalars\n",
      "  ret = ret.dtype.type(ret / rcount)\n",
      "G:\\softwares\\envs\\4277lab\\lib\\site-packages\\numpy\\lib\\function_base.py:380: RuntimeWarning: Mean of empty slice.\n",
      "  avg = a.mean(axis)\n",
      "G:\\softwares\\envs\\4277lab\\lib\\site-packages\\numpy\\core\\_methods.py:170: RuntimeWarning: invalid value encountered in double_scalars\n",
      "  ret = ret.dtype.type(ret / rcount)\n",
      "G:\\softwares\\envs\\4277lab\\lib\\site-packages\\numpy\\lib\\function_base.py:380: RuntimeWarning: Mean of empty slice.\n",
      "  avg = a.mean(axis)\n",
      "G:\\softwares\\envs\\4277lab\\lib\\site-packages\\numpy\\core\\_methods.py:170: RuntimeWarning: invalid value encountered in double_scalars\n",
      "  ret = ret.dtype.type(ret / rcount)\n",
      "G:\\softwares\\envs\\4277lab\\lib\\site-packages\\numpy\\lib\\function_base.py:380: RuntimeWarning: Mean of empty slice.\n",
      "  avg = a.mean(axis)\n",
      "G:\\softwares\\envs\\4277lab\\lib\\site-packages\\numpy\\core\\_methods.py:170: RuntimeWarning: invalid value encountered in double_scalars\n",
      "  ret = ret.dtype.type(ret / rcount)\n",
      "G:\\softwares\\envs\\4277lab\\lib\\site-packages\\numpy\\lib\\function_base.py:380: RuntimeWarning: Mean of empty slice.\n",
      "  avg = a.mean(axis)\n",
      "G:\\softwares\\envs\\4277lab\\lib\\site-packages\\numpy\\core\\_methods.py:170: RuntimeWarning: invalid value encountered in double_scalars\n",
      "  ret = ret.dtype.type(ret / rcount)\n",
      "G:\\softwares\\envs\\4277lab\\lib\\site-packages\\numpy\\lib\\function_base.py:380: RuntimeWarning: Mean of empty slice.\n",
      "  avg = a.mean(axis)\n",
      "G:\\softwares\\envs\\4277lab\\lib\\site-packages\\numpy\\core\\_methods.py:170: RuntimeWarning: invalid value encountered in double_scalars\n",
      "  ret = ret.dtype.type(ret / rcount)\n",
      "G:\\softwares\\envs\\4277lab\\lib\\site-packages\\numpy\\lib\\function_base.py:380: RuntimeWarning: Mean of empty slice.\n",
      "  avg = a.mean(axis)\n",
      "G:\\softwares\\envs\\4277lab\\lib\\site-packages\\numpy\\core\\_methods.py:170: RuntimeWarning: invalid value encountered in double_scalars\n",
      "  ret = ret.dtype.type(ret / rcount)\n",
      "G:\\softwares\\envs\\4277lab\\lib\\site-packages\\numpy\\lib\\function_base.py:380: RuntimeWarning: Mean of empty slice.\n",
      "  avg = a.mean(axis)\n",
      "G:\\softwares\\envs\\4277lab\\lib\\site-packages\\numpy\\core\\_methods.py:170: RuntimeWarning: invalid value encountered in double_scalars\n",
      "  ret = ret.dtype.type(ret / rcount)\n",
      "G:\\softwares\\envs\\4277lab\\lib\\site-packages\\numpy\\lib\\function_base.py:380: RuntimeWarning: Mean of empty slice.\n",
      "  avg = a.mean(axis)\n",
      "G:\\softwares\\envs\\4277lab\\lib\\site-packages\\numpy\\core\\_methods.py:170: RuntimeWarning: invalid value encountered in double_scalars\n",
      "  ret = ret.dtype.type(ret / rcount)\n",
      "G:\\softwares\\envs\\4277lab\\lib\\site-packages\\numpy\\lib\\function_base.py:380: RuntimeWarning: Mean of empty slice.\n",
      "  avg = a.mean(axis)\n",
      "G:\\softwares\\envs\\4277lab\\lib\\site-packages\\numpy\\core\\_methods.py:170: RuntimeWarning: invalid value encountered in double_scalars\n",
      "  ret = ret.dtype.type(ret / rcount)\n"
     ]
    }
   ],
   "source": [
    "# get omv\n",
    "from collections import defaultdict\n",
    "df_valid = df.dropna(subset = ['omv'])\n",
    "# df_valid = pd.concat([df_valid, df_train], axis = 0)\n",
    "# print(df_valid.shape)\n",
    "omvs = df_valid['omv'].to_numpy()\n",
    "\n",
    "\n",
    "# missingOmvModelsAge (1 year)\n",
    "# missingomv = avg(modelAgeToSimilarOmv)\n",
    "missingOmv = df.omv.isnull()\n",
    "dfm = df[missingOmv]\n",
    "missingModelAge = []\n",
    "for idx, row in dfm.iterrows():\n",
    "    model = row['model']\n",
    "    age = row['age']\n",
    "    p = (model, age)\n",
    "    missingModelAge.append(p)\n",
    "\n",
    "mapper = defaultdict(list)\n",
    "for idx, row in df_valid.iterrows():\n",
    "    model = row['model']\n",
    "    age = row['age']\n",
    "    omv = row['omv']\n",
    "    p = (model, age)\n",
    "    mapper[p].append(omv)\n",
    "\n",
    "for idx, row in dfm.iterrows():\n",
    "    model = row['model']\n",
    "    age = row['age']\n",
    "    p = (model, age)\n",
    "    df.at[idx, 'omv'] = np.average(mapper[p])"
   ]
  },
  {
   "cell_type": "code",
   "execution_count": 12,
   "metadata": {},
   "outputs": [],
   "source": [
    "missingOmv = df.omv.isnull()\n",
    "# print(df[missingOmv]['category'].unique())\n",
    "# print(df[missingOmv][df.category.str.contains('low mileage')])\n",
    "# print(df[missingOmv][df.age < 120]['category'])\n",
    "# print(df[missingOmv])"
   ]
  },
  {
   "cell_type": "code",
   "execution_count": 13,
   "metadata": {},
   "outputs": [
    {
     "name": "stderr",
     "output_type": "stream",
     "text": [
      "G:\\softwares\\envs\\4277lab\\lib\\site-packages\\numpy\\lib\\function_base.py:380: RuntimeWarning: Mean of empty slice.\n",
      "  avg = a.mean(axis)\n",
      "G:\\softwares\\envs\\4277lab\\lib\\site-packages\\numpy\\core\\_methods.py:170: RuntimeWarning: invalid value encountered in double_scalars\n",
      "  ret = ret.dtype.type(ret / rcount)\n",
      "G:\\softwares\\envs\\4277lab\\lib\\site-packages\\numpy\\lib\\function_base.py:380: RuntimeWarning: Mean of empty slice.\n",
      "  avg = a.mean(axis)\n",
      "G:\\softwares\\envs\\4277lab\\lib\\site-packages\\numpy\\core\\_methods.py:170: RuntimeWarning: invalid value encountered in double_scalars\n",
      "  ret = ret.dtype.type(ret / rcount)\n",
      "G:\\softwares\\envs\\4277lab\\lib\\site-packages\\numpy\\lib\\function_base.py:380: RuntimeWarning: Mean of empty slice.\n",
      "  avg = a.mean(axis)\n",
      "G:\\softwares\\envs\\4277lab\\lib\\site-packages\\numpy\\core\\_methods.py:170: RuntimeWarning: invalid value encountered in double_scalars\n",
      "  ret = ret.dtype.type(ret / rcount)\n",
      "G:\\softwares\\envs\\4277lab\\lib\\site-packages\\numpy\\lib\\function_base.py:380: RuntimeWarning: Mean of empty slice.\n",
      "  avg = a.mean(axis)\n",
      "G:\\softwares\\envs\\4277lab\\lib\\site-packages\\numpy\\core\\_methods.py:170: RuntimeWarning: invalid value encountered in double_scalars\n",
      "  ret = ret.dtype.type(ret / rcount)\n",
      "G:\\softwares\\envs\\4277lab\\lib\\site-packages\\numpy\\lib\\function_base.py:380: RuntimeWarning: Mean of empty slice.\n",
      "  avg = a.mean(axis)\n",
      "G:\\softwares\\envs\\4277lab\\lib\\site-packages\\numpy\\core\\_methods.py:170: RuntimeWarning: invalid value encountered in double_scalars\n",
      "  ret = ret.dtype.type(ret / rcount)\n",
      "G:\\softwares\\envs\\4277lab\\lib\\site-packages\\numpy\\lib\\function_base.py:380: RuntimeWarning: Mean of empty slice.\n",
      "  avg = a.mean(axis)\n",
      "G:\\softwares\\envs\\4277lab\\lib\\site-packages\\numpy\\core\\_methods.py:170: RuntimeWarning: invalid value encountered in double_scalars\n",
      "  ret = ret.dtype.type(ret / rcount)\n",
      "G:\\softwares\\envs\\4277lab\\lib\\site-packages\\numpy\\lib\\function_base.py:380: RuntimeWarning: Mean of empty slice.\n",
      "  avg = a.mean(axis)\n",
      "G:\\softwares\\envs\\4277lab\\lib\\site-packages\\numpy\\core\\_methods.py:170: RuntimeWarning: invalid value encountered in double_scalars\n",
      "  ret = ret.dtype.type(ret / rcount)\n",
      "G:\\softwares\\envs\\4277lab\\lib\\site-packages\\numpy\\lib\\function_base.py:380: RuntimeWarning: Mean of empty slice.\n",
      "  avg = a.mean(axis)\n",
      "G:\\softwares\\envs\\4277lab\\lib\\site-packages\\numpy\\core\\_methods.py:170: RuntimeWarning: invalid value encountered in double_scalars\n",
      "  ret = ret.dtype.type(ret / rcount)\n",
      "G:\\softwares\\envs\\4277lab\\lib\\site-packages\\numpy\\lib\\function_base.py:380: RuntimeWarning: Mean of empty slice.\n",
      "  avg = a.mean(axis)\n",
      "G:\\softwares\\envs\\4277lab\\lib\\site-packages\\numpy\\core\\_methods.py:170: RuntimeWarning: invalid value encountered in double_scalars\n",
      "  ret = ret.dtype.type(ret / rcount)\n",
      "G:\\softwares\\envs\\4277lab\\lib\\site-packages\\numpy\\lib\\function_base.py:380: RuntimeWarning: Mean of empty slice.\n",
      "  avg = a.mean(axis)\n",
      "G:\\softwares\\envs\\4277lab\\lib\\site-packages\\numpy\\core\\_methods.py:170: RuntimeWarning: invalid value encountered in double_scalars\n",
      "  ret = ret.dtype.type(ret / rcount)\n",
      "G:\\softwares\\envs\\4277lab\\lib\\site-packages\\numpy\\lib\\function_base.py:380: RuntimeWarning: Mean of empty slice.\n",
      "  avg = a.mean(axis)\n",
      "G:\\softwares\\envs\\4277lab\\lib\\site-packages\\numpy\\core\\_methods.py:170: RuntimeWarning: invalid value encountered in double_scalars\n",
      "  ret = ret.dtype.type(ret / rcount)\n",
      "G:\\softwares\\envs\\4277lab\\lib\\site-packages\\numpy\\lib\\function_base.py:380: RuntimeWarning: Mean of empty slice.\n",
      "  avg = a.mean(axis)\n",
      "G:\\softwares\\envs\\4277lab\\lib\\site-packages\\numpy\\core\\_methods.py:170: RuntimeWarning: invalid value encountered in double_scalars\n",
      "  ret = ret.dtype.type(ret / rcount)\n",
      "G:\\softwares\\envs\\4277lab\\lib\\site-packages\\numpy\\lib\\function_base.py:380: RuntimeWarning: Mean of empty slice.\n",
      "  avg = a.mean(axis)\n",
      "G:\\softwares\\envs\\4277lab\\lib\\site-packages\\numpy\\core\\_methods.py:170: RuntimeWarning: invalid value encountered in double_scalars\n",
      "  ret = ret.dtype.type(ret / rcount)\n",
      "G:\\softwares\\envs\\4277lab\\lib\\site-packages\\numpy\\lib\\function_base.py:380: RuntimeWarning: Mean of empty slice.\n",
      "  avg = a.mean(axis)\n",
      "G:\\softwares\\envs\\4277lab\\lib\\site-packages\\numpy\\core\\_methods.py:170: RuntimeWarning: invalid value encountered in double_scalars\n",
      "  ret = ret.dtype.type(ret / rcount)\n",
      "G:\\softwares\\envs\\4277lab\\lib\\site-packages\\numpy\\lib\\function_base.py:380: RuntimeWarning: Mean of empty slice.\n",
      "  avg = a.mean(axis)\n",
      "G:\\softwares\\envs\\4277lab\\lib\\site-packages\\numpy\\core\\_methods.py:170: RuntimeWarning: invalid value encountered in double_scalars\n",
      "  ret = ret.dtype.type(ret / rcount)\n",
      "G:\\softwares\\envs\\4277lab\\lib\\site-packages\\numpy\\lib\\function_base.py:380: RuntimeWarning: Mean of empty slice.\n",
      "  avg = a.mean(axis)\n",
      "G:\\softwares\\envs\\4277lab\\lib\\site-packages\\numpy\\core\\_methods.py:170: RuntimeWarning: invalid value encountered in double_scalars\n",
      "  ret = ret.dtype.type(ret / rcount)\n",
      "G:\\softwares\\envs\\4277lab\\lib\\site-packages\\numpy\\lib\\function_base.py:380: RuntimeWarning: Mean of empty slice.\n",
      "  avg = a.mean(axis)\n",
      "G:\\softwares\\envs\\4277lab\\lib\\site-packages\\numpy\\core\\_methods.py:170: RuntimeWarning: invalid value encountered in double_scalars\n",
      "  ret = ret.dtype.type(ret / rcount)\n",
      "G:\\softwares\\envs\\4277lab\\lib\\site-packages\\numpy\\lib\\function_base.py:380: RuntimeWarning: Mean of empty slice.\n",
      "  avg = a.mean(axis)\n",
      "G:\\softwares\\envs\\4277lab\\lib\\site-packages\\numpy\\core\\_methods.py:170: RuntimeWarning: invalid value encountered in double_scalars\n",
      "  ret = ret.dtype.type(ret / rcount)\n",
      "G:\\softwares\\envs\\4277lab\\lib\\site-packages\\numpy\\lib\\function_base.py:380: RuntimeWarning: Mean of empty slice.\n",
      "  avg = a.mean(axis)\n",
      "G:\\softwares\\envs\\4277lab\\lib\\site-packages\\numpy\\core\\_methods.py:170: RuntimeWarning: invalid value encountered in double_scalars\n",
      "  ret = ret.dtype.type(ret / rcount)\n",
      "G:\\softwares\\envs\\4277lab\\lib\\site-packages\\numpy\\lib\\function_base.py:380: RuntimeWarning: Mean of empty slice.\n",
      "  avg = a.mean(axis)\n",
      "G:\\softwares\\envs\\4277lab\\lib\\site-packages\\numpy\\core\\_methods.py:170: RuntimeWarning: invalid value encountered in double_scalars\n",
      "  ret = ret.dtype.type(ret / rcount)\n",
      "G:\\softwares\\envs\\4277lab\\lib\\site-packages\\numpy\\lib\\function_base.py:380: RuntimeWarning: Mean of empty slice.\n",
      "  avg = a.mean(axis)\n",
      "G:\\softwares\\envs\\4277lab\\lib\\site-packages\\numpy\\core\\_methods.py:170: RuntimeWarning: invalid value encountered in double_scalars\n",
      "  ret = ret.dtype.type(ret / rcount)\n",
      "G:\\softwares\\envs\\4277lab\\lib\\site-packages\\numpy\\lib\\function_base.py:380: RuntimeWarning: Mean of empty slice.\n",
      "  avg = a.mean(axis)\n",
      "G:\\softwares\\envs\\4277lab\\lib\\site-packages\\numpy\\core\\_methods.py:170: RuntimeWarning: invalid value encountered in double_scalars\n",
      "  ret = ret.dtype.type(ret / rcount)\n",
      "G:\\softwares\\envs\\4277lab\\lib\\site-packages\\numpy\\lib\\function_base.py:380: RuntimeWarning: Mean of empty slice.\n",
      "  avg = a.mean(axis)\n",
      "G:\\softwares\\envs\\4277lab\\lib\\site-packages\\numpy\\core\\_methods.py:170: RuntimeWarning: invalid value encountered in double_scalars\n",
      "  ret = ret.dtype.type(ret / rcount)\n",
      "G:\\softwares\\envs\\4277lab\\lib\\site-packages\\numpy\\lib\\function_base.py:380: RuntimeWarning: Mean of empty slice.\n",
      "  avg = a.mean(axis)\n",
      "G:\\softwares\\envs\\4277lab\\lib\\site-packages\\numpy\\core\\_methods.py:170: RuntimeWarning: invalid value encountered in double_scalars\n",
      "  ret = ret.dtype.type(ret / rcount)\n",
      "G:\\softwares\\envs\\4277lab\\lib\\site-packages\\numpy\\lib\\function_base.py:380: RuntimeWarning: Mean of empty slice.\n",
      "  avg = a.mean(axis)\n",
      "G:\\softwares\\envs\\4277lab\\lib\\site-packages\\numpy\\core\\_methods.py:170: RuntimeWarning: invalid value encountered in double_scalars\n",
      "  ret = ret.dtype.type(ret / rcount)\n",
      "G:\\softwares\\envs\\4277lab\\lib\\site-packages\\numpy\\lib\\function_base.py:380: RuntimeWarning: Mean of empty slice.\n",
      "  avg = a.mean(axis)\n",
      "G:\\softwares\\envs\\4277lab\\lib\\site-packages\\numpy\\core\\_methods.py:170: RuntimeWarning: invalid value encountered in double_scalars\n",
      "  ret = ret.dtype.type(ret / rcount)\n",
      "G:\\softwares\\envs\\4277lab\\lib\\site-packages\\numpy\\lib\\function_base.py:380: RuntimeWarning: Mean of empty slice.\n",
      "  avg = a.mean(axis)\n",
      "G:\\softwares\\envs\\4277lab\\lib\\site-packages\\numpy\\core\\_methods.py:170: RuntimeWarning: invalid value encountered in double_scalars\n",
      "  ret = ret.dtype.type(ret / rcount)\n",
      "G:\\softwares\\envs\\4277lab\\lib\\site-packages\\numpy\\lib\\function_base.py:380: RuntimeWarning: Mean of empty slice.\n",
      "  avg = a.mean(axis)\n",
      "G:\\softwares\\envs\\4277lab\\lib\\site-packages\\numpy\\core\\_methods.py:170: RuntimeWarning: invalid value encountered in double_scalars\n",
      "  ret = ret.dtype.type(ret / rcount)\n",
      "G:\\softwares\\envs\\4277lab\\lib\\site-packages\\numpy\\lib\\function_base.py:380: RuntimeWarning: Mean of empty slice.\n",
      "  avg = a.mean(axis)\n",
      "G:\\softwares\\envs\\4277lab\\lib\\site-packages\\numpy\\core\\_methods.py:170: RuntimeWarning: invalid value encountered in double_scalars\n",
      "  ret = ret.dtype.type(ret / rcount)\n",
      "G:\\softwares\\envs\\4277lab\\lib\\site-packages\\numpy\\lib\\function_base.py:380: RuntimeWarning: Mean of empty slice.\n",
      "  avg = a.mean(axis)\n",
      "G:\\softwares\\envs\\4277lab\\lib\\site-packages\\numpy\\core\\_methods.py:170: RuntimeWarning: invalid value encountered in double_scalars\n",
      "  ret = ret.dtype.type(ret / rcount)\n",
      "G:\\softwares\\envs\\4277lab\\lib\\site-packages\\numpy\\lib\\function_base.py:380: RuntimeWarning: Mean of empty slice.\n",
      "  avg = a.mean(axis)\n",
      "G:\\softwares\\envs\\4277lab\\lib\\site-packages\\numpy\\core\\_methods.py:170: RuntimeWarning: invalid value encountered in double_scalars\n",
      "  ret = ret.dtype.type(ret / rcount)\n",
      "G:\\softwares\\envs\\4277lab\\lib\\site-packages\\numpy\\lib\\function_base.py:380: RuntimeWarning: Mean of empty slice.\n",
      "  avg = a.mean(axis)\n",
      "G:\\softwares\\envs\\4277lab\\lib\\site-packages\\numpy\\core\\_methods.py:170: RuntimeWarning: invalid value encountered in double_scalars\n",
      "  ret = ret.dtype.type(ret / rcount)\n",
      "G:\\softwares\\envs\\4277lab\\lib\\site-packages\\numpy\\lib\\function_base.py:380: RuntimeWarning: Mean of empty slice.\n",
      "  avg = a.mean(axis)\n",
      "G:\\softwares\\envs\\4277lab\\lib\\site-packages\\numpy\\core\\_methods.py:170: RuntimeWarning: invalid value encountered in double_scalars\n",
      "  ret = ret.dtype.type(ret / rcount)\n",
      "G:\\softwares\\envs\\4277lab\\lib\\site-packages\\numpy\\lib\\function_base.py:380: RuntimeWarning: Mean of empty slice.\n",
      "  avg = a.mean(axis)\n",
      "G:\\softwares\\envs\\4277lab\\lib\\site-packages\\numpy\\core\\_methods.py:170: RuntimeWarning: invalid value encountered in double_scalars\n",
      "  ret = ret.dtype.type(ret / rcount)\n",
      "G:\\softwares\\envs\\4277lab\\lib\\site-packages\\numpy\\lib\\function_base.py:380: RuntimeWarning: Mean of empty slice.\n",
      "  avg = a.mean(axis)\n",
      "G:\\softwares\\envs\\4277lab\\lib\\site-packages\\numpy\\core\\_methods.py:170: RuntimeWarning: invalid value encountered in double_scalars\n",
      "  ret = ret.dtype.type(ret / rcount)\n",
      "G:\\softwares\\envs\\4277lab\\lib\\site-packages\\numpy\\lib\\function_base.py:380: RuntimeWarning: Mean of empty slice.\n",
      "  avg = a.mean(axis)\n",
      "G:\\softwares\\envs\\4277lab\\lib\\site-packages\\numpy\\core\\_methods.py:170: RuntimeWarning: invalid value encountered in double_scalars\n",
      "  ret = ret.dtype.type(ret / rcount)\n",
      "G:\\softwares\\envs\\4277lab\\lib\\site-packages\\numpy\\lib\\function_base.py:380: RuntimeWarning: Mean of empty slice.\n",
      "  avg = a.mean(axis)\n",
      "G:\\softwares\\envs\\4277lab\\lib\\site-packages\\numpy\\core\\_methods.py:170: RuntimeWarning: invalid value encountered in double_scalars\n",
      "  ret = ret.dtype.type(ret / rcount)\n",
      "G:\\softwares\\envs\\4277lab\\lib\\site-packages\\numpy\\lib\\function_base.py:380: RuntimeWarning: Mean of empty slice.\n",
      "  avg = a.mean(axis)\n",
      "G:\\softwares\\envs\\4277lab\\lib\\site-packages\\numpy\\core\\_methods.py:170: RuntimeWarning: invalid value encountered in double_scalars\n",
      "  ret = ret.dtype.type(ret / rcount)\n",
      "G:\\softwares\\envs\\4277lab\\lib\\site-packages\\numpy\\lib\\function_base.py:380: RuntimeWarning: Mean of empty slice.\n",
      "  avg = a.mean(axis)\n",
      "G:\\softwares\\envs\\4277lab\\lib\\site-packages\\numpy\\core\\_methods.py:170: RuntimeWarning: invalid value encountered in double_scalars\n",
      "  ret = ret.dtype.type(ret / rcount)\n",
      "G:\\softwares\\envs\\4277lab\\lib\\site-packages\\numpy\\lib\\function_base.py:380: RuntimeWarning: Mean of empty slice.\n",
      "  avg = a.mean(axis)\n",
      "G:\\softwares\\envs\\4277lab\\lib\\site-packages\\numpy\\core\\_methods.py:170: RuntimeWarning: invalid value encountered in double_scalars\n",
      "  ret = ret.dtype.type(ret / rcount)\n",
      "G:\\softwares\\envs\\4277lab\\lib\\site-packages\\numpy\\lib\\function_base.py:380: RuntimeWarning: Mean of empty slice.\n",
      "  avg = a.mean(axis)\n",
      "G:\\softwares\\envs\\4277lab\\lib\\site-packages\\numpy\\core\\_methods.py:170: RuntimeWarning: invalid value encountered in double_scalars\n",
      "  ret = ret.dtype.type(ret / rcount)\n",
      "G:\\softwares\\envs\\4277lab\\lib\\site-packages\\numpy\\lib\\function_base.py:380: RuntimeWarning: Mean of empty slice.\n",
      "  avg = a.mean(axis)\n",
      "G:\\softwares\\envs\\4277lab\\lib\\site-packages\\numpy\\core\\_methods.py:170: RuntimeWarning: invalid value encountered in double_scalars\n",
      "  ret = ret.dtype.type(ret / rcount)\n"
     ]
    }
   ],
   "source": [
    "# get omv\n",
    "from collections import defaultdict\n",
    "df_valid = df.dropna(subset = ['omv'])\n",
    "# df_valid = pd.concat([df_valid, df_train], axis = 0)\n",
    "# print(df_valid.shape)\n",
    "omvs = df_valid['omv'].to_numpy()\n",
    "\n",
    "\n",
    "# missingOmvModelsAge (1 year)\n",
    "# missingomv = avg(modelAgeToSimilarOmv)\n",
    "missingOmv = df.omv.isnull()\n",
    "dfm = df[missingOmv]\n",
    "missingModelAge = []\n",
    "for idx, row in dfm.iterrows():\n",
    "    model = row['model']\n",
    "    age = row['age'] // 24 * 24\n",
    "    p = (model, age)\n",
    "    missingModelAge.append(p)\n",
    "\n",
    "mapper = defaultdict(list)\n",
    "for idx, row in df_valid.iterrows():\n",
    "    model = row['model']\n",
    "    age = row['age'] // 24 * 24\n",
    "    omv = row['omv']\n",
    "    p = (model, age)\n",
    "    mapper[p].append(omv)\n",
    "\n",
    "for idx, row in dfm.iterrows():\n",
    "    model = row['model']\n",
    "    age = row['age'] // 24 * 24\n",
    "    p = (model, age)\n",
    "    df.at[idx, 'omv'] = np.average(mapper[p])"
   ]
  },
  {
   "cell_type": "code",
   "execution_count": 14,
   "metadata": {},
   "outputs": [
    {
     "name": "stdout",
     "output_type": "stream",
     "text": [
      "43\n",
      "16784\n"
     ]
    }
   ],
   "source": [
    "df_ = df.copy()\n",
    "# df_ = df_[:trainLen]\n",
    "# print(df_[df_.omv.isnull()])\n",
    "print(len(df_[df_.omv.isnull()]))\n",
    "# print(len(df_[:trainLen]))\n",
    "# print(len(df_[trainLen:]))\n",
    "print(trainLen)"
   ]
  },
  {
   "cell_type": "code",
   "execution_count": 15,
   "metadata": {},
   "outputs": [
    {
     "name": "stdout",
     "output_type": "stream",
     "text": [
      "21784\n",
      "16784\n",
      "16751\n",
      "5000\n"
     ]
    }
   ],
   "source": [
    "df = df_.copy()\n",
    "print(len(df))\n",
    "print(len(df) - 5000)\n",
    "train = df[:trainLen].dropna(subset=['omv'])\n",
    "trainLen = len(train)\n",
    "print(trainLen)\n",
    "test = df[16784:].copy()\n",
    "df = pd.concat([train, test])\n",
    "print(len(test))"
   ]
  },
  {
   "cell_type": "code",
   "execution_count": null,
   "metadata": {},
   "outputs": [],
   "source": [
    "print(test[test.omv.isnull()])"
   ]
  },
  {
   "cell_type": "code",
   "execution_count": 16,
   "metadata": {},
   "outputs": [
    {
     "name": "stdout",
     "output_type": "stream",
     "text": [
      "[706, 1026, 1770, 1889, 1904, 2015, 2062, 2282, 2633, 3224]\n"
     ]
    }
   ],
   "source": [
    "test_df = df[trainLen:]\n",
    "omvL = test_df[test_df.omv.isnull()].index.tolist()\n",
    "print(omvL)\n",
    "df['omv'] = df['omv'].fillna(0)\n",
    "# prices = [120000, 33800, 109888, 718000, 718000, 109888] ####\n",
    "# df[:trainLen] = df[:trainLen].dropna(subset = ['omv'])"
   ]
  },
  {
   "cell_type": "code",
   "execution_count": 208,
   "metadata": {},
   "outputs": [],
   "source": [
    "# df_valid = df.dropna(subset = ['omv'])\n",
    "# df_valid = pd.concat([df_valid, df_train], axis = 0)\n",
    "# df.at[706, 'omv'] = np.average(df_valid[df_valid.age > 500]['omv'])"
   ]
  },
  {
   "cell_type": "code",
   "execution_count": 209,
   "metadata": {},
   "outputs": [],
   "source": [
    "# vintage = df_train[df_train.age > 120].dropna(subset=['omv'])"
   ]
  },
  {
   "cell_type": "code",
   "execution_count": 210,
   "metadata": {},
   "outputs": [
    {
     "ename": "NameError",
     "evalue": "name 'vintage' is not defined",
     "output_type": "error",
     "traceback": [
      "\u001b[1;31m---------------------------------------------------------------------------\u001b[0m",
      "\u001b[1;31mNameError\u001b[0m                                 Traceback (most recent call last)",
      "\u001b[1;32m<ipython-input-210-cc12d690f477>\u001b[0m in \u001b[0;36m<module>\u001b[1;34m\u001b[0m\n\u001b[0;32m      1\u001b[0m \u001b[1;31m## estimated omv\u001b[0m\u001b[1;33m\u001b[0m\u001b[1;33m\u001b[0m\u001b[1;33m\u001b[0m\u001b[0m\n\u001b[0;32m      2\u001b[0m \u001b[1;32mfrom\u001b[0m \u001b[0msklearn\u001b[0m\u001b[1;33m.\u001b[0m\u001b[0mlinear_model\u001b[0m \u001b[1;32mimport\u001b[0m \u001b[0mLinearRegression\u001b[0m\u001b[1;33m\u001b[0m\u001b[1;33m\u001b[0m\u001b[0m\n\u001b[1;32m----> 3\u001b[1;33m \u001b[0mdf_\u001b[0m \u001b[1;33m=\u001b[0m \u001b[0mvintage\u001b[0m\u001b[1;33m.\u001b[0m\u001b[0mcopy\u001b[0m\u001b[1;33m(\u001b[0m\u001b[1;33m)\u001b[0m\u001b[1;33m\u001b[0m\u001b[1;33m\u001b[0m\u001b[0m\n\u001b[0m\u001b[0;32m      4\u001b[0m \u001b[0mprice\u001b[0m \u001b[1;33m=\u001b[0m \u001b[0mnp\u001b[0m\u001b[1;33m.\u001b[0m\u001b[0marray\u001b[0m\u001b[1;33m(\u001b[0m\u001b[0mdf_\u001b[0m\u001b[1;33m[\u001b[0m\u001b[1;34m'price'\u001b[0m\u001b[1;33m]\u001b[0m\u001b[1;33m)\u001b[0m\u001b[1;33m.\u001b[0m\u001b[0mreshape\u001b[0m\u001b[1;33m(\u001b[0m\u001b[1;33m-\u001b[0m\u001b[1;36m1\u001b[0m\u001b[1;33m,\u001b[0m \u001b[1;36m1\u001b[0m\u001b[1;33m)\u001b[0m\u001b[1;33m\u001b[0m\u001b[1;33m\u001b[0m\u001b[0m\n\u001b[0;32m      5\u001b[0m \u001b[1;33m\u001b[0m\u001b[0m\n",
      "\u001b[1;31mNameError\u001b[0m: name 'vintage' is not defined"
     ]
    }
   ],
   "source": [
    "# ## estimated omv\n",
    "# from sklearn.linear_model import LinearRegression\n",
    "# df_ = vintage.copy()\n",
    "# price = np.array(df_['price']).reshape(-1, 1)\n",
    "\n",
    "# age = np.array(df_['age']).reshape(-1, 1)\n",
    "\n",
    "# mileage = np.array(df_['mileage']).reshape(-1, 1)\n",
    "\n",
    "# X = np.concatenate((price, mileage, age), axis=1)\n",
    "# y = np.array(df_['omv']).reshape(-1, 1)\n",
    "\n",
    "# reg = LinearRegression().fit(X, y)\n",
    "# print(reg.score(X, y))\n",
    "# print(reg.coef_)\n"
   ]
  },
  {
   "cell_type": "code",
   "execution_count": null,
   "metadata": {},
   "outputs": [],
   "source": [
    "# missingPriceAges = []\n",
    "# missingVintage = df[df.omv.isnull()][df.age >= 120]\n",
    "# idxs = missingVintage.index\n",
    "# # print(len(missingVintage))\n",
    "# for idx, row in missingVintage.iterrows():\n",
    "#     price = row['price']\n",
    "#     mileage = row['mileage']\n",
    "#     age = row['age']\n",
    "#     missingPriceAges.append((price, mileage, age))\n",
    "# # print(len(missingPriceAges))\n",
    "# omvs = reg.predict(np.array(missingPriceAges))\n",
    "# count = 0\n",
    "# for i in idxs:\n",
    "#     df.at[i, 'omv'] = omvs[count]\n",
    "#     count += 1\n",
    "# print(df['omv'].isnull().sum())"
   ]
  },
  {
   "cell_type": "code",
   "execution_count": null,
   "metadata": {},
   "outputs": [],
   "source": [
    "# # get the omv through regressor\n",
    "# df_ = df[df.category.str.contains('low mileage')][df.price > 250000].copy()\n",
    "# df_ = df_.dropna(subset=['omv'])\n",
    "# price = np.array(df_['price']).reshape(-1, 1)\n",
    "\n",
    "# age = np.array(df_['age']).reshape(-1, 1)\n",
    "\n",
    "# mileage = np.array(df_['mileage']).reshape(-1, 1)\n",
    "\n",
    "# X = np.concatenate((price, mileage, age), axis=1)\n",
    "# y = np.array(df_['omv']).reshape(-1, 1)\n",
    "\n",
    "# reg = LinearRegression().fit(X, y)\n",
    "# print(reg.score(X, y))\n",
    "# print(reg.coef_)"
   ]
  },
  {
   "cell_type": "code",
   "execution_count": null,
   "metadata": {},
   "outputs": [],
   "source": [
    "# missingPriceAges = []\n",
    "# missing = df[df.omv.isnull()]\n",
    "# idxs = missing.index\n",
    "\n",
    "# for idx, row in missing.iterrows():\n",
    "#     price = row['price']\n",
    "#     mileage = row['mileage']\n",
    "#     age = row['age']\n",
    "#     missingPriceAges.append((price, mileage, age))\n",
    "# # print(len(missingPriceAges))\n",
    "# omvs = reg.predict(np.array(missingPriceAges))\n",
    "# count = 0\n",
    "# for i in idxs:\n",
    "#     df.at[i, 'omv'] = omvs[count]\n",
    "#     count += 1\n",
    "# print(df['omv'].isnull().sum())"
   ]
  },
  {
   "cell_type": "code",
   "execution_count": 211,
   "metadata": {},
   "outputs": [
    {
     "data": {
      "image/png": "[encoded data removed]",
      "text/plain": [
       "<Figure size 432x288 with 1 Axes>"
      ]
     },
     "metadata": {
      "needs_background": "light"
     },
     "output_type": "display_data"
    }
   ],
   "source": [
    "# ## age outlier\n",
    "# plt.boxplot(df['age'])\n",
    "# plt.show()"
   ]
  },
  {
   "cell_type": "code",
   "execution_count": 212,
   "metadata": {},
   "outputs": [
    {
     "name": "stdout",
     "output_type": "stream",
     "text": [
      "Empty DataFrame\n",
      "Columns: [listing_id, title, make, model, description, manufactured, original_reg_date, reg_date, type_of_vehicle, category, transmission, curb_weight, power, fuel_type, engine_cap, no_of_owners, depreciation, coe, road_tax, dereg_value, mileage, omv, arf, opc_scheme, lifespan, eco_category, features, accessories, indicative_price, age, remaining_coe]\n",
      "Index: []\n",
      "\n",
      "[0 rows x 31 columns]\n",
      "      listing_id                                              title  \\\n",
      "6300      976150  Mercedes-Benz G-Class G350d AMG Line 4MATIC Pr...   \n",
      "\n",
      "               make model                                        description  \\\n",
      "6300  mercedes-benz   amg  5 years warranty or 130,000km. call our friend...   \n",
      "\n",
      "      manufactured original_reg_date     reg_date type_of_vehicle  \\\n",
      "6300        2925.0               NaN  03-mar-2021             suv   \n",
      "\n",
      "                                               category  ...       omv  \\\n",
      "6300  parf car, almost new car, premium ad car, low ...  ...  109673.0   \n",
      "\n",
      "           arf  opc_scheme lifespan   eco_category  \\\n",
      "6300  169412.0         NaN      NaN  uncategorized   \n",
      "\n",
      "                                               features  accessories  \\\n",
      "6300  powered by inline 6 producing 281bhp, max torq...          NaN   \n",
      "\n",
      "      indicative_price    age  remaining_coe  \n",
      "6300               NaN -10848            117  \n",
      "\n",
      "[1 rows x 31 columns]\n"
     ]
    }
   ],
   "source": [
    "# print(df[df.age > 20000])\n",
    "# print(df[df.age < 0])"
   ]
  },
  {
   "cell_type": "code",
   "execution_count": 17,
   "metadata": {},
   "outputs": [
    {
     "name": "stderr",
     "output_type": "stream",
     "text": [
      "G:\\softwares\\envs\\4277lab\\lib\\site-packages\\ipykernel_launcher.py:2: SettingWithCopyWarning: \n",
      "A value is trying to be set on a copy of a slice from a DataFrame.\n",
      "Try using .loc[row_indexer,col_indexer] = value instead\n",
      "\n",
      "See the caveats in the documentation: https://pandas.pydata.org/pandas-docs/stable/user_guide/indexing.html#returning-a-view-versus-a-copy\n",
      "  \n"
     ]
    }
   ],
   "source": [
    "# age,power, enginecap\n",
    "df[df.age < 0]['age'] = 0\n",
    "df[df.age > 20000]['age'] = 0"
   ]
  },
  {
   "cell_type": "code",
   "execution_count": 18,
   "metadata": {},
   "outputs": [
    {
     "name": "stdout",
     "output_type": "stream",
     "text": [
      "      listing_id                                              title  \\\n",
      "8199     1005670  Mercedes-Benz E-Class E300e Plug-in Hybrid AMG...   \n",
      "\n",
      "               make model                                        description  \\\n",
      "8199  mercedes-benz   amg  great deal! grab it! new facelifted 2021 with ...   \n",
      "\n",
      "      manufactured original_reg_date     reg_date type_of_vehicle  \\\n",
      "8199        2021.0               NaN  16-jun-2021    luxury sedan   \n",
      "\n",
      "                                               category  ...      omv  \\\n",
      "8199  parf car, almost new car, low mileage car, hyb...  ...  52492.0   \n",
      "\n",
      "          arf  opc_scheme lifespan   eco_category  \\\n",
      "8199  66486.0         NaN      NaN  uncategorized   \n",
      "\n",
      "                                               features  \\\n",
      "8199  2.0l m274 powerplant with eq boost producing 3...   \n",
      "\n",
      "                                            accessories  indicative_price  \\\n",
      "8199  amg kits and wheels, memory seat, ambient ligh...               NaN   \n",
      "\n",
      "      age  remaining_coe  \n",
      "8199    0            114  \n",
      "\n",
      "[1 rows x 31 columns]\n"
     ]
    }
   ],
   "source": [
    "##train\n",
    "print(df[df.engine_cap == 0])\n",
    "df.at[8199, 'engine_cap'] = np.nan"
   ]
  },
  {
   "cell_type": "code",
   "execution_count": null,
   "metadata": {},
   "outputs": [],
   "source": [
    "plt.boxplot(df['engine_cap'].dropna())"
   ]
  },
  {
   "cell_type": "code",
   "execution_count": 19,
   "metadata": {},
   "outputs": [
    {
     "name": "stdout",
     "output_type": "stream",
     "text": [
      "1982\n"
     ]
    }
   ],
   "source": [
    "df_valid = df.dropna(subset = ['power'])\n",
    "ps = df_valid['power'].to_numpy()\n",
    "\n",
    "missingPs = df.power.isnull()\n",
    "dfm = df[missingPs]\n",
    "missingPower = []\n",
    "for idx, row in dfm.iterrows():\n",
    "    model = row['model']\n",
    "    missingPower.append(model)\n",
    "\n",
    "mapper = defaultdict(list)\n",
    "for idx, row in df_valid.iterrows():\n",
    "    model = row['model']\n",
    "    power = row['power']\n",
    "    mapper[model].append(power)\n",
    "\n",
    "for idx, row in dfm.iterrows():\n",
    "    model = row['model']\n",
    "    if len(mapper[model]):\n",
    "        df.at[idx, 'power'] = np.average(mapper[model])\n",
    "\n",
    "print(df['power'].isnull().sum())"
   ]
  },
  {
   "cell_type": "code",
   "execution_count": 20,
   "metadata": {},
   "outputs": [
    {
     "name": "stdout",
     "output_type": "stream",
     "text": [
      "67\n"
     ]
    }
   ],
   "source": [
    "df_valid = df.dropna(subset = ['engine_cap'])\n",
    "ps = df_valid['engine_cap'].to_numpy()\n",
    "\n",
    "missingPs = df.power.isnull()\n",
    "dfm = df[missingPs]\n",
    "missingPower = []\n",
    "for idx, row in dfm.iterrows():\n",
    "    model = row['model']\n",
    "    missingPower.append(model)\n",
    "\n",
    "mapper = defaultdict(list)\n",
    "for idx, row in df_valid.iterrows():\n",
    "    model = row['model']\n",
    "    power = row['engine_cap']\n",
    "    mapper[model].append(power)\n",
    "\n",
    "for idx, row in dfm.iterrows():\n",
    "    model = row['model']\n",
    "    if len(mapper[model]):\n",
    "        df.at[idx, 'engine_cap'] = np.average(mapper[model])\n",
    "\n",
    "print(df['engine_cap'].isnull().sum())"
   ]
  },
  {
   "cell_type": "code",
   "execution_count": 21,
   "metadata": {},
   "outputs": [],
   "source": [
    "df_valid = df.dropna(subset = ['power', 'engine_cap'])\n",
    "powers = df_valid['power'].to_numpy()\n",
    "caps = df_valid['engine_cap'].to_numpy()\n",
    "\n",
    "k = 10\n",
    "\n",
    "# Loop over each data point in our dataset\n",
    "for idx, row in df.iterrows():\n",
    "    p, e = row['power'], row['engine_cap']\n",
    "    \n",
    "    if type(row[\"power\"]) == float and pd.isna(row[\"power\"]):\n",
    "        diff = np.abs(caps - e)\n",
    "\n",
    "        indices = np.argsort(diff)[:k]\n",
    "\n",
    "        k_powers = powers[indices]\n",
    "\n",
    "        avg = np.average(k_powers)\n",
    "\n",
    "        # Set the weight value of the current row to the median\n",
    "        df.at[idx, 'power'] = avg"
   ]
  },
  {
   "cell_type": "code",
   "execution_count": 22,
   "metadata": {},
   "outputs": [
    {
     "name": "stdout",
     "output_type": "stream",
     "text": [
      "0\n",
      "10000\n",
      "0\n"
     ]
    }
   ],
   "source": [
    "df_valid = df.dropna(subset = ['power', 'engine_cap'])\n",
    "powers = df_valid['power'].to_numpy()\n",
    "caps = df_valid['engine_cap'].to_numpy()\n",
    "\n",
    "k = 10\n",
    "for idx, row in df.iterrows():\n",
    "    if idx % 10000 == 0:\n",
    "        print(idx)\n",
    "\n",
    "    p, e = row['power'], row['engine_cap']\n",
    "    \n",
    "    if type(row[\"engine_cap\"]) == float and pd.isna(row[\"engine_cap\"]):\n",
    "\n",
    "        diff = np.abs(powers - p)\n",
    "\n",
    "        indices = np.argsort(diff)[:k]\n",
    "\n",
    "        k_caps = caps[indices]\n",
    "\n",
    "        avg = np.average(k_caps)\n",
    "\n",
    "        # Set the weight value of the current row to the median\n",
    "        df.at[idx, 'engine_cap'] = avg"
   ]
  },
  {
   "cell_type": "markdown",
   "metadata": {},
   "source": [
    "df_ = df.copy()\n",
    "df_['efficiency'] = df_['power']\n",
    "for i in range(len(df_)):\n",
    "    x = df_.iloc[i]\n",
    "    df_['efficiency'][i] = x['power'] / x['engine_cap']\n",
    "\n",
    "plt.boxplot(df_[df_.fuel_type == 'diesel']['efficiency'])# / diesel['engine_cap'])\n",
    "plt.show()"
   ]
  },
  {
   "cell_type": "code",
   "execution_count": 23,
   "metadata": {},
   "outputs": [],
   "source": [
    "# plt.boxplot(df['power'])# / diesel['engine_cap'])\n",
    "# plt.show()"
   ]
  },
  {
   "cell_type": "code",
   "execution_count": 24,
   "metadata": {},
   "outputs": [],
   "source": [
    "# plt.boxplot(df['engine_cap'])# / diesel['engine_cap'])\n",
    "# plt.show()"
   ]
  },
  {
   "cell_type": "markdown",
   "metadata": {},
   "source": [
    "plt.boxplot(df_[df_.fuel_type == 'petrol']['efficiency'])# / diesel['engine_cap']) ##outlier\n",
    "plt.show()"
   ]
  },
  {
   "cell_type": "markdown",
   "metadata": {},
   "source": [
    "# fill omv, get data with missing omv and dereg_value, fill in the omv\n",
    "is_ = df[df.omv.isnull() & df.dereg_value.isnull()].index.tolist()\n",
    "filled_omvs = []\n",
    "for idx in is_:\n",
    "    ag = df.at[idx, 'age']\n",
    "    price = df.at[idx, 'price']\n",
    "    mo = reg.predict(np.array([[ag, price]]))\n",
    "    filled_omvs.append(mo)\n",
    "for i, idx in enumerate(is_):\n",
    "    df.at[idx, 'omv'] = filled_omvs[i]"
   ]
  },
  {
   "cell_type": "code",
   "execution_count": null,
   "metadata": {},
   "outputs": [],
   "source": [
    "print(df['coe'].isnull().sum())"
   ]
  },
  {
   "cell_type": "code",
   "execution_count": null,
   "metadata": {},
   "outputs": [],
   "source": [
    "plt.boxplot(df['coe'].dropna())\n",
    "plt.show()"
   ]
  },
  {
   "cell_type": "code",
   "execution_count": 25,
   "metadata": {},
   "outputs": [
    {
     "name": "stdout",
     "output_type": "stream",
     "text": [
      "0\n"
     ]
    }
   ],
   "source": [
    "# coe: fill in missing value for coe according to: age and power\n",
    "fill_arf = df[df.arf.isnull()]\n",
    "for idx, row in fill_arf.iterrows():\n",
    "    omv = row['omv']\n",
    "    if omv < 20000:\n",
    "        df.at[idx, 'arf'] = omv\n",
    "    elif omv >= 20000 and omv <= 50000:\n",
    "        df.at[idx, 'arf'] = (omv - 20000) * 1.40 + 20000\n",
    "    else:\n",
    "        df.at[idx, 'arf'] =  (omv - 50000) * 1.80 + 62000\n",
    "print(len(df[df.arf.isnull()]))\n",
    "# df = df[~(df.arf.isnull() & df.dereg_value.isnull())] # remove values whose dereg_value cannot be calculated"
   ]
  },
  {
   "cell_type": "code",
   "execution_count": 26,
   "metadata": {},
   "outputs": [
    {
     "name": "stdout",
     "output_type": "stream",
     "text": [
      "32\n"
     ]
    }
   ],
   "source": [
    "# for date missing both coe and dereg_value, record it's month engine and power\n",
    "coe_to_search = []\n",
    "to_search = df[df.coe.isnull() & df.dereg_value.isnull()]\n",
    "\n",
    "for idx, row in to_search.iterrows():\n",
    "    # category -> A / B\n",
    "    power = row[\"power\"]\n",
    "    engine_cap = row[\"engine_cap\"]\n",
    "    cat = 2\n",
    "    month = row[\"age\"]\n",
    "    if engine_cap <= 1600 and power <= 97:\n",
    "        cat = 1\n",
    "    coe_to_search.append((cat, month))\n",
    "\n",
    "coe_to_search = list(set(coe_to_search))\n",
    "print(len(coe_to_search))"
   ]
  },
  {
   "cell_type": "code",
   "execution_count": 27,
   "metadata": {},
   "outputs": [
    {
     "name": "stdout",
     "output_type": "stream",
     "text": [
      "0\n",
      "10000\n",
      "1130\n"
     ]
    }
   ],
   "source": [
    "t_to_coe = {}\n",
    "\n",
    "for t in coe_to_search:\n",
    "    t_to_coe[str(t)] = []\n",
    "\n",
    "remains = df[~df.coe.isnull()]\n",
    "\n",
    "for idx, row in remains.iterrows():\n",
    "    if idx % 10000 == 0:\n",
    "        print(idx)\n",
    "\n",
    "    power = row[\"power\"]\n",
    "    engine_cap = row[\"engine_cap\"]\n",
    "    cat = 2\n",
    "    month = row[\"age\"]\n",
    "    if engine_cap <= 1600 and power <= 97:\n",
    "        cat = 1\n",
    "    \n",
    "    t = (cat, month)\n",
    "    \n",
    "    coe = row[\"coe\"]\n",
    "    if t in coe_to_search:\n",
    "        t_to_coe[str(t)].append(coe)\n",
    "        \n",
    "c = 0\n",
    "for idx, row in df.iterrows():\n",
    "    power = row[\"power\"]\n",
    "    engine_cap = row[\"engine_cap\"]\n",
    "    cat = 2\n",
    "    month = row[\"age\"]\n",
    "    if engine_cap <= 1600 and power <= 97:\n",
    "        cat = 1\n",
    "    t = str((cat, month))\n",
    "\n",
    "    if type(row[\"coe\"]) == float and pd.isna(row[\"coe\"]):\n",
    "        if t in t_to_coe:\n",
    "            l = t_to_coe[t]\n",
    "            if len(l) > 0:\n",
    "                avg = sum(l) / len(l)\n",
    "                df.at[idx, 'coe'] = avg\n",
    "                c += 1\n",
    "print(c)"
   ]
  },
  {
   "cell_type": "code",
   "execution_count": 28,
   "metadata": {},
   "outputs": [],
   "source": [
    "avg = np.average(df[df.coe.isnull()]['coe'])\n",
    "df['coe'] = df['coe'].fillna(avg)"
   ]
  },
  {
   "cell_type": "code",
   "execution_count": 29,
   "metadata": {},
   "outputs": [
    {
     "name": "stdout",
     "output_type": "stream",
     "text": [
      "<class 'pandas.core.frame.DataFrame'>\n",
      "Int64Index: 21751 entries, 0 to 4999\n",
      "Data columns (total 31 columns):\n",
      " #   Column             Non-Null Count  Dtype  \n",
      "---  ------             --------------  -----  \n",
      " 0   listing_id         21751 non-null  int64  \n",
      " 1   title              21751 non-null  object \n",
      " 2   make               21751 non-null  object \n",
      " 3   model              21751 non-null  object \n",
      " 4   description        21295 non-null  object \n",
      " 5   manufactured       21497 non-null  float64\n",
      " 6   original_reg_date  415 non-null    object \n",
      " 7   reg_date           21490 non-null  object \n",
      " 8   type_of_vehicle    21751 non-null  object \n",
      " 9   category           21751 non-null  object \n",
      " 10  transmission       21751 non-null  object \n",
      " 11  curb_weight        21040 non-null  float64\n",
      " 12  power              21751 non-null  float64\n",
      " 13  fuel_type          4539 non-null   object \n",
      " 14  engine_cap         21751 non-null  float64\n",
      " 15  no_of_owners       21520 non-null  float64\n",
      " 16  depreciation       21187 non-null  float64\n",
      " 17  coe                21747 non-null  float64\n",
      " 18  road_tax           18988 non-null  float64\n",
      " 19  dereg_value        20231 non-null  float64\n",
      " 20  mileage            21751 non-null  float64\n",
      " 21  omv                21751 non-null  float64\n",
      " 22  arf                21751 non-null  float64\n",
      " 23  opc_scheme         265 non-null    object \n",
      " 24  lifespan           2204 non-null   object \n",
      " 25  eco_category       21751 non-null  object \n",
      " 26  features           21169 non-null  object \n",
      " 27  accessories        18105 non-null  object \n",
      " 28  indicative_price   0 non-null      float64\n",
      " 29  age                21751 non-null  int64  \n",
      " 30  remaining_coe      21751 non-null  int64  \n",
      "dtypes: float64(13), int64(3), object(15)\n",
      "memory usage: 5.8+ MB\n"
     ]
    }
   ],
   "source": [
    "df.info()\n",
    "df.to_csv('combined1.csv')"
   ]
  },
  {
   "cell_type": "code",
   "execution_count": 30,
   "metadata": {},
   "outputs": [],
   "source": [
    "import math\n",
    "prices = pd.read_csv('train.csv')['price']\n",
    "for idx, row in df.iterrows():\n",
    "    if pd.isna(row[\"dereg_value\"]):\n",
    "        max_age = 10 * 12\n",
    "        age = row[\"age\"]\n",
    "        time_left = max_age - age\n",
    "        coe = row[\"coe\"]\n",
    "        omv = row[\"omv\"]\n",
    "        arf = row[\"arf\"]\n",
    "        parf_ratio = 0\n",
    "        if age <  5 * 12:\n",
    "            parf_ratio = 0.75\n",
    "        elif age >= 5 * 12 and age < 10 * 12:\n",
    "            parf_ratio = 0.75 - math.ceil((age - 5 * 12) / 12) * 0.05 \n",
    "        remaining_coe = row['remaining_coe']\n",
    "        depreciation = row['depreciation']\n",
    "        if type(depreciation) == float and not pd.isna(depreciation) and idx <= trainLen:\n",
    "            min_parf = min(omv, arf)\n",
    "            if age <= 96:\n",
    "                min_parf = 0.5 * arf\n",
    "            new_coe = (prices.iloc[idx] - 0.5 * min_parf) / depreciation\n",
    "            if new_coe <= 120 and new_coe >= 0:\n",
    "                remaining_coe = new_coe\n",
    "        coe_rebate = coe * remaining_coe / 120\n",
    "        dereg_value = parf_ratio * arf + coe_rebate\n",
    "        if dereg_value <= 0:\n",
    "            dereg_value = 0\n",
    "        df.at[idx, \"dereg_value\"] = dereg_value"
   ]
  },
  {
   "cell_type": "code",
   "execution_count": 31,
   "metadata": {},
   "outputs": [
    {
     "name": "stdout",
     "output_type": "stream",
     "text": [
      "<class 'pandas.core.frame.DataFrame'>\n",
      "Int64Index: 21751 entries, 0 to 4999\n",
      "Data columns (total 31 columns):\n",
      " #   Column             Non-Null Count  Dtype  \n",
      "---  ------             --------------  -----  \n",
      " 0   listing_id         21751 non-null  int64  \n",
      " 1   title              21751 non-null  object \n",
      " 2   make               21751 non-null  object \n",
      " 3   model              21751 non-null  object \n",
      " 4   description        21295 non-null  object \n",
      " 5   manufactured       21497 non-null  float64\n",
      " 6   original_reg_date  415 non-null    object \n",
      " 7   reg_date           21490 non-null  object \n",
      " 8   type_of_vehicle    21751 non-null  object \n",
      " 9   category           21751 non-null  object \n",
      " 10  transmission       21751 non-null  object \n",
      " 11  curb_weight        21040 non-null  float64\n",
      " 12  power              21751 non-null  float64\n",
      " 13  fuel_type          4539 non-null   object \n",
      " 14  engine_cap         21751 non-null  float64\n",
      " 15  no_of_owners       21520 non-null  float64\n",
      " 16  depreciation       21187 non-null  float64\n",
      " 17  coe                21747 non-null  float64\n",
      " 18  road_tax           18988 non-null  float64\n",
      " 19  dereg_value        21744 non-null  float64\n",
      " 20  mileage            21751 non-null  float64\n",
      " 21  omv                21751 non-null  float64\n",
      " 22  arf                21751 non-null  float64\n",
      " 23  opc_scheme         265 non-null    object \n",
      " 24  lifespan           2204 non-null   object \n",
      " 25  eco_category       21751 non-null  object \n",
      " 26  features           21169 non-null  object \n",
      " 27  accessories        18105 non-null  object \n",
      " 28  indicative_price   0 non-null      float64\n",
      " 29  age                21751 non-null  int64  \n",
      " 30  remaining_coe      21751 non-null  int64  \n",
      "dtypes: float64(13), int64(3), object(15)\n",
      "memory usage: 5.8+ MB\n",
      "21751\n"
     ]
    }
   ],
   "source": [
    "df.info()\n",
    "print(trainLen + 5000)"
   ]
  },
  {
   "cell_type": "code",
   "execution_count": 32,
   "metadata": {},
   "outputs": [],
   "source": [
    "## train\n",
    "df_train = df[:trainLen]\n",
    "df_test = df[trainLen:]\n",
    "df_train.to_csv('train_raw.csv')\n",
    "df_test.to_csv('test_raw.csv')\n"
   ]
  },
  {
   "cell_type": "code",
   "execution_count": 258,
   "metadata": {},
   "outputs": [],
   "source": [
    "df_train = pd.read_csv('train_raw.csv')\n",
    "df_test = pd.read_csv('test_raw.csv')"
   ]
  },
  {
   "cell_type": "code",
   "execution_count": 33,
   "metadata": {},
   "outputs": [
    {
     "name": "stdout",
     "output_type": "stream",
     "text": [
      "<class 'pandas.core.frame.DataFrame'>\n",
      "Int64Index: 16319 entries, 0 to 16783\n",
      "Data columns (total 31 columns):\n",
      " #   Column             Non-Null Count  Dtype  \n",
      "---  ------             --------------  -----  \n",
      " 0   listing_id         16319 non-null  int64  \n",
      " 1   title              16319 non-null  object \n",
      " 2   make               16319 non-null  object \n",
      " 3   model              16319 non-null  object \n",
      " 4   description        15980 non-null  object \n",
      " 5   manufactured       16313 non-null  float64\n",
      " 6   original_reg_date  40 non-null     object \n",
      " 7   reg_date           16319 non-null  object \n",
      " 8   type_of_vehicle    16319 non-null  object \n",
      " 9   category           16319 non-null  object \n",
      " 10  transmission       16319 non-null  object \n",
      " 11  curb_weight        15968 non-null  float64\n",
      " 12  power              16319 non-null  float64\n",
      " 13  fuel_type          3404 non-null   object \n",
      " 14  engine_cap         16319 non-null  float64\n",
      " 15  no_of_owners       16313 non-null  float64\n",
      " 16  depreciation       16319 non-null  float64\n",
      " 17  coe                16316 non-null  float64\n",
      " 18  road_tax           14259 non-null  float64\n",
      " 19  dereg_value        16316 non-null  float64\n",
      " 20  mileage            16319 non-null  float64\n",
      " 21  omv                16319 non-null  float64\n",
      " 22  arf                16319 non-null  float64\n",
      " 23  opc_scheme         207 non-null    object \n",
      " 24  lifespan           1677 non-null   object \n",
      " 25  eco_category       16319 non-null  object \n",
      " 26  features           15900 non-null  object \n",
      " 27  accessories        13603 non-null  object \n",
      " 28  indicative_price   0 non-null      float64\n",
      " 29  age                16319 non-null  int64  \n",
      " 30  remaining_coe      16319 non-null  int64  \n",
      "dtypes: float64(13), int64(3), object(15)\n",
      "memory usage: 4.0+ MB\n"
     ]
    }
   ],
   "source": [
    "df = df_train.dropna(subset = ['depreciation'])\n",
    "df.info()"
   ]
  },
  {
   "cell_type": "code",
   "execution_count": 329,
   "metadata": {},
   "outputs": [
    {
     "name": "stdout",
     "output_type": "stream",
     "text": [
      "<class 'pandas.core.frame.DataFrame'>\n",
      "Int64Index: 16256 entries, 0 to 16717\n",
      "Data columns (total 31 columns):\n",
      " #   Column             Non-Null Count  Dtype  \n",
      "---  ------             --------------  -----  \n",
      " 0   listing_id         16256 non-null  int64  \n",
      " 1   title              16256 non-null  object \n",
      " 2   make               16256 non-null  object \n",
      " 3   model              16256 non-null  object \n",
      " 4   description        15918 non-null  object \n",
      " 5   manufactured       16250 non-null  float64\n",
      " 6   original_reg_date  40 non-null     object \n",
      " 7   reg_date           16256 non-null  object \n",
      " 8   type_of_vehicle    16256 non-null  object \n",
      " 9   category           16256 non-null  object \n",
      " 10  transmission       16256 non-null  object \n",
      " 11  curb_weight        15909 non-null  float64\n",
      " 12  power              16256 non-null  float64\n",
      " 13  fuel_type          3389 non-null   object \n",
      " 14  engine_cap         16256 non-null  float64\n",
      " 15  no_of_owners       16250 non-null  float64\n",
      " 16  depreciation       16256 non-null  float64\n",
      " 17  coe                16253 non-null  float64\n",
      " 18  road_tax           14202 non-null  float64\n",
      " 19  dereg_value        16253 non-null  float64\n",
      " 20  mileage            16256 non-null  float64\n",
      " 21  omv                16256 non-null  float64\n",
      " 22  arf                16256 non-null  float64\n",
      " 23  opc_scheme         206 non-null    object \n",
      " 24  lifespan           1672 non-null   object \n",
      " 25  eco_category       16256 non-null  object \n",
      " 26  features           15840 non-null  object \n",
      " 27  accessories        13547 non-null  object \n",
      " 28  indicative_price   0 non-null      float64\n",
      " 29  age                16256 non-null  int64  \n",
      " 30  remaining_coe      16256 non-null  int64  \n",
      "dtypes: float64(13), int64(3), object(15)\n",
      "memory usage: 4.0+ MB\n"
     ]
    }
   ],
   "source": [
    "df = df_train.dropna(subset = ['depreciation'])\n",
    "df.info()"
   ]
  },
  {
   "cell_type": "code",
   "execution_count": 34,
   "metadata": {},
   "outputs": [
    {
     "name": "stdout",
     "output_type": "stream",
     "text": [
      "<class 'pandas.core.frame.DataFrame'>\n",
      "Int64Index: 5000 entries, 0 to 4999\n",
      "Data columns (total 31 columns):\n",
      " #   Column             Non-Null Count  Dtype  \n",
      "---  ------             --------------  -----  \n",
      " 0   listing_id         5000 non-null   int64  \n",
      " 1   title              5000 non-null   object \n",
      " 2   make               5000 non-null   object \n",
      " 3   model              5000 non-null   object \n",
      " 4   description        4889 non-null   object \n",
      " 5   manufactured       4939 non-null   float64\n",
      " 6   original_reg_date  100 non-null    object \n",
      " 7   reg_date           4939 non-null   object \n",
      " 8   type_of_vehicle    5000 non-null   object \n",
      " 9   category           5000 non-null   object \n",
      " 10  transmission       5000 non-null   object \n",
      " 11  curb_weight        4844 non-null   float64\n",
      " 12  power              5000 non-null   float64\n",
      " 13  fuel_type          1051 non-null   object \n",
      " 14  engine_cap         5000 non-null   float64\n",
      " 15  no_of_owners       4944 non-null   float64\n",
      " 16  depreciation       4868 non-null   float64\n",
      " 17  coe                5000 non-null   float64\n",
      " 18  road_tax           4366 non-null   float64\n",
      " 19  dereg_value        5000 non-null   float64\n",
      " 20  mileage            5000 non-null   float64\n",
      " 21  omv                5000 non-null   float64\n",
      " 22  arf                5000 non-null   float64\n",
      " 23  opc_scheme         58 non-null     object \n",
      " 24  lifespan           504 non-null    object \n",
      " 25  eco_category       5000 non-null   object \n",
      " 26  features           4873 non-null   object \n",
      " 27  accessories        4159 non-null   object \n",
      " 28  indicative_price   0 non-null      float64\n",
      " 29  age                5000 non-null   int64  \n",
      " 30  remaining_coe      5000 non-null   int64  \n",
      "dtypes: float64(13), int64(3), object(15)\n",
      "memory usage: 1.3+ MB\n"
     ]
    }
   ],
   "source": [
    "df_test_ = df_test.copy()\n",
    "for idx, row in df_test.iterrows():\n",
    "    if pd.isnull(row[\"dereg_value\"]):\n",
    "        max_age = 10 * 12\n",
    "        age = row[\"age\"]\n",
    "        time_left = max_age - age\n",
    "        coe = row[\"coe\"]\n",
    "        omv = row[\"omv\"]\n",
    "        arf = row[\"arf\"]\n",
    "        parf_ratio = 0\n",
    "        if age <  5 * 12:\n",
    "            parf_ratio = 0.75\n",
    "        elif age >= 5 * 12 and age < 10 * 12:\n",
    "            parf_ratio = 0.75 - math.ceil((age - 5 * 12) / 12) * 0.05 \n",
    "        remaining_coe = row['remaining_coe']\n",
    "        coe_rebate = coe * remaining_coe / 120\n",
    "        dereg_value = parf_ratio * arf + coe_rebate\n",
    "        df_test_.at[idx, \"dereg_value\"] = dereg_value\n",
    "\n",
    "df_test_.info()"
   ]
  },
  {
   "cell_type": "code",
   "execution_count": 35,
   "metadata": {},
   "outputs": [
    {
     "name": "stdout",
     "output_type": "stream",
     "text": [
      "<class 'pandas.core.frame.DataFrame'>\n",
      "Int64Index: 5000 entries, 0 to 4999\n",
      "Data columns (total 15 columns):\n",
      " #   Column           Non-Null Count  Dtype  \n",
      "---  ------           --------------  -----  \n",
      " 0   depreciation     4868 non-null   float64\n",
      " 1   omv              5000 non-null   float64\n",
      " 2   arf              5000 non-null   float64\n",
      " 3   age              5000 non-null   int64  \n",
      " 4   remaining_coe    5000 non-null   int64  \n",
      " 5   dereg_value      5000 non-null   float64\n",
      " 6   truck            5000 non-null   uint8  \n",
      " 7   suv              5000 non-null   uint8  \n",
      " 8   sports car       5000 non-null   uint8  \n",
      " 9   luxury sedan     5000 non-null   uint8  \n",
      " 10  bus/mini bus     5000 non-null   uint8  \n",
      " 11  mid-sized sedan  5000 non-null   uint8  \n",
      " 12  stationwagon     5000 non-null   uint8  \n",
      " 13  hatchback        5000 non-null   uint8  \n",
      " 14  mpv              5000 non-null   uint8  \n",
      "dtypes: float64(4), int64(2), uint8(9)\n",
      "memory usage: 446.4 KB\n"
     ]
    }
   ],
   "source": [
    "df_test = df_test_.copy()\n",
    "useful = ['depreciation', 'omv', 'arf', 'age', 'remaining_coe', 'dereg_value', 'truck', 'suv', 'sports car', 'luxury sedan',\\\n",
    "         'bus/mini bus', 'mid-sized sedan', 'stationwagon', 'hatchback', 'mpv']\n",
    "cars_dummies = pd.get_dummies(df_test['type_of_vehicle'])\n",
    "df_test = pd.concat([df_test, cars_dummies], axis=1)\n",
    "df_test = df_test[useful]\n",
    "df_test.to_csv('./test/with_dep.csv')\n",
    "df_test.info()"
   ]
  },
  {
   "cell_type": "code",
   "execution_count": 36,
   "metadata": {},
   "outputs": [
    {
     "name": "stdout",
     "output_type": "stream",
     "text": [
      "[706, 1026, 1770, 1889, 1904, 2015, 2062, 2282, 2633, 3224, 38, 137, 160, 194, 236, 240, 310, 371, 382, 387, 393, 430, 434, 436, 559, 565, 582, 711, 752, 753, 793, 881, 886, 888, 903, 965, 1004, 1020, 1145, 1152, 1238, 1255, 1289, 1292, 1345, 1393, 1459, 1510, 1540, 1607, 1677, 1715, 1739, 1750, 1772, 1826, 1850, 1851, 1889, 1893, 1896, 1902, 1917, 1938, 1992, 2045, 2054, 2061, 2066, 2070, 2087, 2154, 2177, 2243, 2285, 2298, 2307, 2389, 2434, 2452, 2462, 2476, 2512, 2516, 2557, 2561, 2678, 2746, 2806, 2809, 2843, 2904, 2917, 2920, 2922, 2941, 2976, 3031, 3032, 3079, 3102, 3184, 3187, 3222, 3356, 3452, 3459, 3524, 3527, 3582, 3642, 3661, 3697, 3789, 3901, 3946, 4056, 4113, 4128, 4168, 4180, 4233, 4264, 4270, 4289, 4291, 4344, 4459, 4517, 4564, 4591, 4671, 4682, 4692, 4696, 4708, 4709, 4790, 4836, 4889, 4929, 4990]\n",
      "<class 'pandas.core.frame.DataFrame'>\n",
      "Int64Index: 4868 entries, 0 to 4999\n",
      "Data columns (total 16 columns):\n",
      " #   Column           Non-Null Count  Dtype  \n",
      "---  ------           --------------  -----  \n",
      " 0   Unnamed: 0       4868 non-null   int64  \n",
      " 1   depreciation     4868 non-null   float64\n",
      " 2   omv              4868 non-null   float64\n",
      " 3   arf              4868 non-null   float64\n",
      " 4   age              4868 non-null   int64  \n",
      " 5   remaining_coe    4868 non-null   int64  \n",
      " 6   dereg_value      4868 non-null   float64\n",
      " 7   truck            4868 non-null   int64  \n",
      " 8   suv              4868 non-null   int64  \n",
      " 9   sports car       4868 non-null   int64  \n",
      " 10  luxury sedan     4868 non-null   int64  \n",
      " 11  bus/mini bus     4868 non-null   int64  \n",
      " 12  mid-sized sedan  4868 non-null   int64  \n",
      " 13  stationwagon     4868 non-null   int64  \n",
      " 14  hatchback        4868 non-null   int64  \n",
      " 15  mpv              4868 non-null   int64  \n",
      "dtypes: float64(4), int64(12)\n",
      "memory usage: 646.5 KB\n"
     ]
    }
   ],
   "source": [
    "# l = df_test[~df_test.depreciation.isnull()]['listing_id'].tolist()\n",
    "# print(l)\n",
    "df_test = pd.read_csv('./test/with_dep.csv')\n",
    "depL = df_test[df_test.depreciation.isnull()].index.tolist()\n",
    "print(omvL + depL)\n",
    "L = omvL + depL\n",
    "df_test = df_test.dropna(subset=['depreciation'])\n",
    "df_test.info()"
   ]
  },
  {
   "cell_type": "code",
   "execution_count": 37,
   "metadata": {},
   "outputs": [
    {
     "name": "stdout",
     "output_type": "stream",
     "text": [
      "<class 'pandas.core.frame.DataFrame'>\n",
      "Int64Index: 4868 entries, 0 to 4999\n",
      "Data columns (total 15 columns):\n",
      " #   Column           Non-Null Count  Dtype  \n",
      "---  ------           --------------  -----  \n",
      " 0   depreciation     4868 non-null   float64\n",
      " 1   omv              4868 non-null   float64\n",
      " 2   arf              4868 non-null   float64\n",
      " 3   age              4868 non-null   int64  \n",
      " 4   remaining_coe    4868 non-null   int64  \n",
      " 5   dereg_value      4868 non-null   float64\n",
      " 6   truck            4868 non-null   int64  \n",
      " 7   suv              4868 non-null   int64  \n",
      " 8   sports car       4868 non-null   int64  \n",
      " 9   luxury sedan     4868 non-null   int64  \n",
      " 10  bus/mini bus     4868 non-null   int64  \n",
      " 11  mid-sized sedan  4868 non-null   int64  \n",
      " 12  stationwagon     4868 non-null   int64  \n",
      " 13  hatchback        4868 non-null   int64  \n",
      " 14  mpv              4868 non-null   int64  \n",
      "dtypes: float64(4), int64(11)\n",
      "memory usage: 608.5 KB\n"
     ]
    }
   ],
   "source": [
    "useful = ['depreciation', 'omv', 'arf', 'age', 'remaining_coe', 'dereg_value', 'truck', 'suv', 'sports car', 'luxury sedan',\\\n",
    "         'bus/mini bus', 'mid-sized sedan', 'stationwagon', 'hatchback', 'mpv']\n",
    "df_test = df_test[useful]\n",
    "df_test.to_csv('./test/without_null_dep.csv')\n",
    "df_test.info()"
   ]
  },
  {
   "cell_type": "code",
   "execution_count": null,
   "metadata": {},
   "outputs": [],
   "source": [
    "\n",
    "# # depreciation: model, age, mileage based on df\n",
    "# mam_dep = defaultdict(list)\n",
    "# for idx, row in df.iterrows():\n",
    "#     #500\n",
    "#     m1 = row['model']\n",
    "#     m2 = row['mileage'] // 500 * 500\n",
    "#     a = row['age'] // 18 * 18\n",
    "#     t = (m1,m2,a)\n",
    "#     mam_dep[t].append(row['depreciation'])\n",
    "\n",
    "# for idx, row in df_test.iterrows():\n",
    "#     #500\n",
    "#     dep = row['depreciation']\n",
    "#     if type(dep) == float and pd.isna(dep):\n",
    "#         m1 = row['model']\n",
    "#         m2 = row['mileage'] // 500 * 500\n",
    "#         a = row['age'] // 18 * 18\n",
    "#         t = (m1,m2,a)\n",
    "#         df_test.at[idx, 'depreciation'] = np.average(mam_dep[t])\n",
    "# print(df_test['depreciation'].isnull().sum())"
   ]
  },
  {
   "cell_type": "code",
   "execution_count": null,
   "metadata": {},
   "outputs": [],
   "source": [
    "# # depreciation: model, age, mileage based on df\n",
    "# mam_dep = defaultdict(list)\n",
    "# for idx, row in df.iterrows():\n",
    "#     #500\n",
    "#     m1 = row['model']\n",
    "#     m2 = row['mileage'] // 1000 * 1000\n",
    "#     a = row['age'] // 48 * 48\n",
    "#     t = (m1,m2,a)\n",
    "#     mam_dep[t].append(row['depreciation'])\n",
    "\n",
    "# for idx, row in df_test.iterrows():\n",
    "#     #500\n",
    "#     dep = row['depreciation']\n",
    "#     if type(dep) == float and pd.isna(dep):\n",
    "#         m1 = row['model']\n",
    "#         m2 = row['mileage']// 1000 * 1000\n",
    "#         a = row['age'] // 48 * 48\n",
    "#         t = (m1,m2,a)\n",
    "#         df_test.at[idx, 'depreciation'] = np.average(mam_dep[t])\n",
    "# print(df_test['depreciation'].isnull().sum())"
   ]
  },
  {
   "cell_type": "code",
   "execution_count": null,
   "metadata": {},
   "outputs": [],
   "source": [
    "# # depreciation: model, age, mileage based on df\n",
    "# mam_dep = defaultdict(list)\n",
    "# for idx, row in df.iterrows():\n",
    "#     #500\n",
    "#     m1 = row['make']\n",
    "#     m2 = row['mileage'] // 500 * 500\n",
    "#     a = row['age'] // 18 * 18\n",
    "#     p = row['power'] // 20 *20\n",
    "#     t = (m1,m2,a, p)\n",
    "#     mam_dep[t].append(row['depreciation'])\n",
    "\n",
    "# for idx, row in df_test.iterrows():\n",
    "#     #500\n",
    "#     dep = row['depreciation']\n",
    "#     if type(dep) == float and pd.isna(dep):\n",
    "#         m1 = row['make']\n",
    "#         m2 = row['mileage'] // 500 * 500\n",
    "#         a = row['age'] // 18 * 18\n",
    "#         p = row['power'] // 20 *20\n",
    "#         t = (m1,m2,a, p)\n",
    "#         df_test.at[idx, 'depreciation'] = np.average(mam_dep[t])\n",
    "# print(df_test['depreciation'].isnull().sum())"
   ]
  },
  {
   "cell_type": "code",
   "execution_count": null,
   "metadata": {},
   "outputs": [],
   "source": [
    "# # depreciation: model, age, mileage based on df\n",
    "# mam_dep = defaultdict(list)\n",
    "# for idx, row in df.iterrows():\n",
    "#     #500\n",
    "#     m1 = row['make']\n",
    "#     m2 = row['mileage'] // 500 * 500\n",
    "#     a = row['age'] // 18 * 18\n",
    "#     p = row['power'] // 50 * 50\n",
    "#     t = (m1,m2,a, p)\n",
    "#     mam_dep[t].append(row['depreciation'])\n",
    "\n",
    "# for idx, row in df_test.iterrows():\n",
    "#     #500\n",
    "#     dep = row['depreciation']\n",
    "#     if type(dep) == float and pd.isna(dep):\n",
    "#         m1 = row['make']\n",
    "#         m2 = row['mileage'] // 500 * 500\n",
    "#         a = row['age'] // 18 * 18\n",
    "#         p = row['power'] // 50 * 50\n",
    "#         t = (m1,m2,a, p)\n",
    "#         df_test.at[idx, 'depreciation'] = np.average(mam_dep[t])\n",
    "# print(df_test['depreciation'].isnull().sum())"
   ]
  },
  {
   "cell_type": "code",
   "execution_count": null,
   "metadata": {},
   "outputs": [],
   "source": [
    "# # depreciation: model, age, mileage based on df\n",
    "# mam_dep = defaultdict(list)\n",
    "# for idx, row in df.iterrows():\n",
    "#     #500\n",
    "#     m1 = row['model']\n",
    "#     a = row['age'] // 24 * 24\n",
    "#     t = (m1,a)\n",
    "#     mam_dep[t].append(row['depreciation'])\n",
    "\n",
    "# for idx, row in df_test.iterrows():\n",
    "#     #500\n",
    "#     dep = row['depreciation']\n",
    "#     if type(dep) == float and pd.isna(dep):\n",
    "#         m1 = row['model']\n",
    "#         a = row['age'] // 24 * 24\n",
    "#         t = (m1,a)\n",
    "#         df_test.at[idx, 'depreciation'] = np.average(mam_dep[t])\n",
    "# print(df_test['depreciation'].isnull().sum())"
   ]
  },
  {
   "cell_type": "code",
   "execution_count": null,
   "metadata": {},
   "outputs": [],
   "source": [
    "# # depreciation: model, age, mileage based on df\n",
    "# mam_dep = defaultdict(list)\n",
    "# for idx, row in df.iterrows():\n",
    "#     #500\n",
    "#     m1 = row['model']\n",
    "#     a = row['age'] // 48 * 48\n",
    "#     t = (m1,a)\n",
    "#     mam_dep[t].append(row['depreciation'])\n",
    "\n",
    "# for idx, row in df_test.iterrows():\n",
    "#     #500\n",
    "#     dep = row['depreciation']\n",
    "#     if type(dep) == float and pd.isna(dep):\n",
    "#         m1 = row['model']\n",
    "#         a = row['age'] // 48 * 48\n",
    "#         t = (m1,a)\n",
    "#         df_test.at[idx, 'depreciation'] = np.average(mam_dep[t])\n",
    "# print(df_test['depreciation'].isnull().sum())"
   ]
  },
  {
   "cell_type": "code",
   "execution_count": null,
   "metadata": {},
   "outputs": [],
   "source": [
    "# # depreciation: model, age, mileage based on df\n",
    "# mam_dep = defaultdict(list)\n",
    "# for idx, row in df.iterrows():\n",
    "#     #500\n",
    "#     m1 = row['make']\n",
    "#     a = row['age'] // 48 * 48\n",
    "#     p = row['power'] // 50 * 50\n",
    "#     t = (m1,a, p)\n",
    "#     mam_dep[t].append(row['depreciation'])\n",
    "\n",
    "# for idx, row in df_test.iterrows():\n",
    "#     #500\n",
    "#     dep = row['depreciation']\n",
    "#     if type(dep) == float and pd.isna(dep):\n",
    "#         m1 = row['make']\n",
    "#         a = row['age'] // 48 * 48\n",
    "#         p = row['power'] // 50 * 50\n",
    "#         t = (m1,a, p)\n",
    "#         df_test.at[idx, 'depreciation'] = np.average(mam_dep[t])\n",
    "# print(df_test['depreciation'].isnull().sum())"
   ]
  },
  {
   "cell_type": "code",
   "execution_count": 248,
   "metadata": {},
   "outputs": [
    {
     "name": "stdout",
     "output_type": "stream",
     "text": [
      "<class 'pandas.core.frame.DataFrame'>\n",
      "Int64Index: 4863 entries, 0 to 4993\n",
      "Data columns (total 17 columns):\n",
      " #   Column           Non-Null Count  Dtype  \n",
      "---  ------           --------------  -----  \n",
      " 0   Unnamed: 0       4863 non-null   int64  \n",
      " 1   Unnamed: 0.1     4863 non-null   int64  \n",
      " 2   depreciation     4863 non-null   float64\n",
      " 3   omv              4863 non-null   float64\n",
      " 4   arf              4863 non-null   float64\n",
      " 5   age              4863 non-null   int64  \n",
      " 6   remaining_coe    4863 non-null   int64  \n",
      " 7   dereg_value      4860 non-null   float64\n",
      " 8   truck            4863 non-null   int64  \n",
      " 9   suv              4863 non-null   int64  \n",
      " 10  sports car       4863 non-null   int64  \n",
      " 11  luxury sedan     4863 non-null   int64  \n",
      " 12  bus/mini bus     4863 non-null   int64  \n",
      " 13  mid-sized sedan  4863 non-null   int64  \n",
      " 14  stationwagon     4863 non-null   int64  \n",
      " 15  hatchback        4863 non-null   int64  \n",
      " 16  mpv              4863 non-null   int64  \n",
      "dtypes: float64(4), int64(13)\n",
      "memory usage: 683.9 KB\n"
     ]
    }
   ],
   "source": [
    "\n",
    "# for idx, row in df_test.iterrows():\n",
    "#     if type(row[\"dereg_value\"]) == float and pd.isna(row[\"dereg_value\"]):\n",
    "#         max_age = 10 * 12\n",
    "#         age = row[\"age\"]\n",
    "#         time_left = max_age - age\n",
    "#         coe = row[\"coe\"]\n",
    "#         omv = row[\"omv\"]\n",
    "#         arf = row[\"arf\"]\n",
    "#         parf_ratio = 0\n",
    "#         if age <  5 * 12:\n",
    "#             parf_ratio = 0.75\n",
    "#         elif age >= 5 * 12 and age < 10 * 12:\n",
    "#             parf_ratio = 0.75 - math.ceil((age - 5 * 12) / 12) * 0.05 \n",
    "#         remaining_coe = row['remaining_coe']\n",
    "#         depreciation = row['depreciation']\n",
    "#         coe_rebate = coe * remaining_coe / 120\n",
    "#         dereg_value = parf_ratio * arf + coe_rebate\n",
    "#         if dereg_value <= 0:\n",
    "#             dereg_value = 0\n",
    "#         df_test.at[idx, \"dereg_value\"] = dereg_value\n",
    "# # df_test = df_test.dropna()\n",
    "# df_test.info()"
   ]
  },
  {
   "cell_type": "code",
   "execution_count": 347,
   "metadata": {},
   "outputs": [
    {
     "name": "stdout",
     "output_type": "stream",
     "text": [
      "<class 'pandas.core.frame.DataFrame'>\n",
      "Int64Index: 16368 entries, 0 to 16367\n",
      "Data columns (total 43 columns):\n",
      " #   Column             Non-Null Count  Dtype  \n",
      "---  ------             --------------  -----  \n",
      " 0   listing_id         16368 non-null  int64  \n",
      " 1   title              16368 non-null  object \n",
      " 2   make               16368 non-null  object \n",
      " 3   model              16368 non-null  object \n",
      " 4   description        16030 non-null  object \n",
      " 5   manufactured       16362 non-null  float64\n",
      " 6   original_reg_date  40 non-null     object \n",
      " 7   reg_date           16368 non-null  object \n",
      " 8   type_of_vehicle    16368 non-null  object \n",
      " 9   category           16368 non-null  object \n",
      " 10  transmission       16368 non-null  object \n",
      " 11  curb_weight        16021 non-null  float64\n",
      " 12  power              16368 non-null  float64\n",
      " 13  fuel_type          3423 non-null   object \n",
      " 14  engine_cap         16368 non-null  float64\n",
      " 15  no_of_owners       16362 non-null  float64\n",
      " 16  depreciation       16368 non-null  float64\n",
      " 17  coe                16365 non-null  float64\n",
      " 18  road_tax           14302 non-null  float64\n",
      " 19  dereg_value        16365 non-null  float64\n",
      " 20  mileage            16368 non-null  float64\n",
      " 21  omv                16368 non-null  float64\n",
      " 22  arf                16368 non-null  float64\n",
      " 23  opc_scheme         206 non-null    object \n",
      " 24  lifespan           1683 non-null   object \n",
      " 25  eco_category       16368 non-null  object \n",
      " 26  features           15946 non-null  object \n",
      " 27  accessories        13647 non-null  object \n",
      " 28  indicative_price   0 non-null      float64\n",
      " 29  age                16368 non-null  int64  \n",
      " 30  remaining_coe      16368 non-null  int64  \n",
      " 31  price              16368 non-null  float64\n",
      " 32  bus/mini bus       16368 non-null  uint8  \n",
      " 33  hatchback          16368 non-null  uint8  \n",
      " 34  luxury sedan       16368 non-null  uint8  \n",
      " 35  mid-sized sedan    16368 non-null  uint8  \n",
      " 36  mpv                16368 non-null  uint8  \n",
      " 37  others             16368 non-null  uint8  \n",
      " 38  sports car         16368 non-null  uint8  \n",
      " 39  stationwagon       16368 non-null  uint8  \n",
      " 40  suv                16368 non-null  uint8  \n",
      " 41  truck              16368 non-null  uint8  \n",
      " 42  van                16368 non-null  uint8  \n",
      "dtypes: float64(14), int64(3), object(15), uint8(11)\n",
      "memory usage: 4.3+ MB\n"
     ]
    }
   ],
   "source": [
    "old_train = pd.read_csv('train.csv')[['listing_id','price']]\n",
    "res = pd.merge(df, old_train, left_on='listing_id', right_on='listing_id', how='inner')\n",
    "cars_dummies = pd.get_dummies(res['type_of_vehicle'])\n",
    "res = pd.concat([res, cars_dummies], axis=1)\n",
    "res.info()"
   ]
  },
  {
   "cell_type": "code",
   "execution_count": 362,
   "metadata": {},
   "outputs": [
    {
     "name": "stdout",
     "output_type": "stream",
     "text": [
      "320078667.23024213\n"
     ]
    }
   ],
   "source": [
    "from sklearn.ensemble import RandomForestRegressor, GradientBoostingRegressor\n",
    "from sklearn.tree import DecisionTreeClassifier\n",
    "from sklearn.metrics import mean_squared_error\n",
    "from sklearn.model_selection import train_test_split\n",
    "\n",
    "res = res.dropna(subset=['dereg_value'])\n",
    "useful = ['depreciation', 'omv', 'arf', 'age', 'remaining_coe', 'dereg_value', 'truck', 'suv', 'sports car', 'luxury sedan',\\\n",
    "         'bus/mini bus', 'mid-sized sedan', 'stationwagon', 'hatchback', 'mpv']\n",
    "X = res[useful]\n",
    "y = res['price']\n",
    "X_train, X_test, y_train, y_test = train_test_split(X, y, \n",
    "                                                    train_size=0.7,\n",
    "                                                    test_size = 0.3, random_state=100)\n",
    "\n",
    "model = RandomForestRegressor(n_estimators = 500, max_features = 7, random_state=0)\n",
    "# # model = RandomForestRegressor(n_estimators = 300)\n",
    "model.fit(X_train, y_train)\n",
    "# model.fit(X, y)\n",
    "\n",
    "y_pred = model.predict(X_test)\n",
    "mse=mean_squared_error(y_test, y_pred)\n",
    "print(mse)"
   ]
  },
  {
   "cell_type": "code",
   "execution_count": 350,
   "metadata": {},
   "outputs": [
    {
     "data": {
      "text/plain": [
       "RandomForestRegressor(max_features=7, n_estimators=600, random_state=0)"
      ]
     },
     "execution_count": 350,
     "metadata": {},
     "output_type": "execute_result"
    }
   ],
   "source": [
    "model = RandomForestRegressor(n_estimators = 600, max_features = 7, random_state=0)\n",
    "# # model = RandomForestRegressor(n_estimators = 300)\n",
    "model.fit(X, y)\n",
    "# model.fit(X, y)"
   ]
  },
  {
   "cell_type": "code",
   "execution_count": 351,
   "metadata": {},
   "outputs": [
    {
     "name": "stdout",
     "output_type": "stream",
     "text": [
      "<class 'pandas.core.frame.DataFrame'>\n",
      "Int64Index: 4868 entries, 0 to 4999\n",
      "Data columns (total 15 columns):\n",
      " #   Column           Non-Null Count  Dtype  \n",
      "---  ------           --------------  -----  \n",
      " 0   depreciation     4868 non-null   float64\n",
      " 1   omv              4868 non-null   float64\n",
      " 2   arf              4868 non-null   float64\n",
      " 3   age              4868 non-null   int64  \n",
      " 4   remaining_coe    4868 non-null   int64  \n",
      " 5   dereg_value      4868 non-null   float64\n",
      " 6   truck            4868 non-null   int64  \n",
      " 7   suv              4868 non-null   int64  \n",
      " 8   sports car       4868 non-null   int64  \n",
      " 9   luxury sedan     4868 non-null   int64  \n",
      " 10  bus/mini bus     4868 non-null   int64  \n",
      " 11  mid-sized sedan  4868 non-null   int64  \n",
      " 12  stationwagon     4868 non-null   int64  \n",
      " 13  hatchback        4868 non-null   int64  \n",
      " 14  mpv              4868 non-null   int64  \n",
      "dtypes: float64(4), int64(11)\n",
      "memory usage: 608.5 KB\n"
     ]
    }
   ],
   "source": [
    "\n",
    "df_test.info()"
   ]
  },
  {
   "cell_type": "code",
   "execution_count": 352,
   "metadata": {},
   "outputs": [
    {
     "name": "stdout",
     "output_type": "stream",
     "text": [
      "<class 'pandas.core.frame.DataFrame'>\n",
      "RangeIndex: 4868 entries, 0 to 4867\n",
      "Data columns (total 1 columns):\n",
      " #   Column     Non-Null Count  Dtype  \n",
      "---  ------     --------------  -----  \n",
      " 0   Predicted  4868 non-null   float64\n",
      "dtypes: float64(1)\n",
      "memory usage: 38.2 KB\n"
     ]
    }
   ],
   "source": [
    "# newU = ['depreciation', 'omv', 'arf', 'age', 'remaining_coe', 'dereg_value', 'truck', 'suv', 'sports car', 'luxury sedan',\\\n",
    "#          'bus/mini bus', 'mid-sized sedan', 'stationwagon', 'hatchback', 'mpv']\n",
    "y_pred = model.predict(df_test)\n",
    "y_pred = pd.DataFrame(y_pred)\n",
    "# y_pred.to_csv('predictions_miss2.csv')\n",
    "y_pred = y_pred.rename(columns={0: 'Predicted'})\n",
    "# y_pred = y_pred.dropna()\n",
    "y_pred.info()"
   ]
  },
  {
   "cell_type": "code",
   "execution_count": 353,
   "metadata": {},
   "outputs": [],
   "source": [
    " y_pred.to_csv('predictions_miss.csv')"
   ]
  },
  {
   "cell_type": "code",
   "execution_count": 354,
   "metadata": {},
   "outputs": [],
   "source": [
    "new_preds = y_pred['Predicted'].tolist()"
   ]
  },
  {
   "cell_type": "code",
   "execution_count": 355,
   "metadata": {},
   "outputs": [],
   "source": [
    "cur_best = pd.read_csv('highest.csv')\n",
    "cur_pred = cur_best['Predicted'].tolist()"
   ]
  },
  {
   "cell_type": "code",
   "execution_count": 358,
   "metadata": {},
   "outputs": [
    {
     "name": "stdout",
     "output_type": "stream",
     "text": [
      "5000\n"
     ]
    }
   ],
   "source": [
    "combined_preds = []\n",
    "j = 0\n",
    "for i in range(5000):\n",
    "    if i in L:\n",
    "        old = cur_pred[i]\n",
    "        combined_preds.append(old)\n",
    "    else:\n",
    "        new = new_preds[j]\n",
    "        j += 1\n",
    "        combined_preds.append(new)\n",
    "print(len(combined_preds))"
   ]
  },
  {
   "cell_type": "code",
   "execution_count": 360,
   "metadata": {},
   "outputs": [
    {
     "name": "stdout",
     "output_type": "stream",
     "text": [
      "4863\n",
      "5000\n"
     ]
    }
   ],
   "source": [
    "print(j)\n",
    "print(len(L) - 1 + j)"
   ]
  },
  {
   "cell_type": "code",
   "execution_count": 361,
   "metadata": {},
   "outputs": [
    {
     "name": "stdout",
     "output_type": "stream",
     "text": [
      "<class 'pandas.core.frame.DataFrame'>\n",
      "RangeIndex: 5000 entries, 0 to 4999\n",
      "Data columns (total 1 columns):\n",
      " #   Column     Non-Null Count  Dtype  \n",
      "---  ------     --------------  -----  \n",
      " 0   Predicted  5000 non-null   float64\n",
      "dtypes: float64(1)\n",
      "memory usage: 39.2 KB\n"
     ]
    }
   ],
   "source": [
    "sr = pd.DataFrame(combined_preds)\n",
    "sr = sr.rename(columns={0: 'Predicted'})\n",
    "sr.info()\n",
    "sr.to_csv('predictions.csv')"
   ]
  }
 ],
 "metadata": {
  "kernelspec": {
   "display_name": "Python 3",
   "language": "python",
   "name": "python3"
  },
  "language_info": {
   "codemirror_mode": {
    "name": "ipython",
    "version": 3
   },
   "file_extension": ".py",
   "mimetype": "text/x-python",
   "name": "python",
   "nbconvert_exporter": "python",
   "pygments_lexer": "ipython3",
   "version": "3.7.9"
  }
 },
 "nbformat": 4,
 "nbformat_minor": 2
}
