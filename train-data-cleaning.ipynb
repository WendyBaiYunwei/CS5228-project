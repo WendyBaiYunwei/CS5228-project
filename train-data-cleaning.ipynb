{
 "cells": [
  {
   "cell_type": "code",
   "execution_count": 1,
   "metadata": {},
   "outputs": [],
   "source": [
    "# Some more magic so that the notebook will reload external python modules;\n",
    "# see http://stackoverflow.com/questions/1907993/autoreload-of-modules-in-ipython\n",
    "# This will automatically reload src/dtree.py every time you make changes and save the file\n",
    "%load_ext autoreload\n",
    "%autoreload 2"
   ]
  },
  {
   "cell_type": "code",
   "execution_count": 2,
   "metadata": {},
   "outputs": [],
   "source": [
    "%matplotlib inline"
   ]
  },
  {
   "cell_type": "code",
   "execution_count": 3,
   "metadata": {},
   "outputs": [],
   "source": [
    "import numpy as np\n",
    "import pandas as pd\n",
    "from matplotlib import pyplot as plt"
   ]
  },
  {
   "cell_type": "code",
   "execution_count": 4,
   "metadata": {},
   "outputs": [],
   "source": [
    "df = pd.read_csv('./train.csv')"
   ]
  },
  {
   "cell_type": "code",
   "execution_count": 5,
   "metadata": {},
   "outputs": [
    {
     "name": "stdout",
     "output_type": "stream",
     "text": [
      "(16784, 30)\n",
      "['listing_id', 'title', 'make', 'model', 'description', 'manufactured', 'original_reg_date', 'reg_date', 'type_of_vehicle', 'category', 'transmission', 'curb_weight', 'power', 'fuel_type', 'engine_cap', 'no_of_owners', 'depreciation', 'coe', 'road_tax', 'dereg_value', 'mileage', 'omv', 'arf', 'opc_scheme', 'lifespan', 'eco_category', 'features', 'accessories', 'indicative_price', 'price']\n",
      "listing_id                                                     1030324\n",
      "title                           BMW 3 Series 320i Gran Turismo M-Sport\n",
      "make                                                               bmw\n",
      "model                                                             320i\n",
      "description          1 owner! 320i gt m-sports model! big brake kit...\n",
      "manufactured                                                    2013.0\n",
      "original_reg_date                                                  NaN\n",
      "reg_date                                                   09-dec-2013\n",
      "type_of_vehicle                                           luxury sedan\n",
      "category                     parf car, premium ad car, low mileage car\n",
      "transmission                                                      auto\n",
      "curb_weight                                                     1560.0\n",
      "power                                                            135.0\n",
      "fuel_type                                                          NaN\n",
      "engine_cap                                                      1997.0\n",
      "no_of_owners                                                       1.0\n",
      "depreciation                                                   17700.0\n",
      "coe                                                            77100.0\n",
      "road_tax                                                        1210.0\n",
      "dereg_value                                                    47514.0\n",
      "mileage                                                        73000.0\n",
      "omv                                                            45330.0\n",
      "arf                                                            50462.0\n",
      "opc_scheme                                                         NaN\n",
      "lifespan                                                           NaN\n",
      "eco_category                                             uncategorized\n",
      "features             5 doors gt, powerful and fuel efficient 2.0l t...\n",
      "accessories          bmw i-drive, navigation, bluetooth/aux/usb inp...\n",
      "indicative_price                                                   NaN\n",
      "price                                                          71300.0\n",
      "Name: 0, dtype: object\n"
     ]
    }
   ],
   "source": [
    "print(df.shape)\n",
    "print(df.columns.to_list())\n",
    "print(df.iloc[0])"
   ]
  },
  {
   "cell_type": "code",
   "execution_count": 6,
   "metadata": {},
   "outputs": [
    {
     "name": "stderr",
     "output_type": "stream",
     "text": [
      "G:\\softwares\\envs\\4277lab\\lib\\site-packages\\ipykernel_launcher.py:3: SettingWithCopyWarning: \n",
      "A value is trying to be set on a copy of a slice from a DataFrame\n",
      "\n",
      "See the caveats in the documentation: https://pandas.pydata.org/pandas-docs/stable/user_guide/indexing.html#returning-a-view-versus-a-copy\n",
      "  This is separate from the ipykernel package so we can avoid doing imports until\n",
      "G:\\softwares\\envs\\4277lab\\lib\\site-packages\\ipykernel_launcher.py:5: SettingWithCopyWarning: \n",
      "A value is trying to be set on a copy of a slice from a DataFrame\n",
      "\n",
      "See the caveats in the documentation: https://pandas.pydata.org/pandas-docs/stable/user_guide/indexing.html#returning-a-view-versus-a-copy\n",
      "  \"\"\"\n"
     ]
    }
   ],
   "source": [
    "d1 = df['original_reg_date'].isnull()\n",
    "df['age'] = df['original_reg_date'].copy()\n",
    "df['age'][d1] = df['reg_date'][d1]\n",
    "d1 = df['age'].isnull()\n",
    "df['age'][d1] = df['manufactured'][d1]\n",
    "\n",
    "def extract_year(date):\n",
    "    date = str(date)\n",
    "    if len(date) != 4:\n",
    "        if '.' in date and len(date) == 6:\n",
    "            year = date[:-2]\n",
    "        else:\n",
    "            l = date.split('-')\n",
    "            year = l[-1]\n",
    "    return int(year)\n",
    "df['age'] = 2021 - df['age'].map(extract_year)"
   ]
  },
  {
   "cell_type": "code",
   "execution_count": 7,
   "metadata": {},
   "outputs": [
    {
     "name": "stdout",
     "output_type": "stream",
     "text": [
      "0         8.0\n",
      "1         6.0\n",
      "2         5.0\n",
      "3         1.0\n",
      "4         2.0\n",
      "         ... \n",
      "16779     5.0\n",
      "16780     4.0\n",
      "16781    11.0\n",
      "16782     1.0\n",
      "16783     3.0\n",
      "Name: age, Length: 16784, dtype: float64\n",
      "108\n"
     ]
    }
   ],
   "source": [
    "# take out outliers\n",
    "df['age'] = df['age'][df.age < 30]\n",
    "df['age'] = df['age'][df.age >= 0]\n",
    "print(df['age'])\n",
    "print(df['age'].isna().sum())\n",
    "df = df.dropna(subset=['age'])"
   ]
  },
  {
   "cell_type": "code",
   "execution_count": null,
   "metadata": {},
   "outputs": [],
   "source": []
  },
  {
   "cell_type": "code",
   "execution_count": 8,
   "metadata": {},
   "outputs": [
    {
     "data": {
      "image/png": "[encoded data removed]",
      "text/plain": [
       "<Figure size 432x288 with 1 Axes>"
      ]
     },
     "metadata": {
      "needs_background": "light"
     },
     "output_type": "display_data"
    }
   ],
   "source": [
    "# power\n",
    "plt.figure()\n",
    "plt.hist(df[\"power\"].to_numpy())\n",
    "plt.show()"
   ]
  },
  {
   "cell_type": "code",
   "execution_count": 9,
   "metadata": {},
   "outputs": [
    {
     "name": "stdout",
     "output_type": "stream",
     "text": [
      "310\n",
      "2253\n"
     ]
    }
   ],
   "source": [
    "print(len(df[df.power > 400]))\n",
    "print(df[\"power\"].isnull().sum())"
   ]
  },
  {
   "cell_type": "code",
   "execution_count": 10,
   "metadata": {},
   "outputs": [
    {
     "data": {
      "image/png": "[encoded data removed]",
      "text/plain": [
       "<Figure size 432x288 with 1 Axes>"
      ]
     },
     "metadata": {
      "needs_background": "light"
     },
     "output_type": "display_data"
    }
   ],
   "source": [
    "# plot correlation between power and engine cap\n",
    "plt.scatter(df[\"power\"], df[\"engine_cap\"])\n",
    "plt.show()"
   ]
  },
  {
   "cell_type": "code",
   "execution_count": 11,
   "metadata": {},
   "outputs": [
    {
     "data": {
      "image/png": "[encoded data removed]",
      "text/plain": [
       "<Figure size 432x288 with 1 Axes>"
      ]
     },
     "metadata": {
      "needs_background": "light"
     },
     "output_type": "display_data"
    }
   ],
   "source": [
    "# plot correlation between power and engine cap\n",
    "plt.scatter(df[\"curb_weight\"], df[\"engine_cap\"])\n",
    "plt.show()"
   ]
  },
  {
   "cell_type": "code",
   "execution_count": 12,
   "metadata": {},
   "outputs": [
    {
     "name": "stdout",
     "output_type": "stream",
     "text": [
      "53\n"
     ]
    }
   ],
   "source": [
    "# engine cap\n",
    "print(df[\"engine_cap\"].isnull().sum())\n",
    "# df = df.dropna(subset = [\"engine_cap\"]) # only dropping 53"
   ]
  },
  {
   "cell_type": "code",
   "execution_count": 13,
   "metadata": {},
   "outputs": [
    {
     "name": "stdout",
     "output_type": "stream",
     "text": [
      "0\n",
      "10000\n"
     ]
    }
   ],
   "source": [
    "# take out outliers acccording to scatter plot\n",
    "df = df[~((df['power'] > 200) & (df['engine_cap'] < 1000))]\n",
    "\n",
    "df_valid = df.dropna(subset = ['power', 'engine_cap'])\n",
    "powers = df_valid['power'].to_numpy()\n",
    "caps = df_valid['engine_cap'].to_numpy()\n",
    "\n",
    "# Find k data points with engine cap most similar to the power of x\n",
    "# Calculate the median power of those k data points\n",
    "# Set power of x to the calculated median\n",
    "# Set k as the number of nearest data points we want to consider\n",
    "k = 100\n",
    "\n",
    "# Loop over each data point in our dataset\n",
    "for idx, row in df.iterrows():\n",
    "    if idx % 10000 == 0:\n",
    "        print(idx)\n",
    "\n",
    "    p, e = row['power'], row['engine_cap']\n",
    "\n",
    "    diff = np.abs(caps - e)\n",
    "\n",
    "    indices = np.argsort(diff)[:k]\n",
    "\n",
    "    k_powers = powers[indices]\n",
    "\n",
    "    avg = np.average(k_powers)\n",
    "    \n",
    "    # Set the weight value of the current row to the median\n",
    "    df.at[idx, 'power'] = avg"
   ]
  },
  {
   "cell_type": "code",
   "execution_count": 14,
   "metadata": {},
   "outputs": [
    {
     "name": "stdout",
     "output_type": "stream",
     "text": [
      "0\n",
      "10000\n"
     ]
    }
   ],
   "source": [
    "# take out outliers acccording to scatter plot\n",
    "df_valid = df.dropna(subset = ['curb_weight', 'engine_cap'])\n",
    "powers = df_valid['curb_weight'].to_numpy()\n",
    "caps = df_valid['engine_cap'].to_numpy()\n",
    "\n",
    "# Find k data points with engine cap most similar to the power of x\n",
    "# Calculate the median power of those k data points\n",
    "# Set power of x to the calculated median\n",
    "# Set k as the number of nearest data points we want to consider\n",
    "k = 100\n",
    "\n",
    "# Loop over each data point in our dataset\n",
    "for idx, row in df.iterrows():\n",
    "    if idx % 10000 == 0:\n",
    "        print(idx)\n",
    "\n",
    "    p, e = row['curb_weight'], row['engine_cap']\n",
    "\n",
    "    diff = np.abs(caps - e)\n",
    "\n",
    "    indices = np.argsort(diff)[:k]\n",
    "\n",
    "    k_powers = powers[indices]\n",
    "\n",
    "    avg = np.average(k_powers)\n",
    "    \n",
    "    # Set the weight value of the current row to the median\n",
    "    df.at[idx, 'engine_cap'] = avg"
   ]
  },
  {
   "cell_type": "code",
   "execution_count": 15,
   "metadata": {},
   "outputs": [
    {
     "name": "stdout",
     "output_type": "stream",
     "text": [
      "0\n"
     ]
    }
   ],
   "source": [
    "print(df[\"engine_cap\"].isnull().sum())"
   ]
  },
  {
   "cell_type": "code",
   "execution_count": 16,
   "metadata": {},
   "outputs": [
    {
     "name": "stdout",
     "output_type": "stream",
     "text": [
      "3647\n"
     ]
    }
   ],
   "source": [
    "print(df['mileage'].isnull().sum())\n",
    "df['mileage'] = df['mileage'].fillna(df['mileage'].mode())"
   ]
  },
  {
   "cell_type": "code",
   "execution_count": 17,
   "metadata": {},
   "outputs": [
    {
     "name": "stdout",
     "output_type": "stream",
     "text": [
      "0.7050812818555809\n",
      "[[2.88173369e-01 2.45263961e+03]]\n"
     ]
    }
   ],
   "source": [
    "## estimated omv\n",
    "from sklearn.linear_model import LinearRegression\n",
    "df_ = df.copy()\n",
    "df_ = df_.dropna(subset=['omv', 'age', 'price'])\n",
    "omv = np.array(df_['price']).reshape(-1, 1)\n",
    "# omv = omv[:100]\n",
    "age = np.array(df_['age']).reshape(-1, 1)\n",
    "# age = age[:100]\n",
    "X = np.concatenate((omv, age), axis=1)\n",
    "y = np.array(df_['omv']).reshape(-1, 1)\n",
    "# y = y[:100]\n",
    "# print(X.shape, y.shape)\n",
    "reg = LinearRegression().fit(X, y)\n",
    "print(reg.score(X, y))\n",
    "print(reg.coef_)\n",
    "# reg.predict(np.array([[3, 5]]))"
   ]
  },
  {
   "cell_type": "code",
   "execution_count": 18,
   "metadata": {},
   "outputs": [],
   "source": [
    "# fill omv, get data with missing omv and dereg_value, fill in the omv\n",
    "is_ = df[df.omv.isnull() & df.dereg_value.isnull()].index.tolist()\n",
    "filled_omvs = []\n",
    "for idx in is_:\n",
    "    ag = df.at[idx, 'age']\n",
    "    price = df.at[idx, 'price']\n",
    "    mo = reg.predict(np.array([[ag, price]]))\n",
    "    filled_omvs.append(mo)\n",
    "for i, idx in enumerate(is_):\n",
    "    df.at[idx, 'omv'] = filled_omvs[i]"
   ]
  },
  {
   "cell_type": "code",
   "execution_count": 19,
   "metadata": {},
   "outputs": [
    {
     "name": "stdout",
     "output_type": "stream",
     "text": [
      "0\n"
     ]
    }
   ],
   "source": [
    "# coe: fill in missing value for coe according to: age and power\n",
    "fill_arf = df[df.arf.isnull() & df.dereg_value.isnull()]['arf'].index.tolist()\n",
    "for idx in fill_arf:\n",
    "    omv = df.at[idx, 'omv']\n",
    "    if omv < 20000:\n",
    "        df.at[idx, 'arf'] = omv\n",
    "    elif omv >= 20000 and omv <= 50000:\n",
    "        df.at[idx, 'arf'] = (omv - 20000) * 1.40 + 20000\n",
    "    else:\n",
    "        df.at[idx, 'arf'] =  (omv - 50000) * 1.80 + 62000\n",
    "print(len(df[df.arf.isnull() & df.dereg_value.isnull()]))\n",
    "# df = df[~(df.arf.isnull() & df.dereg_value.isnull())] # remove values whose dereg_value cannot be calculated"
   ]
  },
  {
   "cell_type": "code",
   "execution_count": 20,
   "metadata": {},
   "outputs": [],
   "source": [
    "# recalculate reg date: total months\n",
    "def to_months(x):\n",
    "    mapper = {}\n",
    "    all_m = ['jan', 'feb', 'mar', 'apr', 'may', 'jun', 'jul', 'aug', 'sep', 'oct', 'nov', 'dec']\n",
    "    for i in range(12):\n",
    "        mapper[all_m[i]] = i + 1\n",
    "    if len(str(x)) < 11:\n",
    "        return int(x)\n",
    "    s = x.split('-')\n",
    "    year = 2021 - int(s[-1])\n",
    "    month = mapper[s[-2]]\n",
    "    return year * 12 + month\n",
    "\n",
    "df = df.dropna(subset = ['reg_date'])\n",
    "df['age_in_month'] = df['reg_date'].map(to_months)"
   ]
  },
  {
   "cell_type": "code",
   "execution_count": 21,
   "metadata": {},
   "outputs": [
    {
     "name": "stdout",
     "output_type": "stream",
     "text": [
      "83\n"
     ]
    }
   ],
   "source": [
    "# for date missing both coe and dereg_value, record it's month engine and power\n",
    "coe_to_search = []\n",
    "to_search = df[df.coe.isnull() & df.dereg_value.isnull()]\n",
    "\n",
    "for idx, row in to_search.iterrows():\n",
    "    # category -> A / B\n",
    "    power = row[\"power\"]\n",
    "    engine_cap = row[\"engine_cap\"]\n",
    "    cat = 2\n",
    "    month = row[\"age_in_month\"]\n",
    "    if engine_cap <= 1600 and power <= 97:\n",
    "        cat = 1\n",
    "    coe_to_search.append((cat, month))\n",
    "\n",
    "coe_to_search = list(set(coe_to_search))\n",
    "print(len(coe_to_search))"
   ]
  },
  {
   "cell_type": "code",
   "execution_count": 22,
   "metadata": {},
   "outputs": [
    {
     "name": "stdout",
     "output_type": "stream",
     "text": [
      "0\n",
      "10000\n",
      "853\n"
     ]
    }
   ],
   "source": [
    "t_to_coe = {}\n",
    "\n",
    "for t in coe_to_search:\n",
    "    t_to_coe[str(t)] = []\n",
    "\n",
    "remains = df[~df.coe.isnull()]\n",
    "\n",
    "for idx, row in remains.iterrows():\n",
    "    if idx % 10000 == 0:\n",
    "        print(idx)\n",
    "\n",
    "    power = row[\"power\"]\n",
    "    engine_cap = row[\"engine_cap\"]\n",
    "    cat = 2\n",
    "    month = row[\"age_in_month\"]\n",
    "    if engine_cap <= 1600 and power <= 97:\n",
    "        cat = 1\n",
    "    \n",
    "    t = (cat, month)\n",
    "    \n",
    "    coe = row[\"coe\"]\n",
    "    if t in coe_to_search:\n",
    "        t_to_coe[str(t)].append(coe)\n",
    "        \n",
    "c = 0\n",
    "for idx, row in df.iterrows():\n",
    "    power = row[\"power\"]\n",
    "    engine_cap = row[\"engine_cap\"]\n",
    "    cat = 2\n",
    "    month = row[\"age_in_month\"]\n",
    "    if engine_cap <= 1600 and power <= 97:\n",
    "        cat = 1\n",
    "    t = str((cat, month))\n",
    "\n",
    "    if type(row[\"coe\"]) == float and pd.isna(row[\"coe\"]):\n",
    "        l = t_to_coe[t]\n",
    "        if len(l) > 0:\n",
    "            avg = sum(l) / len(l)\n",
    "            df.at[idx, 'coe'] = avg\n",
    "            c += 1\n",
    "print(c)"
   ]
  },
  {
   "cell_type": "code",
   "execution_count": 23,
   "metadata": {},
   "outputs": [
    {
     "name": "stdout",
     "output_type": "stream",
     "text": [
      "34\n"
     ]
    }
   ],
   "source": [
    "print(df['coe'].isnull().sum())"
   ]
  },
  {
   "cell_type": "code",
   "execution_count": 24,
   "metadata": {},
   "outputs": [],
   "source": [
    "df = df[~(df.coe.isnull() & df.dereg_value.isnull())]"
   ]
  },
  {
   "cell_type": "code",
   "execution_count": 25,
   "metadata": {},
   "outputs": [
    {
     "name": "stdout",
     "output_type": "stream",
     "text": [
      "974.0\n"
     ]
    }
   ],
   "source": [
    "print(df[\"road_tax\"].median())\n",
    "# df = df.fillna()\n",
    "# df[\"road_tax\"] = df[\"road_tax\"].map(clean_tax)"
   ]
  },
  {
   "cell_type": "code",
   "execution_count": 26,
   "metadata": {},
   "outputs": [],
   "source": [
    "df[\"road_tax\"] = df[\"road_tax\"].fillna(974)"
   ]
  },
  {
   "cell_type": "code",
   "execution_count": 27,
   "metadata": {},
   "outputs": [
    {
     "data": {
      "image/png": "[encoded data removed]",
      "text/plain": [
       "<Figure size 432x288 with 1 Axes>"
      ]
     },
     "metadata": {
      "needs_background": "light"
     },
     "output_type": "display_data"
    }
   ],
   "source": [
    "plt.figure()\n",
    "plt.boxplot(df[\"road_tax\"])\n",
    "plt.show()"
   ]
  },
  {
   "cell_type": "code",
   "execution_count": 28,
   "metadata": {},
   "outputs": [],
   "source": [
    "import math\n",
    "for idx, row in df.iterrows():\n",
    "    if type(row[\"dereg_value\"]) == float and pd.isna(row[\"dereg_value\"]):\n",
    "        max_age = 10 * 12\n",
    "        age = row[\"age_in_month\"]\n",
    "        time_left = max_age - age\n",
    "        coe = row[\"coe\"]\n",
    "        omv = row[\"omv\"]\n",
    "        arf = row[\"arf\"]\n",
    "        parf_ratio = 0\n",
    "        if age <  5 * 12:\n",
    "            parf_ratio = 0.75\n",
    "        elif age >= 5 * 12 and age < 10 * 12:\n",
    "            parf_ratio = 0.75 - math.ceil((age - 5 * 12) / 12) * 0.05 \n",
    "        coe_rebate = coe * time_left / 120\n",
    "        dereg_value = parf_ratio * arf + coe_rebate\n",
    "        if dereg_value <= 0:\n",
    "            dereg_value = 0\n",
    "        df.at[idx, \"dereg_value\"] = dereg_value"
   ]
  },
  {
   "cell_type": "code",
   "execution_count": 29,
   "metadata": {},
   "outputs": [],
   "source": [
    "df = df.dropna(subset = ['depreciation'])"
   ]
  },
  {
   "cell_type": "code",
   "execution_count": 30,
   "metadata": {},
   "outputs": [
    {
     "name": "stdout",
     "output_type": "stream",
     "text": [
      "['listing_id', 'title', 'make', 'model', 'description', 'manufactured', 'original_reg_date', 'reg_date', 'type_of_vehicle', 'category', 'transmission', 'curb_weight', 'power', 'fuel_type', 'engine_cap', 'no_of_owners', 'depreciation', 'coe', 'road_tax', 'dereg_value', 'mileage', 'omv', 'arf', 'opc_scheme', 'lifespan', 'eco_category', 'features', 'accessories', 'indicative_price', 'price', 'age', 'age_in_month']\n"
     ]
    }
   ],
   "source": [
    "print(df.columns.to_list())"
   ]
  },
  {
   "cell_type": "code",
   "execution_count": 31,
   "metadata": {},
   "outputs": [],
   "source": [
    "# drop irrelevant\n",
    "df = df.drop(columns = ['curb_weight', 'coe', 'omv', 'arf', 'original_reg_date','reg_date', 'age_in_month', 'opc_scheme', 'listing_id', 'indicative_price'])"
   ]
  },
  {
   "cell_type": "code",
   "execution_count": 32,
   "metadata": {},
   "outputs": [
    {
     "name": "stdout",
     "output_type": "stream",
     "text": [
      "(16235, 22)\n"
     ]
    }
   ],
   "source": [
    "print(df.shape)"
   ]
  },
  {
   "cell_type": "code",
   "execution_count": 33,
   "metadata": {},
   "outputs": [
    {
     "data": {
      "text/html": [
       "<div>\n",
       "<style scoped>\n",
       "    .dataframe tbody tr th:only-of-type {\n",
       "        vertical-align: middle;\n",
       "    }\n",
       "\n",
       "    .dataframe tbody tr th {\n",
       "        vertical-align: top;\n",
       "    }\n",
       "\n",
       "    .dataframe thead th {\n",
       "        text-align: right;\n",
       "    }\n",
       "</style>\n",
       "<table border=\"1\" class=\"dataframe\">\n",
       "  <thead>\n",
       "    <tr style=\"text-align: right;\">\n",
       "      <th></th>\n",
       "      <th>title</th>\n",
       "      <th>make</th>\n",
       "      <th>model</th>\n",
       "      <th>description</th>\n",
       "      <th>manufactured</th>\n",
       "      <th>type_of_vehicle</th>\n",
       "      <th>category</th>\n",
       "      <th>transmission</th>\n",
       "      <th>power</th>\n",
       "      <th>fuel_type</th>\n",
       "      <th>...</th>\n",
       "      <th>depreciation</th>\n",
       "      <th>road_tax</th>\n",
       "      <th>dereg_value</th>\n",
       "      <th>mileage</th>\n",
       "      <th>lifespan</th>\n",
       "      <th>eco_category</th>\n",
       "      <th>features</th>\n",
       "      <th>accessories</th>\n",
       "      <th>price</th>\n",
       "      <th>age</th>\n",
       "    </tr>\n",
       "  </thead>\n",
       "  <tbody>\n",
       "    <tr>\n",
       "      <th>0</th>\n",
       "      <td>BMW 3 Series 320i Gran Turismo M-Sport</td>\n",
       "      <td>bmw</td>\n",
       "      <td>320i</td>\n",
       "      <td>1 owner! 320i gt m-sports model! big brake kit...</td>\n",
       "      <td>2013.0</td>\n",
       "      <td>luxury sedan</td>\n",
       "      <td>parf car, premium ad car, low mileage car</td>\n",
       "      <td>auto</td>\n",
       "      <td>144.828</td>\n",
       "      <td>NaN</td>\n",
       "      <td>...</td>\n",
       "      <td>17700.0</td>\n",
       "      <td>1210.0</td>\n",
       "      <td>47514.0</td>\n",
       "      <td>73000.0</td>\n",
       "      <td>NaN</td>\n",
       "      <td>uncategorized</td>\n",
       "      <td>5 doors gt, powerful and fuel efficient 2.0l t...</td>\n",
       "      <td>bmw i-drive, navigation, bluetooth/aux/usb inp...</td>\n",
       "      <td>71300.0</td>\n",
       "      <td>8.0</td>\n",
       "    </tr>\n",
       "    <tr>\n",
       "      <th>1</th>\n",
       "      <td>Toyota Hiace 3.0M</td>\n",
       "      <td>NaN</td>\n",
       "      <td>hiace</td>\n",
       "      <td>high loan available! low mileage unit. wear an...</td>\n",
       "      <td>2014.0</td>\n",
       "      <td>van</td>\n",
       "      <td>premium ad car</td>\n",
       "      <td>manual</td>\n",
       "      <td>253.120</td>\n",
       "      <td>diesel</td>\n",
       "      <td>...</td>\n",
       "      <td>11630.0</td>\n",
       "      <td>974.0</td>\n",
       "      <td>3648.0</td>\n",
       "      <td>110112.0</td>\n",
       "      <td>25-jan-2035</td>\n",
       "      <td>uncategorized</td>\n",
       "      <td>low mileage unit. well maintained vehicle. vie...</td>\n",
       "      <td>factory radio setting. front recording camera....</td>\n",
       "      <td>43800.0</td>\n",
       "      <td>6.0</td>\n",
       "    </tr>\n",
       "    <tr>\n",
       "      <th>2</th>\n",
       "      <td>Mercedes-Benz CLA-Class CLA180</td>\n",
       "      <td>mercedes-benz</td>\n",
       "      <td>cla180</td>\n",
       "      <td>1 owner c&amp;c unit. full agent service with 1 mo...</td>\n",
       "      <td>2016.0</td>\n",
       "      <td>luxury sedan</td>\n",
       "      <td>parf car, premium ad car</td>\n",
       "      <td>auto</td>\n",
       "      <td>100.680</td>\n",
       "      <td>NaN</td>\n",
       "      <td>...</td>\n",
       "      <td>15070.0</td>\n",
       "      <td>740.0</td>\n",
       "      <td>44517.0</td>\n",
       "      <td>80000.0</td>\n",
       "      <td>NaN</td>\n",
       "      <td>uncategorized</td>\n",
       "      <td>responsive and fuel efficient 1.6l inline 4 cy...</td>\n",
       "      <td>dual electric/memory seats. factory fitted aud...</td>\n",
       "      <td>95500.0</td>\n",
       "      <td>5.0</td>\n",
       "    </tr>\n",
       "    <tr>\n",
       "      <th>3</th>\n",
       "      <td>Mercedes-Benz E-Class E180 Avantgarde</td>\n",
       "      <td>mercedes-benz</td>\n",
       "      <td>e180</td>\n",
       "      <td>fully agent maintained, 3 years warranty 10 ye...</td>\n",
       "      <td>2019.0</td>\n",
       "      <td>luxury sedan</td>\n",
       "      <td>parf car, almost new car, consignment car</td>\n",
       "      <td>auto</td>\n",
       "      <td>90.010</td>\n",
       "      <td>NaN</td>\n",
       "      <td>...</td>\n",
       "      <td>16400.0</td>\n",
       "      <td>684.0</td>\n",
       "      <td>80301.0</td>\n",
       "      <td>9800.0</td>\n",
       "      <td>NaN</td>\n",
       "      <td>uncategorized</td>\n",
       "      <td>1.5l inline-4 twin scroll turbocharged engine,...</td>\n",
       "      <td>64 colour ambient lighting. active parking ass...</td>\n",
       "      <td>197900.0</td>\n",
       "      <td>1.0</td>\n",
       "    </tr>\n",
       "    <tr>\n",
       "      <th>4</th>\n",
       "      <td>Honda Civic 1.6A VTi</td>\n",
       "      <td>NaN</td>\n",
       "      <td>civic</td>\n",
       "      <td>kah motor unit! 1 owner, lowest 1.98% for full...</td>\n",
       "      <td>2019.0</td>\n",
       "      <td>mid-sized sedan</td>\n",
       "      <td>parf car</td>\n",
       "      <td>auto</td>\n",
       "      <td>101.449</td>\n",
       "      <td>NaN</td>\n",
       "      <td>...</td>\n",
       "      <td>10450.0</td>\n",
       "      <td>742.0</td>\n",
       "      <td>36453.0</td>\n",
       "      <td>40000.0</td>\n",
       "      <td>NaN</td>\n",
       "      <td>uncategorized</td>\n",
       "      <td>1.6l i-vtec engine, 123 bhp, earth dreams cvt ...</td>\n",
       "      <td>s/rims, premium leather seats, factory touch s...</td>\n",
       "      <td>103200.0</td>\n",
       "      <td>2.0</td>\n",
       "    </tr>\n",
       "  </tbody>\n",
       "</table>\n",
       "<p>5 rows × 22 columns</p>\n",
       "</div>"
      ],
      "text/plain": [
       "                                    title           make   model  \\\n",
       "0  BMW 3 Series 320i Gran Turismo M-Sport            bmw    320i   \n",
       "1                       Toyota Hiace 3.0M            NaN   hiace   \n",
       "2          Mercedes-Benz CLA-Class CLA180  mercedes-benz  cla180   \n",
       "3   Mercedes-Benz E-Class E180 Avantgarde  mercedes-benz    e180   \n",
       "4                    Honda Civic 1.6A VTi            NaN   civic   \n",
       "\n",
       "                                         description  manufactured  \\\n",
       "0  1 owner! 320i gt m-sports model! big brake kit...        2013.0   \n",
       "1  high loan available! low mileage unit. wear an...        2014.0   \n",
       "2  1 owner c&c unit. full agent service with 1 mo...        2016.0   \n",
       "3  fully agent maintained, 3 years warranty 10 ye...        2019.0   \n",
       "4  kah motor unit! 1 owner, lowest 1.98% for full...        2019.0   \n",
       "\n",
       "   type_of_vehicle                                   category transmission  \\\n",
       "0     luxury sedan  parf car, premium ad car, low mileage car         auto   \n",
       "1              van                             premium ad car       manual   \n",
       "2     luxury sedan                   parf car, premium ad car         auto   \n",
       "3     luxury sedan  parf car, almost new car, consignment car         auto   \n",
       "4  mid-sized sedan                                   parf car         auto   \n",
       "\n",
       "     power fuel_type  ...  depreciation  road_tax  dereg_value   mileage  \\\n",
       "0  144.828       NaN  ...       17700.0    1210.0      47514.0   73000.0   \n",
       "1  253.120    diesel  ...       11630.0     974.0       3648.0  110112.0   \n",
       "2  100.680       NaN  ...       15070.0     740.0      44517.0   80000.0   \n",
       "3   90.010       NaN  ...       16400.0     684.0      80301.0    9800.0   \n",
       "4  101.449       NaN  ...       10450.0     742.0      36453.0   40000.0   \n",
       "\n",
       "      lifespan   eco_category  \\\n",
       "0          NaN  uncategorized   \n",
       "1  25-jan-2035  uncategorized   \n",
       "2          NaN  uncategorized   \n",
       "3          NaN  uncategorized   \n",
       "4          NaN  uncategorized   \n",
       "\n",
       "                                            features  \\\n",
       "0  5 doors gt, powerful and fuel efficient 2.0l t...   \n",
       "1  low mileage unit. well maintained vehicle. vie...   \n",
       "2  responsive and fuel efficient 1.6l inline 4 cy...   \n",
       "3  1.5l inline-4 twin scroll turbocharged engine,...   \n",
       "4  1.6l i-vtec engine, 123 bhp, earth dreams cvt ...   \n",
       "\n",
       "                                         accessories     price  age  \n",
       "0  bmw i-drive, navigation, bluetooth/aux/usb inp...   71300.0  8.0  \n",
       "1  factory radio setting. front recording camera....   43800.0  6.0  \n",
       "2  dual electric/memory seats. factory fitted aud...   95500.0  5.0  \n",
       "3  64 colour ambient lighting. active parking ass...  197900.0  1.0  \n",
       "4  s/rims, premium leather seats, factory touch s...  103200.0  2.0  \n",
       "\n",
       "[5 rows x 22 columns]"
      ]
     },
     "execution_count": 33,
     "metadata": {},
     "output_type": "execute_result"
    }
   ],
   "source": [
    "df.head()"
   ]
  },
  {
   "cell_type": "code",
   "execution_count": 34,
   "metadata": {},
   "outputs": [],
   "source": [
    "df.to_csv('numerical_cleaned.csv')  "
   ]
  },
  {
   "cell_type": "code",
   "execution_count": null,
   "metadata": {},
   "outputs": [],
   "source": []
  }
 ],
 "metadata": {
  "kernelspec": {
   "display_name": "Python 3",
   "language": "python",
   "name": "python3"
  },
  "language_info": {
   "codemirror_mode": {
    "name": "ipython",
    "version": 3
   },
   "file_extension": ".py",
   "mimetype": "text/x-python",
   "name": "python",
   "nbconvert_exporter": "python",
   "pygments_lexer": "ipython3",
   "version": "3.7.9"
  }
 },
 "nbformat": 4,
 "nbformat_minor": 2
}
