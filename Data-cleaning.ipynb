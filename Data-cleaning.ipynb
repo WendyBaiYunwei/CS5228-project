{
 "cells": [
  {
   "cell_type": "code",
   "execution_count": 177,
   "metadata": {},
   "outputs": [
    {
     "name": "stdout",
     "output_type": "stream",
     "text": [
      "The autoreload extension is already loaded. To reload it, use:\n",
      "  %reload_ext autoreload\n"
     ]
    }
   ],
   "source": [
    "# Some more magic so that the notebook will reload external python modules;\n",
    "# see http://stackoverflow.com/questions/1907993/autoreload-of-modules-in-ipython\n",
    "# This will automatically reload src/dtree.py every time you make changes and save the file\n",
    "%load_ext autoreload\n",
    "%autoreload 2"
   ]
  },
  {
   "cell_type": "code",
   "execution_count": 178,
   "metadata": {},
   "outputs": [],
   "source": [
    "%matplotlib inline"
   ]
  },
  {
   "cell_type": "code",
   "execution_count": 179,
   "metadata": {},
   "outputs": [],
   "source": [
    "import numpy as np\n",
    "import pandas as pd\n",
    "from matplotlib import pyplot as plt"
   ]
  },
  {
   "cell_type": "code",
   "execution_count": 180,
   "metadata": {},
   "outputs": [
    {
     "data": {
      "text/html": [
       "<div>\n",
       "<style scoped>\n",
       "    .dataframe tbody tr th:only-of-type {\n",
       "        vertical-align: middle;\n",
       "    }\n",
       "\n",
       "    .dataframe tbody tr th {\n",
       "        vertical-align: top;\n",
       "    }\n",
       "\n",
       "    .dataframe thead th {\n",
       "        text-align: right;\n",
       "    }\n",
       "</style>\n",
       "<table border=\"1\" class=\"dataframe\">\n",
       "  <thead>\n",
       "    <tr style=\"text-align: right;\">\n",
       "      <th></th>\n",
       "      <th>listing_id</th>\n",
       "      <th>title</th>\n",
       "      <th>make</th>\n",
       "      <th>model</th>\n",
       "      <th>description</th>\n",
       "      <th>manufactured</th>\n",
       "      <th>original_reg_date</th>\n",
       "      <th>reg_date</th>\n",
       "      <th>type_of_vehicle</th>\n",
       "      <th>category</th>\n",
       "      <th>...</th>\n",
       "      <th>mileage</th>\n",
       "      <th>omv</th>\n",
       "      <th>arf</th>\n",
       "      <th>opc_scheme</th>\n",
       "      <th>lifespan</th>\n",
       "      <th>eco_category</th>\n",
       "      <th>features</th>\n",
       "      <th>accessories</th>\n",
       "      <th>indicative_price</th>\n",
       "      <th>price</th>\n",
       "    </tr>\n",
       "  </thead>\n",
       "  <tbody>\n",
       "    <tr>\n",
       "      <th>0</th>\n",
       "      <td>1030324</td>\n",
       "      <td>BMW 3 Series 320i Gran Turismo M-Sport</td>\n",
       "      <td>bmw</td>\n",
       "      <td>320i</td>\n",
       "      <td>1 owner! 320i gt m-sports model! big brake kit...</td>\n",
       "      <td>2013.0</td>\n",
       "      <td>NaN</td>\n",
       "      <td>09-dec-2013</td>\n",
       "      <td>luxury sedan</td>\n",
       "      <td>parf car, premium ad car, low mileage car</td>\n",
       "      <td>...</td>\n",
       "      <td>73000.0</td>\n",
       "      <td>45330.0</td>\n",
       "      <td>50462.0</td>\n",
       "      <td>NaN</td>\n",
       "      <td>NaN</td>\n",
       "      <td>uncategorized</td>\n",
       "      <td>5 doors gt, powerful and fuel efficient 2.0l t...</td>\n",
       "      <td>bmw i-drive, navigation, bluetooth/aux/usb inp...</td>\n",
       "      <td>NaN</td>\n",
       "      <td>71300.0</td>\n",
       "    </tr>\n",
       "    <tr>\n",
       "      <th>1</th>\n",
       "      <td>1021510</td>\n",
       "      <td>Toyota Hiace 3.0M</td>\n",
       "      <td>NaN</td>\n",
       "      <td>hiace</td>\n",
       "      <td>high loan available! low mileage unit. wear an...</td>\n",
       "      <td>2014.0</td>\n",
       "      <td>NaN</td>\n",
       "      <td>26-jan-2015</td>\n",
       "      <td>van</td>\n",
       "      <td>premium ad car</td>\n",
       "      <td>...</td>\n",
       "      <td>110112.0</td>\n",
       "      <td>27502.0</td>\n",
       "      <td>1376.0</td>\n",
       "      <td>NaN</td>\n",
       "      <td>25-jan-2035</td>\n",
       "      <td>uncategorized</td>\n",
       "      <td>low mileage unit. well maintained vehicle. vie...</td>\n",
       "      <td>factory radio setting. front recording camera....</td>\n",
       "      <td>NaN</td>\n",
       "      <td>43800.0</td>\n",
       "    </tr>\n",
       "    <tr>\n",
       "      <th>2</th>\n",
       "      <td>1026909</td>\n",
       "      <td>Mercedes-Benz CLA-Class CLA180</td>\n",
       "      <td>mercedes-benz</td>\n",
       "      <td>cla180</td>\n",
       "      <td>1 owner c&amp;c unit. full agent service with 1 mo...</td>\n",
       "      <td>2016.0</td>\n",
       "      <td>NaN</td>\n",
       "      <td>25-jul-2016</td>\n",
       "      <td>luxury sedan</td>\n",
       "      <td>parf car, premium ad car</td>\n",
       "      <td>...</td>\n",
       "      <td>80000.0</td>\n",
       "      <td>27886.0</td>\n",
       "      <td>26041.0</td>\n",
       "      <td>NaN</td>\n",
       "      <td>NaN</td>\n",
       "      <td>uncategorized</td>\n",
       "      <td>responsive and fuel efficient 1.6l inline 4 cy...</td>\n",
       "      <td>dual electric/memory seats. factory fitted aud...</td>\n",
       "      <td>NaN</td>\n",
       "      <td>95500.0</td>\n",
       "    </tr>\n",
       "    <tr>\n",
       "      <th>3</th>\n",
       "      <td>1019371</td>\n",
       "      <td>Mercedes-Benz E-Class E180 Avantgarde</td>\n",
       "      <td>mercedes-benz</td>\n",
       "      <td>e180</td>\n",
       "      <td>fully agent maintained, 3 years warranty 10 ye...</td>\n",
       "      <td>2019.0</td>\n",
       "      <td>NaN</td>\n",
       "      <td>17-nov-2020</td>\n",
       "      <td>luxury sedan</td>\n",
       "      <td>parf car, almost new car, consignment car</td>\n",
       "      <td>...</td>\n",
       "      <td>9800.0</td>\n",
       "      <td>46412.0</td>\n",
       "      <td>56977.0</td>\n",
       "      <td>NaN</td>\n",
       "      <td>NaN</td>\n",
       "      <td>uncategorized</td>\n",
       "      <td>1.5l inline-4 twin scroll turbocharged engine,...</td>\n",
       "      <td>64 colour ambient lighting. active parking ass...</td>\n",
       "      <td>NaN</td>\n",
       "      <td>197900.0</td>\n",
       "    </tr>\n",
       "    <tr>\n",
       "      <th>4</th>\n",
       "      <td>1031014</td>\n",
       "      <td>Honda Civic 1.6A VTi</td>\n",
       "      <td>NaN</td>\n",
       "      <td>civic</td>\n",
       "      <td>kah motor unit! 1 owner, lowest 1.98% for full...</td>\n",
       "      <td>2019.0</td>\n",
       "      <td>NaN</td>\n",
       "      <td>20-sep-2019</td>\n",
       "      <td>mid-sized sedan</td>\n",
       "      <td>parf car</td>\n",
       "      <td>...</td>\n",
       "      <td>40000.0</td>\n",
       "      <td>20072.0</td>\n",
       "      <td>20101.0</td>\n",
       "      <td>NaN</td>\n",
       "      <td>NaN</td>\n",
       "      <td>uncategorized</td>\n",
       "      <td>1.6l i-vtec engine, 123 bhp, earth dreams cvt ...</td>\n",
       "      <td>s/rims, premium leather seats, factory touch s...</td>\n",
       "      <td>NaN</td>\n",
       "      <td>103200.0</td>\n",
       "    </tr>\n",
       "  </tbody>\n",
       "</table>\n",
       "<p>5 rows × 30 columns</p>\n",
       "</div>"
      ],
      "text/plain": [
       "   listing_id                                   title           make   model  \\\n",
       "0     1030324  BMW 3 Series 320i Gran Turismo M-Sport            bmw    320i   \n",
       "1     1021510                       Toyota Hiace 3.0M            NaN   hiace   \n",
       "2     1026909          Mercedes-Benz CLA-Class CLA180  mercedes-benz  cla180   \n",
       "3     1019371   Mercedes-Benz E-Class E180 Avantgarde  mercedes-benz    e180   \n",
       "4     1031014                    Honda Civic 1.6A VTi            NaN   civic   \n",
       "\n",
       "                                         description  manufactured  \\\n",
       "0  1 owner! 320i gt m-sports model! big brake kit...        2013.0   \n",
       "1  high loan available! low mileage unit. wear an...        2014.0   \n",
       "2  1 owner c&c unit. full agent service with 1 mo...        2016.0   \n",
       "3  fully agent maintained, 3 years warranty 10 ye...        2019.0   \n",
       "4  kah motor unit! 1 owner, lowest 1.98% for full...        2019.0   \n",
       "\n",
       "  original_reg_date     reg_date  type_of_vehicle  \\\n",
       "0               NaN  09-dec-2013     luxury sedan   \n",
       "1               NaN  26-jan-2015              van   \n",
       "2               NaN  25-jul-2016     luxury sedan   \n",
       "3               NaN  17-nov-2020     luxury sedan   \n",
       "4               NaN  20-sep-2019  mid-sized sedan   \n",
       "\n",
       "                                    category  ...   mileage      omv      arf  \\\n",
       "0  parf car, premium ad car, low mileage car  ...   73000.0  45330.0  50462.0   \n",
       "1                             premium ad car  ...  110112.0  27502.0   1376.0   \n",
       "2                   parf car, premium ad car  ...   80000.0  27886.0  26041.0   \n",
       "3  parf car, almost new car, consignment car  ...    9800.0  46412.0  56977.0   \n",
       "4                                   parf car  ...   40000.0  20072.0  20101.0   \n",
       "\n",
       "  opc_scheme     lifespan   eco_category  \\\n",
       "0        NaN          NaN  uncategorized   \n",
       "1        NaN  25-jan-2035  uncategorized   \n",
       "2        NaN          NaN  uncategorized   \n",
       "3        NaN          NaN  uncategorized   \n",
       "4        NaN          NaN  uncategorized   \n",
       "\n",
       "                                            features  \\\n",
       "0  5 doors gt, powerful and fuel efficient 2.0l t...   \n",
       "1  low mileage unit. well maintained vehicle. vie...   \n",
       "2  responsive and fuel efficient 1.6l inline 4 cy...   \n",
       "3  1.5l inline-4 twin scroll turbocharged engine,...   \n",
       "4  1.6l i-vtec engine, 123 bhp, earth dreams cvt ...   \n",
       "\n",
       "                                         accessories  indicative_price  \\\n",
       "0  bmw i-drive, navigation, bluetooth/aux/usb inp...               NaN   \n",
       "1  factory radio setting. front recording camera....               NaN   \n",
       "2  dual electric/memory seats. factory fitted aud...               NaN   \n",
       "3  64 colour ambient lighting. active parking ass...               NaN   \n",
       "4  s/rims, premium leather seats, factory touch s...               NaN   \n",
       "\n",
       "      price  \n",
       "0   71300.0  \n",
       "1   43800.0  \n",
       "2   95500.0  \n",
       "3  197900.0  \n",
       "4  103200.0  \n",
       "\n",
       "[5 rows x 30 columns]"
      ]
     },
     "execution_count": 180,
     "metadata": {},
     "output_type": "execute_result"
    }
   ],
   "source": [
    "df = pd.read_csv('./train.csv/train.csv')\n",
    "\n",
    "df.head()"
   ]
  },
  {
   "cell_type": "code",
   "execution_count": 181,
   "metadata": {},
   "outputs": [
    {
     "name": "stdout",
     "output_type": "stream",
     "text": [
      "(16784, 30)\n",
      "['listing_id', 'title', 'make', 'model', 'description', 'manufactured', 'original_reg_date', 'reg_date', 'type_of_vehicle', 'category', 'transmission', 'curb_weight', 'power', 'fuel_type', 'engine_cap', 'no_of_owners', 'depreciation', 'coe', 'road_tax', 'dereg_value', 'mileage', 'omv', 'arf', 'opc_scheme', 'lifespan', 'eco_category', 'features', 'accessories', 'indicative_price', 'price']\n",
      "listing_id                                                     1030324\n",
      "title                           BMW 3 Series 320i Gran Turismo M-Sport\n",
      "make                                                               bmw\n",
      "model                                                             320i\n",
      "description          1 owner! 320i gt m-sports model! big brake kit...\n",
      "manufactured                                                    2013.0\n",
      "original_reg_date                                                  NaN\n",
      "reg_date                                                   09-dec-2013\n",
      "type_of_vehicle                                           luxury sedan\n",
      "category                     parf car, premium ad car, low mileage car\n",
      "transmission                                                      auto\n",
      "curb_weight                                                     1560.0\n",
      "power                                                            135.0\n",
      "fuel_type                                                          NaN\n",
      "engine_cap                                                      1997.0\n",
      "no_of_owners                                                       1.0\n",
      "depreciation                                                   17700.0\n",
      "coe                                                            77100.0\n",
      "road_tax                                                        1210.0\n",
      "dereg_value                                                    47514.0\n",
      "mileage                                                        73000.0\n",
      "omv                                                            45330.0\n",
      "arf                                                            50462.0\n",
      "opc_scheme                                                         NaN\n",
      "lifespan                                                           NaN\n",
      "eco_category                                             uncategorized\n",
      "features             5 doors gt, powerful and fuel efficient 2.0l t...\n",
      "accessories          bmw i-drive, navigation, bluetooth/aux/usb inp...\n",
      "indicative_price                                                   NaN\n",
      "price                                                          71300.0\n",
      "Name: 0, dtype: object\n"
     ]
    }
   ],
   "source": [
    "print(df.shape)\n",
    "print(df.columns.to_list())\n",
    "print(df.iloc[0])"
   ]
  },
  {
   "cell_type": "code",
   "execution_count": 167,
   "metadata": {},
   "outputs": [
    {
     "name": "stdout",
     "output_type": "stream",
     "text": [
      "['alfa romeo' 'alpine' 'aston martin' 'audi' 'austin' 'bentley' 'bmw'\n",
      " 'byd' 'chery' 'chevrolet' 'chrysler' 'citroen' 'cupra' 'daf' 'daihatsu'\n",
      " 'daimler' 'dodge' 'dongfeng' 'ferrari' 'fiat' 'ford' 'foton'\n",
      " 'golden dragon' 'hafei' 'higer' 'hino' 'honda' 'hummer' 'hyundai'\n",
      " 'infiniti' 'international' 'isuzu' 'iveco' 'jaguar' 'jeep' 'joylong'\n",
      " 'kia' 'lamborghini' 'land rover' 'lexus' 'lotus' 'man' 'maserati' 'maxus'\n",
      " 'mazda' 'mclaren' 'mercedes' 'mercedes-benz' 'mg' 'mini' 'mitsubishi'\n",
      " 'mitsuoka' 'morris' 'nissan' 'opel' 'perodua' 'peugeot' 'porsche'\n",
      " 'proton' 'renault' 'riley' 'rolls-royce' 'rover' 'ruf' 'saab' 'scania'\n",
      " 'seat' 'skoda' 'ssangyong' 'subaru' 'suzuki' 'tesla' 'toyota' 'ud'\n",
      " 'volkswagen' 'volvo' 'yutong']\n"
     ]
    }
   ],
   "source": [
    "# car brands. to-do: aggregate and convert to ordinal label\n",
    "make_names = np.unique(temp)\n",
    "print(make_names)"
   ]
  },
  {
   "cell_type": "code",
   "execution_count": 168,
   "metadata": {},
   "outputs": [
    {
     "name": "stdout",
     "output_type": "stream",
     "text": [
      "2160\n"
     ]
    }
   ],
   "source": [
    "missing_make = np.array(df['make'].isnull())\n",
    "print(missing_make.sum())"
   ]
  },
  {
   "cell_type": "code",
   "execution_count": 169,
   "metadata": {},
   "outputs": [
    {
     "name": "stdout",
     "output_type": "stream",
     "text": [
      "3\n"
     ]
    },
    {
     "name": "stderr",
     "output_type": "stream",
     "text": [
      "G:\\softwares\\envs\\4277lab\\lib\\site-packages\\ipykernel_launcher.py:26: SettingWithCopyWarning: \n",
      "A value is trying to be set on a copy of a slice from a DataFrame\n",
      "\n",
      "See the caveats in the documentation: https://pandas.pydata.org/pandas-docs/stable/user_guide/indexing.html#returning-a-view-versus-a-copy\n"
     ]
    }
   ],
   "source": [
    "missing_owner = np.array(df['no_of_owners'].isnull())\n",
    "def extract_owners(d):\n",
    "    ds = d.split(' ')\n",
    "    i = -1\n",
    "    if 'owner' in ds:\n",
    "        i = ds.index('owner')\n",
    "    elif 'owners' in ds:\n",
    "        i = ds.index('owners')\n",
    "    \n",
    "    amt = False\n",
    "    if i != -1:\n",
    "        amt = ds[i - 1]\n",
    "    if amt == 'one' or amt == '1' or amt == 'original':\n",
    "        amt = 1\n",
    "    elif amt == 'two' or amt == '2':\n",
    "        amt = 2\n",
    "    else:\n",
    "        amt = False\n",
    "    if amt:\n",
    "        amt = int(amt)\n",
    "    return amt\n",
    "\n",
    "df['description'] = df['description'].str.lower().replace()\n",
    "owner = np.array(df['description'].map(extract_owners), dtype=bool)\n",
    "remains = np.logical_and(owner, missing_owner)\n",
    "df['no_of_owners'][remains] = owner[remains]\n",
    "print(remains.sum()) # orz..."
   ]
  },
  {
   "cell_type": "code",
   "execution_count": 170,
   "metadata": {},
   "outputs": [
    {
     "name": "stderr",
     "output_type": "stream",
     "text": [
      "G:\\softwares\\envs\\4277lab\\lib\\site-packages\\ipykernel_launcher.py:23: SettingWithCopyWarning: \n",
      "A value is trying to be set on a copy of a slice from a DataFrame\n",
      "\n",
      "See the caveats in the documentation: https://pandas.pydata.org/pandas-docs/stable/user_guide/indexing.html#returning-a-view-versus-a-copy\n"
     ]
    }
   ],
   "source": [
    "def extract_model(de):\n",
    "    model_list = ['alfa romeo', 'alpine', 'aston martin', 'audi', 'austin', 'bentley', 'bmw',\n",
    " 'byd', 'chery', 'chevrolet', 'chrysler', 'citroen', 'cupra', 'daf', 'daihatsu',\n",
    " 'daimler', 'dodge', 'dongfeng', 'ferrari', 'fiat', 'ford', 'foton',\n",
    " 'golden dragon', 'hafei', 'higer', 'hino', 'honda', 'hummer', 'hyundai',\n",
    " 'infiniti', 'international', 'isuzu', 'iveco', 'jaguar', 'jeep', 'joylong',\n",
    " 'kia', 'lamborghini', 'land rover', 'lexus', 'lotus', 'man', 'maserati', 'maxus',\n",
    " 'mazda', 'mclaren', 'mercedes', 'mercedes-benz', 'mg', 'mini', 'mitsubishi',\n",
    " 'mitsuoka', 'morris', 'nissan', 'opel', 'perodua', 'peugeot', 'porsche',\n",
    " 'proton', 'renault', 'riley', 'rolls-royce', 'rover', 'ruf', 'saab', 'scania',\n",
    " 'seat', 'skoda', 'ssangyong', 'subaru', 'suzuki', 'tesla', 'toyota', 'ud',\n",
    " 'volkswagen', 'volvo', 'yutong']\n",
    "    des = de.split(' ')\n",
    "    for d in des:\n",
    "        if d in model_list:\n",
    "            return d\n",
    "    return False\n",
    "\n",
    "df['title'] = df['title'].str.lower().replace('-', '')\n",
    "make_from_titles = df['title'].map(extract_model)\n",
    "b = np.array(make_from_titles, dtype=bool)\n",
    "remains = np.logical_and(b, missing_make)\n",
    "df['make'][remains] = make_from_titles[remains]\n",
    "#2103 make filled"
   ]
  },
  {
   "cell_type": "code",
   "execution_count": 171,
   "metadata": {},
   "outputs": [],
   "source": [
    "df = df.drop(columns = ['listing_id', 'indicative_price', 'curb_weight'])"
   ]
  },
  {
   "cell_type": "code",
   "execution_count": 172,
   "metadata": {},
   "outputs": [
    {
     "name": "stdout",
     "output_type": "stream",
     "text": [
      "['107' '116d' '116i' '118i' '120i' '125i' '12c' '1300' '135i' '14.280'\n",
      " '159' '190e' '1m' '2' '200' '2008' '200sx' '207cc' '208' '216' '216d'\n",
      " '216i' '218d' '218i' '220' '220i' '225xe' '228i' '230' '230i' '250'\n",
      " '280s' '3' '3008' '300c' '300ce' '300gd' '300sel' '300sl' '308' '315'\n",
      " '316i' '318ci' '318i' '320ce' '320d' '320i' '323i' '325ci' '325i' '328i'\n",
      " '330ci' '330e' '330i' '335i' '340i' '348' '360' '3800s' '420i' '428i'\n",
      " '430i' '435i' '440i' '450slc' '458' '488' '500' '5008' '508' '520d'\n",
      " '520i' '523i' '525i' '528i' '530e' '530i' '535i' '540i' '570s' '575m'\n",
      " '599' '600lt' '630ci' '630i' '640i' '650i' '650s' '718' '720s' '730d'\n",
      " '730i' '730li' '740e' '740i' '740li' '750li' '840i' '850i' '86' '9-3'\n",
      " '9-5' '900s' '911' '924' '944' 'a1' 'a110' 'a156' 'a180' 'a200' 'a250'\n",
      " 'a3' 'a35' 'a4' 'a45' 'a5' 'a6' 'a7' 'a8' 'accent' 'accord'\n",
      " 'activehybrid' 'actros' 'actyon' 'airwave' 'alhambra' 'allion' 'almera'\n",
      " 'alphard' 'alpina' 'amg' 'apv' 'aqua' 'arona' 'arteon' 'astra' 'asx'\n",
      " 'ateca' 'atlas' 'attrage' 'aumark' 'avante' 'avanza' 'aventador' 'aveo'\n",
      " 'axela' 'axia' 'axor' 'b160' 'b170' 'b180' 'b200' 'beetle' 'bentayga'\n",
      " 'benz' 'berlingo' 'bj6800' 'boxster' 'bravo' 'brz' 'c-hr' 'c160' 'c180'\n",
      " 'c200' 'c250' 'c3' 'c350' 'c4' 'c5' 'cabstar' 'caddy' 'california'\n",
      " 'camry' 'capri' 'captur' 'carens' 'cascada' 'cayenne' 'cayman' 'cc'\n",
      " 'celica' 'century' 'cerato' 'cherokee' 'citan' 'city' 'civic' 'cl550'\n",
      " 'cla180' 'cla200' 'cla250' 'clc180k' 'clio' 'clk230' 'clk280' 'cls250'\n",
      " 'cls350' 'cls400' 'coaster' 'colt' 'combo' 'compass' 'condor'\n",
      " 'continental' 'cooper' 'copen' 'corolla' 'corona' 'corsa' 'coupe' 'cr-v'\n",
      " 'crossland' 'crossroad' 'crown' 'cruze' 'ct' 'cullinan' 'cx-3' 'cx-7'\n",
      " 'cyh52s' 'cyz52k' 'cyz52l' 'cyz52r' 'dawn' 'db11' 'db9' 'dbs' 'dbx'\n",
      " 'defender' 'discovery' 'dispatch' 'doblo' 'double-cab' 'ds3' 'ds4' 'ds5'\n",
      " 'dualis' 'dyna' 'e' 'e-pace' 'e-tron' 'e-type' 'e180' 'e200' 'e220'\n",
      " 'e230' 'e250' 'e280' 'e300' 'e350' 'e6' 'eclipse' 'elantra' 'elgrand'\n",
      " 'elise' 'eos' 'epica' 'eqv' 'es' 'esprit' 'esquire' 'estima' 'europa'\n",
      " 'every' 'evolution' 'exiga' 'exora' 'expert' 'f-pace' 'f-type'\n",
      " 'f12berlinetta' 'f355' 'f430' 'f512m' 'f612s' 'f8' 'fa' 'fairlady' 'fe83'\n",
      " 'ff' 'fiesta' 'fiorino' 'fit' 'fj' 'fluence' 'flying' 'focus' 'forester'\n",
      " 'fortuner' 'freed' 'freelander' 'frr34s' 'frr90' 'fs1elkm' 'fs1etka'\n",
      " 'fsr34s' 'fto' 'ftr34p' 'fuso' 'fvr34' 'fvr90' 'fxz77m' 'fy1euka' 'g10'\n",
      " 'g350' 'g420' 'galaxy' 'gallardo' 'gen' 'genesis' 'getz' 'gh8jrma'\n",
      " 'ghibli' 'ghost' 'giulia' 'giulietta' 'gl400' 'gla180' 'gla200' 'gla250'\n",
      " 'gladiator' 'glb200' 'glc200' 'glc250' 'glc300' 'gle400' 'gle450' 'golf'\n",
      " 'gr' 'grace' 'gran' 'grancabrio' 'grand' 'grandis' 'gransport'\n",
      " 'granturismo' 'gs' 'gt' 'gtc4lusso' 'gto' 'gtr' 'h3' 'harrier' 'healey'\n",
      " 'hiace' 'hilux' 'himiko' 'hkl6540' 'hr-v' 'hs' 'huracan' 'i-pace' 'i3'\n",
      " 'i30' 'i8' 'ibiza' 'impreza' 'insight' 'insignia' 'integra' 'ioniq' 'iq'\n",
      " 'is' 'isis' 'ist' 'jade' 'jazz' 'jetta' 'jimny' 'journey' 'juke' 'k2500'\n",
      " 'kadjar' 'kamiq' 'kangoo' 'karmann' 'karoq' 'keb4x2' 'kelisa' 'kenari'\n",
      " 'kestrel' 'kib4x2' 'kicks' 'klq6916' 'kodiaq' 'kombi' 'kona' 'kub4x2'\n",
      " 'kuga' 'lafesta' 'lancer' 'land' 'latio' 'lc500' 'leaf' 'legacy' 'leon'\n",
      " 'levante' 'levorg' 'liteace' 'lj80' 'ls350' 'ls460' 'ls500' 'lt133p'\n",
      " 'lt134p' 'lt434p' 'lx570' 'm135i' 'm140i' 'm2' 'm3' 'm4' 'm5' 'm6' 'm8'\n",
      " 'macan' 'malibu' 'march' 'mark' 'materia' 'maybach' 'megane' 'meriva'\n",
      " 'mg' 'mini' 'minor' 'minz' 'mito' 'mk' 'ml250' 'ml300' 'ml350' 'ml400'\n",
      " 'mobilio' 'model' 'mokka' 'mondeo' 'mr2' 'mrs' 'mulsanne' 'murano'\n",
      " 'mustang' 'mx-5' 'myvi' 'n-box' 'n-van' 'navara' 'nemo' 'nhr85a' 'nhr87a'\n",
      " 'niro' 'njr85a' 'njr88a' 'nmr85' 'nnr85' 'noah' 'note' 'npr71l' 'npr75'\n",
      " 'npr85' 'nqr75u' 'nv100' 'nv150' 'nv200' 'nv250' 'nv350' 'nx' 'octavia'\n",
      " 'odyssey' 'one' 'optima' 'optra' 'orlando' 'outback' 'outlander' 'p124'\n",
      " 'p1800' 'p360' 'panamera' 'partner' 'passat' 'patriot' 'persona'\n",
      " 'phantom' 'picanto' 'picnic' 'polo' 'prado' 'premio' 'presage' 'previa'\n",
      " 'prin' 'prius' 'proace' 'probox' 'pulsar' 'q2' 'q3' 'q30' 'q5' 'q50'\n",
      " 'q60' 'q7' 'q8' 'qashqai' 'quattroporte' 'qx30' 'qx80' 'r280l' 'r300l'\n",
      " 'r350l' 'r8' 'ractis' 'raize' 'range' 'ranger' 'rapid' 'rapide' 'rav4'\n",
      " 'rc' 'rcz' 'regiusace' 'rio' 'rosa' 'rs' 'rt35s' 'rush' 'rx' 'rx-8' 'rx7'\n",
      " 's-max' 's2000' 's280' 's3' 's300l' 's320l' 's350' 's4' 's40' 's400l'\n",
      " 's450' 's5' 's500' 's500l' 's560' 's60' 's80' 's90' 'santa' 'scenic'\n",
      " 'scirocco' 'scout' 'seltos' 'serena' 'series' 'sh1eeka' 'sh1eelg'\n",
      " 'sharan' 'shuttle' 'sienta' 'silver' 'sj41' 'skyline' 'sl280' 'sl320'\n",
      " 'sl350' 'sl400' 'sl500' 'slk200' 'slk250' 'slk280' 'solio' 'sonata'\n",
      " 'sonic' 'sorento' 'soul' 'sovereign' 'space' 'spider' 'sportage'\n",
      " 'sportsvan' 'sprinter' 'sq5' 'star' 'starex' 'starion' 'stavic' 'stelvio'\n",
      " 'stepwagon' 'stinger' 'stonic' 'stream' 'sunny' 'superb' 'swift' 'sx4'\n",
      " 'sylphy' 't-cross' 't11' 't3' 'tarraco' 'taycan' 'teana' 'terios'\n",
      " 'testarossa' 'tfr54h' 'tfr86' 'tfr87' 'tgs' 'tiguan' 'tivoli' 'toledo'\n",
      " 'touareg' 'touran' 'townace' 'toyoace' 'trafic' 'trajet' 'trakker'\n",
      " 'transporter' 'trf87j' 'triton' 'trucks' 'tt' 'tucson' 'tudor' 'tuscani'\n",
      " 'urus' 'urvan' 'ux' 'v220' 'v250' 'v250d' 'v260l' 'v40' 'v50' 'v60' 'v70'\n",
      " 'v8' 'v80' 'vanguard' 'vanquish' 'vantage' 'vellfire' 'veloster' 'venue'\n",
      " 'verna' 'vezel' 'viano' 'vios' 'vitara' 'vito' 'vitz' 'viva' 'vivaro'\n",
      " 'vivio' 'voxy' 'wish' 'wraith' 'wrangler' 'wrx' 'x-trail' 'x1' 'x2' 'x3'\n",
      " 'x4' 'x5' 'x6' 'x7' 'xc40' 'xc60' 'xc90' 'xe' 'xf' 'xj' 'xk' 'xml6103'\n",
      " 'xml6701' 'xv' 'xzu605r' 'xzu710r' 'yaris' 'yeti' 'z3' 'z4' 'zafira'\n",
      " 'zk6100h' 'zk6938h' 'zoe' 'zs']\n"
     ]
    }
   ],
   "source": [
    "model_names = np.unique(df['model'])\n",
    "print(model_names)\n",
    "#things appear ok. need to aggregate"
   ]
  },
  {
   "cell_type": "code",
   "execution_count": 173,
   "metadata": {},
   "outputs": [
    {
     "name": "stdout",
     "output_type": "stream",
     "text": [
      "11436    2007.0\n",
      "6034     2009.0\n",
      "8813     2017.0\n",
      "15836    2019.0\n",
      "12462    2008.0\n",
      "5500     2012.0\n",
      "304      2017.0\n",
      "16752    2011.0\n",
      "3902     2017.0\n",
      "11316    2014.0\n",
      "3264     2012.0\n",
      "988      2019.0\n",
      "13623    2016.0\n",
      "15092    2008.0\n",
      "7101     2007.0\n",
      "7665     2015.0\n",
      "2129     2018.0\n",
      "9493     2019.0\n",
      "9012     2015.0\n",
      "4968     2007.0\n",
      "9072     2017.0\n",
      "12928    2020.0\n",
      "8639     2017.0\n",
      "11068    2020.0\n",
      "7555     2010.0\n",
      "Name: manufactured, dtype: float64\n"
     ]
    }
   ],
   "source": [
    "print(df['manufactured'].sample(25))"
   ]
  },
  {
   "cell_type": "code",
   "execution_count": 182,
   "metadata": {},
   "outputs": [
    {
     "name": "stderr",
     "output_type": "stream",
     "text": [
      "G:\\softwares\\envs\\4277lab\\lib\\site-packages\\ipykernel_launcher.py:3: SettingWithCopyWarning: \n",
      "A value is trying to be set on a copy of a slice from a DataFrame\n",
      "\n",
      "See the caveats in the documentation: https://pandas.pydata.org/pandas-docs/stable/user_guide/indexing.html#returning-a-view-versus-a-copy\n",
      "  This is separate from the ipykernel package so we can avoid doing imports until\n",
      "G:\\softwares\\envs\\4277lab\\lib\\site-packages\\ipykernel_launcher.py:5: SettingWithCopyWarning: \n",
      "A value is trying to be set on a copy of a slice from a DataFrame\n",
      "\n",
      "See the caveats in the documentation: https://pandas.pydata.org/pandas-docs/stable/user_guide/indexing.html#returning-a-view-versus-a-copy\n",
      "  \"\"\"\n"
     ]
    }
   ],
   "source": [
    "d1 = np.array(df['original_reg_date'].isnull())\n",
    "df['age'] = df['original_reg_date'].copy()\n",
    "df['age'][d1] = df['reg_date'][d1]\n",
    "d1 = df['age'].isnull()\n",
    "df['age'][d1] = df['manufactured'][d1]\n",
    "\n",
    "def extract_year(date):\n",
    "    date = str(date)\n",
    "    if len(date) != 4:\n",
    "        if '.' in date and len(date) == 6:\n",
    "            year = date[:-2]\n",
    "        else:\n",
    "            l = date.split('-')\n",
    "            year = l[-1]\n",
    "    return int(year)\n",
    "df['age'] = 2021 - df['age'].map(extract_year)"
   ]
  },
  {
   "cell_type": "code",
   "execution_count": 183,
   "metadata": {},
   "outputs": [],
   "source": [
    "# take out outliers\n",
    "df['age'] = df['age'][df.age < 30]\n",
    "df['age'] = df['age'][df.age >= 0]"
   ]
  },
  {
   "cell_type": "code",
   "execution_count": 114,
   "metadata": {},
   "outputs": [],
   "source": [
    "df['fuel_type'] = df['fuel_type'].fillna('petrol')"
   ]
  },
  {
   "cell_type": "code",
   "execution_count": 185,
   "metadata": {},
   "outputs": [
    {
     "data": {
      "text/html": [
       "<div>\n",
       "<style scoped>\n",
       "    .dataframe tbody tr th:only-of-type {\n",
       "        vertical-align: middle;\n",
       "    }\n",
       "\n",
       "    .dataframe tbody tr th {\n",
       "        vertical-align: top;\n",
       "    }\n",
       "\n",
       "    .dataframe thead th {\n",
       "        text-align: right;\n",
       "    }\n",
       "</style>\n",
       "<table border=\"1\" class=\"dataframe\">\n",
       "  <thead>\n",
       "    <tr style=\"text-align: right;\">\n",
       "      <th></th>\n",
       "      <th>title</th>\n",
       "      <th>make</th>\n",
       "      <th>model</th>\n",
       "      <th>manufactured</th>\n",
       "      <th>type_of_vehicle</th>\n",
       "      <th>category</th>\n",
       "      <th>transmission</th>\n",
       "      <th>power</th>\n",
       "      <th>fuel_type</th>\n",
       "      <th>engine_cap</th>\n",
       "      <th>...</th>\n",
       "      <th>road_tax</th>\n",
       "      <th>dereg_value</th>\n",
       "      <th>mileage</th>\n",
       "      <th>omv</th>\n",
       "      <th>arf</th>\n",
       "      <th>opc_scheme</th>\n",
       "      <th>lifespan</th>\n",
       "      <th>indicative_price</th>\n",
       "      <th>price</th>\n",
       "      <th>age</th>\n",
       "    </tr>\n",
       "  </thead>\n",
       "  <tbody>\n",
       "    <tr>\n",
       "      <th>0</th>\n",
       "      <td>bmw 3 series 320i gran turismo m-sport</td>\n",
       "      <td>bmw</td>\n",
       "      <td>320i</td>\n",
       "      <td>2013.0</td>\n",
       "      <td>luxury sedan</td>\n",
       "      <td>parf car, premium ad car, low mileage car</td>\n",
       "      <td>auto</td>\n",
       "      <td>135.0</td>\n",
       "      <td>petrol</td>\n",
       "      <td>1997.0</td>\n",
       "      <td>...</td>\n",
       "      <td>1210.0</td>\n",
       "      <td>47514.0</td>\n",
       "      <td>73000.0</td>\n",
       "      <td>45330.0</td>\n",
       "      <td>50462.0</td>\n",
       "      <td>NaN</td>\n",
       "      <td>NaN</td>\n",
       "      <td>NaN</td>\n",
       "      <td>71300.0</td>\n",
       "      <td>8.0</td>\n",
       "    </tr>\n",
       "    <tr>\n",
       "      <th>1</th>\n",
       "      <td>toyota hiace 3.0m</td>\n",
       "      <td>toyota</td>\n",
       "      <td>hiace</td>\n",
       "      <td>2014.0</td>\n",
       "      <td>van</td>\n",
       "      <td>premium ad car</td>\n",
       "      <td>manual</td>\n",
       "      <td>NaN</td>\n",
       "      <td>diesel</td>\n",
       "      <td>2982.0</td>\n",
       "      <td>...</td>\n",
       "      <td>NaN</td>\n",
       "      <td>3648.0</td>\n",
       "      <td>110112.0</td>\n",
       "      <td>27502.0</td>\n",
       "      <td>1376.0</td>\n",
       "      <td>NaN</td>\n",
       "      <td>25-jan-2035</td>\n",
       "      <td>NaN</td>\n",
       "      <td>43800.0</td>\n",
       "      <td>7.0</td>\n",
       "    </tr>\n",
       "    <tr>\n",
       "      <th>2</th>\n",
       "      <td>mercedes-benz cla-class cla180</td>\n",
       "      <td>mercedes-benz</td>\n",
       "      <td>cla180</td>\n",
       "      <td>2016.0</td>\n",
       "      <td>luxury sedan</td>\n",
       "      <td>parf car, premium ad car</td>\n",
       "      <td>auto</td>\n",
       "      <td>90.0</td>\n",
       "      <td>petrol</td>\n",
       "      <td>1595.0</td>\n",
       "      <td>...</td>\n",
       "      <td>740.0</td>\n",
       "      <td>44517.0</td>\n",
       "      <td>80000.0</td>\n",
       "      <td>27886.0</td>\n",
       "      <td>26041.0</td>\n",
       "      <td>NaN</td>\n",
       "      <td>NaN</td>\n",
       "      <td>NaN</td>\n",
       "      <td>95500.0</td>\n",
       "      <td>5.0</td>\n",
       "    </tr>\n",
       "    <tr>\n",
       "      <th>3</th>\n",
       "      <td>mercedes-benz e-class e180 avantgarde</td>\n",
       "      <td>mercedes-benz</td>\n",
       "      <td>e180</td>\n",
       "      <td>2019.0</td>\n",
       "      <td>luxury sedan</td>\n",
       "      <td>parf car, almost new car, consignment car</td>\n",
       "      <td>auto</td>\n",
       "      <td>115.0</td>\n",
       "      <td>petrol</td>\n",
       "      <td>1497.0</td>\n",
       "      <td>...</td>\n",
       "      <td>684.0</td>\n",
       "      <td>80301.0</td>\n",
       "      <td>9800.0</td>\n",
       "      <td>46412.0</td>\n",
       "      <td>56977.0</td>\n",
       "      <td>NaN</td>\n",
       "      <td>NaN</td>\n",
       "      <td>NaN</td>\n",
       "      <td>197900.0</td>\n",
       "      <td>2.0</td>\n",
       "    </tr>\n",
       "    <tr>\n",
       "      <th>4</th>\n",
       "      <td>honda civic 1.6a vti</td>\n",
       "      <td>honda</td>\n",
       "      <td>civic</td>\n",
       "      <td>2019.0</td>\n",
       "      <td>mid-sized sedan</td>\n",
       "      <td>parf car</td>\n",
       "      <td>auto</td>\n",
       "      <td>92.0</td>\n",
       "      <td>petrol</td>\n",
       "      <td>1597.0</td>\n",
       "      <td>...</td>\n",
       "      <td>742.0</td>\n",
       "      <td>36453.0</td>\n",
       "      <td>40000.0</td>\n",
       "      <td>20072.0</td>\n",
       "      <td>20101.0</td>\n",
       "      <td>NaN</td>\n",
       "      <td>NaN</td>\n",
       "      <td>NaN</td>\n",
       "      <td>103200.0</td>\n",
       "      <td>2.0</td>\n",
       "    </tr>\n",
       "  </tbody>\n",
       "</table>\n",
       "<p>5 rows × 23 columns</p>\n",
       "</div>"
      ],
      "text/plain": [
       "                                    title           make   model  \\\n",
       "0  bmw 3 series 320i gran turismo m-sport            bmw    320i   \n",
       "1                       toyota hiace 3.0m         toyota   hiace   \n",
       "2          mercedes-benz cla-class cla180  mercedes-benz  cla180   \n",
       "3   mercedes-benz e-class e180 avantgarde  mercedes-benz    e180   \n",
       "4                    honda civic 1.6a vti          honda   civic   \n",
       "\n",
       "   manufactured  type_of_vehicle                                   category  \\\n",
       "0        2013.0     luxury sedan  parf car, premium ad car, low mileage car   \n",
       "1        2014.0              van                             premium ad car   \n",
       "2        2016.0     luxury sedan                   parf car, premium ad car   \n",
       "3        2019.0     luxury sedan  parf car, almost new car, consignment car   \n",
       "4        2019.0  mid-sized sedan                                   parf car   \n",
       "\n",
       "  transmission  power fuel_type  engine_cap  ...  road_tax  dereg_value  \\\n",
       "0         auto  135.0    petrol      1997.0  ...    1210.0      47514.0   \n",
       "1       manual    NaN    diesel      2982.0  ...       NaN       3648.0   \n",
       "2         auto   90.0    petrol      1595.0  ...     740.0      44517.0   \n",
       "3         auto  115.0    petrol      1497.0  ...     684.0      80301.0   \n",
       "4         auto   92.0    petrol      1597.0  ...     742.0      36453.0   \n",
       "\n",
       "    mileage      omv      arf  opc_scheme     lifespan  indicative_price  \\\n",
       "0   73000.0  45330.0  50462.0         NaN          NaN               NaN   \n",
       "1  110112.0  27502.0   1376.0         NaN  25-jan-2035               NaN   \n",
       "2   80000.0  27886.0  26041.0         NaN          NaN               NaN   \n",
       "3    9800.0  46412.0  56977.0         NaN          NaN               NaN   \n",
       "4   40000.0  20072.0  20101.0         NaN          NaN               NaN   \n",
       "\n",
       "      price  age  \n",
       "0   71300.0  8.0  \n",
       "1   43800.0  7.0  \n",
       "2   95500.0  5.0  \n",
       "3  197900.0  2.0  \n",
       "4  103200.0  2.0  \n",
       "\n",
       "[5 rows x 23 columns]"
      ]
     },
     "execution_count": 185,
     "metadata": {},
     "output_type": "execute_result"
    }
   ],
   "source": [
    "df.head()"
   ]
  },
  {
   "cell_type": "code",
   "execution_count": 182,
   "metadata": {},
   "outputs": [],
   "source": []
  },
  {
   "cell_type": "code",
   "execution_count": 183,
   "metadata": {},
   "outputs": [
    {
     "data": {
      "text/html": [
       "<div>\n",
       "<style scoped>\n",
       "    .dataframe tbody tr th:only-of-type {\n",
       "        vertical-align: middle;\n",
       "    }\n",
       "\n",
       "    .dataframe tbody tr th {\n",
       "        vertical-align: top;\n",
       "    }\n",
       "\n",
       "    .dataframe thead th {\n",
       "        text-align: right;\n",
       "    }\n",
       "</style>\n",
       "<table border=\"1\" class=\"dataframe\">\n",
       "  <thead>\n",
       "    <tr style=\"text-align: right;\">\n",
       "      <th></th>\n",
       "      <th>title</th>\n",
       "      <th>make</th>\n",
       "      <th>model</th>\n",
       "      <th>manufactured</th>\n",
       "      <th>type_of_vehicle</th>\n",
       "      <th>category</th>\n",
       "      <th>transmission</th>\n",
       "      <th>power</th>\n",
       "      <th>fuel_type</th>\n",
       "      <th>engine_cap</th>\n",
       "      <th>...</th>\n",
       "      <th>road_tax</th>\n",
       "      <th>dereg_value</th>\n",
       "      <th>mileage</th>\n",
       "      <th>omv</th>\n",
       "      <th>arf</th>\n",
       "      <th>opc_scheme</th>\n",
       "      <th>lifespan</th>\n",
       "      <th>indicative_price</th>\n",
       "      <th>price</th>\n",
       "      <th>age</th>\n",
       "    </tr>\n",
       "  </thead>\n",
       "  <tbody>\n",
       "    <tr>\n",
       "      <th>0</th>\n",
       "      <td>bmw 3 series 320i gran turismo m-sport</td>\n",
       "      <td>bmw</td>\n",
       "      <td>320i</td>\n",
       "      <td>2013.0</td>\n",
       "      <td>luxury sedan</td>\n",
       "      <td>parf car, premium ad car, low mileage car</td>\n",
       "      <td>auto</td>\n",
       "      <td>135.0</td>\n",
       "      <td>NaN</td>\n",
       "      <td>1997.0</td>\n",
       "      <td>...</td>\n",
       "      <td>1210.0</td>\n",
       "      <td>47514.0</td>\n",
       "      <td>73000.0</td>\n",
       "      <td>45330.0</td>\n",
       "      <td>50462.0</td>\n",
       "      <td>NaN</td>\n",
       "      <td>NaN</td>\n",
       "      <td>NaN</td>\n",
       "      <td>71300.0</td>\n",
       "      <td>8.0</td>\n",
       "    </tr>\n",
       "    <tr>\n",
       "      <th>1</th>\n",
       "      <td>toyota hiace 3.0m</td>\n",
       "      <td>toyota</td>\n",
       "      <td>hiace</td>\n",
       "      <td>2014.0</td>\n",
       "      <td>van</td>\n",
       "      <td>premium ad car</td>\n",
       "      <td>manual</td>\n",
       "      <td>NaN</td>\n",
       "      <td>diesel</td>\n",
       "      <td>2982.0</td>\n",
       "      <td>...</td>\n",
       "      <td>NaN</td>\n",
       "      <td>3648.0</td>\n",
       "      <td>110112.0</td>\n",
       "      <td>27502.0</td>\n",
       "      <td>1376.0</td>\n",
       "      <td>NaN</td>\n",
       "      <td>25-jan-2035</td>\n",
       "      <td>NaN</td>\n",
       "      <td>43800.0</td>\n",
       "      <td>7.0</td>\n",
       "    </tr>\n",
       "    <tr>\n",
       "      <th>2</th>\n",
       "      <td>mercedes-benz cla-class cla180</td>\n",
       "      <td>mercedes-benz</td>\n",
       "      <td>cla180</td>\n",
       "      <td>2016.0</td>\n",
       "      <td>luxury sedan</td>\n",
       "      <td>parf car, premium ad car</td>\n",
       "      <td>auto</td>\n",
       "      <td>90.0</td>\n",
       "      <td>NaN</td>\n",
       "      <td>1595.0</td>\n",
       "      <td>...</td>\n",
       "      <td>740.0</td>\n",
       "      <td>44517.0</td>\n",
       "      <td>80000.0</td>\n",
       "      <td>27886.0</td>\n",
       "      <td>26041.0</td>\n",
       "      <td>NaN</td>\n",
       "      <td>NaN</td>\n",
       "      <td>NaN</td>\n",
       "      <td>95500.0</td>\n",
       "      <td>5.0</td>\n",
       "    </tr>\n",
       "    <tr>\n",
       "      <th>3</th>\n",
       "      <td>mercedes-benz e-class e180 avantgarde</td>\n",
       "      <td>mercedes-benz</td>\n",
       "      <td>e180</td>\n",
       "      <td>2019.0</td>\n",
       "      <td>luxury sedan</td>\n",
       "      <td>parf car, almost new car, consignment car</td>\n",
       "      <td>auto</td>\n",
       "      <td>115.0</td>\n",
       "      <td>NaN</td>\n",
       "      <td>1497.0</td>\n",
       "      <td>...</td>\n",
       "      <td>684.0</td>\n",
       "      <td>80301.0</td>\n",
       "      <td>9800.0</td>\n",
       "      <td>46412.0</td>\n",
       "      <td>56977.0</td>\n",
       "      <td>NaN</td>\n",
       "      <td>NaN</td>\n",
       "      <td>NaN</td>\n",
       "      <td>197900.0</td>\n",
       "      <td>2.0</td>\n",
       "    </tr>\n",
       "    <tr>\n",
       "      <th>4</th>\n",
       "      <td>honda civic 1.6a vti</td>\n",
       "      <td>honda</td>\n",
       "      <td>civic</td>\n",
       "      <td>2019.0</td>\n",
       "      <td>mid-sized sedan</td>\n",
       "      <td>parf car</td>\n",
       "      <td>auto</td>\n",
       "      <td>92.0</td>\n",
       "      <td>NaN</td>\n",
       "      <td>1597.0</td>\n",
       "      <td>...</td>\n",
       "      <td>742.0</td>\n",
       "      <td>36453.0</td>\n",
       "      <td>40000.0</td>\n",
       "      <td>20072.0</td>\n",
       "      <td>20101.0</td>\n",
       "      <td>NaN</td>\n",
       "      <td>NaN</td>\n",
       "      <td>NaN</td>\n",
       "      <td>103200.0</td>\n",
       "      <td>2.0</td>\n",
       "    </tr>\n",
       "  </tbody>\n",
       "</table>\n",
       "<p>5 rows × 23 columns</p>\n",
       "</div>"
      ],
      "text/plain": [
       "                                    title           make   model  \\\n",
       "0  bmw 3 series 320i gran turismo m-sport            bmw    320i   \n",
       "1                       toyota hiace 3.0m         toyota   hiace   \n",
       "2          mercedes-benz cla-class cla180  mercedes-benz  cla180   \n",
       "3   mercedes-benz e-class e180 avantgarde  mercedes-benz    e180   \n",
       "4                    honda civic 1.6a vti          honda   civic   \n",
       "\n",
       "   manufactured  type_of_vehicle                                   category  \\\n",
       "0        2013.0     luxury sedan  parf car, premium ad car, low mileage car   \n",
       "1        2014.0              van                             premium ad car   \n",
       "2        2016.0     luxury sedan                   parf car, premium ad car   \n",
       "3        2019.0     luxury sedan  parf car, almost new car, consignment car   \n",
       "4        2019.0  mid-sized sedan                                   parf car   \n",
       "\n",
       "  transmission  power fuel_type  engine_cap  ...  road_tax  dereg_value  \\\n",
       "0         auto  135.0       NaN      1997.0  ...    1210.0      47514.0   \n",
       "1       manual    NaN    diesel      2982.0  ...       NaN       3648.0   \n",
       "2         auto   90.0       NaN      1595.0  ...     740.0      44517.0   \n",
       "3         auto  115.0       NaN      1497.0  ...     684.0      80301.0   \n",
       "4         auto   92.0       NaN      1597.0  ...     742.0      36453.0   \n",
       "\n",
       "    mileage      omv      arf  opc_scheme     lifespan  indicative_price  \\\n",
       "0   73000.0  45330.0  50462.0         NaN          NaN               NaN   \n",
       "1  110112.0  27502.0   1376.0         NaN  25-jan-2035               NaN   \n",
       "2   80000.0  27886.0  26041.0         NaN          NaN               NaN   \n",
       "3    9800.0  46412.0  56977.0         NaN          NaN               NaN   \n",
       "4   40000.0  20072.0  20101.0         NaN          NaN               NaN   \n",
       "\n",
       "      price  age  \n",
       "0   71300.0  8.0  \n",
       "1   43800.0  7.0  \n",
       "2   95500.0  5.0  \n",
       "3  197900.0  2.0  \n",
       "4  103200.0  2.0  \n",
       "\n",
       "[5 rows x 23 columns]"
      ]
     },
     "execution_count": 183,
     "metadata": {},
     "output_type": "execute_result"
    }
   ],
   "source": [
    "df.head()"
   ]
  },
  {
   "cell_type": "code",
   "execution_count": 180,
   "metadata": {},
   "outputs": [],
   "source": [
    "# remove useless atttributes\n",
    "# deal with missing values\n",
    "    # convert feature / description and title to fill in missing values for model and make\n",
    "    # drop original reg date / reg date after using it to fill missing manufactured date, convert to age\n",
    "    # drop these values afterwards\n",
    "    # if fuel type is NA, change to petral, which is the default type\n",
    "# explore remaining attributes\n",
    "    # standardize, normalize\n",
    "    # simplify, aggregate\n",
    "    # one-hot encoding, convert to numerical label\n",
    "    # remove outliers\n",
    "# find out other things to clean\n",
    "\n",
    "# qn: indicative price more representative? combine with retail price?"
   ]
  },
  {
   "cell_type": "code",
   "execution_count": null,
   "metadata": {},
   "outputs": [],
   "source": [
    "# new: clean (fill in missing values, remove outliers(single and correlation outliers)) and normalize power, engine cap, mileage"
   ]
  },
  {
   "cell_type": "code",
   "execution_count": 9,
   "metadata": {},
   "outputs": [
    {
     "data": {
      "image/png": "[encoded data removed]",
      "text/plain": [
       "<Figure size 432x288 with 1 Axes>"
      ]
     },
     "metadata": {
      "needs_background": "light"
     },
     "output_type": "display_data"
    }
   ],
   "source": [
    "# power\n",
    "plt.figure()\n",
    "plt.hist(df[\"power\"].to_numpy())\n",
    "plt.show()"
   ]
  },
  {
   "cell_type": "code",
   "execution_count": 12,
   "metadata": {},
   "outputs": [
    {
     "name": "stdout",
     "output_type": "stream",
     "text": [
      "310\n",
      "2337\n"
     ]
    }
   ],
   "source": [
    "print(len(df[df.power > 400]))\n",
    "print(df[\"power\"].isnull().sum())"
   ]
  },
  {
   "cell_type": "code",
   "execution_count": 16,
   "metadata": {},
   "outputs": [
    {
     "data": {
      "image/png": "[encoded data removed]",
      "text/plain": [
       "<Figure size 432x288 with 1 Axes>"
      ]
     },
     "metadata": {
      "needs_background": "light"
     },
     "output_type": "display_data"
    }
   ],
   "source": [
    "# plot correlation between power and engine cap\n",
    "plt.scatter(df[\"power\"], df[\"engine_cap\"])\n",
    "plt.show()"
   ]
  },
  {
   "cell_type": "code",
   "execution_count": 184,
   "metadata": {},
   "outputs": [
    {
     "name": "stdout",
     "output_type": "stream",
     "text": [
      "53\n"
     ]
    }
   ],
   "source": [
    "# engine cap\n",
    "print(df[\"engine_cap\"].isnull().sum())\n",
    "df = df.dropna(subset = [\"engine_cap\"]) # only dropping 53"
   ]
  },
  {
   "cell_type": "code",
   "execution_count": 185,
   "metadata": {},
   "outputs": [
    {
     "name": "stdout",
     "output_type": "stream",
     "text": [
      "0\n",
      "10000\n"
     ]
    }
   ],
   "source": [
    "# take out outliers acccording to scatter plot\n",
    "df = df[~((df['power'] > 200) & (df['engine_cap'] < 1000))]\n",
    "\n",
    "df_valid = df.dropna(subset = ['power'])\n",
    "powers = df_valid['power'].to_numpy()\n",
    "caps = df_valid['engine_cap'].to_numpy()\n",
    "\n",
    "# Find k data points with engine cap most similar to the power of x\n",
    "# Calculate the median power of those k data points\n",
    "# Set power of x to the calculated median\n",
    "# Set k as the number of nearest data points we want to consider\n",
    "k = 100\n",
    "\n",
    "# Loop over each data point in our dataset\n",
    "for idx, row in df.iterrows():\n",
    "    if idx % 10000 == 0:\n",
    "        print(idx)\n",
    "\n",
    "    p, e = row['power'], row['engine_cap']\n",
    "\n",
    "    diff = np.abs(caps - e)\n",
    "\n",
    "    indices = np.argsort(diff)[:k]\n",
    "\n",
    "    k_powers = powers[indices]\n",
    "\n",
    "    avg = np.average(k_powers)\n",
    "    \n",
    "    # Set the weight value of the current row to the median\n",
    "    df.at[idx, 'power'] = avg"
   ]
  },
  {
   "cell_type": "code",
   "execution_count": 186,
   "metadata": {},
   "outputs": [],
   "source": [
    "df['power_normed'] = (df['power']-df['power'].min()) / (df['power'].max()-df['power'].min())\n",
    "df['engine_cap_normed'] = (df['engine_cap']-df['engine_cap'].min()) / (df['engine_cap'].max()-df['engine_cap'].min())"
   ]
  },
  {
   "cell_type": "code",
   "execution_count": 187,
   "metadata": {},
   "outputs": [
    {
     "name": "stdout",
     "output_type": "stream",
     "text": [
      "0    80000.0\n",
      "dtype: float64\n"
     ]
    }
   ],
   "source": [
    "# mileage\n",
    "# missing\n",
    "# outlier\n",
    "# normalize\n",
    "dfvalid = df[\"mileage\"].dropna()\n",
    "print(dfvalid.mode())\n",
    "df[\"mileage\"] = df[\"mileage\"].fillna(80000.0)"
   ]
  },
  {
   "cell_type": "code",
   "execution_count": 188,
   "metadata": {},
   "outputs": [
    {
     "data": {
      "image/png": "[encoded data removed]",
      "text/plain": [
       "<Figure size 432x288 with 1 Axes>"
      ]
     },
     "metadata": {
      "needs_background": "light"
     },
     "output_type": "display_data"
    }
   ],
   "source": [
    "plt.figure()\n",
    "plt.boxplot(df[\"mileage\"])\n",
    "plt.show()"
   ]
  },
  {
   "cell_type": "code",
   "execution_count": 189,
   "metadata": {},
   "outputs": [],
   "source": [
    "df = df[df.mileage < 400000]"
   ]
  },
  {
   "cell_type": "code",
   "execution_count": 190,
   "metadata": {},
   "outputs": [],
   "source": [
    "df['mileage_normed'] = (df['mileage']-df['mileage'].min()) / (df['mileage'].max()-df['mileage'].min())"
   ]
  },
  {
   "cell_type": "code",
   "execution_count": 191,
   "metadata": {},
   "outputs": [
    {
     "name": "stdout",
     "output_type": "stream",
     "text": [
      "281\n",
      "219\n"
     ]
    }
   ],
   "source": [
    "# coe: fill in missing value for coe according to: age and power\n",
    "print(df[\"arf\"].isnull().sum()) #284\n",
    "print(len(df[df.arf.isnull() & df.dereg_value.isnull()])) #222\n",
    "df = df[~(df.arf.isnull() & df.dereg_value.isnull())] # remove values whose dereg_value cannot be calculated"
   ]
  },
  {
   "cell_type": "code",
   "execution_count": 192,
   "metadata": {},
   "outputs": [],
   "source": [
    "# recalculate reg date: total months\n",
    "def to_months(x):\n",
    "    mapper = {}\n",
    "    all_m = ['jan', 'feb', 'mar', 'apr', 'may', 'jun', 'jul', 'aug', 'sep', 'oct', 'nov', 'dec']\n",
    "    for i in range(12):\n",
    "        mapper[all_m[i]] = i + 1\n",
    "    if len(str(x)) < 11:\n",
    "        return int(x)\n",
    "    s = x.split('-')\n",
    "    year = 2021 - int(s[-1])\n",
    "    month = mapper[s[-2]]\n",
    "    return year * 12 + month\n",
    "\n",
    "df = df.dropna(subset = ['reg_date'])\n",
    "df['age_in_month'] = df['reg_date'].map(to_months)"
   ]
  },
  {
   "cell_type": "code",
   "execution_count": 196,
   "metadata": {},
   "outputs": [
    {
     "name": "stdout",
     "output_type": "stream",
     "text": [
      "70\n"
     ]
    }
   ],
   "source": [
    "# for date missing both coe and dereg_value, record it's month engine and power\n",
    "coe_to_search = []\n",
    "to_search = df[df.coe.isnull() & df.dereg_value.isnull()]\n",
    "\n",
    "for idx, row in to_search.iterrows():\n",
    "    # category -> A / B\n",
    "    power = row[\"power\"]\n",
    "    engine_cap = row[\"engine_cap\"]\n",
    "    cat = 2\n",
    "    month = row[\"age_in_month\"]\n",
    "    if engine_cap <= 1600 and power <= 97:\n",
    "        cat = 1\n",
    "    coe_to_search.append((cat, month))\n",
    "\n",
    "coe_to_search = list(set(coe_to_search))\n",
    "print(len(coe_to_search))"
   ]
  },
  {
   "cell_type": "code",
   "execution_count": 197,
   "metadata": {},
   "outputs": [
    {
     "name": "stdout",
     "output_type": "stream",
     "text": [
      "0\n",
      "10000\n",
      "837\n"
     ]
    }
   ],
   "source": [
    "t_to_coe = {}\n",
    "\n",
    "for t in coe_to_search:\n",
    "    t_to_coe[str(t)] = []\n",
    "\n",
    "remains = df[~df.coe.isnull()]\n",
    "\n",
    "for idx, row in remains.iterrows():\n",
    "    if idx % 10000 == 0:\n",
    "        print(idx)\n",
    "\n",
    "    power = row[\"power\"]\n",
    "    engine_cap = row[\"engine_cap\"]\n",
    "    cat = 2\n",
    "    month = row[\"age_in_month\"]\n",
    "    if engine_cap <= 1600 and power <= 97:\n",
    "        cat = 1\n",
    "    \n",
    "    t = (cat, month)\n",
    "    \n",
    "    coe = row[\"coe\"]\n",
    "    if t in coe_to_search:\n",
    "        t_to_coe[str(t)].append(coe)\n",
    "        \n",
    "c = 0\n",
    "for idx, row in df.iterrows():\n",
    "    power = row[\"power\"]\n",
    "    engine_cap = row[\"engine_cap\"]\n",
    "    cat = 2\n",
    "    month = row[\"age_in_month\"]\n",
    "    if engine_cap <= 1600 and power <= 97:\n",
    "        cat = 1\n",
    "    t = str((cat, month))\n",
    "\n",
    "    if type(row[\"coe\"]) == float and pd.isna(row[\"coe\"]):\n",
    "        l = t_to_coe[t]\n",
    "        if len(l) > 0:\n",
    "            avg = sum(l) / len(l)\n",
    "            df.at[idx, 'coe'] = avg\n",
    "            c += 1\n",
    "print(c)"
   ]
  },
  {
   "cell_type": "code",
   "execution_count": 198,
   "metadata": {},
   "outputs": [
    {
     "name": "stdout",
     "output_type": "stream",
     "text": [
      "34\n"
     ]
    }
   ],
   "source": [
    "print(df['coe'].isnull().sum())"
   ]
  },
  {
   "cell_type": "code",
   "execution_count": 201,
   "metadata": {},
   "outputs": [],
   "source": [
    "df = df[~(df.coe.isnull() & df.dereg_value.isnull())]"
   ]
  },
  {
   "cell_type": "code",
   "execution_count": 202,
   "metadata": {},
   "outputs": [],
   "source": [
    "def clean_tax(x):\n",
    "    if type(x) != float:\n",
    "        return None\n",
    "    return x\n",
    "df = df.dropna(subset=[\"road_tax\"])\n",
    "df[\"road_tax\"] = df[\"road_tax\"].map(clean_tax)"
   ]
  },
  {
   "cell_type": "code",
   "execution_count": 203,
   "metadata": {},
   "outputs": [
    {
     "data": {
      "image/png": "[encoded data removed]",
      "text/plain": [
       "<Figure size 432x288 with 1 Axes>"
      ]
     },
     "metadata": {
      "needs_background": "light"
     },
     "output_type": "display_data"
    }
   ],
   "source": [
    "plt.figure()\n",
    "plt.boxplot(df[\"road_tax\"])\n",
    "plt.show()"
   ]
  },
  {
   "cell_type": "code",
   "execution_count": 204,
   "metadata": {},
   "outputs": [
    {
     "name": "stdout",
     "output_type": "stream",
     "text": [
      "974.0\n"
     ]
    }
   ],
   "source": [
    "print(df[\"road_tax\"].median())"
   ]
  },
  {
   "cell_type": "code",
   "execution_count": 205,
   "metadata": {},
   "outputs": [],
   "source": [
    "import math\n",
    "for idx, row in df.iterrows():\n",
    "    rd_tax = row[\"road_tax\"]\n",
    "    if type(rd_tax) == float and pd.isna(rd_tax):\n",
    "        rd_tax = 974.0\n",
    "    if type(row[\"dereg_value\"]) == float and pd.isna(row[\"dereg_value\"]):\n",
    "        max_age = 10 * 12\n",
    "        age = row[\"age_in_month\"]\n",
    "        time_left = max_age - age\n",
    "        coe = row[\"coe\"]\n",
    "        omv = row[\"omv\"]\n",
    "        arf = row[\"arf\"]\n",
    "        parf_ratio = 0\n",
    "        if age <  5 * 12:\n",
    "            parf_ratio = 0.75\n",
    "        elif age >= 5 * 12 and age < 10 * 12:\n",
    "            parf_ratio = 0.75 - math.ceil((age - 5 * 12) / 12) * 0.05 \n",
    "            if parf_ratio < 0.5 or parf_ratio > 0.7:\n",
    "                print(parf_ratio, age)\n",
    "                break\n",
    "        coe_rebate = coe * time_left / 120\n",
    "        dereg_value = parf_ratio * arf + coe_rebate\n",
    "        df.at[idx, \"remaining_val\"] = dereg_value - rd_tax\n",
    "    else:\n",
    "        df.at[idx, \"remaining_val\"] = row[\"dereg_value\"] - rd_tax"
   ]
  },
  {
   "cell_type": "code",
   "execution_count": 210,
   "metadata": {},
   "outputs": [
    {
     "name": "stdout",
     "output_type": "stream",
     "text": [
      "196\n"
     ]
    }
   ],
   "source": [
    "df = df.dropna(subset = ['depreciation'])"
   ]
  },
  {
   "cell_type": "code",
   "execution_count": 207,
   "metadata": {},
   "outputs": [
    {
     "name": "stdout",
     "output_type": "stream",
     "text": [
      "['listing_id', 'title', 'make', 'model', 'description', 'manufactured', 'original_reg_date', 'reg_date', 'type_of_vehicle', 'category', 'transmission', 'curb_weight', 'power', 'fuel_type', 'engine_cap', 'no_of_owners', 'depreciation', 'coe', 'road_tax', 'dereg_value', 'mileage', 'omv', 'arf', 'opc_scheme', 'lifespan', 'eco_category', 'features', 'accessories', 'indicative_price', 'price', 'age', 'power_normed', 'engine_cap_normed', 'mileage_normed', 'age_in_month', 'remaining_val']\n"
     ]
    }
   ],
   "source": [
    "print(df.columns.to_list())"
   ]
  },
  {
   "cell_type": "code",
   "execution_count": 208,
   "metadata": {},
   "outputs": [
    {
     "data": {
      "text/html": [
       "<div>\n",
       "<style scoped>\n",
       "    .dataframe tbody tr th:only-of-type {\n",
       "        vertical-align: middle;\n",
       "    }\n",
       "\n",
       "    .dataframe tbody tr th {\n",
       "        vertical-align: top;\n",
       "    }\n",
       "\n",
       "    .dataframe thead th {\n",
       "        text-align: right;\n",
       "    }\n",
       "</style>\n",
       "<table border=\"1\" class=\"dataframe\">\n",
       "  <thead>\n",
       "    <tr style=\"text-align: right;\">\n",
       "      <th></th>\n",
       "      <th>listing_id</th>\n",
       "      <th>title</th>\n",
       "      <th>make</th>\n",
       "      <th>model</th>\n",
       "      <th>description</th>\n",
       "      <th>manufactured</th>\n",
       "      <th>original_reg_date</th>\n",
       "      <th>reg_date</th>\n",
       "      <th>type_of_vehicle</th>\n",
       "      <th>category</th>\n",
       "      <th>...</th>\n",
       "      <th>features</th>\n",
       "      <th>accessories</th>\n",
       "      <th>indicative_price</th>\n",
       "      <th>price</th>\n",
       "      <th>age</th>\n",
       "      <th>power_normed</th>\n",
       "      <th>engine_cap_normed</th>\n",
       "      <th>mileage_normed</th>\n",
       "      <th>age_in_month</th>\n",
       "      <th>remaining_val</th>\n",
       "    </tr>\n",
       "  </thead>\n",
       "  <tbody>\n",
       "    <tr>\n",
       "      <th>0</th>\n",
       "      <td>1030324</td>\n",
       "      <td>BMW 3 Series 320i Gran Turismo M-Sport</td>\n",
       "      <td>bmw</td>\n",
       "      <td>320i</td>\n",
       "      <td>1 owner! 320i gt m-sports model! big brake kit...</td>\n",
       "      <td>2013.0</td>\n",
       "      <td>NaN</td>\n",
       "      <td>09-dec-2013</td>\n",
       "      <td>luxury sedan</td>\n",
       "      <td>parf car, premium ad car, low mileage car</td>\n",
       "      <td>...</td>\n",
       "      <td>5 doors gt, powerful and fuel efficient 2.0l t...</td>\n",
       "      <td>bmw i-drive, navigation, bluetooth/aux/usb inp...</td>\n",
       "      <td>NaN</td>\n",
       "      <td>71300.0</td>\n",
       "      <td>8.0</td>\n",
       "      <td>0.228344</td>\n",
       "      <td>0.089796</td>\n",
       "      <td>0.184005</td>\n",
       "      <td>108</td>\n",
       "      <td>46304.0</td>\n",
       "    </tr>\n",
       "    <tr>\n",
       "      <th>2</th>\n",
       "      <td>1026909</td>\n",
       "      <td>Mercedes-Benz CLA-Class CLA180</td>\n",
       "      <td>mercedes-benz</td>\n",
       "      <td>cla180</td>\n",
       "      <td>1 owner c&amp;c unit. full agent service with 1 mo...</td>\n",
       "      <td>2016.0</td>\n",
       "      <td>NaN</td>\n",
       "      <td>25-jul-2016</td>\n",
       "      <td>luxury sedan</td>\n",
       "      <td>parf car, premium ad car</td>\n",
       "      <td>...</td>\n",
       "      <td>responsive and fuel efficient 1.6l inline 4 cy...</td>\n",
       "      <td>dual electric/memory seats. factory fitted aud...</td>\n",
       "      <td>NaN</td>\n",
       "      <td>95500.0</td>\n",
       "      <td>5.0</td>\n",
       "      <td>0.112985</td>\n",
       "      <td>0.063057</td>\n",
       "      <td>0.201650</td>\n",
       "      <td>67</td>\n",
       "      <td>43777.0</td>\n",
       "    </tr>\n",
       "    <tr>\n",
       "      <th>3</th>\n",
       "      <td>1019371</td>\n",
       "      <td>Mercedes-Benz E-Class E180 Avantgarde</td>\n",
       "      <td>mercedes-benz</td>\n",
       "      <td>e180</td>\n",
       "      <td>fully agent maintained, 3 years warranty 10 ye...</td>\n",
       "      <td>2019.0</td>\n",
       "      <td>NaN</td>\n",
       "      <td>17-nov-2020</td>\n",
       "      <td>luxury sedan</td>\n",
       "      <td>parf car, almost new car, consignment car</td>\n",
       "      <td>...</td>\n",
       "      <td>1.5l inline-4 twin scroll turbocharged engine,...</td>\n",
       "      <td>64 colour ambient lighting. active parking ass...</td>\n",
       "      <td>NaN</td>\n",
       "      <td>197900.0</td>\n",
       "      <td>1.0</td>\n",
       "      <td>0.091487</td>\n",
       "      <td>0.056539</td>\n",
       "      <td>0.024700</td>\n",
       "      <td>23</td>\n",
       "      <td>79617.0</td>\n",
       "    </tr>\n",
       "    <tr>\n",
       "      <th>4</th>\n",
       "      <td>1031014</td>\n",
       "      <td>Honda Civic 1.6A VTi</td>\n",
       "      <td>NaN</td>\n",
       "      <td>civic</td>\n",
       "      <td>kah motor unit! 1 owner, lowest 1.98% for full...</td>\n",
       "      <td>2019.0</td>\n",
       "      <td>NaN</td>\n",
       "      <td>20-sep-2019</td>\n",
       "      <td>mid-sized sedan</td>\n",
       "      <td>parf car</td>\n",
       "      <td>...</td>\n",
       "      <td>1.6l i-vtec engine, 123 bhp, earth dreams cvt ...</td>\n",
       "      <td>s/rims, premium leather seats, factory touch s...</td>\n",
       "      <td>NaN</td>\n",
       "      <td>103200.0</td>\n",
       "      <td>2.0</td>\n",
       "      <td>0.114948</td>\n",
       "      <td>0.063190</td>\n",
       "      <td>0.100824</td>\n",
       "      <td>33</td>\n",
       "      <td>35711.0</td>\n",
       "    </tr>\n",
       "    <tr>\n",
       "      <th>6</th>\n",
       "      <td>1012998</td>\n",
       "      <td>Volvo V40 T2</td>\n",
       "      <td>volvo</td>\n",
       "      <td>v40</td>\n",
       "      <td>beautiful exterior and interior. straight chas...</td>\n",
       "      <td>2015.0</td>\n",
       "      <td>NaN</td>\n",
       "      <td>11-dec-2015</td>\n",
       "      <td>hatchback</td>\n",
       "      <td>parf car, premium ad car</td>\n",
       "      <td>...</td>\n",
       "      <td>1.5l inline 4 cylinder turbocharged engine, fr...</td>\n",
       "      <td>multi-function steering wheel, original audio ...</td>\n",
       "      <td>NaN</td>\n",
       "      <td>62500.0</td>\n",
       "      <td>6.0</td>\n",
       "      <td>0.106840</td>\n",
       "      <td>0.056605</td>\n",
       "      <td>0.196047</td>\n",
       "      <td>84</td>\n",
       "      <td>36627.0</td>\n",
       "    </tr>\n",
       "  </tbody>\n",
       "</table>\n",
       "<p>5 rows × 36 columns</p>\n",
       "</div>"
      ],
      "text/plain": [
       "   listing_id                                   title           make   model  \\\n",
       "0     1030324  BMW 3 Series 320i Gran Turismo M-Sport            bmw    320i   \n",
       "2     1026909          Mercedes-Benz CLA-Class CLA180  mercedes-benz  cla180   \n",
       "3     1019371   Mercedes-Benz E-Class E180 Avantgarde  mercedes-benz    e180   \n",
       "4     1031014                    Honda Civic 1.6A VTi            NaN   civic   \n",
       "6     1012998                            Volvo V40 T2          volvo     v40   \n",
       "\n",
       "                                         description  manufactured  \\\n",
       "0  1 owner! 320i gt m-sports model! big brake kit...        2013.0   \n",
       "2  1 owner c&c unit. full agent service with 1 mo...        2016.0   \n",
       "3  fully agent maintained, 3 years warranty 10 ye...        2019.0   \n",
       "4  kah motor unit! 1 owner, lowest 1.98% for full...        2019.0   \n",
       "6  beautiful exterior and interior. straight chas...        2015.0   \n",
       "\n",
       "  original_reg_date     reg_date  type_of_vehicle  \\\n",
       "0               NaN  09-dec-2013     luxury sedan   \n",
       "2               NaN  25-jul-2016     luxury sedan   \n",
       "3               NaN  17-nov-2020     luxury sedan   \n",
       "4               NaN  20-sep-2019  mid-sized sedan   \n",
       "6               NaN  11-dec-2015        hatchback   \n",
       "\n",
       "                                    category  ...  \\\n",
       "0  parf car, premium ad car, low mileage car  ...   \n",
       "2                   parf car, premium ad car  ...   \n",
       "3  parf car, almost new car, consignment car  ...   \n",
       "4                                   parf car  ...   \n",
       "6                   parf car, premium ad car  ...   \n",
       "\n",
       "                                            features  \\\n",
       "0  5 doors gt, powerful and fuel efficient 2.0l t...   \n",
       "2  responsive and fuel efficient 1.6l inline 4 cy...   \n",
       "3  1.5l inline-4 twin scroll turbocharged engine,...   \n",
       "4  1.6l i-vtec engine, 123 bhp, earth dreams cvt ...   \n",
       "6  1.5l inline 4 cylinder turbocharged engine, fr...   \n",
       "\n",
       "                                         accessories  indicative_price  \\\n",
       "0  bmw i-drive, navigation, bluetooth/aux/usb inp...               NaN   \n",
       "2  dual electric/memory seats. factory fitted aud...               NaN   \n",
       "3  64 colour ambient lighting. active parking ass...               NaN   \n",
       "4  s/rims, premium leather seats, factory touch s...               NaN   \n",
       "6  multi-function steering wheel, original audio ...               NaN   \n",
       "\n",
       "      price  age  power_normed  engine_cap_normed  mileage_normed  \\\n",
       "0   71300.0  8.0      0.228344           0.089796        0.184005   \n",
       "2   95500.0  5.0      0.112985           0.063057        0.201650   \n",
       "3  197900.0  1.0      0.091487           0.056539        0.024700   \n",
       "4  103200.0  2.0      0.114948           0.063190        0.100824   \n",
       "6   62500.0  6.0      0.106840           0.056605        0.196047   \n",
       "\n",
       "   age_in_month  remaining_val  \n",
       "0           108        46304.0  \n",
       "2            67        43777.0  \n",
       "3            23        79617.0  \n",
       "4            33        35711.0  \n",
       "6            84        36627.0  \n",
       "\n",
       "[5 rows x 36 columns]"
      ]
     },
     "execution_count": 208,
     "metadata": {},
     "output_type": "execute_result"
    }
   ],
   "source": [
    "df.head()"
   ]
  },
  {
   "cell_type": "code",
   "execution_count": 211,
   "metadata": {},
   "outputs": [],
   "source": [
    "# remove extra  attributes and final cleanup\n",
    "df = df.drop(columns = ['listing_id', 'title', 'make', 'model', 'description', 'manufactured', 'original_reg_date', 'reg_date', 'type_of_vehicle', 'category', 'transmission', 'curb_weight', 'power', 'fuel_type', 'engine_cap', 'no_of_owners', 'coe', 'road_tax', 'dereg_value', 'mileage', 'omv', 'arf', 'opc_scheme', 'lifespan', 'eco_category', 'features', 'accessories', 'indicative_price'])"
   ]
  },
  {
   "cell_type": "code",
   "execution_count": 212,
   "metadata": {},
   "outputs": [
    {
     "name": "stdout",
     "output_type": "stream",
     "text": [
      "(14407, 8)\n"
     ]
    }
   ],
   "source": [
    "print(df.shape)"
   ]
  },
  {
   "cell_type": "code",
   "execution_count": null,
   "metadata": {},
   "outputs": [],
   "source": []
  }
 ],
 "metadata": {
  "kernelspec": {
   "display_name": "Python 3",
   "language": "python",
   "name": "python3"
  },
  "language_info": {
   "codemirror_mode": {
    "name": "ipython",
    "version": 3
   },
   "file_extension": ".py",
   "mimetype": "text/x-python",
   "name": "python",
   "nbconvert_exporter": "python",
   "pygments_lexer": "ipython3",
   "version": "3.7.9"
  }
 },
 "nbformat": 4,
 "nbformat_minor": 2
}
