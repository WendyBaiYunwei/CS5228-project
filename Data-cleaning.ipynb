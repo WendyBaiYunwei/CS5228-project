{
 "cells": [
  {
   "cell_type": "code",
   "execution_count": 79,
   "metadata": {},
   "outputs": [
    {
     "name": "stdout",
     "output_type": "stream",
     "text": [
      "The autoreload extension is already loaded. To reload it, use:\n",
      "  %reload_ext autoreload\n"
     ]
    }
   ],
   "source": [
    "# Some more magic so that the notebook will reload external python modules;\n",
    "# see http://stackoverflow.com/questions/1907993/autoreload-of-modules-in-ipython\n",
    "# This will automatically reload src/dtree.py every time you make changes and save the file\n",
    "%load_ext autoreload\n",
    "%autoreload 2"
   ]
  },
  {
   "cell_type": "code",
   "execution_count": 80,
   "metadata": {},
   "outputs": [],
   "source": [
    "%matplotlib inline"
   ]
  },
  {
   "cell_type": "code",
   "execution_count": 81,
   "metadata": {},
   "outputs": [],
   "source": [
    "import numpy as np\n",
    "import pandas as pd\n",
    "from matplotlib import pyplot as plt"
   ]
  },
  {
   "cell_type": "code",
   "execution_count": 82,
   "metadata": {},
   "outputs": [],
   "source": [
    "df = pd.read_csv('./train.csv/train.csv')"
   ]
  },
  {
   "cell_type": "code",
   "execution_count": 83,
   "metadata": {},
   "outputs": [
    {
     "name": "stdout",
     "output_type": "stream",
     "text": [
      "(16784, 30)\n",
      "['listing_id', 'title', 'make', 'model', 'description', 'manufactured', 'original_reg_date', 'reg_date', 'type_of_vehicle', 'category', 'transmission', 'curb_weight', 'power', 'fuel_type', 'engine_cap', 'no_of_owners', 'depreciation', 'coe', 'road_tax', 'dereg_value', 'mileage', 'omv', 'arf', 'opc_scheme', 'lifespan', 'eco_category', 'features', 'accessories', 'indicative_price', 'price']\n",
      "listing_id                                                     1030324\n",
      "title                           BMW 3 Series 320i Gran Turismo M-Sport\n",
      "make                                                               bmw\n",
      "model                                                             320i\n",
      "description          1 owner! 320i gt m-sports model! big brake kit...\n",
      "manufactured                                                    2013.0\n",
      "original_reg_date                                                  NaN\n",
      "reg_date                                                   09-dec-2013\n",
      "type_of_vehicle                                           luxury sedan\n",
      "category                     parf car, premium ad car, low mileage car\n",
      "transmission                                                      auto\n",
      "curb_weight                                                     1560.0\n",
      "power                                                            135.0\n",
      "fuel_type                                                          NaN\n",
      "engine_cap                                                      1997.0\n",
      "no_of_owners                                                       1.0\n",
      "depreciation                                                   17700.0\n",
      "coe                                                            77100.0\n",
      "road_tax                                                        1210.0\n",
      "dereg_value                                                    47514.0\n",
      "mileage                                                        73000.0\n",
      "omv                                                            45330.0\n",
      "arf                                                            50462.0\n",
      "opc_scheme                                                         NaN\n",
      "lifespan                                                           NaN\n",
      "eco_category                                             uncategorized\n",
      "features             5 doors gt, powerful and fuel efficient 2.0l t...\n",
      "accessories          bmw i-drive, navigation, bluetooth/aux/usb inp...\n",
      "indicative_price                                                   NaN\n",
      "price                                                          71300.0\n",
      "Name: 0, dtype: object\n"
     ]
    }
   ],
   "source": [
    "print(df.shape)\n",
    "print(df.columns.to_list())\n",
    "print(df.iloc[0])"
   ]
  },
  {
   "cell_type": "code",
   "execution_count": 84,
   "metadata": {},
   "outputs": [
    {
     "name": "stdout",
     "output_type": "stream",
     "text": [
      "2160\n"
     ]
    }
   ],
   "source": [
    "missing_make = np.array(df['make'].isnull())\n",
    "print(missing_make.sum())"
   ]
  },
  {
   "cell_type": "code",
   "execution_count": 85,
   "metadata": {},
   "outputs": [
    {
     "name": "stderr",
     "output_type": "stream",
     "text": [
      "G:\\softwares\\envs\\4277lab\\lib\\site-packages\\ipykernel_launcher.py:23: SettingWithCopyWarning: \n",
      "A value is trying to be set on a copy of a slice from a DataFrame\n",
      "\n",
      "See the caveats in the documentation: https://pandas.pydata.org/pandas-docs/stable/user_guide/indexing.html#returning-a-view-versus-a-copy\n"
     ]
    }
   ],
   "source": [
    "def extract_model(de):\n",
    "    model_list = ['alfa romeo', 'alpine', 'aston martin', 'audi', 'austin', 'bentley', 'bmw',\n",
    " 'byd', 'chery', 'chevrolet', 'chrysler', 'citroen', 'cupra', 'daf', 'daihatsu',\n",
    " 'daimler', 'dodge', 'dongfeng', 'ferrari', 'fiat', 'ford', 'foton',\n",
    " 'golden dragon', 'hafei', 'higer', 'hino', 'honda', 'hummer', 'hyundai',\n",
    " 'infiniti', 'international', 'isuzu', 'iveco', 'jaguar', 'jeep', 'joylong',\n",
    " 'kia', 'lamborghini', 'land rover', 'lexus', 'lotus', 'man', 'maserati', 'maxus',\n",
    " 'mazda', 'mclaren', 'mercedes', 'mercedes-benz', 'mg', 'mini', 'mitsubishi',\n",
    " 'mitsuoka', 'morris', 'nissan', 'opel', 'perodua', 'peugeot', 'porsche',\n",
    " 'proton', 'renault', 'riley', 'rolls-royce', 'rover', 'ruf', 'saab', 'scania',\n",
    " 'seat', 'skoda', 'ssangyong', 'subaru', 'suzuki', 'tesla', 'toyota', 'ud',\n",
    " 'volkswagen', 'volvo', 'yutong']\n",
    "    des = de.split(' ')\n",
    "    for d in des:\n",
    "        if d in model_list:\n",
    "            return d\n",
    "    return False\n",
    "\n",
    "df['title'] = df['title'].str.lower().replace('-', '')\n",
    "make_from_titles = df['title'].map(extract_model)\n",
    "b = np.array(make_from_titles, dtype=bool)\n",
    "remains = np.logical_and(b, missing_make)\n",
    "df['make'][remains] = make_from_titles[remains]\n",
    "#2103 make filled"
   ]
  },
  {
   "cell_type": "code",
   "execution_count": 86,
   "metadata": {},
   "outputs": [
    {
     "name": "stderr",
     "output_type": "stream",
     "text": [
      "G:\\softwares\\envs\\4277lab\\lib\\site-packages\\ipykernel_launcher.py:3: SettingWithCopyWarning: \n",
      "A value is trying to be set on a copy of a slice from a DataFrame\n",
      "\n",
      "See the caveats in the documentation: https://pandas.pydata.org/pandas-docs/stable/user_guide/indexing.html#returning-a-view-versus-a-copy\n",
      "  This is separate from the ipykernel package so we can avoid doing imports until\n",
      "G:\\softwares\\envs\\4277lab\\lib\\site-packages\\ipykernel_launcher.py:5: SettingWithCopyWarning: \n",
      "A value is trying to be set on a copy of a slice from a DataFrame\n",
      "\n",
      "See the caveats in the documentation: https://pandas.pydata.org/pandas-docs/stable/user_guide/indexing.html#returning-a-view-versus-a-copy\n",
      "  \"\"\"\n"
     ]
    }
   ],
   "source": [
    "d1 = np.array(df['original_reg_date'].isnull())\n",
    "df['age'] = df['original_reg_date'].copy()\n",
    "df['age'][d1] = df['reg_date'][d1]\n",
    "d1 = df['age'].isnull()\n",
    "df['age'][d1] = df['manufactured'][d1]\n",
    "\n",
    "def extract_year(date):\n",
    "    date = str(date)\n",
    "    if len(date) != 4:\n",
    "        if '.' in date and len(date) == 6:\n",
    "            year = date[:-2]\n",
    "        else:\n",
    "            l = date.split('-')\n",
    "            year = l[-1]\n",
    "    return int(year)\n",
    "df['age'] = 2021 - df['age'].map(extract_year)"
   ]
  },
  {
   "cell_type": "code",
   "execution_count": 87,
   "metadata": {},
   "outputs": [],
   "source": [
    "# take out outliers\n",
    "df['age'] = df['age'][df.age < 30]\n",
    "df['age'] = df['age'][df.age >= 0]"
   ]
  },
  {
   "cell_type": "code",
   "execution_count": 88,
   "metadata": {},
   "outputs": [
    {
     "data": {
      "image/png": "[encoded data removed]",
      "text/plain": [
       "<Figure size 432x288 with 1 Axes>"
      ]
     },
     "metadata": {
      "needs_background": "light"
     },
     "output_type": "display_data"
    }
   ],
   "source": [
    "# power\n",
    "plt.figure()\n",
    "plt.hist(df[\"power\"].to_numpy())\n",
    "plt.show()"
   ]
  },
  {
   "cell_type": "code",
   "execution_count": 89,
   "metadata": {},
   "outputs": [
    {
     "name": "stdout",
     "output_type": "stream",
     "text": [
      "310\n",
      "2337\n"
     ]
    }
   ],
   "source": [
    "print(len(df[df.power > 400]))\n",
    "print(df[\"power\"].isnull().sum())"
   ]
  },
  {
   "cell_type": "code",
   "execution_count": 90,
   "metadata": {},
   "outputs": [
    {
     "data": {
      "image/png": "[encoded data removed]",
      "text/plain": [
       "<Figure size 432x288 with 1 Axes>"
      ]
     },
     "metadata": {
      "needs_background": "light"
     },
     "output_type": "display_data"
    }
   ],
   "source": [
    "# plot correlation between power and engine cap\n",
    "plt.scatter(df[\"power\"], df[\"engine_cap\"])\n",
    "plt.show()"
   ]
  },
  {
   "cell_type": "code",
   "execution_count": 91,
   "metadata": {},
   "outputs": [
    {
     "name": "stdout",
     "output_type": "stream",
     "text": [
      "53\n"
     ]
    }
   ],
   "source": [
    "# engine cap\n",
    "print(df[\"engine_cap\"].isnull().sum())\n",
    "df = df.dropna(subset = [\"engine_cap\"]) # only dropping 53"
   ]
  },
  {
   "cell_type": "code",
   "execution_count": 92,
   "metadata": {},
   "outputs": [
    {
     "name": "stdout",
     "output_type": "stream",
     "text": [
      "0\n",
      "10000\n"
     ]
    }
   ],
   "source": [
    "# take out outliers acccording to scatter plot\n",
    "df = df[~((df['power'] > 200) & (df['engine_cap'] < 1000))]\n",
    "\n",
    "df_valid = df.dropna(subset = ['power'])\n",
    "powers = df_valid['power'].to_numpy()\n",
    "caps = df_valid['engine_cap'].to_numpy()\n",
    "\n",
    "# Find k data points with engine cap most similar to the power of x\n",
    "# Calculate the median power of those k data points\n",
    "# Set power of x to the calculated median\n",
    "# Set k as the number of nearest data points we want to consider\n",
    "k = 100\n",
    "\n",
    "# Loop over each data point in our dataset\n",
    "for idx, row in df.iterrows():\n",
    "    if idx % 10000 == 0:\n",
    "        print(idx)\n",
    "\n",
    "    p, e = row['power'], row['engine_cap']\n",
    "\n",
    "    diff = np.abs(caps - e)\n",
    "\n",
    "    indices = np.argsort(diff)[:k]\n",
    "\n",
    "    k_powers = powers[indices]\n",
    "\n",
    "    avg = np.average(k_powers)\n",
    "    \n",
    "    # Set the weight value of the current row to the median\n",
    "    df.at[idx, 'power'] = avg"
   ]
  },
  {
   "cell_type": "code",
   "execution_count": 93,
   "metadata": {},
   "outputs": [
    {
     "name": "stdout",
     "output_type": "stream",
     "text": [
      "3705\n"
     ]
    }
   ],
   "source": [
    "print(df['mileage'].isnull().sum())\n",
    "df['mileage'] = df['mileage'].fillna(df['mileage'].mode())"
   ]
  },
  {
   "cell_type": "code",
   "execution_count": 94,
   "metadata": {},
   "outputs": [
    {
     "data": {
      "image/png": "[encoded data removed]",
      "text/plain": [
       "<Figure size 432x288 with 1 Axes>"
      ]
     },
     "metadata": {
      "needs_background": "light"
     },
     "output_type": "display_data"
    }
   ],
   "source": [
    "plt.figure()\n",
    "plt.boxplot(df[\"mileage\"])\n",
    "plt.show()"
   ]
  },
  {
   "cell_type": "code",
   "execution_count": 95,
   "metadata": {},
   "outputs": [],
   "source": [
    "df = df[df.mileage < 400000]"
   ]
  },
  {
   "cell_type": "code",
   "execution_count": 96,
   "metadata": {},
   "outputs": [
    {
     "name": "stdout",
     "output_type": "stream",
     "text": [
      "148\n",
      "135\n"
     ]
    }
   ],
   "source": [
    "# coe: fill in missing value for coe according to: age and power\n",
    "print(df[\"arf\"].isnull().sum()) #284\n",
    "print(len(df[df.arf.isnull() & df.dereg_value.isnull()])) #222\n",
    "df = df[~(df.arf.isnull() & df.dereg_value.isnull())] # remove values whose dereg_value cannot be calculated"
   ]
  },
  {
   "cell_type": "code",
   "execution_count": 97,
   "metadata": {},
   "outputs": [],
   "source": [
    "# recalculate reg date: total months\n",
    "def to_months(x):\n",
    "    mapper = {}\n",
    "    all_m = ['jan', 'feb', 'mar', 'apr', 'may', 'jun', 'jul', 'aug', 'sep', 'oct', 'nov', 'dec']\n",
    "    for i in range(12):\n",
    "        mapper[all_m[i]] = i + 1\n",
    "    if len(str(x)) < 11:\n",
    "        return int(x)\n",
    "    s = x.split('-')\n",
    "    year = 2021 - int(s[-1])\n",
    "    month = mapper[s[-2]]\n",
    "    return year * 12 + month\n",
    "\n",
    "df = df.dropna(subset = ['reg_date'])\n",
    "df['age_in_month'] = df['reg_date'].map(to_months)"
   ]
  },
  {
   "cell_type": "code",
   "execution_count": 98,
   "metadata": {},
   "outputs": [
    {
     "name": "stdout",
     "output_type": "stream",
     "text": [
      "60\n"
     ]
    }
   ],
   "source": [
    "# for date missing both coe and dereg_value, record it's month engine and power\n",
    "coe_to_search = []\n",
    "to_search = df[df.coe.isnull() & df.dereg_value.isnull()]\n",
    "\n",
    "for idx, row in to_search.iterrows():\n",
    "    # category -> A / B\n",
    "    power = row[\"power\"]\n",
    "    engine_cap = row[\"engine_cap\"]\n",
    "    cat = 2\n",
    "    month = row[\"age_in_month\"]\n",
    "    if engine_cap <= 1600 and power <= 97:\n",
    "        cat = 1\n",
    "    coe_to_search.append((cat, month))\n",
    "\n",
    "coe_to_search = list(set(coe_to_search))\n",
    "print(len(coe_to_search))"
   ]
  },
  {
   "cell_type": "code",
   "execution_count": 99,
   "metadata": {},
   "outputs": [
    {
     "name": "stdout",
     "output_type": "stream",
     "text": [
      "0\n",
      "10000\n",
      "635\n"
     ]
    }
   ],
   "source": [
    "t_to_coe = {}\n",
    "\n",
    "for t in coe_to_search:\n",
    "    t_to_coe[str(t)] = []\n",
    "\n",
    "remains = df[~df.coe.isnull()]\n",
    "\n",
    "for idx, row in remains.iterrows():\n",
    "    if idx % 10000 == 0:\n",
    "        print(idx)\n",
    "\n",
    "    power = row[\"power\"]\n",
    "    engine_cap = row[\"engine_cap\"]\n",
    "    cat = 2\n",
    "    month = row[\"age_in_month\"]\n",
    "    if engine_cap <= 1600 and power <= 97:\n",
    "        cat = 1\n",
    "    \n",
    "    t = (cat, month)\n",
    "    \n",
    "    coe = row[\"coe\"]\n",
    "    if t in coe_to_search:\n",
    "        t_to_coe[str(t)].append(coe)\n",
    "        \n",
    "c = 0\n",
    "for idx, row in df.iterrows():\n",
    "    power = row[\"power\"]\n",
    "    engine_cap = row[\"engine_cap\"]\n",
    "    cat = 2\n",
    "    month = row[\"age_in_month\"]\n",
    "    if engine_cap <= 1600 and power <= 97:\n",
    "        cat = 1\n",
    "    t = str((cat, month))\n",
    "\n",
    "    if type(row[\"coe\"]) == float and pd.isna(row[\"coe\"]):\n",
    "        l = t_to_coe[t]\n",
    "        if len(l) > 0:\n",
    "            avg = sum(l) / len(l)\n",
    "            df.at[idx, 'coe'] = avg\n",
    "            c += 1\n",
    "print(c)"
   ]
  },
  {
   "cell_type": "code",
   "execution_count": 100,
   "metadata": {},
   "outputs": [
    {
     "name": "stdout",
     "output_type": "stream",
     "text": [
      "35\n"
     ]
    }
   ],
   "source": [
    "print(df['coe'].isnull().sum())"
   ]
  },
  {
   "cell_type": "code",
   "execution_count": 101,
   "metadata": {},
   "outputs": [],
   "source": [
    "df = df[~(df.coe.isnull() & df.dereg_value.isnull())]"
   ]
  },
  {
   "cell_type": "code",
   "execution_count": 102,
   "metadata": {},
   "outputs": [],
   "source": [
    "def clean_tax(x):\n",
    "    if type(x) != float:\n",
    "        return None\n",
    "    return x\n",
    "df = df.dropna(subset=[\"road_tax\"])\n",
    "df[\"road_tax\"] = df[\"road_tax\"].map(clean_tax)"
   ]
  },
  {
   "cell_type": "code",
   "execution_count": 103,
   "metadata": {},
   "outputs": [
    {
     "data": {
      "image/png": "[encoded data removed]",
      "text/plain": [
       "<Figure size 432x288 with 1 Axes>"
      ]
     },
     "metadata": {
      "needs_background": "light"
     },
     "output_type": "display_data"
    }
   ],
   "source": [
    "plt.figure()\n",
    "plt.boxplot(df[\"road_tax\"])\n",
    "plt.show()"
   ]
  },
  {
   "cell_type": "code",
   "execution_count": 104,
   "metadata": {},
   "outputs": [
    {
     "name": "stdout",
     "output_type": "stream",
     "text": [
      "974.0\n"
     ]
    }
   ],
   "source": [
    "print(df[\"road_tax\"].median())"
   ]
  },
  {
   "cell_type": "code",
   "execution_count": 105,
   "metadata": {},
   "outputs": [],
   "source": [
    "import math\n",
    "for idx, row in df.iterrows():\n",
    "    rd_tax = row[\"road_tax\"]\n",
    "    if type(rd_tax) == float and pd.isna(rd_tax):\n",
    "        rd_tax = 974.0\n",
    "    if type(row[\"dereg_value\"]) == float and pd.isna(row[\"dereg_value\"]):\n",
    "        max_age = 10 * 12\n",
    "        age = row[\"age_in_month\"]\n",
    "        time_left = max_age - age\n",
    "        coe = row[\"coe\"]\n",
    "        omv = row[\"omv\"]\n",
    "        arf = row[\"arf\"]\n",
    "        parf_ratio = 0\n",
    "        if age <  5 * 12:\n",
    "            parf_ratio = 0.75\n",
    "        elif age >= 5 * 12 and age < 10 * 12:\n",
    "            parf_ratio = 0.75 - math.ceil((age - 5 * 12) / 12) * 0.05 \n",
    "        coe_rebate = coe * time_left / 120\n",
    "        dereg_value = parf_ratio * arf + coe_rebate\n",
    "        df.at[idx, \"remaining_val\"] = dereg_value - rd_tax\n",
    "        df.at[idx, \"dereg_value\"] = dereg_value\n",
    "    else:\n",
    "        df.at[idx, \"remaining_val\"] = row[\"dereg_value\"] - rd_tax"
   ]
  },
  {
   "cell_type": "code",
   "execution_count": 106,
   "metadata": {},
   "outputs": [],
   "source": [
    "df = df.dropna(subset = ['depreciation'])"
   ]
  },
  {
   "cell_type": "code",
   "execution_count": 107,
   "metadata": {},
   "outputs": [
    {
     "name": "stdout",
     "output_type": "stream",
     "text": [
      "['listing_id', 'title', 'make', 'model', 'description', 'manufactured', 'original_reg_date', 'reg_date', 'type_of_vehicle', 'category', 'transmission', 'curb_weight', 'power', 'fuel_type', 'engine_cap', 'no_of_owners', 'depreciation', 'coe', 'road_tax', 'dereg_value', 'mileage', 'omv', 'arf', 'opc_scheme', 'lifespan', 'eco_category', 'features', 'accessories', 'indicative_price', 'price', 'age', 'age_in_month', 'remaining_val']\n"
     ]
    }
   ],
   "source": [
    "print(df.columns.to_list())"
   ]
  },
  {
   "cell_type": "code",
   "execution_count": 108,
   "metadata": {},
   "outputs": [],
   "source": [
    "# remove extra  attributes and final cleanup\n",
    "df = df.drop(columns = ['listing_id', 'title', 'model', 'description', 'manufactured', 'original_reg_date', 'reg_date', 'type_of_vehicle', 'category', 'transmission', 'fuel_type', 'no_of_owners', 'coe', 'road_tax', 'dereg_value', 'omv', 'arf', 'opc_scheme', 'lifespan', 'eco_category', 'features', 'accessories', 'indicative_price'])"
   ]
  },
  {
   "cell_type": "code",
   "execution_count": 109,
   "metadata": {},
   "outputs": [
    {
     "name": "stdout",
     "output_type": "stream",
     "text": [
      "(12015, 9)\n"
     ]
    }
   ],
   "source": [
    "print(df.shape)"
   ]
  },
  {
   "cell_type": "code",
   "execution_count": 110,
   "metadata": {},
   "outputs": [
    {
     "data": {
      "text/html": [
       "<div>\n",
       "<style scoped>\n",
       "    .dataframe tbody tr th:only-of-type {\n",
       "        vertical-align: middle;\n",
       "    }\n",
       "\n",
       "    .dataframe tbody tr th {\n",
       "        vertical-align: top;\n",
       "    }\n",
       "\n",
       "    .dataframe thead th {\n",
       "        text-align: right;\n",
       "    }\n",
       "</style>\n",
       "<table border=\"1\" class=\"dataframe\">\n",
       "  <thead>\n",
       "    <tr style=\"text-align: right;\">\n",
       "      <th></th>\n",
       "      <th>make</th>\n",
       "      <th>power</th>\n",
       "      <th>engine_cap</th>\n",
       "      <th>depreciation</th>\n",
       "      <th>mileage</th>\n",
       "      <th>price</th>\n",
       "      <th>age</th>\n",
       "      <th>age_in_month</th>\n",
       "      <th>remaining_val</th>\n",
       "    </tr>\n",
       "  </thead>\n",
       "  <tbody>\n",
       "    <tr>\n",
       "      <th>0</th>\n",
       "      <td>bmw</td>\n",
       "      <td>145.580</td>\n",
       "      <td>1997.0</td>\n",
       "      <td>17700.0</td>\n",
       "      <td>73000.0</td>\n",
       "      <td>71300.0</td>\n",
       "      <td>8.0</td>\n",
       "      <td>108</td>\n",
       "      <td>46304.0</td>\n",
       "    </tr>\n",
       "    <tr>\n",
       "      <th>2</th>\n",
       "      <td>mercedes-benz</td>\n",
       "      <td>100.720</td>\n",
       "      <td>1595.0</td>\n",
       "      <td>15070.0</td>\n",
       "      <td>80000.0</td>\n",
       "      <td>95500.0</td>\n",
       "      <td>5.0</td>\n",
       "      <td>67</td>\n",
       "      <td>43777.0</td>\n",
       "    </tr>\n",
       "    <tr>\n",
       "      <th>3</th>\n",
       "      <td>mercedes-benz</td>\n",
       "      <td>92.360</td>\n",
       "      <td>1497.0</td>\n",
       "      <td>16400.0</td>\n",
       "      <td>9800.0</td>\n",
       "      <td>197900.0</td>\n",
       "      <td>1.0</td>\n",
       "      <td>23</td>\n",
       "      <td>79617.0</td>\n",
       "    </tr>\n",
       "    <tr>\n",
       "      <th>4</th>\n",
       "      <td>honda</td>\n",
       "      <td>101.483</td>\n",
       "      <td>1597.0</td>\n",
       "      <td>10450.0</td>\n",
       "      <td>40000.0</td>\n",
       "      <td>103200.0</td>\n",
       "      <td>2.0</td>\n",
       "      <td>33</td>\n",
       "      <td>35711.0</td>\n",
       "    </tr>\n",
       "    <tr>\n",
       "      <th>6</th>\n",
       "      <td>volvo</td>\n",
       "      <td>98.330</td>\n",
       "      <td>1498.0</td>\n",
       "      <td>11020.0</td>\n",
       "      <td>77777.0</td>\n",
       "      <td>62500.0</td>\n",
       "      <td>6.0</td>\n",
       "      <td>84</td>\n",
       "      <td>36627.0</td>\n",
       "    </tr>\n",
       "  </tbody>\n",
       "</table>\n",
       "</div>"
      ],
      "text/plain": [
       "            make    power  engine_cap  depreciation  mileage     price  age  \\\n",
       "0            bmw  145.580      1997.0       17700.0  73000.0   71300.0  8.0   \n",
       "2  mercedes-benz  100.720      1595.0       15070.0  80000.0   95500.0  5.0   \n",
       "3  mercedes-benz   92.360      1497.0       16400.0   9800.0  197900.0  1.0   \n",
       "4          honda  101.483      1597.0       10450.0  40000.0  103200.0  2.0   \n",
       "6          volvo   98.330      1498.0       11020.0  77777.0   62500.0  6.0   \n",
       "\n",
       "   age_in_month  remaining_val  \n",
       "0           108        46304.0  \n",
       "2            67        43777.0  \n",
       "3            23        79617.0  \n",
       "4            33        35711.0  \n",
       "6            84        36627.0  "
      ]
     },
     "execution_count": 110,
     "metadata": {},
     "output_type": "execute_result"
    }
   ],
   "source": [
    "df.head()"
   ]
  }
 ],
 "metadata": {
  "kernelspec": {
   "display_name": "Python 3",
   "language": "python",
   "name": "python3"
  },
  "language_info": {
   "codemirror_mode": {
    "name": "ipython",
    "version": 3
   },
   "file_extension": ".py",
   "mimetype": "text/x-python",
   "name": "python",
   "nbconvert_exporter": "python",
   "pygments_lexer": "ipython3",
   "version": "3.7.9"
  }
 },
 "nbformat": 4,
 "nbformat_minor": 2
}
