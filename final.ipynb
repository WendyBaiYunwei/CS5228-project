{
 "cells": [
  {
   "cell_type": "code",
   "execution_count": 1,
   "id": "enormous-blink",
   "metadata": {},
   "outputs": [],
   "source": [
    "import numpy as np\n",
    "import pandas as pd\n",
    "from matplotlib import pyplot as plt"
   ]
  },
  {
   "cell_type": "code",
   "execution_count": 30,
   "id": "stretch-teaching",
   "metadata": {},
   "outputs": [],
   "source": [
    "strange = pd.read_csv('./strange.csv')['Predicted']\n",
    "worst = pd.read_csv('./predictions.csv')['Predicted']\n",
    "best = pd.read_csv('./highest.csv')['Predicted']\n",
    "cur = pd.read_csv('./predictions2.csv')['Predicted']\n",
    "diff1 = np.sum(np.abs(strange - cur))\n",
    "diff2 = np.sum(np.abs(best - cur))\n",
    "diff3 = np.sum(np.abs(worst - cur))"
   ]
  },
  {
   "cell_type": "code",
   "execution_count": 31,
   "id": "floppy-organization",
   "metadata": {},
   "outputs": [
    {
     "name": "stdout",
     "output_type": "stream",
     "text": [
      "356113199.88968337 344624891.15772444 3673275.664286223\n"
     ]
    }
   ],
   "source": [
    "print(diff1, diff2, diff3)"
   ]
  },
  {
   "cell_type": "code",
   "execution_count": 29,
   "id": "closed-posting",
   "metadata": {},
   "outputs": [
    {
     "name": "stdout",
     "output_type": "stream",
     "text": [
      "345481948.738672\n"
     ]
    }
   ],
   "source": [
    "# y_test is correct?"
   ]
  }
 ],
 "metadata": {
  "kernelspec": {
   "display_name": "Python 3",
   "language": "python",
   "name": "python3"
  },
  "language_info": {
   "codemirror_mode": {
    "name": "ipython",
    "version": 3
   },
   "file_extension": ".py",
   "mimetype": "text/x-python",
   "name": "python",
   "nbconvert_exporter": "python",
   "pygments_lexer": "ipython3",
   "version": "3.7.9"
  }
 },
 "nbformat": 4,
 "nbformat_minor": 5
}
