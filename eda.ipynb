{
 "cells": [
  {
   "cell_type": "code",
   "execution_count": 1,
   "metadata": {},
   "outputs": [],
   "source": [
    "# Some more magic so that the notebook will reload external python modules;\n",
    "# see http://stackoverflow.com/questions/1907993/autoreload-of-modules-in-ipython\n",
    "# This will automatically reload src/dtree.py every time you make changes and save the file\n",
    "%load_ext autoreload\n",
    "%autoreload 2"
   ]
  },
  {
   "cell_type": "code",
   "execution_count": 2,
   "metadata": {},
   "outputs": [],
   "source": [
    "%matplotlib inline"
   ]
  },
  {
   "cell_type": "code",
   "execution_count": 3,
   "metadata": {},
   "outputs": [],
   "source": [
    "import numpy as np\n",
    "import pandas as pd\n",
    "from matplotlib import pyplot as plt"
   ]
  },
  {
   "cell_type": "code",
   "execution_count": 4,
   "metadata": {},
   "outputs": [],
   "source": [
    "df = pd.read_csv('./train.csv')"
   ]
  },
  {
   "cell_type": "code",
   "execution_count": 8,
   "metadata": {},
   "outputs": [
    {
     "data": {
      "image/png": "[encoded data removed]",
      "text/plain": [
       "<Figure size 432x288 with 1 Axes>"
      ]
     },
     "metadata": {
      "needs_background": "light"
     },
     "output_type": "display_data"
    }
   ],
   "source": [
    "plt.figure()\n",
    "plt.hist(df[\"price\"].to_numpy())\n",
    "plt.show()"
   ]
  },
  {
   "cell_type": "code",
   "execution_count": 15,
   "metadata": {},
   "outputs": [
    {
     "data": {
      "image/png": "[encoded data removed]",
      "text/plain": [
       "<Figure size 432x288 with 1 Axes>"
      ]
     },
     "metadata": {
      "needs_background": "light"
     },
     "output_type": "display_data"
    }
   ],
   "source": [
    "df = df[df.price > 20000]\n",
    "df = df[df.price < 120000]\n",
    "plt.figure()\n",
    "plt.hist(df[\"price\"].to_numpy())\n",
    "plt.show()"
   ]
  },
  {
   "cell_type": "code",
   "execution_count": 29,
   "metadata": {},
   "outputs": [],
   "source": [
    "df = df.dropna(subset = ['depreciation'])"
   ]
  },
  {
   "cell_type": "code",
   "execution_count": 30,
   "metadata": {},
   "outputs": [
    {
     "name": "stdout",
     "output_type": "stream",
     "text": [
      "['listing_id', 'title', 'make', 'model', 'description', 'manufactured', 'original_reg_date', 'reg_date', 'type_of_vehicle', 'category', 'transmission', 'curb_weight', 'power', 'fuel_type', 'engine_cap', 'no_of_owners', 'depreciation', 'coe', 'road_tax', 'dereg_value', 'mileage', 'omv', 'arf', 'opc_scheme', 'lifespan', 'eco_category', 'features', 'accessories', 'indicative_price', 'price', 'age', 'age_in_month']\n"
     ]
    }
   ],
   "source": [
    "print(df.columns.to_list())"
   ]
  },
  {
   "cell_type": "code",
   "execution_count": 31,
   "metadata": {},
   "outputs": [],
   "source": [
    "# drop irrelevant\n",
    "df = df.drop(columns = ['curb_weight', 'coe', 'omv', 'arf', 'original_reg_date','reg_date', 'age_in_month', 'opc_scheme', 'listing_id', 'indicative_price'])"
   ]
  },
  {
   "cell_type": "code",
   "execution_count": 32,
   "metadata": {},
   "outputs": [
    {
     "name": "stdout",
     "output_type": "stream",
     "text": [
      "(16235, 22)\n"
     ]
    }
   ],
   "source": [
    "print(df.shape)"
   ]
  },
  {
   "cell_type": "code",
   "execution_count": 33,
   "metadata": {},
   "outputs": [
    {
     "data": {
      "text/html": [
       "<div>\n",
       "<style scoped>\n",
       "    .dataframe tbody tr th:only-of-type {\n",
       "        vertical-align: middle;\n",
       "    }\n",
       "\n",
       "    .dataframe tbody tr th {\n",
       "        vertical-align: top;\n",
       "    }\n",
       "\n",
       "    .dataframe thead th {\n",
       "        text-align: right;\n",
       "    }\n",
       "</style>\n",
       "<table border=\"1\" class=\"dataframe\">\n",
       "  <thead>\n",
       "    <tr style=\"text-align: right;\">\n",
       "      <th></th>\n",
       "      <th>title</th>\n",
       "      <th>make</th>\n",
       "      <th>model</th>\n",
       "      <th>description</th>\n",
       "      <th>manufactured</th>\n",
       "      <th>type_of_vehicle</th>\n",
       "      <th>category</th>\n",
       "      <th>transmission</th>\n",
       "      <th>power</th>\n",
       "      <th>fuel_type</th>\n",
       "      <th>...</th>\n",
       "      <th>depreciation</th>\n",
       "      <th>road_tax</th>\n",
       "      <th>dereg_value</th>\n",
       "      <th>mileage</th>\n",
       "      <th>lifespan</th>\n",
       "      <th>eco_category</th>\n",
       "      <th>features</th>\n",
       "      <th>accessories</th>\n",
       "      <th>price</th>\n",
       "      <th>age</th>\n",
       "    </tr>\n",
       "  </thead>\n",
       "  <tbody>\n",
       "    <tr>\n",
       "      <th>0</th>\n",
       "      <td>BMW 3 Series 320i Gran Turismo M-Sport</td>\n",
       "      <td>bmw</td>\n",
       "      <td>320i</td>\n",
       "      <td>1 owner! 320i gt m-sports model! big brake kit...</td>\n",
       "      <td>2013.0</td>\n",
       "      <td>luxury sedan</td>\n",
       "      <td>parf car, premium ad car, low mileage car</td>\n",
       "      <td>auto</td>\n",
       "      <td>144.828</td>\n",
       "      <td>NaN</td>\n",
       "      <td>...</td>\n",
       "      <td>17700.0</td>\n",
       "      <td>1210.0</td>\n",
       "      <td>47514.0</td>\n",
       "      <td>73000.0</td>\n",
       "      <td>NaN</td>\n",
       "      <td>uncategorized</td>\n",
       "      <td>5 doors gt, powerful and fuel efficient 2.0l t...</td>\n",
       "      <td>bmw i-drive, navigation, bluetooth/aux/usb inp...</td>\n",
       "      <td>71300.0</td>\n",
       "      <td>8.0</td>\n",
       "    </tr>\n",
       "    <tr>\n",
       "      <th>1</th>\n",
       "      <td>Toyota Hiace 3.0M</td>\n",
       "      <td>NaN</td>\n",
       "      <td>hiace</td>\n",
       "      <td>high loan available! low mileage unit. wear an...</td>\n",
       "      <td>2014.0</td>\n",
       "      <td>van</td>\n",
       "      <td>premium ad car</td>\n",
       "      <td>manual</td>\n",
       "      <td>253.120</td>\n",
       "      <td>diesel</td>\n",
       "      <td>...</td>\n",
       "      <td>11630.0</td>\n",
       "      <td>974.0</td>\n",
       "      <td>3648.0</td>\n",
       "      <td>110112.0</td>\n",
       "      <td>25-jan-2035</td>\n",
       "      <td>uncategorized</td>\n",
       "      <td>low mileage unit. well maintained vehicle. vie...</td>\n",
       "      <td>factory radio setting. front recording camera....</td>\n",
       "      <td>43800.0</td>\n",
       "      <td>6.0</td>\n",
       "    </tr>\n",
       "    <tr>\n",
       "      <th>2</th>\n",
       "      <td>Mercedes-Benz CLA-Class CLA180</td>\n",
       "      <td>mercedes-benz</td>\n",
       "      <td>cla180</td>\n",
       "      <td>1 owner c&amp;c unit. full agent service with 1 mo...</td>\n",
       "      <td>2016.0</td>\n",
       "      <td>luxury sedan</td>\n",
       "      <td>parf car, premium ad car</td>\n",
       "      <td>auto</td>\n",
       "      <td>100.680</td>\n",
       "      <td>NaN</td>\n",
       "      <td>...</td>\n",
       "      <td>15070.0</td>\n",
       "      <td>740.0</td>\n",
       "      <td>44517.0</td>\n",
       "      <td>80000.0</td>\n",
       "      <td>NaN</td>\n",
       "      <td>uncategorized</td>\n",
       "      <td>responsive and fuel efficient 1.6l inline 4 cy...</td>\n",
       "      <td>dual electric/memory seats. factory fitted aud...</td>\n",
       "      <td>95500.0</td>\n",
       "      <td>5.0</td>\n",
       "    </tr>\n",
       "    <tr>\n",
       "      <th>3</th>\n",
       "      <td>Mercedes-Benz E-Class E180 Avantgarde</td>\n",
       "      <td>mercedes-benz</td>\n",
       "      <td>e180</td>\n",
       "      <td>fully agent maintained, 3 years warranty 10 ye...</td>\n",
       "      <td>2019.0</td>\n",
       "      <td>luxury sedan</td>\n",
       "      <td>parf car, almost new car, consignment car</td>\n",
       "      <td>auto</td>\n",
       "      <td>90.010</td>\n",
       "      <td>NaN</td>\n",
       "      <td>...</td>\n",
       "      <td>16400.0</td>\n",
       "      <td>684.0</td>\n",
       "      <td>80301.0</td>\n",
       "      <td>9800.0</td>\n",
       "      <td>NaN</td>\n",
       "      <td>uncategorized</td>\n",
       "      <td>1.5l inline-4 twin scroll turbocharged engine,...</td>\n",
       "      <td>64 colour ambient lighting. active parking ass...</td>\n",
       "      <td>197900.0</td>\n",
       "      <td>1.0</td>\n",
       "    </tr>\n",
       "    <tr>\n",
       "      <th>4</th>\n",
       "      <td>Honda Civic 1.6A VTi</td>\n",
       "      <td>NaN</td>\n",
       "      <td>civic</td>\n",
       "      <td>kah motor unit! 1 owner, lowest 1.98% for full...</td>\n",
       "      <td>2019.0</td>\n",
       "      <td>mid-sized sedan</td>\n",
       "      <td>parf car</td>\n",
       "      <td>auto</td>\n",
       "      <td>101.449</td>\n",
       "      <td>NaN</td>\n",
       "      <td>...</td>\n",
       "      <td>10450.0</td>\n",
       "      <td>742.0</td>\n",
       "      <td>36453.0</td>\n",
       "      <td>40000.0</td>\n",
       "      <td>NaN</td>\n",
       "      <td>uncategorized</td>\n",
       "      <td>1.6l i-vtec engine, 123 bhp, earth dreams cvt ...</td>\n",
       "      <td>s/rims, premium leather seats, factory touch s...</td>\n",
       "      <td>103200.0</td>\n",
       "      <td>2.0</td>\n",
       "    </tr>\n",
       "  </tbody>\n",
       "</table>\n",
       "<p>5 rows × 22 columns</p>\n",
       "</div>"
      ],
      "text/plain": [
       "                                    title           make   model  \\\n",
       "0  BMW 3 Series 320i Gran Turismo M-Sport            bmw    320i   \n",
       "1                       Toyota Hiace 3.0M            NaN   hiace   \n",
       "2          Mercedes-Benz CLA-Class CLA180  mercedes-benz  cla180   \n",
       "3   Mercedes-Benz E-Class E180 Avantgarde  mercedes-benz    e180   \n",
       "4                    Honda Civic 1.6A VTi            NaN   civic   \n",
       "\n",
       "                                         description  manufactured  \\\n",
       "0  1 owner! 320i gt m-sports model! big brake kit...        2013.0   \n",
       "1  high loan available! low mileage unit. wear an...        2014.0   \n",
       "2  1 owner c&c unit. full agent service with 1 mo...        2016.0   \n",
       "3  fully agent maintained, 3 years warranty 10 ye...        2019.0   \n",
       "4  kah motor unit! 1 owner, lowest 1.98% for full...        2019.0   \n",
       "\n",
       "   type_of_vehicle                                   category transmission  \\\n",
       "0     luxury sedan  parf car, premium ad car, low mileage car         auto   \n",
       "1              van                             premium ad car       manual   \n",
       "2     luxury sedan                   parf car, premium ad car         auto   \n",
       "3     luxury sedan  parf car, almost new car, consignment car         auto   \n",
       "4  mid-sized sedan                                   parf car         auto   \n",
       "\n",
       "     power fuel_type  ...  depreciation  road_tax  dereg_value   mileage  \\\n",
       "0  144.828       NaN  ...       17700.0    1210.0      47514.0   73000.0   \n",
       "1  253.120    diesel  ...       11630.0     974.0       3648.0  110112.0   \n",
       "2  100.680       NaN  ...       15070.0     740.0      44517.0   80000.0   \n",
       "3   90.010       NaN  ...       16400.0     684.0      80301.0    9800.0   \n",
       "4  101.449       NaN  ...       10450.0     742.0      36453.0   40000.0   \n",
       "\n",
       "      lifespan   eco_category  \\\n",
       "0          NaN  uncategorized   \n",
       "1  25-jan-2035  uncategorized   \n",
       "2          NaN  uncategorized   \n",
       "3          NaN  uncategorized   \n",
       "4          NaN  uncategorized   \n",
       "\n",
       "                                            features  \\\n",
       "0  5 doors gt, powerful and fuel efficient 2.0l t...   \n",
       "1  low mileage unit. well maintained vehicle. vie...   \n",
       "2  responsive and fuel efficient 1.6l inline 4 cy...   \n",
       "3  1.5l inline-4 twin scroll turbocharged engine,...   \n",
       "4  1.6l i-vtec engine, 123 bhp, earth dreams cvt ...   \n",
       "\n",
       "                                         accessories     price  age  \n",
       "0  bmw i-drive, navigation, bluetooth/aux/usb inp...   71300.0  8.0  \n",
       "1  factory radio setting. front recording camera....   43800.0  6.0  \n",
       "2  dual electric/memory seats. factory fitted aud...   95500.0  5.0  \n",
       "3  64 colour ambient lighting. active parking ass...  197900.0  1.0  \n",
       "4  s/rims, premium leather seats, factory touch s...  103200.0  2.0  \n",
       "\n",
       "[5 rows x 22 columns]"
      ]
     },
     "execution_count": 33,
     "metadata": {},
     "output_type": "execute_result"
    }
   ],
   "source": [
    "df.head()"
   ]
  },
  {
   "cell_type": "code",
   "execution_count": 34,
   "metadata": {},
   "outputs": [],
   "source": [
    "df.to_csv('numerical_cleaned.csv')  "
   ]
  },
  {
   "cell_type": "code",
   "execution_count": null,
   "metadata": {},
   "outputs": [],
   "source": []
  }
 ],
 "metadata": {
  "kernelspec": {
   "display_name": "Python 3",
   "language": "python",
   "name": "python3"
  },
  "language_info": {
   "codemirror_mode": {
    "name": "ipython",
    "version": 3
   },
   "file_extension": ".py",
   "mimetype": "text/x-python",
   "name": "python",
   "nbconvert_exporter": "python",
   "pygments_lexer": "ipython3",
   "version": "3.7.9"
  }
 },
 "nbformat": 4,
 "nbformat_minor": 2
}
