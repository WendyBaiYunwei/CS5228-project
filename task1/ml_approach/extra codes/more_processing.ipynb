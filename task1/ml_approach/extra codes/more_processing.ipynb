{
 "cells": [
  {
   "cell_type": "code",
   "execution_count": 44,
   "id": "hungarian-treasure",
   "metadata": {},
   "outputs": [
    {
     "name": "stdout",
     "output_type": "stream",
     "text": [
      "The autoreload extension is already loaded. To reload it, use:\n",
      "  %reload_ext autoreload\n"
     ]
    }
   ],
   "source": [
    "# Some more magic so that the notebook will reload external python modules;\n",
    "# see http://stackoverflow.com/questions/1907993/autoreload-of-modules-in-ipython\n",
    "# This will automatically reload src/dtree.py every time you make changes and save the file\n",
    "%load_ext autoreload\n",
    "%autoreload 2"
   ]
  },
  {
   "cell_type": "code",
   "execution_count": 45,
   "id": "arranged-yeast",
   "metadata": {},
   "outputs": [],
   "source": [
    "%matplotlib inline"
   ]
  },
  {
   "cell_type": "code",
   "execution_count": 46,
   "id": "rising-discipline",
   "metadata": {},
   "outputs": [],
   "source": [
    "import numpy as np\n",
    "import pandas as pd\n",
    "from matplotlib import pyplot as plt"
   ]
  },
  {
   "cell_type": "code",
   "execution_count": 47,
   "id": "impressive-victim",
   "metadata": {},
   "outputs": [],
   "source": [
    "combined = pd.read_csv('./numerical_cleaned.csv')\n",
    "# needed_models = df_['model'].unique().tolist()\n",
    "# print(needed_models)\n",
    "prices = pd.read_csv('numerical_cleaned_train.csv')['price']\n",
    "trainLen = len(prices)\n",
    "# print(trainLen)\n",
    "train = combined[:trainLen]\n",
    "# print(train.iloc[0])\n",
    "test = combined[trainLen:]\n",
    "# combined, train, test, price"
   ]
  },
  {
   "cell_type": "code",
   "execution_count": 48,
   "id": "ordered-season",
   "metadata": {},
   "outputs": [
    {
     "name": "stdout",
     "output_type": "stream",
     "text": [
      "5000\n"
     ]
    }
   ],
   "source": [
    "print(len(test))"
   ]
  },
  {
   "cell_type": "code",
   "execution_count": 49,
   "id": "renewable-price",
   "metadata": {},
   "outputs": [
    {
     "name": "stdout",
     "output_type": "stream",
     "text": [
      "0\n"
     ]
    }
   ],
   "source": [
    "combinedvalid = combined.dropna(subset = ['make'])\n",
    "\n",
    "missingMake = combined.make.isnull()\n",
    "dfm = combined[missingMake]\n",
    "missingModelAge = []\n",
    "for idx, row in dfm.iterrows():\n",
    "    model = row['model']\n",
    "    missingModelAge.append(model)\n",
    "\n",
    "mapper = {}\n",
    "for idx, row in combinedvalid.iterrows():\n",
    "    model = row['model']\n",
    "    make = row['make']\n",
    "    mapper[model] = make\n",
    "\n",
    "for idx, row in dfm.iterrows():\n",
    "    model = row['model']\n",
    "    combined.at[idx, 'make'] = mapper[model]\n",
    "\n",
    "print(combined['make'].isnull().sum())"
   ]
  },
  {
   "cell_type": "code",
   "execution_count": 50,
   "id": "anonymous-motion",
   "metadata": {},
   "outputs": [
    {
     "name": "stdout",
     "output_type": "stream",
     "text": [
      "<class 'pandas.core.frame.DataFrame'>\n",
      "RangeIndex: 21784 entries, 0 to 21783\n",
      "Data columns (total 24 columns):\n",
      " #   Column           Non-Null Count  Dtype  \n",
      "---  ------           --------------  -----  \n",
      " 0   Unnamed: 0       21784 non-null  int64  \n",
      " 1   power            21784 non-null  float64\n",
      " 2   engine_cap       21784 non-null  float64\n",
      " 3   coe              21784 non-null  float64\n",
      " 4   dereg_value      21784 non-null  float64\n",
      " 5   mileage          21784 non-null  float64\n",
      " 6   omv              21784 non-null  float64\n",
      " 7   age              21784 non-null  int64  \n",
      " 8   remaining_coe    21784 non-null  int64  \n",
      " 9   bus/mini bus     21784 non-null  int64  \n",
      " 10  hatchback        21784 non-null  int64  \n",
      " 11  luxury sedan     21784 non-null  int64  \n",
      " 12  mid-sized sedan  21784 non-null  int64  \n",
      " 13  mpv              21784 non-null  int64  \n",
      " 14  others           21784 non-null  int64  \n",
      " 15  sports car       21784 non-null  int64  \n",
      " 16  stationwagon     21784 non-null  int64  \n",
      " 17  suv              21784 non-null  int64  \n",
      " 18  truck            21784 non-null  int64  \n",
      " 19  van              21784 non-null  int64  \n",
      " 20  auto             21784 non-null  int64  \n",
      " 21  manual           21784 non-null  int64  \n",
      " 22  make             21784 non-null  object \n",
      " 23  model            21784 non-null  object \n",
      "dtypes: float64(6), int64(16), object(2)\n",
      "memory usage: 4.0+ MB\n"
     ]
    }
   ],
   "source": [
    "combined.info()"
   ]
  },
  {
   "cell_type": "code",
   "execution_count": 51,
   "id": "silent-europe",
   "metadata": {},
   "outputs": [],
   "source": [
    "cars_dummies = pd.get_dummies(combined['make'])\n",
    "combined = pd.concat([combined, cars_dummies], axis=1)\n",
    "cars_dummies = pd.get_dummies(combined['model'])\n",
    "combined = pd.concat([combined, cars_dummies], axis=1)\n",
    "combined = combined.drop(columns = ['make', 'model', 'Unnamed: 0', 'coe'])"
   ]
  },
  {
   "cell_type": "code",
   "execution_count": 52,
   "id": "biological-citation",
   "metadata": {},
   "outputs": [
    {
     "name": "stdout",
     "output_type": "stream",
     "text": [
      "<class 'pandas.core.frame.DataFrame'>\n",
      "RangeIndex: 21784 entries, 0 to 21783\n",
      "Columns: 846 entries, power to zs\n",
      "dtypes: float64(5), int64(15), uint8(826)\n",
      "memory usage: 20.5 MB\n"
     ]
    }
   ],
   "source": [
    "combined.info()"
   ]
  },
  {
   "cell_type": "code",
   "execution_count": 53,
   "id": "understood-traveler",
   "metadata": {},
   "outputs": [],
   "source": [
    "train = combined[:trainLen]\n",
    "train = pd.concat([train, prices], axis = 1)"
   ]
  },
  {
   "cell_type": "code",
   "execution_count": 54,
   "id": "accessible-environment",
   "metadata": {},
   "outputs": [],
   "source": [
    "test = combined[trainLen:]"
   ]
  },
  {
   "cell_type": "code",
   "execution_count": 55,
   "id": "operating-basin",
   "metadata": {},
   "outputs": [],
   "source": [
    "train.to_csv('./new_train.csv')\n",
    "test.to_csv('./new_test.csv')"
   ]
  },
  {
   "cell_type": "code",
   "execution_count": 56,
   "id": "suburban-protein",
   "metadata": {},
   "outputs": [
    {
     "name": "stdout",
     "output_type": "stream",
     "text": [
      "<class 'pandas.core.frame.DataFrame'>\n",
      "RangeIndex: 16784 entries, 0 to 16783\n",
      "Columns: 847 entries, power to price\n",
      "dtypes: float64(6), int64(15), uint8(826)\n",
      "memory usage: 15.9 MB\n"
     ]
    }
   ],
   "source": [
    "train.info()"
   ]
  },
  {
   "cell_type": "code",
   "execution_count": null,
   "id": "blank-brisbane",
   "metadata": {},
   "outputs": [],
   "source": []
  }
 ],
 "metadata": {
  "kernelspec": {
   "display_name": "Python 3",
   "language": "python",
   "name": "python3"
  },
  "language_info": {
   "codemirror_mode": {
    "name": "ipython",
    "version": 3
   },
   "file_extension": ".py",
   "mimetype": "text/x-python",
   "name": "python",
   "nbconvert_exporter": "python",
   "pygments_lexer": "ipython3",
   "version": "3.7.9"
  }
 },
 "nbformat": 4,
 "nbformat_minor": 5
}
