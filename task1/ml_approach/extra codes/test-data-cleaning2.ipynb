{
 "cells": [
  {
   "cell_type": "code",
   "execution_count": 1,
   "metadata": {},
   "outputs": [],
   "source": [
    "# Some more magic so that the notebook will reload external python modules;\n",
    "# see http://stackoverflow.com/questions/1907993/autoreload-of-modules-in-ipython\n",
    "# This will automatically reload src/dtree.py every time you make changes and save the file\n",
    "%load_ext autoreload\n",
    "%autoreload 2"
   ]
  },
  {
   "cell_type": "code",
   "execution_count": 2,
   "metadata": {},
   "outputs": [],
   "source": [
    "%matplotlib inline"
   ]
  },
  {
   "cell_type": "code",
   "execution_count": 3,
   "metadata": {},
   "outputs": [],
   "source": [
    "import numpy as np\n",
    "import pandas as pd\n",
    "from matplotlib import pyplot as plt"
   ]
  },
  {
   "cell_type": "code",
   "execution_count": 4,
   "metadata": {},
   "outputs": [],
   "source": [
    "df = pd.read_csv('./test.csv')"
   ]
  },
  {
   "cell_type": "code",
   "execution_count": 5,
   "metadata": {},
   "outputs": [
    {
     "name": "stderr",
     "output_type": "stream",
     "text": [
      "G:\\softwares\\envs\\4277lab\\lib\\site-packages\\ipykernel_launcher.py:3: SettingWithCopyWarning: \n",
      "A value is trying to be set on a copy of a slice from a DataFrame\n",
      "\n",
      "See the caveats in the documentation: https://pandas.pydata.org/pandas-docs/stable/user_guide/indexing.html#returning-a-view-versus-a-copy\n",
      "  This is separate from the ipykernel package so we can avoid doing imports until\n",
      "G:\\softwares\\envs\\4277lab\\lib\\site-packages\\ipykernel_launcher.py:5: SettingWithCopyWarning: \n",
      "A value is trying to be set on a copy of a slice from a DataFrame\n",
      "\n",
      "See the caveats in the documentation: https://pandas.pydata.org/pandas-docs/stable/user_guide/indexing.html#returning-a-view-versus-a-copy\n",
      "  \"\"\"\n"
     ]
    }
   ],
   "source": [
    "d1 = df['original_reg_date'].isnull()\n",
    "df['age'] = df['original_reg_date'].copy()\n",
    "df['age'][d1] = df['reg_date'][d1]\n",
    "d1 = df['age'].isnull()\n",
    "df['age'][d1] = df['manufactured'][d1]\n",
    "\n",
    "def extract_year(date):\n",
    "    date = str(date)\n",
    "    if len(date) != 4:\n",
    "        if '.' in date and len(date) == 6:\n",
    "            year = date[:-2]\n",
    "        else:\n",
    "            l = date.split('-')\n",
    "            year = l[-1]\n",
    "    return int(year)\n",
    "df['age'] = 2021 - df['age'].map(extract_year)"
   ]
  },
  {
   "cell_type": "code",
   "execution_count": 6,
   "metadata": {},
   "outputs": [
    {
     "name": "stdout",
     "output_type": "stream",
     "text": [
      "0\n",
      "5.0\n"
     ]
    }
   ],
   "source": [
    "# take out outliers\n",
    "print(df['age'].isna().sum())\n",
    "print(df['age'].median())"
   ]
  },
  {
   "cell_type": "code",
   "execution_count": 7,
   "metadata": {},
   "outputs": [],
   "source": [
    "df['age'] = df['age'].fillna(5)"
   ]
  },
  {
   "cell_type": "code",
   "execution_count": 9,
   "metadata": {},
   "outputs": [
    {
     "name": "stdout",
     "output_type": "stream",
     "text": [
      "0\n"
     ]
    }
   ],
   "source": [
    "# take out outliers acccording to scatter plot\n",
    "# df = df[~((df['power'] > 200) & (df['engine_cap'] < 1000))]\n",
    "\n",
    "df_valid = df.dropna(subset = ['power', 'engine_cap'])\n",
    "powers = df_valid['power'].to_numpy()\n",
    "caps = df_valid['engine_cap'].to_numpy()\n",
    "\n",
    "# Find k data points with engine cap most similar to the power of x\n",
    "# Calculate the median power of those k data points\n",
    "# Set power of x to the calculated median\n",
    "# Set k as the number of nearest data points we want to consider\n",
    "k = 500\n",
    "\n",
    "# Loop over each data point in our dataset\n",
    "for idx, row in df.iterrows():\n",
    "    if idx % 10000 == 0:\n",
    "        print(idx)\n",
    "\n",
    "    p, e = row['power'], row['engine_cap']\n",
    "    \n",
    "    if type(row[\"power\"]) == float and pd.isna(row[\"power\"]):\n",
    "        diff = np.abs(caps - e)\n",
    "\n",
    "        indices = np.argsort(diff)[:k]\n",
    "\n",
    "        k_powers = powers[indices]\n",
    "\n",
    "        avg = np.average(k_powers)\n",
    "\n",
    "        # Set the weight value of the current row to the median\n",
    "        df.at[idx, 'power'] = avg"
   ]
  },
  {
   "cell_type": "code",
   "execution_count": 12,
   "metadata": {},
   "outputs": [
    {
     "name": "stdout",
     "output_type": "stream",
     "text": [
      "1144\n"
     ]
    }
   ],
   "source": [
    "print(df['mileage'].isnull().sum())\n",
    "df['mileage'] = df['mileage'].fillna(df['mileage'].median())"
   ]
  },
  {
   "cell_type": "code",
   "execution_count": null,
   "metadata": {},
   "outputs": [],
   "source": []
  },
  {
   "cell_type": "code",
   "execution_count": 13,
   "metadata": {},
   "outputs": [
    {
     "name": "stdout",
     "output_type": "stream",
     "text": [
      "0\n"
     ]
    }
   ],
   "source": [
    "# fill omv, get data with missing omv and dereg_value, fill in the omv\n",
    "is_ = df[df.omv.isnull() & df.dereg_value.isnull()].index.tolist()\n",
    "df['omv'] = df['omv'].fillna(27055.5)\n",
    "print(len(df[df.omv.isnull() & df.dereg_value.isnull()]))"
   ]
  },
  {
   "cell_type": "code",
   "execution_count": 14,
   "metadata": {},
   "outputs": [
    {
     "name": "stdout",
     "output_type": "stream",
     "text": [
      "0\n"
     ]
    }
   ],
   "source": [
    "# coe: fill in missing value for coe according to: age and power\n",
    "fill_arf = df[df.arf.isnull() & df.dereg_value.isnull()]['arf'].index.tolist()\n",
    "for idx in fill_arf:\n",
    "    omv = df.at[idx, 'omv']\n",
    "    if omv < 20000:\n",
    "        df.at[idx, 'arf'] = omv\n",
    "    elif omv >= 20000 and omv <= 50000:\n",
    "        df.at[idx, 'arf'] = (omv - 20000) * 1.40 + 20000\n",
    "    else:\n",
    "        df.at[idx, 'arf'] =  (omv - 50000) * 1.80 + 62000\n",
    "print(len(df[df.arf.isnull() & df.dereg_value.isnull()]))\n",
    "# df = df[~(df.arf.isnull() & df.dereg_value.isnull())] # remove values whose dereg_value cannot be calculated"
   ]
  },
  {
   "cell_type": "code",
   "execution_count": null,
   "metadata": {},
   "outputs": [],
   "source": []
  },
  {
   "cell_type": "code",
   "execution_count": 15,
   "metadata": {},
   "outputs": [],
   "source": [
    "df['age_in_month'] = df['age'] * 12"
   ]
  },
  {
   "cell_type": "code",
   "execution_count": 16,
   "metadata": {},
   "outputs": [
    {
     "name": "stderr",
     "output_type": "stream",
     "text": [
      "G:\\softwares\\envs\\4277lab\\lib\\site-packages\\ipykernel_launcher.py:14: SettingWithCopyWarning: \n",
      "A value is trying to be set on a copy of a slice from a DataFrame.\n",
      "Try using .loc[row_indexer,col_indexer] = value instead\n",
      "\n",
      "See the caveats in the documentation: https://pandas.pydata.org/pandas-docs/stable/user_guide/indexing.html#returning-a-view-versus-a-copy\n",
      "  \n"
     ]
    }
   ],
   "source": [
    "# recalculate reg date: total months\n",
    "def to_months(x):\n",
    "    mapper = {}\n",
    "    all_m = ['jan', 'feb', 'mar', 'apr', 'may', 'jun', 'jul', 'aug', 'sep', 'oct', 'nov', 'dec']\n",
    "    for i in range(12):\n",
    "        mapper[all_m[i]] = i + 1\n",
    "    if len(str(x)) < 11:\n",
    "        return int(x)\n",
    "    s = x.split('-')\n",
    "    year = 2021 - int(s[-1])\n",
    "    month = mapper[s[-2]]\n",
    "    return year * 12 + month\n",
    "\n",
    "df[~df.reg_date.isnull()]['age_in_month'] = df[~df.reg_date.isnull()]['reg_date'].map(to_months)"
   ]
  },
  {
   "cell_type": "code",
   "execution_count": 17,
   "metadata": {},
   "outputs": [
    {
     "name": "stdout",
     "output_type": "stream",
     "text": [
      "11\n"
     ]
    }
   ],
   "source": [
    "# for date missing both coe and dereg_value, record it's month engine and power\n",
    "coe_to_search = []\n",
    "to_search = df[df.coe.isnull() & df.dereg_value.isnull()]\n",
    "\n",
    "for idx, row in to_search.iterrows():\n",
    "    # category -> A / B\n",
    "    power = row[\"power\"]\n",
    "    engine_cap = row[\"engine_cap\"]\n",
    "    cat = 2\n",
    "    month = row[\"age_in_month\"]\n",
    "    if engine_cap <= 1600 and power <= 97:\n",
    "        cat = 1\n",
    "    coe_to_search.append((cat, month))\n",
    "\n",
    "coe_to_search = list(set(coe_to_search))\n",
    "print(len(coe_to_search))"
   ]
  },
  {
   "cell_type": "code",
   "execution_count": 18,
   "metadata": {},
   "outputs": [
    {
     "name": "stdout",
     "output_type": "stream",
     "text": [
      "245\n"
     ]
    }
   ],
   "source": [
    "t_to_coe = {}\n",
    "\n",
    "for t in coe_to_search:\n",
    "    t_to_coe[str(t)] = []\n",
    "\n",
    "remains = df[~df.coe.isnull()]\n",
    "\n",
    "for idx, row in remains.iterrows():\n",
    "    if idx % 10000 == 0:\n",
    "        print(idx)\n",
    "\n",
    "    power = row[\"power\"]\n",
    "    engine_cap = row[\"engine_cap\"]\n",
    "    cat = 2\n",
    "    month = row[\"age_in_month\"]\n",
    "    if engine_cap <= 1600 and power <= 97:\n",
    "        cat = 1\n",
    "    \n",
    "    t = (cat, month)\n",
    "    \n",
    "    coe = row[\"coe\"]\n",
    "    if t in coe_to_search:\n",
    "        t_to_coe[str(t)].append(coe)\n",
    "        \n",
    "c = 0\n",
    "for idx, row in df.iterrows():\n",
    "    power = row[\"power\"]\n",
    "    engine_cap = row[\"engine_cap\"]\n",
    "    cat = 2\n",
    "    month = row[\"age_in_month\"]\n",
    "    if engine_cap <= 1600 and power <= 97:\n",
    "        cat = 1\n",
    "    t = str((cat, month))\n",
    "\n",
    "    if type(row[\"coe\"]) == float and pd.isna(row[\"coe\"]):\n",
    "        l = t_to_coe[t]\n",
    "        if len(l) > 0:\n",
    "            avg = sum(l) / len(l)\n",
    "            df.at[idx, 'coe'] = avg\n",
    "            c += 1\n",
    "print(c)"
   ]
  },
  {
   "cell_type": "code",
   "execution_count": 19,
   "metadata": {},
   "outputs": [
    {
     "name": "stdout",
     "output_type": "stream",
     "text": [
      "(5000, 31)\n"
     ]
    }
   ],
   "source": [
    "print(df.shape)"
   ]
  },
  {
   "cell_type": "code",
   "execution_count": 20,
   "metadata": {},
   "outputs": [
    {
     "name": "stdout",
     "output_type": "stream",
     "text": [
      "0\n",
      "41969.19715303798\n"
     ]
    }
   ],
   "source": [
    "print(len(df[(df.coe.isnull() & df.dereg_value.isnull())]))\n",
    "print(np.average(df['coe'].dropna()))"
   ]
  },
  {
   "cell_type": "code",
   "execution_count": 21,
   "metadata": {},
   "outputs": [],
   "source": [
    "df['coe'] = df['coe'].fillna(42632)"
   ]
  },
  {
   "cell_type": "code",
   "execution_count": 22,
   "metadata": {},
   "outputs": [
    {
     "name": "stdout",
     "output_type": "stream",
     "text": [
      "976.0\n"
     ]
    }
   ],
   "source": [
    "print(df[\"road_tax\"].median())\n",
    "# df = df.fillna()\n",
    "# df[\"road_tax\"] = df[\"road_tax\"].map(clean_tax)"
   ]
  },
  {
   "cell_type": "code",
   "execution_count": 23,
   "metadata": {},
   "outputs": [],
   "source": [
    "df[\"road_tax\"] = df[\"road_tax\"].fillna(974)"
   ]
  },
  {
   "cell_type": "code",
   "execution_count": 24,
   "metadata": {},
   "outputs": [],
   "source": [
    "import math\n",
    "for idx, row in df.iterrows():\n",
    "    if type(row[\"dereg_value\"]) == float and pd.isna(row[\"dereg_value\"]):\n",
    "        max_age = 10 * 12\n",
    "        age = row[\"age_in_month\"]\n",
    "        time_left = max_age - age\n",
    "        coe = row[\"coe\"]\n",
    "        omv = row[\"omv\"]\n",
    "        arf = row[\"arf\"]\n",
    "        parf_ratio = 0\n",
    "        if age <  5 * 12:\n",
    "            parf_ratio = 0.75\n",
    "        elif age >= 5 * 12 and age < 10 * 12:\n",
    "            parf_ratio = 0.75 - math.ceil((age - 5 * 12) / 12) * 0.05 \n",
    "        coe_rebate = coe * time_left / 120\n",
    "        dereg_value = parf_ratio * arf + coe_rebate\n",
    "        if dereg_value <= 0:\n",
    "            dereg_value = 0\n",
    "        df.at[idx, \"dereg_value\"] = dereg_value"
   ]
  },
  {
   "cell_type": "code",
   "execution_count": 25,
   "metadata": {},
   "outputs": [
    {
     "name": "stdout",
     "output_type": "stream",
     "text": [
      "True\n",
      "44938.24878048781 44938.24878048781 69915.48780487805 68994.0 68994.0 108\n",
      "102072.0 105258.6 53106.0 69922.0 97860.0 48\n",
      "73330.0 74332.35 47501.0 49363.0 61109.0 48\n",
      "34555.0 35586.9 46489.0 20184.0 10258.0 48\n",
      "30305.0 36547.4 78000.0 52268.0 52268.0 108\n",
      "17890.0 19811.5 26000.0 14082.0 9082.0 60\n",
      "22384.0 25074.6 64209.0 27420.0 20388.0 96\n",
      "16699.0 18844.85 22237.0 28136.0 1407.0 24\n",
      "54051.0 57585.25 47000.0 38176.0 45447.0 60\n",
      "26357.0 26834.85 28589.0 29445.0 1473.0 12\n",
      "2223.330000000001\n"
     ]
    }
   ],
   "source": [
    "# compare dereg value calculated\n",
    "diff = []\n",
    "print(df['arf'].isnull().values.any())\n",
    "for idx, row in df.iterrows():\n",
    "    if not(type(row[\"dereg_value\"]) == float and pd.isna(row[\"dereg_value\"])) and \\\n",
    "    not(type(row[\"arf\"]) == float and pd.isna(row[\"arf\"])):\n",
    "        real = row[\"dereg_value\"]\n",
    "        max_age = 10 * 12\n",
    "        age = row[\"age_in_month\"]\n",
    "        time_left = max_age - age\n",
    "        coe = row[\"coe\"]\n",
    "        omv = row[\"omv\"]\n",
    "        arf = row[\"arf\"]\n",
    "        parf_ratio = 0\n",
    "        if age <  5 * 12:\n",
    "            parf_ratio = 0.75\n",
    "        elif age >= 5 * 12 and age < 10 * 12:\n",
    "            parf_ratio = 0.75 - math.ceil((age - 5 * 12) / 12) * 0.05 \n",
    "        coe_rebate = coe * time_left / 120\n",
    "        calculated = parf_ratio * arf + coe_rebate\n",
    "        if age <= 120:\n",
    "            print(real, calculated, coe, omv, arf, age)\n",
    "            diff.append(abs(real - calculated))\n",
    "        if idx == 10:\n",
    "            break\n",
    "print(np.average(np.array(diff)))"
   ]
  },
  {
   "cell_type": "code",
   "execution_count": 26,
   "metadata": {},
   "outputs": [],
   "source": [
    "avg = np.average(df['depreciation'].dropna())"
   ]
  },
  {
   "cell_type": "code",
   "execution_count": 27,
   "metadata": {},
   "outputs": [],
   "source": [
    "df = df.fillna(avg)"
   ]
  },
  {
   "cell_type": "code",
   "execution_count": 28,
   "metadata": {},
   "outputs": [],
   "source": [
    "# drop irrelevant\n",
    "df = df.drop(columns = ['curb_weight', 'coe', 'omv', 'arf', 'original_reg_date','reg_date', 'age_in_month', 'opc_scheme', 'listing_id', 'indicative_price', 'age', 'mileage', 'manufactured', 'engine_cap', 'no_of_owners', 'lifespan', 'eco_category', 'accessories'])"
   ]
  },
  {
   "cell_type": "code",
   "execution_count": 29,
   "metadata": {},
   "outputs": [
    {
     "name": "stdout",
     "output_type": "stream",
     "text": [
      "(5000, 21)\n"
     ]
    }
   ],
   "source": [
    "print(df.shape)"
   ]
  },
  {
   "cell_type": "code",
   "execution_count": 30,
   "metadata": {},
   "outputs": [],
   "source": [
    "df.to_csv('test_num_cleaned.csv')  "
   ]
  },
  {
   "cell_type": "code",
   "execution_count": 31,
   "metadata": {},
   "outputs": [
    {
     "name": "stdout",
     "output_type": "stream",
     "text": [
      "title                       BMW X6 xDrive35i Sunroof (New 10-yr COE)\n",
      "make                                                             bmw\n",
      "model                                                             x6\n",
      "description        owner consignment unit, viewing strictly by ap...\n",
      "manufactured                                                  2012.0\n",
      "type_of_vehicle                                                  suv\n",
      "category                                                     coe car\n",
      "transmission                                                    auto\n",
      "power                                                        240.005\n",
      "fuel_type                                               14432.730074\n",
      "engine_cap                                                   1773.03\n",
      "no_of_owners                                                     3.0\n",
      "depreciation                                                 14870.0\n",
      "road_tax                                                      2362.0\n",
      "dereg_value                                              44938.24878\n",
      "mileage                                                     122000.0\n",
      "lifespan                                                14432.730074\n",
      "eco_category                                           uncategorized\n",
      "features           smooth inline 6 3.0l turbo n55 engine, high sp...\n",
      "accessories        20'' staggered m rims, carbon steering wheel, ...\n",
      "age                                                                9\n",
      "Name: 0, dtype: object\n"
     ]
    }
   ],
   "source": [
    "print(df.iloc[0])"
   ]
  },
  {
   "cell_type": "code",
   "execution_count": null,
   "metadata": {},
   "outputs": [],
   "source": []
  }
 ],
 "metadata": {
  "kernelspec": {
   "display_name": "Python 3",
   "language": "python",
   "name": "python3"
  },
  "language_info": {
   "codemirror_mode": {
    "name": "ipython",
    "version": 3
   },
   "file_extension": ".py",
   "mimetype": "text/x-python",
   "name": "python",
   "nbconvert_exporter": "python",
   "pygments_lexer": "ipython3",
   "version": "3.7.9"
  }
 },
 "nbformat": 4,
 "nbformat_minor": 2
}
