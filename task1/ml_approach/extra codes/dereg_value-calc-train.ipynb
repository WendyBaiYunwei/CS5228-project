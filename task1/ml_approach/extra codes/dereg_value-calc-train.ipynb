{
 "cells": [
  {
   "cell_type": "code",
   "execution_count": 325,
   "id": "dutch-municipality",
   "metadata": {},
   "outputs": [],
   "source": [
    "import pandas as pd\n",
    "import numpy as np\n",
    "from matplotlib import pyplot as plt"
   ]
  },
  {
   "cell_type": "code",
   "execution_count": 326,
   "id": "changed-rhythm",
   "metadata": {},
   "outputs": [],
   "source": [
    "df = pd.read_csv('train_basic.csv')"
   ]
  },
  {
   "cell_type": "code",
   "execution_count": 327,
   "id": "fossil-turkish",
   "metadata": {},
   "outputs": [
    {
     "name": "stdout",
     "output_type": "stream",
     "text": [
      "<class 'pandas.core.frame.DataFrame'>\n",
      "RangeIndex: 16784 entries, 0 to 16783\n",
      "Data columns (total 48 columns):\n",
      " #   Column             Non-Null Count  Dtype  \n",
      "---  ------             --------------  -----  \n",
      " 0   Unnamed: 0         16784 non-null  int64  \n",
      " 1   listing_id         16784 non-null  int64  \n",
      " 2   title              16784 non-null  object \n",
      " 3   make               16784 non-null  object \n",
      " 4   model              16784 non-null  object \n",
      " 5   description        16439 non-null  object \n",
      " 6   manufactured       16590 non-null  float64\n",
      " 7   original_reg_date  318 non-null    object \n",
      " 8   reg_date           16583 non-null  object \n",
      " 9   type_of_vehicle    16784 non-null  object \n",
      " 10  category           16784 non-null  object \n",
      " 11  transmission       16784 non-null  object \n",
      " 12  curb_weight        16205 non-null  float64\n",
      " 13  power              16784 non-null  float64\n",
      " 14  fuel_type          3490 non-null   object \n",
      " 15  engine_cap         16784 non-null  float64\n",
      " 16  no_of_owners       16608 non-null  float64\n",
      " 17  depreciation       16351 non-null  float64\n",
      " 18  coe                15893 non-null  float64\n",
      " 19  road_tax           14630 non-null  float64\n",
      " 20  dereg_value        15595 non-null  float64\n",
      " 21  mileage            16784 non-null  float64\n",
      " 22  omv                16743 non-null  float64\n",
      " 23  arf                16500 non-null  float64\n",
      " 24  opc_scheme         207 non-null    object \n",
      " 25  lifespan           1702 non-null   object \n",
      " 26  eco_category       16784 non-null  object \n",
      " 27  features           16325 non-null  object \n",
      " 28  accessories        13971 non-null  object \n",
      " 29  indicative_price   0 non-null      float64\n",
      " 30  price              16784 non-null  float64\n",
      " 31  age                16784 non-null  int64  \n",
      " 32  remaining_coe      16583 non-null  float64\n",
      " 33  diesel             16784 non-null  int64  \n",
      " 34  electric           16784 non-null  int64  \n",
      " 35  petrol             16784 non-null  int64  \n",
      " 36  petrol-electric    16784 non-null  int64  \n",
      " 37  bus/mini bus       16784 non-null  int64  \n",
      " 38  hatchback          16784 non-null  int64  \n",
      " 39  luxury sedan       16784 non-null  int64  \n",
      " 40  mid-sized sedan    16784 non-null  int64  \n",
      " 41  mpv                16784 non-null  int64  \n",
      " 42  others             16784 non-null  int64  \n",
      " 43  sports car         16784 non-null  int64  \n",
      " 44  stationwagon       16784 non-null  int64  \n",
      " 45  suv                16784 non-null  int64  \n",
      " 46  truck              16784 non-null  int64  \n",
      " 47  van                16784 non-null  int64  \n",
      "dtypes: float64(15), int64(18), object(15)\n",
      "memory usage: 6.1+ MB\n"
     ]
    }
   ],
   "source": [
    "df.info()"
   ]
  },
  {
   "cell_type": "code",
   "execution_count": 328,
   "id": "aging-newspaper",
   "metadata": {},
   "outputs": [],
   "source": [
    "df[\"remaining_coe\"] = df[\"remaining_coe\"].fillna(0)"
   ]
  },
  {
   "cell_type": "code",
   "execution_count": 329,
   "id": "designed-saturday",
   "metadata": {},
   "outputs": [
    {
     "name": "stdout",
     "output_type": "stream",
     "text": [
      "14\n"
     ]
    }
   ],
   "source": [
    "# fill in coe\n",
    "# for date missing both coe and dereg_value, record it's month engine and power\n",
    "coe_to_search = []\n",
    "to_search = df[df.coe.isnull() & df.dereg_value.isnull()]\n",
    "\n",
    "for idx, row in to_search.iterrows():\n",
    "    # category -> A / B\n",
    "    power = row[\"power\"]\n",
    "    engine_cap = row[\"engine_cap\"]\n",
    "    cat = 2\n",
    "    month = row[\"remaining_coe\"]\n",
    "    if engine_cap <= 1600 and power <= 97:\n",
    "        cat = 1\n",
    "    coe_to_search.append((cat, month))\n",
    "\n",
    "coe_to_search = list(set(coe_to_search))\n",
    "print(len(coe_to_search))"
   ]
  },
  {
   "cell_type": "code",
   "execution_count": 330,
   "id": "living-winning",
   "metadata": {},
   "outputs": [
    {
     "name": "stdout",
     "output_type": "stream",
     "text": [
      "0\n",
      "10000\n",
      "891\n"
     ]
    }
   ],
   "source": [
    "t_to_coe = {}\n",
    "\n",
    "for t in coe_to_search:\n",
    "    t_to_coe[str(t)] = []\n",
    "\n",
    "remains = df[~df.coe.isnull()]\n",
    "\n",
    "for idx, row in remains.iterrows():\n",
    "    if idx % 10000 == 0:\n",
    "        print(idx)\n",
    "\n",
    "    power = row[\"power\"]\n",
    "    engine_cap = row[\"engine_cap\"]\n",
    "    cat = 2\n",
    "    month = row[\"remaining_coe\"]\n",
    "    if engine_cap <= 1600 and power <= 97:\n",
    "        cat = 1\n",
    "    \n",
    "    t = (cat, month)\n",
    "    \n",
    "    coe = row[\"coe\"]\n",
    "    if t in coe_to_search:\n",
    "        t_to_coe[str(t)].append(coe)\n",
    "        \n",
    "c = 0\n",
    "for idx, row in df.iterrows():\n",
    "    power = row[\"power\"]\n",
    "    engine_cap = row[\"engine_cap\"]\n",
    "    cat = 2\n",
    "    month = row[\"remaining_coe\"]\n",
    "    if engine_cap <= 1600 and power <= 97:\n",
    "        cat = 1\n",
    "    t = str((cat, month))\n",
    "\n",
    "    if type(row[\"coe\"]) == float and pd.isna(row[\"coe\"]):\n",
    "        if t in t_to_coe:\n",
    "            l = t_to_coe[t]\n",
    "            if len(l) > 0:\n",
    "                avg = sum(l) / len(l)\n",
    "                df.at[idx, 'coe'] = avg\n",
    "                c += 1\n",
    "print(c)"
   ]
  },
  {
   "cell_type": "code",
   "execution_count": 331,
   "id": "fatty-conjunction",
   "metadata": {},
   "outputs": [
    {
     "name": "stdout",
     "output_type": "stream",
     "text": [
      "33\n"
     ]
    }
   ],
   "source": [
    "# fill in missing omv\n",
    "from collections import defaultdict\n",
    "mal = []\n",
    "dfm = df[df.omv.isnull()]\n",
    "dfv = df[~df.omv.isnull()]\n",
    "mapper = defaultdict(list)\n",
    "for idx, row in dfm.iterrows():\n",
    "    model = row['model']\n",
    "    age = row['age'] // 12 * 12\n",
    "    ma = (model, age)\n",
    "    mal.append((ma))\n",
    "\n",
    "for idx, row in dfv.iterrows():\n",
    "    model = row['model']\n",
    "    age = row['age'] // 12 * 12\n",
    "    ma = (model, age)\n",
    "    if ma in mal:\n",
    "        mapper[ma].append(row['omv'])\n",
    "\n",
    "for idx, row in dfm.iterrows():\n",
    "    model = row['model']\n",
    "    age = row['age'] // 12 * 12\n",
    "    ma = (model, age)\n",
    "    avg = np.average(mapper[ma])\n",
    "    df.at[idx, 'omv'] = avg\n",
    "\n",
    "print(df['omv'].isnull().sum())"
   ]
  },
  {
   "cell_type": "code",
   "execution_count": 332,
   "id": "parliamentary-merchandise",
   "metadata": {},
   "outputs": [
    {
     "name": "stdout",
     "output_type": "stream",
     "text": [
      "876\n",
      "4\n",
      "539.030303030303\n"
     ]
    }
   ],
   "source": [
    "print(np.max(df[df.omv.isnull()]['age']))\n",
    "print(np.min(df[df.omv.isnull()]['age']))\n",
    "print(np.mean(df[df.omv.isnull()]['age']))"
   ]
  },
  {
   "cell_type": "code",
   "execution_count": 333,
   "id": "biblical-joshua",
   "metadata": {},
   "outputs": [
    {
     "name": "stdout",
     "output_type": "stream",
     "text": [
      "480      54462.0\n",
      "5071     33095.0\n",
      "5961     58255.0\n",
      "7431     58255.0\n",
      "9260     58255.0\n",
      "10005        NaN\n",
      "13444    58255.0\n",
      "13468    56570.0\n",
      "15829    52632.0\n",
      "Name: omv, dtype: float64\n"
     ]
    }
   ],
   "source": [
    "print(df[df.model == '530e']['omv'])"
   ]
  },
  {
   "cell_type": "code",
   "execution_count": 334,
   "id": "toxic-rebecca",
   "metadata": {},
   "outputs": [
    {
     "data": {
      "text/plain": [
       "0"
      ]
     },
     "execution_count": 334,
     "metadata": {},
     "output_type": "execute_result"
    }
   ],
   "source": [
    "df.loc[10005, 'omv'] = 58255\n",
    "df.loc[df.omv.isnull(), 'omv'] = 12575\n",
    "df.omv.isnull().sum()"
   ]
  },
  {
   "cell_type": "code",
   "execution_count": 335,
   "id": "bronze-toddler",
   "metadata": {},
   "outputs": [],
   "source": [
    "# coe: fill in missing value for coe according to: age and power\n",
    "for idx, row in df.iterrows():\n",
    "    omv = row['omv']\n",
    "    if omv < 20000:\n",
    "        arf = omv\n",
    "    elif omv >= 20000 and omv <= 50000:\n",
    "        arf = (omv - 20000) * 1.40 + 20000\n",
    "    else:\n",
    "        arf =  (omv - 50000) * 1.80 + 62000\n",
    "        \n",
    "    if pd.isnull(row['arf']):\n",
    "        df.at[idx, 'arf'] = arf\n",
    "# print(np.average(diff))\n",
    "# df = df[~(df.arf.isnull() & df.dereg_value.isnull())] # remove values whose dereg_value cannot be calculated"
   ]
  },
  {
   "cell_type": "code",
   "execution_count": 336,
   "id": "difficult-bibliography",
   "metadata": {},
   "outputs": [],
   "source": [
    "import math\n",
    "iterDf = df.copy()\n",
    "diff = []\n",
    "actual = []\n",
    "pred = []\n",
    "for idx, row in iterDf.iterrows():\n",
    "    coe = row[\"coe\"]\n",
    "    omv = row[\"omv\"]\n",
    "    arf = row[\"arf\"]\n",
    "    remaining_coe = row['remaining_coe']\n",
    "    parf_ratio = 0\n",
    "    if remaining_coe <  5 * 12:\n",
    "        parf_ratio = 0.75\n",
    "    elif remaining_coe >= 5 * 12 and remaining_coe < 10 * 12:\n",
    "        parf_ratio = 0.75 - math.ceil((remaining_coe - 5 * 12) / 12) * 0.05 \n",
    "\n",
    "    coe_rebate = coe * remaining_coe / 120\n",
    "    dereg_value = parf_ratio * arf + coe_rebate\n",
    "\n",
    "    if pd.isnull(row[\"dereg_value\"]):\n",
    "        df.at[idx, 'dereg_value'] = dereg_value\n",
    "    else:\n",
    "        true = df.at[idx, 'dereg_value']\n",
    "        actual.append(true)\n",
    "        pred.append(dereg_value)\n",
    "        diff.append(true - dereg_value)\n",
    "#         df.at[idx, 'dereg_value'] = dereg_value"
   ]
  },
  {
   "cell_type": "code",
   "execution_count": 261,
   "id": "found-accounting",
   "metadata": {},
   "outputs": [
    {
     "data": {
      "image/png": "[encoded data removed]",
      "text/plain": [
       "<Figure size 432x288 with 1 Axes>"
      ]
     },
     "metadata": {
      "needs_background": "light"
     },
     "output_type": "display_data"
    }
   ],
   "source": [
    "plt.boxplot(pd.Series(diff).dropna())\n",
    "plt.show()\n",
    "# cannot use as the difference is too big."
   ]
  },
  {
   "cell_type": "code",
   "execution_count": 262,
   "id": "polar-algebra",
   "metadata": {},
   "outputs": [
    {
     "data": {
      "image/png": "[encoded data removed]",
      "text/plain": [
       "<Figure size 432x288 with 1 Axes>"
      ]
     },
     "metadata": {
      "needs_background": "light"
     },
     "output_type": "display_data"
    }
   ],
   "source": [
    "plt.boxplot(init['dereg_value'].dropna())\n",
    "plt.show()"
   ]
  },
  {
   "cell_type": "code",
   "execution_count": 263,
   "id": "comparative-sacrifice",
   "metadata": {},
   "outputs": [
    {
     "data": {
      "image/png": "[encoded data removed]",
      "text/plain": [
       "<Figure size 432x288 with 1 Axes>"
      ]
     },
     "metadata": {
      "needs_background": "light"
     },
     "output_type": "display_data"
    }
   ],
   "source": [
    "plt.boxplot(df['dereg_value'].dropna())\n",
    "plt.show()"
   ]
  },
  {
   "cell_type": "code",
   "execution_count": 112,
   "id": "fatty-frontier",
   "metadata": {},
   "outputs": [
    {
     "data": {
      "text/html": [
       "<div>\n",
       "<style scoped>\n",
       "    .dataframe tbody tr th:only-of-type {\n",
       "        vertical-align: middle;\n",
       "    }\n",
       "\n",
       "    .dataframe tbody tr th {\n",
       "        vertical-align: top;\n",
       "    }\n",
       "\n",
       "    .dataframe thead th {\n",
       "        text-align: right;\n",
       "    }\n",
       "</style>\n",
       "<table border=\"1\" class=\"dataframe\">\n",
       "  <thead>\n",
       "    <tr style=\"text-align: right;\">\n",
       "      <th></th>\n",
       "      <th>0</th>\n",
       "    </tr>\n",
       "  </thead>\n",
       "  <tbody>\n",
       "    <tr>\n",
       "      <th>count</th>\n",
       "      <td>48560.000000</td>\n",
       "    </tr>\n",
       "    <tr>\n",
       "      <th>mean</th>\n",
       "      <td>7415.261523</td>\n",
       "    </tr>\n",
       "    <tr>\n",
       "      <th>std</th>\n",
       "      <td>24869.328343</td>\n",
       "    </tr>\n",
       "    <tr>\n",
       "      <th>min</th>\n",
       "      <td>-417891.250000</td>\n",
       "    </tr>\n",
       "    <tr>\n",
       "      <th>25%</th>\n",
       "      <td>-0.200000</td>\n",
       "    </tr>\n",
       "    <tr>\n",
       "      <th>50%</th>\n",
       "      <td>2079.625000</td>\n",
       "    </tr>\n",
       "    <tr>\n",
       "      <th>75%</th>\n",
       "      <td>9999.400000</td>\n",
       "    </tr>\n",
       "    <tr>\n",
       "      <th>max</th>\n",
       "      <td>445704.800000</td>\n",
       "    </tr>\n",
       "  </tbody>\n",
       "</table>\n",
       "</div>"
      ],
      "text/plain": [
       "                   0\n",
       "count   48560.000000\n",
       "mean     7415.261523\n",
       "std     24869.328343\n",
       "min   -417891.250000\n",
       "25%        -0.200000\n",
       "50%      2079.625000\n",
       "75%      9999.400000\n",
       "max    445704.800000"
      ]
     },
     "execution_count": 112,
     "metadata": {},
     "output_type": "execute_result"
    }
   ],
   "source": [
    "pd.DataFrame(diff).describe()"
   ]
  },
  {
   "cell_type": "code",
   "execution_count": 219,
   "id": "challenging-glasgow",
   "metadata": {},
   "outputs": [
    {
     "name": "stdout",
     "output_type": "stream",
     "text": [
      "424702989.54028696\n"
     ]
    }
   ],
   "source": [
    "from sklearn.metrics import mean_squared_error\n",
    "mse=mean_squared_error(actual, pred)\n",
    "print(mse)"
   ]
  },
  {
   "cell_type": "code",
   "execution_count": 220,
   "id": "played-shame",
   "metadata": {},
   "outputs": [
    {
     "name": "stdout",
     "output_type": "stream",
     "text": [
      "<class 'pandas.core.frame.DataFrame'>\n",
      "Int64Index: 16784 entries, 0 to 16783\n",
      "Data columns (total 33 columns):\n",
      " #   Column             Non-Null Count  Dtype  \n",
      "---  ------             --------------  -----  \n",
      " 0   Unnamed: 0         16784 non-null  int64  \n",
      " 1   listing_id         16784 non-null  int64  \n",
      " 2   title              16784 non-null  object \n",
      " 3   make               16784 non-null  object \n",
      " 4   model              16784 non-null  object \n",
      " 5   description        16439 non-null  object \n",
      " 6   manufactured       16590 non-null  float64\n",
      " 7   original_reg_date  318 non-null    object \n",
      " 8   reg_date           16583 non-null  object \n",
      " 9   type_of_vehicle    16784 non-null  object \n",
      " 10  category           16784 non-null  object \n",
      " 11  transmission       16784 non-null  object \n",
      " 12  curb_weight        16205 non-null  float64\n",
      " 13  power              16784 non-null  float64\n",
      " 14  fuel_type          3490 non-null   object \n",
      " 15  engine_cap         16784 non-null  float64\n",
      " 16  no_of_owners       16608 non-null  float64\n",
      " 17  depreciation       16351 non-null  float64\n",
      " 18  coe                16784 non-null  float64\n",
      " 19  road_tax           14630 non-null  float64\n",
      " 20  dereg_value        16784 non-null  float64\n",
      " 21  mileage            16784 non-null  float64\n",
      " 22  omv                16784 non-null  float64\n",
      " 23  arf                16784 non-null  float64\n",
      " 24  opc_scheme         207 non-null    object \n",
      " 25  lifespan           1702 non-null   object \n",
      " 26  eco_category       16784 non-null  object \n",
      " 27  features           16325 non-null  object \n",
      " 28  accessories        13971 non-null  object \n",
      " 29  indicative_price   0 non-null      float64\n",
      " 30  price              16784 non-null  float64\n",
      " 31  age                16784 non-null  int64  \n",
      " 32  remaining_coe      16784 non-null  int64  \n",
      "dtypes: float64(14), int64(4), object(15)\n",
      "memory usage: 4.9+ MB\n"
     ]
    }
   ],
   "source": [
    "df.info()"
   ]
  },
  {
   "cell_type": "code",
   "execution_count": 337,
   "id": "equal-opinion",
   "metadata": {},
   "outputs": [],
   "source": [
    "df.to_csv('calculated_dereg.csv')"
   ]
  },
  {
   "cell_type": "code",
   "execution_count": 338,
   "id": "above-yugoslavia",
   "metadata": {},
   "outputs": [
    {
     "name": "stdout",
     "output_type": "stream",
     "text": [
      "<class 'pandas.core.frame.DataFrame'>\n",
      "RangeIndex: 16784 entries, 0 to 16783\n",
      "Data columns (total 48 columns):\n",
      " #   Column             Non-Null Count  Dtype  \n",
      "---  ------             --------------  -----  \n",
      " 0   Unnamed: 0         16784 non-null  int64  \n",
      " 1   listing_id         16784 non-null  int64  \n",
      " 2   title              16784 non-null  object \n",
      " 3   make               16784 non-null  object \n",
      " 4   model              16784 non-null  object \n",
      " 5   description        16439 non-null  object \n",
      " 6   manufactured       16590 non-null  float64\n",
      " 7   original_reg_date  318 non-null    object \n",
      " 8   reg_date           16583 non-null  object \n",
      " 9   type_of_vehicle    16784 non-null  object \n",
      " 10  category           16784 non-null  object \n",
      " 11  transmission       16784 non-null  object \n",
      " 12  curb_weight        16205 non-null  float64\n",
      " 13  power              16784 non-null  float64\n",
      " 14  fuel_type          3490 non-null   object \n",
      " 15  engine_cap         16784 non-null  float64\n",
      " 16  no_of_owners       16608 non-null  float64\n",
      " 17  depreciation       16351 non-null  float64\n",
      " 18  coe                16784 non-null  float64\n",
      " 19  road_tax           14630 non-null  float64\n",
      " 20  dereg_value        16784 non-null  float64\n",
      " 21  mileage            16784 non-null  float64\n",
      " 22  omv                16784 non-null  float64\n",
      " 23  arf                16784 non-null  float64\n",
      " 24  opc_scheme         207 non-null    object \n",
      " 25  lifespan           1702 non-null   object \n",
      " 26  eco_category       16784 non-null  object \n",
      " 27  features           16325 non-null  object \n",
      " 28  accessories        13971 non-null  object \n",
      " 29  indicative_price   0 non-null      float64\n",
      " 30  price              16784 non-null  float64\n",
      " 31  age                16784 non-null  int64  \n",
      " 32  remaining_coe      16784 non-null  float64\n",
      " 33  diesel             16784 non-null  int64  \n",
      " 34  electric           16784 non-null  int64  \n",
      " 35  petrol             16784 non-null  int64  \n",
      " 36  petrol-electric    16784 non-null  int64  \n",
      " 37  bus/mini bus       16784 non-null  int64  \n",
      " 38  hatchback          16784 non-null  int64  \n",
      " 39  luxury sedan       16784 non-null  int64  \n",
      " 40  mid-sized sedan    16784 non-null  int64  \n",
      " 41  mpv                16784 non-null  int64  \n",
      " 42  others             16784 non-null  int64  \n",
      " 43  sports car         16784 non-null  int64  \n",
      " 44  stationwagon       16784 non-null  int64  \n",
      " 45  suv                16784 non-null  int64  \n",
      " 46  truck              16784 non-null  int64  \n",
      " 47  van                16784 non-null  int64  \n",
      "dtypes: float64(15), int64(18), object(15)\n",
      "memory usage: 6.1+ MB\n"
     ]
    }
   ],
   "source": [
    "df.info()"
   ]
  },
  {
   "cell_type": "code",
   "execution_count": 315,
   "id": "earned-stake",
   "metadata": {},
   "outputs": [],
   "source": [
    "df.to_csv('calculated_dereg_test.csv')"
   ]
  },
  {
   "cell_type": "code",
   "execution_count": null,
   "id": "japanese-warrant",
   "metadata": {},
   "outputs": [],
   "source": []
  }
 ],
 "metadata": {
  "kernelspec": {
   "display_name": "Python 3",
   "language": "python",
   "name": "python3"
  },
  "language_info": {
   "codemirror_mode": {
    "name": "ipython",
    "version": 3
   },
   "file_extension": ".py",
   "mimetype": "text/x-python",
   "name": "python",
   "nbconvert_exporter": "python",
   "pygments_lexer": "ipython3",
   "version": "3.7.9"
  }
 },
 "nbformat": 4,
 "nbformat_minor": 5
}
