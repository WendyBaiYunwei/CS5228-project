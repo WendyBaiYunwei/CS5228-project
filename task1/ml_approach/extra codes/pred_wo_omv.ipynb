{
 "cells": [
  {
   "cell_type": "code",
   "execution_count": 2,
   "id": "enormous-blink",
   "metadata": {},
   "outputs": [],
   "source": [
    "import numpy as np\n",
    "import pandas as pd\n",
    "from matplotlib import pyplot as plt"
   ]
  },
  {
   "cell_type": "code",
   "execution_count": 133,
   "id": "silver-saying",
   "metadata": {},
   "outputs": [],
   "source": [
    "train = pd.read_csv('./train_basic.csv')\n",
    "test = pd.read_csv('./test_basic.csv')\n",
    "df = pd.concat([train, test])"
   ]
  },
  {
   "cell_type": "code",
   "execution_count": 134,
   "id": "developed-neighbor",
   "metadata": {},
   "outputs": [],
   "source": [
    "useful = ['model', 'age', 'price', 'dereg_value', 'depreciation', 'engine_cap', 'omv']\n",
    "df = df[useful].dropna()"
   ]
  },
  {
   "cell_type": "code",
   "execution_count": 124,
   "id": "august-option",
   "metadata": {},
   "outputs": [
    {
     "name": "stdout",
     "output_type": "stream",
     "text": [
      "<class 'pandas.core.frame.DataFrame'>\n",
      "Int64Index: 15434 entries, 0 to 16783\n",
      "Data columns (total 7 columns):\n",
      " #   Column        Non-Null Count  Dtype  \n",
      "---  ------        --------------  -----  \n",
      " 0   model         15434 non-null  object \n",
      " 1   age           15434 non-null  int64  \n",
      " 2   price         15434 non-null  float64\n",
      " 3   dereg_value   15434 non-null  float64\n",
      " 4   depreciation  15434 non-null  float64\n",
      " 5   engine_cap    15434 non-null  float64\n",
      " 6   omv           15434 non-null  float64\n",
      "dtypes: float64(5), int64(1), object(1)\n",
      "memory usage: 964.6+ KB\n"
     ]
    }
   ],
   "source": [
    "df.info()"
   ]
  },
  {
   "cell_type": "code",
   "execution_count": 66,
   "id": "southern-drunk",
   "metadata": {},
   "outputs": [],
   "source": [
    "from sklearn.metrics.pairwise import cosine_similarity\n",
    "\n",
    "def getSim(p1, p2):\n",
    "    return cosine_similarity(np.array(df[p1]).reshape(-1, 1), np.array(df[p2]).reshape(-1, 1))\n",
    "df['ageSim'] = getSim('age', 'age')\n",
    "df['omvSim'] = getSim('omv', 'omv')\n",
    "df['derSim'] = getSim('dereg_value', 'dereg_value')\n",
    "df['depSim'] = getSim('depreciation', 'depreciation')"
   ]
  },
  {
   "cell_type": "code",
   "execution_count": 135,
   "id": "cooperative-discipline",
   "metadata": {},
   "outputs": [],
   "source": [
    "# train_ = df[:-5000]\n",
    "train, test = df[:10000], df[10000:]"
   ]
  },
  {
   "cell_type": "code",
   "execution_count": 136,
   "id": "juvenile-simon",
   "metadata": {},
   "outputs": [
    {
     "name": "stderr",
     "output_type": "stream",
     "text": [
      "G:\\softwares\\envs\\4277lab\\lib\\site-packages\\pandas\\core\\indexing.py:1597: SettingWithCopyWarning: \n",
      "A value is trying to be set on a copy of a slice from a DataFrame.\n",
      "Try using .loc[row_indexer,col_indexer] = value instead\n",
      "\n",
      "See the caveats in the documentation: https://pandas.pydata.org/pandas-docs/stable/user_guide/indexing.html#returning-a-view-versus-a-copy\n",
      "  self.obj[key] = value\n",
      "G:\\softwares\\envs\\4277lab\\lib\\site-packages\\pandas\\core\\indexing.py:1738: SettingWithCopyWarning: \n",
      "A value is trying to be set on a copy of a slice from a DataFrame.\n",
      "Try using .loc[row_indexer,col_indexer] = value instead\n",
      "\n",
      "See the caveats in the documentation: https://pandas.pydata.org/pandas-docs/stable/user_guide/indexing.html#returning-a-view-versus-a-copy\n",
      "  self._setitem_single_column(loc, value[:, i].tolist(), pi)\n"
     ]
    },
    {
     "name": "stdout",
     "output_type": "stream",
     "text": [
      "3445\n"
     ]
    }
   ],
   "source": [
    "pred = []\n",
    "\n",
    "for idx, row in test.iterrows():\n",
    "    model = row['model']\n",
    "    sameModel = train[train.model == model]\n",
    "    def getSim(p1, p2):\n",
    "        return np.abs(np.array(sameModel[p2]).reshape(-1, 1) - p1)\n",
    "    sameModel.loc[:, 'ageSim'] = getSim(row['age'], 'age')\n",
    "    sameModel.loc[:, 'omvSim'] = getSim(row['omv'], 'omv')\n",
    "    sameModel.loc[:, 'derSim'] = getSim(row['dereg_value'], 'dereg_value')\n",
    "    sameModel.loc[:, 'depSim'] = getSim(row['depreciation'], 'depreciation')\n",
    "\n",
    "    if len(sameModel) > 100:\n",
    "        # between the train and currently tested\n",
    "        bestMatch = sameModel.sort_values(by=['ageSim', 'omvSim', 'derSim', 'depSim']).reset_index()\n",
    "        if abs(row['age'] - bestMatch.loc[0, 'age']) < 12:\n",
    "            price = np.average(bestMatch.loc[:10, 'price'])\n",
    "            pred.append(price)\n",
    "        else:\n",
    "            pred.append(None)\n",
    "    else:\n",
    "        pred.append(None)\n",
    "\n",
    "print(pd.Series(pred).isnull().sum())"
   ]
  },
  {
   "cell_type": "code",
   "execution_count": 138,
   "id": "associate-peoples",
   "metadata": {},
   "outputs": [
    {
     "name": "stdout",
     "output_type": "stream",
     "text": [
      "5434\n"
     ]
    }
   ],
   "source": [
    "print(len(pred))"
   ]
  },
  {
   "cell_type": "code",
   "execution_count": 139,
   "id": "sporting-transportation",
   "metadata": {},
   "outputs": [],
   "source": [
    "pred = pd.DataFrame(pred)\n",
    "# vi = pred[pred.isnull()].index.tolist()\n",
    "# newPred = pred[vi]\n",
    "# actual = train['price'][vi]\n",
    "# print(len(newPred), len(actual))"
   ]
  },
  {
   "cell_type": "code",
   "execution_count": 140,
   "id": "enclosed-mercy",
   "metadata": {},
   "outputs": [
    {
     "name": "stdout",
     "output_type": "stream",
     "text": [
      "<class 'pandas.core.frame.DataFrame'>\n",
      "RangeIndex: 5434 entries, 0 to 5433\n",
      "Data columns (total 8 columns):\n",
      " #   Column        Non-Null Count  Dtype  \n",
      "---  ------        --------------  -----  \n",
      " 0   index         5434 non-null   int64  \n",
      " 1   model         5434 non-null   object \n",
      " 2   age           5434 non-null   int64  \n",
      " 3   price         5434 non-null   float64\n",
      " 4   dereg_value   5434 non-null   float64\n",
      " 5   depreciation  5434 non-null   float64\n",
      " 6   engine_cap    5434 non-null   float64\n",
      " 7   omv           5434 non-null   float64\n",
      "dtypes: float64(5), int64(2), object(1)\n",
      "memory usage: 339.8+ KB\n"
     ]
    }
   ],
   "source": [
    "test = test.reset_index()\n",
    "test.info()"
   ]
  },
  {
   "cell_type": "code",
   "execution_count": 141,
   "id": "patient-newsletter",
   "metadata": {},
   "outputs": [
    {
     "name": "stdout",
     "output_type": "stream",
     "text": [
      "<class 'pandas.core.frame.DataFrame'>\n",
      "RangeIndex: 5434 entries, 0 to 5433\n",
      "Data columns (total 1 columns):\n",
      " #   Column  Non-Null Count  Dtype  \n",
      "---  ------  --------------  -----  \n",
      " 0   0       1989 non-null   float64\n",
      "dtypes: float64(1)\n",
      "memory usage: 42.6 KB\n"
     ]
    }
   ],
   "source": [
    "pred.info()"
   ]
  },
  {
   "cell_type": "code",
   "execution_count": 142,
   "id": "higher-blogger",
   "metadata": {},
   "outputs": [
    {
     "name": "stdout",
     "output_type": "stream",
     "text": [
      "<class 'pandas.core.frame.DataFrame'>\n",
      "Int64Index: 1989 entries, 1 to 5432\n",
      "Data columns (total 2 columns):\n",
      " #   Column  Non-Null Count  Dtype  \n",
      "---  ------  --------------  -----  \n",
      " 0   0       1989 non-null   float64\n",
      " 1   price   1989 non-null   float64\n",
      "dtypes: float64(2)\n",
      "memory usage: 46.6 KB\n"
     ]
    }
   ],
   "source": [
    "compare = pd.concat([pred, test['price']], axis = 1).dropna()\n",
    "compare.info()"
   ]
  },
  {
   "cell_type": "code",
   "execution_count": 143,
   "id": "considerable-assessment",
   "metadata": {},
   "outputs": [
    {
     "name": "stdout",
     "output_type": "stream",
     "text": [
      "670090448.9972628\n"
     ]
    }
   ],
   "source": [
    "pred = compare.iloc[:, 0]\n",
    "actual = compare.iloc[:, 1]\n",
    "from sklearn.metrics import mean_squared_error\n",
    "mse=mean_squared_error(pred, actual)\n",
    "print(mse)\n",
    "# 31134102722\n",
    "# 511962144"
   ]
  },
  {
   "cell_type": "code",
   "execution_count": 61,
   "id": "floppy-organization",
   "metadata": {},
   "outputs": [
    {
     "name": "stderr",
     "output_type": "stream",
     "text": [
      "G:\\softwares\\envs\\4277lab\\lib\\site-packages\\ipykernel_launcher.py:2: UserWarning: Boolean Series key will be reindexed to match DataFrame index.\n",
      "  \n"
     ]
    }
   ],
   "source": [
    "df = pd.read_csv('test.csv')\n",
    "no_dereg_but_dep = df[~df.depreciation.isnull()][df.dereg_value.isnull()]"
   ]
  },
  {
   "cell_type": "code",
   "execution_count": 64,
   "id": "swedish-romania",
   "metadata": {},
   "outputs": [],
   "source": [
    "diff = []\n",
    "no_dereg_but_dep = no_dereg_but_dep.index.tolist()\n",
    "for i in no_dereg_but_dep:\n",
    "    diff.append((deps[i] - regs[i], i))\n",
    "    base[i] = regs[i]"
   ]
  },
  {
   "cell_type": "code",
   "execution_count": 65,
   "id": "random-japanese",
   "metadata": {},
   "outputs": [
    {
     "name": "stdout",
     "output_type": "stream",
     "text": [
      "[0, 52, 85, 88, 110, 114, 124, 141, 151, 155, 214, 233, 252, 265, 269, 286, 294, 304, 305, 320, 324, 325, 331, 360, 367, 372, 411, 417, 420, 478, 511, 512, 614, 627, 649, 652, 674, 722, 763, 764, 783, 785, 801, 845, 863, 872, 898, 901, 904, 908, 921, 940, 1023, 1088, 1111, 1123, 1194, 1219, 1220, 1224, 1296, 1299, 1303, 1309, 1311, 1319, 1331, 1335, 1342, 1373, 1426, 1430, 1436, 1440, 1464, 1487, 1498, 1514, 1547, 1549, 1554, 1565, 1579, 1605, 1629, 1676, 1754, 1761, 1767, 1771, 1801, 1858, 1876, 1897, 1924, 1929, 1946, 1955, 1971, 1988, 2030, 2106, 2112, 2123, 2134, 2216, 2218, 2221, 2231, 2282, 2318, 2344, 2349, 2368, 2370, 2402, 2418, 2501, 2524, 2533, 2537, 2571, 2586, 2606, 2610, 2617, 2659, 2664, 2682, 2700, 2726, 2736, 2747, 2812, 2816, 2830, 2851, 2866, 2884, 2897, 2898, 2930, 2935, 2959, 2982, 2989, 2990, 3042, 3073, 3106, 3107, 3131, 3155, 3159, 3190, 3209, 3231, 3294, 3300, 3324, 3357, 3368, 3396, 3397, 3427, 3450, 3451, 3460, 3472, 3486, 3491, 3502, 3558, 3570, 3571, 3601, 3613, 3621, 3627, 3634, 3639, 3694, 3717, 3719, 3740, 3746, 3767, 3775, 3782, 3788, 3796, 3824, 3836, 3846, 3922, 3954, 3986, 3994, 3998, 4036, 4045, 4054, 4074, 4076, 4119, 4165, 4181, 4210, 4219, 4248, 4262, 4275, 4330, 4374, 4393, 4406, 4414, 4465, 4533, 4538, 4547, 4551, 4593, 4677, 4690, 4721, 4747, 4762, 4764, 4780, 4786, 4803, 4810, 4866, 4868, 4882, 4907, 4912, 4919, 4928, 4954, 4974, 4978]\n"
     ]
    }
   ],
   "source": [
    "print(no_dereg_but_dep)"
   ]
  },
  {
   "cell_type": "code",
   "execution_count": 66,
   "id": "everyday-sponsorship",
   "metadata": {},
   "outputs": [
    {
     "name": "stdout",
     "output_type": "stream",
     "text": [
      "[(287856.2, 325), (284706.79999999993, 4907), (217819.59999999998, 2537), (186867.40000000002, 1767), (178368.40000000002, 1876), (158144.8, 3767), (154847.19999999998, 2231), (150597.59999999998, 1897), (141627.2, 1498), (138456.8, 4677), (137296.8, 1430), (119009.20000000001, 4803), (113698.2, 1309), (106127.4, 4210), (103840.0, 872), (100948.2, 3694), (95126.79999999999, 649), (84263.0, 2898), (83626.8, 4393), (82514.0, 2700), (78627.2, 4978), (72982.4, 269), (71042.2, 3396), (68316.4, 2370), (63692.20000000001, 478), (60986.20000000001, 4119), (60214.399999999994, 4593), (58475.79999999999, 4330), (54355.0, 3621), (53946.20000000001, 908), (53912.59999999999, 3073), (53423.600000000006, 2990), (47635.79999999999, 324), (47408.399999999994, 0), (47087.600000000006, 4045), (45867.399999999994, 3601), (44558.8, 1605), (44342.8, 88), (42518.2, 3998), (41074.2, 3486), (40941.399999999994, 2106), (40427.2, 1565), (40187.0, 511), (39952.20000000001, 4974), (38041.79999999999, 4465), (37384.600000000006, 233), (37331.399999999994, 1579), (36850.2, 3397), (35554.40000000001, 3719), (35463.8, 4786), (34777.8, 320), (34425.59999999999, 3824), (34301.000000000015, 3846), (34006.399999999994, 3994), (33565.2, 764), (33117.2, 901), (32831.399999999994, 3796), (32352.59999999999, 2030), (31600.600000000006, 940), (31552.600000000006, 3746), (31123.59999999999, 1373), (30438.399999999994, 3717), (30427.199999999997, 4181), (30301.79999999999, 2664), (29812.199999999997, 2659), (29756.600000000006, 2617), (29683.0, 783), (29552.40000000001, 331), (29473.600000000006, 4551), (28616.40000000001, 4406), (27827.800000000003, 3788), (27049.199999999997, 1303), (26330.800000000003, 1761), (25071.600000000006, 3155), (24975.800000000003, 2123), (24736.800000000003, 2897), (24644.399999999994, 2216), (24436.399999999994, 286), (24369.800000000003, 2402), (24014.0, 1426), (23662.800000000003, 1088), (23622.800000000003, 2501), (23391.0, 2533), (23311.0, 614), (23206.20000000001, 1331), (22514.199999999997, 2571), (22251.399999999994, 305), (22153.800000000003, 3571), (21789.0, 1464), (21570.59999999999, 4275), (21373.800000000003, 4414), (21292.800000000003, 4165), (19897.199999999997, 4036), (19451.0, 3357), (18810.0, 4762), (18316.800000000003, 252), (18154.920000000013, 1311), (17252.0, 1487), (16620.800000000003, 2368), (16375.400000000009, 1342), (15699.400000000009, 151), (14993.692380952358, 2935), (14671.599999999991, 4928), (14604.600000000006, 2866), (14169.666666666657, 1676), (13947.5, 1801), (13769.0, 512), (13510.936666666661, 2989), (13307.31666666668, 1929), (13034.800000000003, 2726), (12882.91333333333, 2524), (12790.10666666666, 4882), (12728.925714285695, 3450), (12243.253333333341, 3294), (12183.199999999997, 3775), (12129.746666666673, 4868), (12078.800000000003, 1554), (12037.600000000006, 3190), (11836.400000000009, 652), (10873.502380952385, 411), (10726.0, 372), (10475.533333333326, 2606), (10310.735714285722, 1988), (10191.48999999999, 1219), (9973.800000000003, 4374), (9248.963333333333, 3613), (9132.419047619042, 674), (8966.516666666648, 904), (8846.600000000006, 360), (8751.626666666649, 4912), (8265.600000000006, 3634), (8084.4000000000015, 2959), (7903.366666666683, 1955), (7768.799999999988, 722), (7590.866666666669, 4764), (7500.399999999994, 1296), (7180.666666666657, 4219), (6910.219047619044, 2610), (6910.219047619044, 52), (5911.800000000003, 294), (5874.600000000006, 3131), (5773.199999999997, 3740), (5595.31619047618, 3558), (5458.400000000009, 3368), (5014.0, 3107), (4767.0, 763), (4765.200000000004, 1971), (4761.599999999991, 124), (4661.199999999997, 1220), (4325.799999999996, 2418), (4297.399999999994, 3159), (4189.600000000006, 4248), (3796.677619047623, 2816), (3526.0, 265), (3502.25, 1549), (3306.800000000003, 3491), (3298.0, 1111), (2974.4000000000087, 3451), (2617.4733333333425, 921), (2461.7999999999884, 2218), (2283.199999999997, 2134), (2267.2666666666773, 898), (1976.2000000000044, 4076), (1771.0, 304), (1745.5999999999985, 4721), (1573.2000000000044, 3460), (1463.0, 1194), (1246.6399999999994, 1023), (1037.800000000003, 3231), (956.9400000000023, 1440), (880.2000000000044, 2112), (387.20000000001164, 1319), (318.59999999999127, 4866), (315.0, 3836), (269.1999999999971, 2747), (120.39999999999418, 4810), (-104.59999999999854, 627), (-240.8000000000029, 4954), (-342.6000000000058, 863), (-408.1999999999971, 2812), (-841.8000000000029, 1224), (-1448.2000000000044, 110), (-2099.800000000003, 1514), (-2100.800000000003, 2930), (-2218.4000000000087, 1299), (-2875.5999999999985, 3986), (-3916.0, 420), (-4624.5999999999985, 4747), (-5713.399999999994, 2884), (-5717.4000000000015, 4533), (-6023.0, 3627), (-6247.0, 2282), (-6652.060000000005, 1547), (-8155.4000000000015, 3209), (-8155.4000000000015, 417), (-8466.799999999996, 801), (-9537.0, 3922), (-10888.800000000003, 1754), (-10940.399999999994, 1771), (-11138.0, 2736), (-11371.0, 1946), (-11526.100000000006, 2344), (-11679.799999999996, 85), (-13579.799999999996, 2830), (-14526.199999999997, 141), (-14745.399999999994, 2851), (-15356.600000000006, 3324), (-15447.0, 3570), (-15725.599999999999, 4054), (-15924.133333333324, 1335), (-16055.399999999994, 3502), (-16075.999999999993, 4690), (-16439.12238095238, 2349), (-16450.199999999997, 2221), (-17017.0, 2682), (-17101.322380952384, 2318), (-17101.322380952384, 214), (-17112.933333333327, 1629), (-17234.73333333333, 845), (-17314.4, 367), (-17413.200000000004, 1436), (-17418.0, 114), (-18284.799999999996, 3639), (-18708.399999999994, 2982), (-19783.199999999997, 1858), (-20021.4, 4262), (-20155.6, 3300), (-20412.6, 4919), (-20484.4, 3954), (-20714.800000000003, 4074), (-20784.0, 785), (-20920.0, 3472), (-21058.199999999997, 4538), (-21080.4, 4780), (-21121.0, 3427), (-21432.799999999996, 2586), (-21686.0, 1123), (-21807.0, 155), (-21930.199999999997, 4547), (-21930.199999999997, 3106), (-21930.199999999997, 3042), (-22257.6, 1924), (-23175.800000000003, 3782)]\n"
     ]
    }
   ],
   "source": [
    "diff.sort(reverse = True)\n",
    "print(diff)"
   ]
  },
  {
   "cell_type": "code",
   "execution_count": 46,
   "id": "disciplinary-julian",
   "metadata": {},
   "outputs": [
    {
     "name": "stdout",
     "output_type": "stream",
     "text": [
      "[38, 137, 160, 194, 236, 240, 310, 371, 382, 387, 393, 430, 434, 436, 559, 565, 582, 711, 752, 753, 793, 881, 886, 888, 903, 965, 1004, 1020, 1145, 1152, 1238, 1255, 1289, 1292, 1345, 1393, 1459, 1510, 1540, 1607, 1677, 1715, 1739, 1750, 1772, 1826, 1850, 1851, 1889, 1893, 1896, 1902, 1917, 1938, 1992, 2045, 2054, 2061, 2066, 2070, 2087, 2154, 2177, 2243, 2285, 2298, 2307, 2389, 2434, 2452, 2462, 2476, 2512, 2516, 2557, 2561, 2678, 2746, 2806, 2809, 2843, 2904, 2917, 2920, 2922, 2941, 2976, 3031, 3032, 3079, 3102, 3184, 3187, 3222, 3356, 3452, 3459, 3524, 3527, 3582, 3642, 3661, 3697, 3789, 3901, 3946, 4056, 4113, 4128, 4168, 4180, 4233, 4264, 4270, 4289, 4291, 4344, 4459, 4517, 4564, 4591, 4671, 4682, 4692, 4696, 4708, 4709, 4790, 4836, 4889, 4929, 4990]\n"
     ]
    }
   ],
   "source": [
    "no_dep = df[df.depreciation.isnull()]\n",
    "no_dep = no_dep.index.tolist()\n",
    "print(no_dep)"
   ]
  },
  {
   "cell_type": "code",
   "execution_count": 47,
   "id": "elect-vacation",
   "metadata": {},
   "outputs": [],
   "source": [
    "diff = []\n",
    "for i in no_dep:\n",
    "    diff.append((deps[i] - base[i], i))\n",
    "    base[i] = deps[i]"
   ]
  },
  {
   "cell_type": "code",
   "execution_count": 48,
   "id": "portable-scanning",
   "metadata": {},
   "outputs": [
    {
     "name": "stdout",
     "output_type": "stream",
     "text": [
      "[(105589.37139999997, 2177), (76296.71429, 559), (70358.34286, 3459), (64989.34286, 1393), (61580.399999999994, 1917), (60033.257139999994, 4696), (54999.04190333331, 2285), (54843.31904333332, 4708), (52925.457140000006, 3946), (52285.62857, 2516), (50923.40476333332, 2809), (49716.71429, 137), (49534.628570000015, 2045), (47740.48571000001, 2512), (45804.57143, 4168), (44639.600000000006, 4682), (44209.342860000004, 387), (43256.142900000006, 38), (42595.17143000001, 1772), (40058.28571, 2307), (31345.942857000002, 3032), (31038.114289999998, 1152), (28661.89904333334, 1739), (27628.97143, 903), (24752.45714, 3452), (24209.45714, 1902), (23012.02857000001, 371), (22527.79999999999, 752), (20669.4, 565), (19677.227623333325, 4233), (18868.514285999998, 4671), (17855.97140000004, 753), (17117.114299999987, 1677), (16262.48570000002, 3102), (15821.085699999996, 4289), (14914.742860000006, 1292), (7211.0, 4790), (6919.457139999999, 1992), (6297.400000000023, 4564), (5800.085699999996, 430), (3556.942859999999, 1004), (1515.1714300000021, 4128), (767.085699999996, 2066), (-124.04286000000138, 3527), (-2385.9142900000006, 2061), (-3806.3714300000065, 2922), (-8813.0, 4709), (-12318.857139999993, 1020), (-16804.514290000003, 3356), (-18464.742860000013, 4113), (-19915.600000000006, 436), (-22660.171399999992, 310), (-23734.857099999994, 1851), (-28788.600000000006, 4591), (-32447.02860000002, 1893), (-35153.971399999995, 1889), (-35547.22857000001, 2746), (-38002.028569999995, 2434), (-40695.857099999994, 382), (-41432.2286, 194), (-43432.857099999994, 793), (-50753.600000000006, 1255), (-57159.914300000004, 1238), (-57213.62860000001, 2806), (-58314.08571, 1607), (-59452.22860000002, 1345), (-59858.14289999998, 2452), (-63049.74290000001, 1938), (-64181.20000000001, 4692), (-64282.25709999999, 886), (-64513.20000000001, 1896), (-67786.9143, 711), (-69138.2, 393), (-69784.85710000002, 1459), (-69969.94289999997, 2389), (-70817.74290000001, 3524), (-73706.1429, 4056), (-73815.82860000001, 4929), (-75305.0857, 3184), (-76593.8571, 1826), (-76928.22860000003, 2298), (-78632.11429999999, 2462), (-78966.57140000002, 2678), (-79023.91429999999, 236), (-79616.4, 2904), (-81356.17140000002, 2920), (-82962.6286, 1715), (-83253.6, 3901), (-83545.02860000002, 2557), (-86449.79999999999, 4459), (-87159.74290000001, 582), (-93446.3143, 2843), (-97076.14289999998, 3079), (-97954.6571, 4344), (-99561.97140000001, 2917), (-101380.11429999999, 240), (-107427.4, 434), (-112799.20000000001, 4889), (-118006.51400000008, 4264), (-119010.9143, 1750), (-132892.25710000002, 1540), (-136608.05709999998, 4517), (-155174.0, 2087), (-160308.3429, 4990), (-161737.5714, 2561), (-169452.48570000002, 3582), (-171822.9143, 3661), (-176780.8, 3642), (-179144.57140000002, 4270), (-179935.8, 4180), (-190206.97140000004, 2154), (-193738.0857, 3789), (-196044.6286, 2070), (-205469.22859999997, 2243), (-214902.2857, 3222), (-236426.51429999998, 4291), (-245516.05710000003, 3697), (-248390.2857, 1145), (-250915.1714, 888), (-259937.2570000001, 965), (-271630.2, 1289), (-277050.34289999993, 2054), (-280020.7714, 3187), (-300016.28599999996, 1510), (-314877.6, 160), (-320993.02859999996, 2976), (-332297.28599999996, 881), (-334027.3429, 2476), (-342752.91429999995, 2941), (-346055.65710000007, 1850), (-348414.4, 4836), (-491816.51399999997, 3031)]\n"
     ]
    }
   ],
   "source": [
    "diff.sort(reverse = True)\n",
    "print(diff)"
   ]
  },
  {
   "cell_type": "code",
   "execution_count": 36,
   "id": "emerging-latest",
   "metadata": {},
   "outputs": [
    {
     "name": "stdout",
     "output_type": "stream",
     "text": [
      "132\n"
     ]
    }
   ],
   "source": [
    "print(len(no_dep))"
   ]
  },
  {
   "cell_type": "code",
   "execution_count": 37,
   "id": "blessed-stamp",
   "metadata": {},
   "outputs": [
    {
     "name": "stdout",
     "output_type": "stream",
     "text": [
      "<class 'pandas.core.frame.DataFrame'>\n",
      "RangeIndex: 5000 entries, 0 to 4999\n",
      "Data columns (total 1 columns):\n",
      " #   Column  Non-Null Count  Dtype  \n",
      "---  ------  --------------  -----  \n",
      " 0   0       5000 non-null   float64\n",
      "dtypes: float64(1)\n",
      "memory usage: 39.2 KB\n"
     ]
    }
   ],
   "source": [
    "new = pd.DataFrame(base)\n",
    "new.info()"
   ]
  },
  {
   "cell_type": "code",
   "execution_count": 38,
   "id": "divine-samuel",
   "metadata": {},
   "outputs": [],
   "source": [
    "new.to_csv('combined-42-37.csv')"
   ]
  },
  {
   "cell_type": "code",
   "execution_count": 118,
   "id": "derived-anniversary",
   "metadata": {},
   "outputs": [],
   "source": [
    "actual = [120000, 33800, 79888, 89888, 159888, 288288, 75000, 39500, 108800, 54000, 385888]\n",
    "omvI = df[df.omv.isnull()].index.tolist()\n",
    "omvI.remove(2633)\n",
    "for i in range(len(omvI)):\n",
    "    idx = omvI[i]\n",
    "    hope[idx] = actual[i]"
   ]
  },
  {
   "cell_type": "code",
   "execution_count": 108,
   "id": "powered-child",
   "metadata": {},
   "outputs": [],
   "source": [
    "for i in range(len(omvI)):\n",
    "    idx = omvI[i]\n",
    "    if hope[idx] != actual[i]:\n",
    "        print(i)"
   ]
  },
  {
   "cell_type": "code",
   "execution_count": 18,
   "id": "front-thread",
   "metadata": {},
   "outputs": [
    {
     "name": "stdout",
     "output_type": "stream",
     "text": [
      "<class 'pandas.core.frame.DataFrame'>\n",
      "RangeIndex: 5000 entries, 0 to 4999\n",
      "Data columns (total 1 columns):\n",
      " #   Column     Non-Null Count  Dtype  \n",
      "---  ------     --------------  -----  \n",
      " 0   Predicted  5000 non-null   float64\n",
      "dtypes: float64(1)\n",
      "memory usage: 39.2 KB\n"
     ]
    }
   ],
   "source": [
    "sr = pd.DataFrame(fill)\n",
    "sr = sr.rename(columns={0: 'Predicted'})\n",
    "sr.info()\n",
    "# sr.to_csv('temp.csv')"
   ]
  },
  {
   "cell_type": "code",
   "execution_count": 19,
   "id": "pressing-thirty",
   "metadata": {},
   "outputs": [],
   "source": [
    "sr.to_csv('temp.csv')"
   ]
  },
  {
   "cell_type": "code",
   "execution_count": 7,
   "id": "latest-musical",
   "metadata": {},
   "outputs": [
    {
     "name": "stdout",
     "output_type": "stream",
     "text": [
      "<class 'pandas.core.frame.DataFrame'>\n",
      "RangeIndex: 5000 entries, 0 to 4999\n",
      "Data columns (total 1 columns):\n",
      " #   Column     Non-Null Count  Dtype  \n",
      "---  ------     --------------  -----  \n",
      " 0   Predicted  5000 non-null   float64\n",
      "dtypes: float64(1)\n",
      "memory usage: 39.2 KB\n"
     ]
    }
   ],
   "source": [
    "newDf = pd.DataFrame(fill)\n",
    "newDf = newDf.rename(columns={0: 'Predicted'})\n",
    "newDf.info()"
   ]
  },
  {
   "cell_type": "code",
   "execution_count": 8,
   "id": "decimal-omaha",
   "metadata": {},
   "outputs": [],
   "source": [
    "newDf.to_csv('predictions-3-8.csv')"
   ]
  },
  {
   "cell_type": "code",
   "execution_count": 62,
   "id": "naked-projector",
   "metadata": {},
   "outputs": [
    {
     "name": "stderr",
     "output_type": "stream",
     "text": [
      "G:\\softwares\\envs\\4277lab\\lib\\site-packages\\ipykernel_launcher.py:1: UserWarning: Boolean Series key will be reindexed to match DataFrame index.\n",
      "  \"\"\"Entry point for launching an IPython kernel.\n"
     ]
    }
   ],
   "source": [
    "hard = df[df.dereg_value.isnull()][df.depreciation.isnull()]"
   ]
  },
  {
   "cell_type": "code",
   "execution_count": 63,
   "id": "classified-attendance",
   "metadata": {},
   "outputs": [
    {
     "name": "stdout",
     "output_type": "stream",
     "text": [
      "92\n"
     ]
    }
   ],
   "source": [
    "print(len(hard))"
   ]
  },
  {
   "cell_type": "code",
   "execution_count": null,
   "id": "freelance-difference",
   "metadata": {},
   "outputs": [],
   "source": []
  }
 ],
 "metadata": {
  "kernelspec": {
   "display_name": "Python 3",
   "language": "python",
   "name": "python3"
  },
  "language_info": {
   "codemirror_mode": {
    "name": "ipython",
    "version": 3
   },
   "file_extension": ".py",
   "mimetype": "text/x-python",
   "name": "python",
   "nbconvert_exporter": "python",
   "pygments_lexer": "ipython3",
   "version": "3.7.9"
  }
 },
 "nbformat": 4,
 "nbformat_minor": 5
}
