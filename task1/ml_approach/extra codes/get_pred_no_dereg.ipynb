{
 "cells": [
  {
   "cell_type": "code",
   "execution_count": 1,
   "id": "burning-fossil",
   "metadata": {},
   "outputs": [],
   "source": [
    "import pandas as pd\n",
    "import numpy as np\n",
    "from matplotlib import pyplot as plt"
   ]
  },
  {
   "cell_type": "code",
   "execution_count": 230,
   "id": "controlled-facility",
   "metadata": {},
   "outputs": [],
   "source": [
    "# df = pd.read_csv('filled_depreciation.csv')\n",
    "df = pd.read_csv('calculated_dereg.csv')"
   ]
  },
  {
   "cell_type": "code",
   "execution_count": 225,
   "id": "final-tongue",
   "metadata": {},
   "outputs": [],
   "source": [
    "# ['depreciation', 'omv', 'arf', 'age', 'remaining_coe', 'dereg_value', 'truck', 'suv', 'sports car', 'luxury sedan',\\\n",
    "#          'bus/mini bus', 'mid-sized sedan', 'stationwagon', 'hatchback', 'mpv', 'mileage']\n",
    "\n",
    "# not sure: ['coe', 'road_tax', 'mileage']"
   ]
  },
  {
   "cell_type": "code",
   "execution_count": 226,
   "id": "excited-prophet",
   "metadata": {},
   "outputs": [],
   "source": [
    "# init = pd.read_csv('train.csv')\n",
    "# df['depreciation'] = init['depreciation']\n",
    "# df = df.dropna(subset = ['depreciation'])"
   ]
  },
  {
   "cell_type": "code",
   "execution_count": 231,
   "id": "liberal-contest",
   "metadata": {},
   "outputs": [
    {
     "name": "stdout",
     "output_type": "stream",
     "text": [
      "<class 'pandas.core.frame.DataFrame'>\n",
      "RangeIndex: 16784 entries, 0 to 16783\n",
      "Data columns (total 49 columns):\n",
      " #   Column             Non-Null Count  Dtype  \n",
      "---  ------             --------------  -----  \n",
      " 0   Unnamed: 0         16784 non-null  int64  \n",
      " 1   Unnamed: 0.1       16784 non-null  int64  \n",
      " 2   listing_id         16784 non-null  int64  \n",
      " 3   title              16784 non-null  object \n",
      " 4   make               16784 non-null  object \n",
      " 5   model              16784 non-null  object \n",
      " 6   description        16439 non-null  object \n",
      " 7   manufactured       16590 non-null  float64\n",
      " 8   original_reg_date  318 non-null    object \n",
      " 9   reg_date           16583 non-null  object \n",
      " 10  type_of_vehicle    16784 non-null  object \n",
      " 11  category           16784 non-null  object \n",
      " 12  transmission       16784 non-null  object \n",
      " 13  curb_weight        16205 non-null  float64\n",
      " 14  power              16784 non-null  float64\n",
      " 15  fuel_type          3490 non-null   object \n",
      " 16  engine_cap         16784 non-null  float64\n",
      " 17  no_of_owners       16608 non-null  float64\n",
      " 18  depreciation       16351 non-null  float64\n",
      " 19  coe                16784 non-null  float64\n",
      " 20  road_tax           14630 non-null  float64\n",
      " 21  dereg_value        16784 non-null  float64\n",
      " 22  mileage            16784 non-null  float64\n",
      " 23  omv                16784 non-null  float64\n",
      " 24  arf                16784 non-null  float64\n",
      " 25  opc_scheme         207 non-null    object \n",
      " 26  lifespan           1702 non-null   object \n",
      " 27  eco_category       16784 non-null  object \n",
      " 28  features           16325 non-null  object \n",
      " 29  accessories        13971 non-null  object \n",
      " 30  indicative_price   0 non-null      float64\n",
      " 31  price              16784 non-null  float64\n",
      " 32  age                16784 non-null  int64  \n",
      " 33  remaining_coe      16784 non-null  float64\n",
      " 34  diesel             16784 non-null  int64  \n",
      " 35  electric           16784 non-null  int64  \n",
      " 36  petrol             16784 non-null  int64  \n",
      " 37  petrol-electric    16784 non-null  int64  \n",
      " 38  bus/mini bus       16784 non-null  int64  \n",
      " 39  hatchback          16784 non-null  int64  \n",
      " 40  luxury sedan       16784 non-null  int64  \n",
      " 41  mid-sized sedan    16784 non-null  int64  \n",
      " 42  mpv                16784 non-null  int64  \n",
      " 43  others             16784 non-null  int64  \n",
      " 44  sports car         16784 non-null  int64  \n",
      " 45  stationwagon       16784 non-null  int64  \n",
      " 46  suv                16784 non-null  int64  \n",
      " 47  truck              16784 non-null  int64  \n",
      " 48  van                16784 non-null  int64  \n",
      "dtypes: float64(15), int64(19), object(15)\n",
      "memory usage: 6.3+ MB\n"
     ]
    }
   ],
   "source": [
    "df.info()"
   ]
  },
  {
   "cell_type": "code",
   "execution_count": 233,
   "id": "continuing-telescope",
   "metadata": {},
   "outputs": [
    {
     "name": "stdout",
     "output_type": "stream",
     "text": [
      "<class 'pandas.core.frame.DataFrame'>\n",
      "Int64Index: 16351 entries, 0 to 16783\n",
      "Data columns (total 15 columns):\n",
      " #   Column           Non-Null Count  Dtype  \n",
      "---  ------           --------------  -----  \n",
      " 0   power            16351 non-null  float64\n",
      " 1   omv              16351 non-null  float64\n",
      " 2   arf              16351 non-null  float64\n",
      " 3   age              16351 non-null  int64  \n",
      " 4   remaining_coe    16351 non-null  float64\n",
      " 5   truck            16351 non-null  int64  \n",
      " 6   suv              16351 non-null  int64  \n",
      " 7   sports car       16351 non-null  int64  \n",
      " 8   luxury sedan     16351 non-null  int64  \n",
      " 9   bus/mini bus     16351 non-null  int64  \n",
      " 10  mid-sized sedan  16351 non-null  int64  \n",
      " 11  stationwagon     16351 non-null  int64  \n",
      " 12  hatchback        16351 non-null  int64  \n",
      " 13  mpv              16351 non-null  int64  \n",
      " 14  depreciation     16351 non-null  float64\n",
      "dtypes: float64(5), int64(10)\n",
      "memory usage: 2.0 MB\n"
     ]
    }
   ],
   "source": [
    "useful = ['power', 'omv', 'arf', 'age', 'remaining_coe', 'truck', 'suv', 'sports car', 'luxury sedan',\\\n",
    "         'bus/mini bus', 'mid-sized sedan', 'stationwagon', 'hatchback', 'mpv', 'depreciation']\n",
    "train = df.dropna(subset = ['depreciation'])\n",
    "df1 = train[useful]\n",
    "price1 = train['price']\n",
    "df1.info()"
   ]
  },
  {
   "cell_type": "code",
   "execution_count": 234,
   "id": "psychological-infection",
   "metadata": {},
   "outputs": [],
   "source": [
    "from sklearn.model_selection import train_test_split\n",
    "X_train, X_test, y_train, y_test = train_test_split(df1, price1, \n",
    "                                                    train_size=0.7,\n",
    "                                                    test_size = 0.3, random_state=100)"
   ]
  },
  {
   "cell_type": "code",
   "execution_count": 241,
   "id": "dominant-florence",
   "metadata": {},
   "outputs": [],
   "source": [
    "from sklearn.ensemble import RandomForestRegressor\n",
    "\n",
    "# model=RandomForestRegressor(random_state = 0, n_estimators = 500, max_features=9).fit(X_train,y_train)\n",
    "model=RandomForestRegressor(random_state = 0, n_estimators = 500, max_features=8).fit(X_train,y_train)"
   ]
  },
  {
   "cell_type": "code",
   "execution_count": 242,
   "id": "authorized-jewel",
   "metadata": {},
   "outputs": [
    {
     "name": "stdout",
     "output_type": "stream",
     "text": [
      "421898449.16979027\n"
     ]
    }
   ],
   "source": [
    "from sklearn.metrics import mean_squared_error\n",
    "y_pred = model.predict(X_test)\n",
    "mse=mean_squared_error(y_test, y_pred)\n",
    "print(mse)\n",
    "# 828802137 - 7/10, 500 ->200,82\n",
    "# 884452400, without dereg_value\n",
    "# 769700187\n",
    "# 313001378,307\n",
    "# 309631534, 79\n",
    "# 37"
   ]
  },
  {
   "cell_type": "code",
   "execution_count": 243,
   "id": "processed-alpha",
   "metadata": {},
   "outputs": [],
   "source": [
    "model=RandomForestRegressor(random_state = 0, n_estimators = 500, max_features=7).fit(df1,price1)"
   ]
  },
  {
   "cell_type": "code",
   "execution_count": 244,
   "id": "empirical-limitation",
   "metadata": {},
   "outputs": [
    {
     "name": "stdout",
     "output_type": "stream",
     "text": [
      "<class 'pandas.core.frame.DataFrame'>\n",
      "RangeIndex: 5000 entries, 0 to 4999\n",
      "Data columns (total 48 columns):\n",
      " #   Column             Non-Null Count  Dtype  \n",
      "---  ------             --------------  -----  \n",
      " 0   Unnamed: 0         5000 non-null   int64  \n",
      " 1   Unnamed: 0.1       5000 non-null   int64  \n",
      " 2   listing_id         5000 non-null   int64  \n",
      " 3   title              5000 non-null   object \n",
      " 4   make               5000 non-null   object \n",
      " 5   model              5000 non-null   object \n",
      " 6   description        4889 non-null   object \n",
      " 7   manufactured       4939 non-null   float64\n",
      " 8   original_reg_date  100 non-null    object \n",
      " 9   reg_date           4939 non-null   object \n",
      " 10  type_of_vehicle    5000 non-null   object \n",
      " 11  category           5000 non-null   object \n",
      " 12  transmission       5000 non-null   object \n",
      " 13  curb_weight        4844 non-null   float64\n",
      " 14  power              5000 non-null   float64\n",
      " 15  fuel_type          1051 non-null   object \n",
      " 16  engine_cap         5000 non-null   float64\n",
      " 17  no_of_owners       4944 non-null   float64\n",
      " 18  depreciation       4868 non-null   float64\n",
      " 19  coe                5000 non-null   float64\n",
      " 20  road_tax           4366 non-null   float64\n",
      " 21  dereg_value        5000 non-null   float64\n",
      " 22  mileage            5000 non-null   float64\n",
      " 23  omv                5000 non-null   float64\n",
      " 24  arf                5000 non-null   float64\n",
      " 25  opc_scheme         58 non-null     object \n",
      " 26  lifespan           504 non-null    object \n",
      " 27  eco_category       5000 non-null   object \n",
      " 28  features           4873 non-null   object \n",
      " 29  accessories        4159 non-null   object \n",
      " 30  indicative_price   0 non-null      float64\n",
      " 31  age                5000 non-null   int64  \n",
      " 32  remaining_coe      5000 non-null   float64\n",
      " 33  diesel             5000 non-null   int64  \n",
      " 34  electric           5000 non-null   int64  \n",
      " 35  petrol             5000 non-null   int64  \n",
      " 36  petrol-electric    5000 non-null   int64  \n",
      " 37  bus/mini bus       5000 non-null   int64  \n",
      " 38  hatchback          5000 non-null   int64  \n",
      " 39  luxury sedan       5000 non-null   int64  \n",
      " 40  mid-sized sedan    5000 non-null   int64  \n",
      " 41  mpv                5000 non-null   int64  \n",
      " 42  others             5000 non-null   int64  \n",
      " 43  sports car         5000 non-null   int64  \n",
      " 44  stationwagon       5000 non-null   int64  \n",
      " 45  suv                5000 non-null   int64  \n",
      " 46  truck              5000 non-null   int64  \n",
      " 47  van                5000 non-null   int64  \n",
      "dtypes: float64(14), int64(19), object(15)\n",
      "memory usage: 1.8+ MB\n"
     ]
    }
   ],
   "source": [
    "df = pd.read_csv('calculated_dereg_test.csv')\n",
    "df.info()"
   ]
  },
  {
   "cell_type": "code",
   "execution_count": 248,
   "id": "ancient-collins",
   "metadata": {},
   "outputs": [
    {
     "name": "stdout",
     "output_type": "stream",
     "text": [
      "<class 'pandas.core.frame.DataFrame'>\n",
      "RangeIndex: 5000 entries, 0 to 4999\n",
      "Data columns (total 15 columns):\n",
      " #   Column           Non-Null Count  Dtype  \n",
      "---  ------           --------------  -----  \n",
      " 0   power            5000 non-null   float64\n",
      " 1   omv              5000 non-null   float64\n",
      " 2   arf              5000 non-null   float64\n",
      " 3   age              5000 non-null   int64  \n",
      " 4   remaining_coe    5000 non-null   float64\n",
      " 5   truck            5000 non-null   int64  \n",
      " 6   suv              5000 non-null   int64  \n",
      " 7   sports car       5000 non-null   int64  \n",
      " 8   luxury sedan     5000 non-null   int64  \n",
      " 9   bus/mini bus     5000 non-null   int64  \n",
      " 10  mid-sized sedan  5000 non-null   int64  \n",
      " 11  stationwagon     5000 non-null   int64  \n",
      " 12  hatchback        5000 non-null   int64  \n",
      " 13  mpv              5000 non-null   int64  \n",
      " 14  depreciation     5000 non-null   float64\n",
      "dtypes: float64(5), int64(10)\n",
      "memory usage: 586.1 KB\n"
     ]
    }
   ],
   "source": [
    "useful = ['power', 'omv', 'arf', 'age', 'remaining_coe', 'truck', 'suv', 'sports car', 'luxury sedan',\\\n",
    "         'bus/mini bus', 'mid-sized sedan', 'stationwagon', 'hatchback', 'mpv', 'depreciation']\n",
    "df = df[useful]\n",
    "df.info()"
   ]
  },
  {
   "cell_type": "code",
   "execution_count": 249,
   "id": "statewide-jewel",
   "metadata": {},
   "outputs": [
    {
     "name": "stderr",
     "output_type": "stream",
     "text": [
      "G:\\softwares\\envs\\4277lab\\lib\\site-packages\\ipykernel_launcher.py:1: SettingWithCopyWarning: \n",
      "A value is trying to be set on a copy of a slice from a DataFrame.\n",
      "Try using .loc[row_indexer,col_indexer] = value instead\n",
      "\n",
      "See the caveats in the documentation: https://pandas.pydata.org/pandas-docs/stable/user_guide/indexing.html#returning-a-view-versus-a-copy\n",
      "  \"\"\"Entry point for launching an IPython kernel.\n"
     ]
    }
   ],
   "source": [
    "df['depreciation'] = df.fillna(0)"
   ]
  },
  {
   "cell_type": "code",
   "execution_count": 250,
   "id": "assisted-emission",
   "metadata": {},
   "outputs": [
    {
     "name": "stdout",
     "output_type": "stream",
     "text": [
      "<class 'pandas.core.frame.DataFrame'>\n",
      "RangeIndex: 5000 entries, 0 to 4999\n",
      "Data columns (total 1 columns):\n",
      " #   Column  Non-Null Count  Dtype  \n",
      "---  ------  --------------  -----  \n",
      " 0   0       5000 non-null   float64\n",
      "dtypes: float64(1)\n",
      "memory usage: 39.2 KB\n"
     ]
    }
   ],
   "source": [
    "preds = model.predict(df)\n",
    "preds = pd.DataFrame(preds)\n",
    "preds.info()"
   ]
  },
  {
   "cell_type": "code",
   "execution_count": 251,
   "id": "confident-commitment",
   "metadata": {},
   "outputs": [],
   "source": [
    "preds.to_csv('no_reg_but_dep_42.csv')"
   ]
  },
  {
   "cell_type": "code",
   "execution_count": null,
   "id": "studied-lawyer",
   "metadata": {},
   "outputs": [],
   "source": []
  }
 ],
 "metadata": {
  "kernelspec": {
   "display_name": "Python 3",
   "language": "python",
   "name": "python3"
  },
  "language_info": {
   "codemirror_mode": {
    "name": "ipython",
    "version": 3
   },
   "file_extension": ".py",
   "mimetype": "text/x-python",
   "name": "python",
   "nbconvert_exporter": "python",
   "pygments_lexer": "ipython3",
   "version": "3.7.9"
  }
 },
 "nbformat": 4,
 "nbformat_minor": 5
}
