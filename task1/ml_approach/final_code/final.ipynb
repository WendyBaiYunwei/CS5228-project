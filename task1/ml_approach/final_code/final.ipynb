{
 "cells": [
  {
   "cell_type": "code",
   "execution_count": 1,
   "id": "enormous-blink",
   "metadata": {},
   "outputs": [],
   "source": [
    "import numpy as np\n",
    "import pandas as pd\n",
    "from matplotlib import pyplot as plt"
   ]
  },
  {
   "cell_type": "code",
   "execution_count": null,
   "id": "automated-whole",
   "metadata": {},
   "outputs": [],
   "source": [
    "# The file does the following:\n",
    "    # merge the best results from each case"
   ]
  },
  {
   "cell_type": "code",
   "execution_count": 75,
   "id": "silver-saying",
   "metadata": {},
   "outputs": [],
   "source": [
    "omvs = pd.read_csv('./no_omv_67.csv')\n",
    "both = pd.read_csv('./no_both_87.csv')\n",
    "deps = pd.read_csv('./no_dep_60.csv')\n",
    "regs = pd.read_csv('./no_dereg_33.csv')\n",
    "base = pd.read_csv('./predictions_37.csv')\n",
    "best = pd.read_csv('./best_for_valid.csv')"
   ]
  },
  {
   "cell_type": "code",
   "execution_count": 77,
   "id": "stretch-teaching",
   "metadata": {},
   "outputs": [],
   "source": [
    "base = base['Predicted']\n",
    "omvs = omvs.iloc[:, 1]\n",
    "both = both.iloc[:, 1]\n",
    "deps = deps.iloc[:, 1]\n",
    "regs = regs.iloc[:, 1]\n",
    "best = best.iloc[:, 1]"
   ]
  },
  {
   "cell_type": "code",
   "execution_count": 78,
   "id": "juvenile-simon",
   "metadata": {},
   "outputs": [],
   "source": [
    "omvsL = omvs.tolist()\n",
    "bothL = both.tolist()\n",
    "depsL = deps.tolist()\n",
    "regsL = regs.tolist()\n",
    "bestL = best.tolist()"
   ]
  },
  {
   "cell_type": "code",
   "execution_count": 80,
   "id": "floppy-organization",
   "metadata": {},
   "outputs": [
    {
     "name": "stdout",
     "output_type": "stream",
     "text": [
      "<class 'pandas.core.frame.DataFrame'>\n",
      "RangeIndex: 5000 entries, 0 to 4999\n",
      "Data columns (total 18 columns):\n",
      " #   Column           Non-Null Count  Dtype  \n",
      "---  ------           --------------  -----  \n",
      " 0   power            5000 non-null   float64\n",
      " 1   omv              4988 non-null   float64\n",
      " 2   arf              4988 non-null   float64\n",
      " 3   age              5000 non-null   int64  \n",
      " 4   remaining_coe    5000 non-null   int64  \n",
      " 5   truck            5000 non-null   int64  \n",
      " 6   suv              5000 non-null   int64  \n",
      " 7   sports car       5000 non-null   int64  \n",
      " 8   luxury sedan     5000 non-null   int64  \n",
      " 9   bus/mini bus     5000 non-null   int64  \n",
      " 10  mid-sized sedan  5000 non-null   int64  \n",
      " 11  stationwagon     5000 non-null   int64  \n",
      " 12  hatchback        5000 non-null   int64  \n",
      " 13  mpv              5000 non-null   int64  \n",
      " 14  electric         5000 non-null   int64  \n",
      " 15  coe              5000 non-null   float64\n",
      " 16  depreciation     4868 non-null   float64\n",
      " 17  dereg_value      4665 non-null   float64\n",
      "dtypes: float64(6), int64(12)\n",
      "memory usage: 703.2 KB\n"
     ]
    }
   ],
   "source": [
    "df = pd.read_csv('test_basic.csv')\n",
    "useful = ['power', 'omv', 'arf', 'age', 'remaining_coe', 'truck', 'suv', 'sports car', 'luxury sedan',\\\n",
    "         'bus/mini bus', 'mid-sized sedan', 'stationwagon', 'hatchback', 'mpv', 'electric', 'coe', 'depreciation', 'dereg_value']\n",
    "df = df[useful]\n",
    "df.info()"
   ]
  },
  {
   "cell_type": "code",
   "execution_count": 82,
   "id": "greatest-scroll",
   "metadata": {},
   "outputs": [
    {
     "name": "stderr",
     "output_type": "stream",
     "text": [
      "G:\\softwares\\envs\\4277lab\\lib\\site-packages\\ipykernel_launcher.py:10: UserWarning: Boolean Series key will be reindexed to match DataFrame index.\n",
      "  # Remove the CWD from sys.path while we load stuff.\n",
      "G:\\softwares\\envs\\4277lab\\lib\\site-packages\\ipykernel_launcher.py:14: UserWarning: Boolean Series key will be reindexed to match DataFrame index.\n",
      "  \n",
      "G:\\softwares\\envs\\4277lab\\lib\\site-packages\\ipykernel_launcher.py:18: UserWarning: Boolean Series key will be reindexed to match DataFrame index.\n"
     ]
    }
   ],
   "source": [
    "def overwrite(new, owI):\n",
    "    for i in owI:\n",
    "        base[i] = new[i]\n",
    "        \n",
    "no_omv = df.loc[df.omv.isnull() & ~df.depreciation.isnull() & ~df.dereg_value.isnull()]\n",
    "no_omvI = no_omv.index.tolist()\n",
    "overwrite(omvsL, no_omvI)\n",
    "\n",
    "no_both = df[df.dereg_value.isnull()][df.depreciation.isnull()][~df.arf.isnull()]\n",
    "no_bothI = no_both.index.tolist()\n",
    "overwrite(bothL, no_bothI)\n",
    "\n",
    "no_dep = df[df.depreciation.isnull()][~df.dereg_value.isnull()][~df.arf.isnull()]\n",
    "depsI = no_dep.index.tolist()\n",
    "overwrite(depsL, depsI)\n",
    "\n",
    "no_reg = df[df.dereg_value.isnull()][~df.depreciation.isnull()][~df.arf.isnull()]\n",
    "regI = no_reg.index.tolist()\n",
    "overwrite(regsL, regI)\n",
    "\n",
    "valid = df.loc[~df.omv.isnull() & ~df.depreciation.isnull() & ~df.dereg_value.isnull()]\n",
    "validI = valid.index.tolist()\n",
    "overwrite(bestL, validI)"
   ]
  },
  {
   "cell_type": "code",
   "execution_count": 83,
   "id": "unexpected-terrain",
   "metadata": {},
   "outputs": [
    {
     "data": {
      "text/plain": [
       "count    5.000000e+03\n",
       "mean     1.096764e+05\n",
       "std      1.176372e+05\n",
       "min      6.775286e+03\n",
       "25%      5.832742e+04\n",
       "50%      7.916008e+04\n",
       "75%      1.185188e+05\n",
       "max      1.705656e+06\n",
       "Name: Predicted, dtype: float64"
      ]
     },
     "execution_count": 83,
     "metadata": {},
     "output_type": "execute_result"
    }
   ],
   "source": [
    "best = pd.read_csv('./predictions_37.csv')['Predicted']\n",
    "best.describe()"
   ]
  },
  {
   "cell_type": "code",
   "execution_count": 84,
   "id": "coated-jerusalem",
   "metadata": {},
   "outputs": [
    {
     "data": {
      "text/html": [
       "<div>\n",
       "<style scoped>\n",
       "    .dataframe tbody tr th:only-of-type {\n",
       "        vertical-align: middle;\n",
       "    }\n",
       "\n",
       "    .dataframe tbody tr th {\n",
       "        vertical-align: top;\n",
       "    }\n",
       "\n",
       "    .dataframe thead th {\n",
       "        text-align: right;\n",
       "    }\n",
       "</style>\n",
       "<table border=\"1\" class=\"dataframe\">\n",
       "  <thead>\n",
       "    <tr style=\"text-align: right;\">\n",
       "      <th></th>\n",
       "      <th>Predicted</th>\n",
       "    </tr>\n",
       "  </thead>\n",
       "  <tbody>\n",
       "    <tr>\n",
       "      <th>count</th>\n",
       "      <td>5.000000e+03</td>\n",
       "    </tr>\n",
       "    <tr>\n",
       "      <th>mean</th>\n",
       "      <td>1.083546e+05</td>\n",
       "    </tr>\n",
       "    <tr>\n",
       "      <th>std</th>\n",
       "      <td>1.188973e+05</td>\n",
       "    </tr>\n",
       "    <tr>\n",
       "      <th>min</th>\n",
       "      <td>6.121640e+03</td>\n",
       "    </tr>\n",
       "    <tr>\n",
       "      <th>25%</th>\n",
       "      <td>5.678871e+04</td>\n",
       "    </tr>\n",
       "    <tr>\n",
       "      <th>50%</th>\n",
       "      <td>7.726400e+04</td>\n",
       "    </tr>\n",
       "    <tr>\n",
       "      <th>75%</th>\n",
       "      <td>1.154708e+05</td>\n",
       "    </tr>\n",
       "    <tr>\n",
       "      <th>max</th>\n",
       "      <td>1.675892e+06</td>\n",
       "    </tr>\n",
       "  </tbody>\n",
       "</table>\n",
       "</div>"
      ],
      "text/plain": [
       "          Predicted\n",
       "count  5.000000e+03\n",
       "mean   1.083546e+05\n",
       "std    1.188973e+05\n",
       "min    6.121640e+03\n",
       "25%    5.678871e+04\n",
       "50%    7.726400e+04\n",
       "75%    1.154708e+05\n",
       "max    1.675892e+06"
      ]
     },
     "execution_count": 84,
     "metadata": {},
     "output_type": "execute_result"
    }
   ],
   "source": [
    "merged = pd.DataFrame(base)\n",
    "merged.describe()"
   ]
  },
  {
   "cell_type": "code",
   "execution_count": 95,
   "id": "warming-calculator",
   "metadata": {},
   "outputs": [],
   "source": [
    "merged.to_csv('last_try2.csv')"
   ]
  }
 ],
 "metadata": {
  "kernelspec": {
   "display_name": "Python 3",
   "language": "python",
   "name": "python3"
  },
  "language_info": {
   "codemirror_mode": {
    "name": "ipython",
    "version": 3
   },
   "file_extension": ".py",
   "mimetype": "text/x-python",
   "name": "python",
   "nbconvert_exporter": "python",
   "pygments_lexer": "ipython3",
   "version": "3.7.9"
  }
 },
 "nbformat": 4,
 "nbformat_minor": 5
}
