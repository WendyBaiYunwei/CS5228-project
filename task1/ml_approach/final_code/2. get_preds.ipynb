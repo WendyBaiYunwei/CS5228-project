{
 "cells": [
  {
   "cell_type": "code",
   "execution_count": 2,
   "id": "burning-fossil",
   "metadata": {},
   "outputs": [],
   "source": [
    "import pandas as pd\n",
    "import numpy as np\n",
    "from matplotlib import pyplot as plt"
   ]
  },
  {
   "cell_type": "code",
   "execution_count": null,
   "id": "protecting-renaissance",
   "metadata": {},
   "outputs": [],
   "source": [
    "# The file does the following:\n",
    "    # predict values for data:\n",
    "        # with non-null depreciation, dereg_value and omv attributes\n",
    "        # with null depreciation but non-null dereg_value and omv\n",
    "        # with non-null depreciation and omv but null dereg_value\n",
    "        # with null depreciation, dereg_values but non-null omv\n",
    "        # other cases"
   ]
  },
  {
   "cell_type": "code",
   "execution_count": 329,
   "id": "controlled-facility",
   "metadata": {},
   "outputs": [],
   "source": [
    "df = pd.read_csv('train_basic.csv')"
   ]
  },
  {
   "cell_type": "code",
   "execution_count": 332,
   "id": "liberal-contest",
   "metadata": {},
   "outputs": [
    {
     "name": "stdout",
     "output_type": "stream",
     "text": [
      "<class 'pandas.core.frame.DataFrame'>\n",
      "RangeIndex: 16784 entries, 0 to 16783\n",
      "Data columns (total 48 columns):\n",
      " #   Column             Non-Null Count  Dtype  \n",
      "---  ------             --------------  -----  \n",
      " 0   Unnamed: 0         16784 non-null  int64  \n",
      " 1   listing_id         16784 non-null  int64  \n",
      " 2   title              16784 non-null  object \n",
      " 3   make               14624 non-null  object \n",
      " 4   model              16784 non-null  object \n",
      " 5   description        16439 non-null  object \n",
      " 6   manufactured       16590 non-null  float64\n",
      " 7   original_reg_date  318 non-null    object \n",
      " 8   reg_date           16583 non-null  object \n",
      " 9   type_of_vehicle    16784 non-null  object \n",
      " 10  category           16784 non-null  object \n",
      " 11  transmission       16784 non-null  object \n",
      " 12  curb_weight        16205 non-null  float64\n",
      " 13  power              16784 non-null  float64\n",
      " 14  fuel_type          3490 non-null   object \n",
      " 15  engine_cap         16784 non-null  float64\n",
      " 16  no_of_owners       16608 non-null  float64\n",
      " 17  depreciation       16351 non-null  float64\n",
      " 18  coe                15893 non-null  float64\n",
      " 19  road_tax           14630 non-null  float64\n",
      " 20  dereg_value        15595 non-null  float64\n",
      " 21  mileage            16784 non-null  float64\n",
      " 22  omv                16743 non-null  float64\n",
      " 23  arf                16743 non-null  float64\n",
      " 24  opc_scheme         207 non-null    object \n",
      " 25  lifespan           1702 non-null   object \n",
      " 26  eco_category       16784 non-null  object \n",
      " 27  features           16325 non-null  object \n",
      " 28  accessories        13971 non-null  object \n",
      " 29  indicative_price   0 non-null      float64\n",
      " 30  price              16784 non-null  float64\n",
      " 31  age                16784 non-null  int64  \n",
      " 32  remaining_coe      16583 non-null  float64\n",
      " 33  diesel             16784 non-null  int64  \n",
      " 34  electric           16784 non-null  int64  \n",
      " 35  petrol             16784 non-null  int64  \n",
      " 36  petrol-electric    16784 non-null  int64  \n",
      " 37  bus/mini bus       16784 non-null  int64  \n",
      " 38  hatchback          16784 non-null  int64  \n",
      " 39  luxury sedan       16784 non-null  int64  \n",
      " 40  mid-sized sedan    16784 non-null  int64  \n",
      " 41  mpv                16784 non-null  int64  \n",
      " 42  others             16784 non-null  int64  \n",
      " 43  sports car         16784 non-null  int64  \n",
      " 44  stationwagon       16784 non-null  int64  \n",
      " 45  suv                16784 non-null  int64  \n",
      " 46  truck              16784 non-null  int64  \n",
      " 47  van                16784 non-null  int64  \n",
      "dtypes: float64(15), int64(18), object(15)\n",
      "memory usage: 6.1+ MB\n"
     ]
    }
   ],
   "source": [
    "df.info()"
   ]
  },
  {
   "cell_type": "code",
   "execution_count": 344,
   "id": "continuing-telescope",
   "metadata": {},
   "outputs": [
    {
     "name": "stdout",
     "output_type": "stream",
     "text": [
      "<class 'pandas.core.frame.DataFrame'>\n",
      "Int64Index: 15434 entries, 0 to 16783\n",
      "Data columns (total 14 columns):\n",
      " #   Column           Non-Null Count  Dtype  \n",
      "---  ------           --------------  -----  \n",
      " 0   omv              15434 non-null  float64\n",
      " 1   age              15434 non-null  int64  \n",
      " 2   remaining_coe    15434 non-null  float64\n",
      " 3   truck            15434 non-null  int64  \n",
      " 4   suv              15434 non-null  int64  \n",
      " 5   sports car       15434 non-null  int64  \n",
      " 6   luxury sedan     15434 non-null  int64  \n",
      " 7   bus/mini bus     15434 non-null  int64  \n",
      " 8   mid-sized sedan  15434 non-null  int64  \n",
      " 9   stationwagon     15434 non-null  int64  \n",
      " 10  hatchback        15434 non-null  int64  \n",
      " 11  mpv              15434 non-null  int64  \n",
      " 12  depreciation     15434 non-null  float64\n",
      " 13  dereg_value      15434 non-null  float64\n",
      "dtypes: float64(4), int64(10)\n",
      "memory usage: 1.8 MB\n"
     ]
    }
   ],
   "source": [
    "useful = ['omv', 'age', 'remaining_coe', 'truck', 'suv', 'sports car', 'luxury sedan',\\\n",
    "         'bus/mini bus', 'mid-sized sedan', 'stationwagon', 'hatchback', 'mpv', 'depreciation', 'dereg_value']\n",
    "train = df.dropna(subset = ['dereg_value', 'depreciation', 'remaining_coe', 'omv'])\n",
    "df1 = train[useful]\n",
    "price1 = train['price']\n",
    "df1.info()"
   ]
  },
  {
   "cell_type": "code",
   "execution_count": 345,
   "id": "psychological-infection",
   "metadata": {},
   "outputs": [],
   "source": [
    "from sklearn.model_selection import train_test_split\n",
    "X_train, X_test, y_train, y_test = train_test_split(df1, price1, \n",
    "                                                    train_size=0.7,\n",
    "                                                    test_size = 0.3, random_state=100)"
   ]
  },
  {
   "cell_type": "code",
   "execution_count": 348,
   "id": "dominant-florence",
   "metadata": {},
   "outputs": [],
   "source": [
    "from sklearn.ensemble import RandomForestRegressor\n",
    "\n",
    "model=RandomForestRegressor(random_state = 0, n_estimators = 500, max_features=5).fit(X_train,y_train)"
   ]
  },
  {
   "cell_type": "code",
   "execution_count": 349,
   "id": "authorized-jewel",
   "metadata": {},
   "outputs": [
    {
     "name": "stdout",
     "output_type": "stream",
     "text": [
      "195319698.55806267\n"
     ]
    }
   ],
   "source": [
    "from sklearn.metrics import mean_squared_error\n",
    "y_pred = model.predict(X_test)\n",
    "mse=mean_squared_error(y_test, y_pred)\n",
    "print(mse)"
   ]
  },
  {
   "cell_type": "code",
   "execution_count": 350,
   "id": "processed-alpha",
   "metadata": {},
   "outputs": [],
   "source": [
    "model=RandomForestRegressor(random_state = 0, n_estimators = 500, max_features=6).fit(df1,price1)"
   ]
  },
  {
   "cell_type": "code",
   "execution_count": 352,
   "id": "casual-amino",
   "metadata": {},
   "outputs": [],
   "source": [
    "test_ = pd.read_csv('test_basic.csv')"
   ]
  },
  {
   "cell_type": "code",
   "execution_count": 353,
   "id": "empirical-limitation",
   "metadata": {},
   "outputs": [
    {
     "name": "stdout",
     "output_type": "stream",
     "text": [
      "<class 'pandas.core.frame.DataFrame'>\n",
      "RangeIndex: 5000 entries, 0 to 4999\n",
      "Data columns (total 14 columns):\n",
      " #   Column           Non-Null Count  Dtype  \n",
      "---  ------           --------------  -----  \n",
      " 0   omv              4988 non-null   float64\n",
      " 1   age              5000 non-null   int64  \n",
      " 2   remaining_coe    5000 non-null   int64  \n",
      " 3   truck            5000 non-null   int64  \n",
      " 4   suv              5000 non-null   int64  \n",
      " 5   sports car       5000 non-null   int64  \n",
      " 6   luxury sedan     5000 non-null   int64  \n",
      " 7   bus/mini bus     5000 non-null   int64  \n",
      " 8   mid-sized sedan  5000 non-null   int64  \n",
      " 9   stationwagon     5000 non-null   int64  \n",
      " 10  hatchback        5000 non-null   int64  \n",
      " 11  mpv              5000 non-null   int64  \n",
      " 12  depreciation     4868 non-null   float64\n",
      " 13  dereg_value      4665 non-null   float64\n",
      "dtypes: float64(3), int64(11)\n",
      "memory usage: 547.0 KB\n"
     ]
    }
   ],
   "source": [
    "useful = ['omv', 'age', 'remaining_coe', 'truck', 'suv', 'sports car', 'luxury sedan',\\\n",
    "         'bus/mini bus', 'mid-sized sedan', 'stationwagon', 'hatchback', 'mpv', 'depreciation', 'dereg_value']\n",
    "test = test_[useful]\n",
    "test.info()"
   ]
  },
  {
   "cell_type": "code",
   "execution_count": 354,
   "id": "driven-coast",
   "metadata": {},
   "outputs": [
    {
     "name": "stdout",
     "output_type": "stream",
     "text": [
      "<class 'pandas.core.frame.DataFrame'>\n",
      "RangeIndex: 5000 entries, 0 to 4999\n",
      "Data columns (total 14 columns):\n",
      " #   Column           Non-Null Count  Dtype  \n",
      "---  ------           --------------  -----  \n",
      " 0   omv              5000 non-null   float64\n",
      " 1   age              5000 non-null   int64  \n",
      " 2   remaining_coe    5000 non-null   int64  \n",
      " 3   truck            5000 non-null   int64  \n",
      " 4   suv              5000 non-null   int64  \n",
      " 5   sports car       5000 non-null   int64  \n",
      " 6   luxury sedan     5000 non-null   int64  \n",
      " 7   bus/mini bus     5000 non-null   int64  \n",
      " 8   mid-sized sedan  5000 non-null   int64  \n",
      " 9   stationwagon     5000 non-null   int64  \n",
      " 10  hatchback        5000 non-null   int64  \n",
      " 11  mpv              5000 non-null   int64  \n",
      " 12  depreciation     5000 non-null   float64\n",
      " 13  dereg_value      5000 non-null   float64\n",
      "dtypes: float64(3), int64(11)\n",
      "memory usage: 547.0 KB\n"
     ]
    }
   ],
   "source": [
    "test = test.fillna(999999999999)\n",
    "test.info()"
   ]
  },
  {
   "cell_type": "code",
   "execution_count": 355,
   "id": "assisted-emission",
   "metadata": {},
   "outputs": [
    {
     "name": "stdout",
     "output_type": "stream",
     "text": [
      "<class 'pandas.core.frame.DataFrame'>\n",
      "RangeIndex: 5000 entries, 0 to 4999\n",
      "Data columns (total 1 columns):\n",
      " #   Column  Non-Null Count  Dtype  \n",
      "---  ------  --------------  -----  \n",
      " 0   0       5000 non-null   float64\n",
      "dtypes: float64(1)\n",
      "memory usage: 39.2 KB\n"
     ]
    }
   ],
   "source": [
    "preds = model.predict(test)\n",
    "preds = pd.DataFrame(preds)\n",
    "preds.info()"
   ]
  },
  {
   "cell_type": "code",
   "execution_count": 356,
   "id": "confident-commitment",
   "metadata": {},
   "outputs": [],
   "source": [
    "preds.to_csv('best_for_valid.csv')"
   ]
  }
 ],
 "metadata": {
  "kernelspec": {
   "display_name": "Python 3",
   "language": "python",
   "name": "python3"
  },
  "language_info": {
   "codemirror_mode": {
    "name": "ipython",
    "version": 3
   },
   "file_extension": ".py",
   "mimetype": "text/x-python",
   "name": "python",
   "nbconvert_exporter": "python",
   "pygments_lexer": "ipython3",
   "version": "3.7.9"
  }
 },
 "nbformat": 4,
 "nbformat_minor": 5
}
