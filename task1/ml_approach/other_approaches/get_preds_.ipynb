{
 "cells": [
  {
   "cell_type": "code",
   "execution_count": 1,
   "id": "focal-commodity",
   "metadata": {},
   "outputs": [],
   "source": [
    "#train rf to predict missing dereg_values"
   ]
  },
  {
   "cell_type": "code",
   "execution_count": 138,
   "id": "vanilla-harris",
   "metadata": {},
   "outputs": [],
   "source": [
    "import pandas as pd\n",
    "import numpy as np\n",
    "from matplotlib import pyplot as plt"
   ]
  },
  {
   "cell_type": "code",
   "execution_count": 266,
   "id": "quarterly-corrections",
   "metadata": {},
   "outputs": [
    {
     "name": "stdout",
     "output_type": "stream",
     "text": [
      "<class 'pandas.core.frame.DataFrame'>\n",
      "RangeIndex: 16784 entries, 0 to 16783\n",
      "Data columns (total 48 columns):\n",
      " #   Column             Non-Null Count  Dtype  \n",
      "---  ------             --------------  -----  \n",
      " 0   Unnamed: 0         16784 non-null  int64  \n",
      " 1   listing_id         16784 non-null  int64  \n",
      " 2   title              16784 non-null  object \n",
      " 3   make               16784 non-null  object \n",
      " 4   model              16784 non-null  object \n",
      " 5   description        16439 non-null  object \n",
      " 6   manufactured       16590 non-null  float64\n",
      " 7   original_reg_date  318 non-null    object \n",
      " 8   reg_date           16583 non-null  object \n",
      " 9   type_of_vehicle    16784 non-null  object \n",
      " 10  category           16784 non-null  object \n",
      " 11  transmission       16784 non-null  object \n",
      " 12  curb_weight        16205 non-null  float64\n",
      " 13  power              16784 non-null  float64\n",
      " 14  fuel_type          3490 non-null   object \n",
      " 15  engine_cap         16784 non-null  float64\n",
      " 16  no_of_owners       16608 non-null  float64\n",
      " 17  depreciation       16351 non-null  float64\n",
      " 18  coe                15893 non-null  float64\n",
      " 19  road_tax           14630 non-null  float64\n",
      " 20  dereg_value        15595 non-null  float64\n",
      " 21  mileage            16784 non-null  float64\n",
      " 22  omv                16743 non-null  float64\n",
      " 23  arf                16743 non-null  float64\n",
      " 24  opc_scheme         207 non-null    object \n",
      " 25  lifespan           1702 non-null   object \n",
      " 26  eco_category       16784 non-null  object \n",
      " 27  features           16325 non-null  object \n",
      " 28  accessories        13971 non-null  object \n",
      " 29  indicative_price   0 non-null      float64\n",
      " 30  price              16784 non-null  float64\n",
      " 31  age                16784 non-null  int64  \n",
      " 32  remaining_coe      16583 non-null  float64\n",
      " 33  diesel             16784 non-null  int64  \n",
      " 34  electric           16784 non-null  int64  \n",
      " 35  petrol             16784 non-null  int64  \n",
      " 36  petrol-electric    16784 non-null  int64  \n",
      " 37  bus/mini bus       16784 non-null  int64  \n",
      " 38  hatchback          16784 non-null  int64  \n",
      " 39  luxury sedan       16784 non-null  int64  \n",
      " 40  mid-sized sedan    16784 non-null  int64  \n",
      " 41  mpv                16784 non-null  int64  \n",
      " 42  others             16784 non-null  int64  \n",
      " 43  sports car         16784 non-null  int64  \n",
      " 44  stationwagon       16784 non-null  int64  \n",
      " 45  suv                16784 non-null  int64  \n",
      " 46  truck              16784 non-null  int64  \n",
      " 47  van                16784 non-null  int64  \n",
      "dtypes: float64(15), int64(18), object(15)\n",
      "memory usage: 6.1+ MB\n"
     ]
    }
   ],
   "source": [
    "df = pd.read_csv('train_basic.csv')\n",
    "df.info()"
   ]
  },
  {
   "cell_type": "code",
   "execution_count": 267,
   "id": "parallel-station",
   "metadata": {},
   "outputs": [],
   "source": [
    "# calc = pd.read_csv('calculated_dereg.csv')\n",
    "# df['dereg_value'] = calc['dereg_value']\n",
    "# df.info()"
   ]
  },
  {
   "cell_type": "code",
   "execution_count": 243,
   "id": "polished-queue",
   "metadata": {},
   "outputs": [
    {
     "name": "stdout",
     "output_type": "stream",
     "text": [
      "33\n"
     ]
    }
   ],
   "source": [
    "# fill in missing omv\n",
    "from collections import defaultdict\n",
    "mal = []\n",
    "dfm = df[df.omv.isnull()]\n",
    "dfv = df[~df.omv.isnull()]\n",
    "mapper = defaultdict(list)\n",
    "for idx, row in dfm.iterrows():\n",
    "    model = row['model']\n",
    "    age = row['age'] // 12 * 12\n",
    "    ma = (model, age)\n",
    "    mal.append((ma))\n",
    "\n",
    "for idx, row in dfv.iterrows():\n",
    "    model = row['model']\n",
    "    age = row['age'] // 12 * 12\n",
    "    ma = (model, age)\n",
    "    if ma in mal:\n",
    "        mapper[ma].append(row['omv'])\n",
    "\n",
    "for idx, row in dfm.iterrows():\n",
    "    model = row['model']\n",
    "    age = row['age'] // 12 * 12\n",
    "    ma = (model, age)\n",
    "    avg = np.average(mapper[ma])\n",
    "    df.at[idx, 'omv'] = avg\n",
    "\n",
    "print(df['omv'].isnull().sum())"
   ]
  },
  {
   "cell_type": "code",
   "execution_count": 244,
   "id": "unlike-annex",
   "metadata": {},
   "outputs": [
    {
     "name": "stdout",
     "output_type": "stream",
     "text": [
      "876\n",
      "4\n",
      "539.030303030303\n"
     ]
    }
   ],
   "source": [
    "print(np.max(df[df.omv.isnull()]['age']))\n",
    "print(np.min(df[df.omv.isnull()]['age']))\n",
    "print(np.mean(df[df.omv.isnull()]['age']))"
   ]
  },
  {
   "cell_type": "code",
   "execution_count": 245,
   "id": "central-enemy",
   "metadata": {},
   "outputs": [],
   "source": [
    "df_ = df.copy()\n",
    "df_['omv'] = df['omv'].dropna()\n",
    "# print(df_.loc[(df_.model == '530e'), 'omv'])"
   ]
  },
  {
   "cell_type": "code",
   "execution_count": 246,
   "id": "overhead-concentrate",
   "metadata": {},
   "outputs": [],
   "source": [
    "df.at[10005, 'omv'] = 58255"
   ]
  },
  {
   "cell_type": "code",
   "execution_count": 247,
   "id": "continuing-aaron",
   "metadata": {},
   "outputs": [
    {
     "name": "stdout",
     "output_type": "stream",
     "text": [
      "876\n",
      "444\n",
      "555.75\n"
     ]
    }
   ],
   "source": [
    "print(np.max(df[df.omv.isnull()]['age']))\n",
    "print(np.min(df[df.omv.isnull()]['age']))\n",
    "print(np.mean(df[df.omv.isnull()]['age']))"
   ]
  },
  {
   "cell_type": "code",
   "execution_count": 248,
   "id": "sudden-karma",
   "metadata": {},
   "outputs": [
    {
     "name": "stdout",
     "output_type": "stream",
     "text": [
      "12575.818181818182\n"
     ]
    }
   ],
   "source": [
    "print(np.mean(df_[df_.age > 450]['omv']))"
   ]
  },
  {
   "cell_type": "code",
   "execution_count": 249,
   "id": "obvious-reducing",
   "metadata": {},
   "outputs": [
    {
     "name": "stdout",
     "output_type": "stream",
     "text": [
      "28\n"
     ]
    },
    {
     "name": "stderr",
     "output_type": "stream",
     "text": [
      "G:\\softwares\\envs\\4277lab\\lib\\site-packages\\numpy\\lib\\function_base.py:380: RuntimeWarning: Mean of empty slice.\n",
      "  avg = a.mean(axis)\n",
      "G:\\softwares\\envs\\4277lab\\lib\\site-packages\\numpy\\core\\_methods.py:170: RuntimeWarning: invalid value encountered in double_scalars\n",
      "  ret = ret.dtype.type(ret / rcount)\n"
     ]
    }
   ],
   "source": [
    "# fill in missing omv\n",
    "from collections import defaultdict\n",
    "mal = []\n",
    "dfm = df[df.omv.isnull()]\n",
    "dfv = df[~df.omv.isnull()]\n",
    "mapper = defaultdict(list)\n",
    "for idx, row in dfm.iterrows():\n",
    "    model = row['model']\n",
    "    age = row['age'] // 120 * 120\n",
    "    ma = (model, age)\n",
    "    mal.append((ma))\n",
    "\n",
    "for idx, row in dfv.iterrows():\n",
    "    model = row['model']\n",
    "    age = row['age'] // 120 * 120\n",
    "    ma = (model, age)\n",
    "    if ma in mal:\n",
    "        mapper[ma].append(row['omv'])\n",
    "\n",
    "for idx, row in dfm.iterrows():\n",
    "    model = row['model']\n",
    "    age = row['age'] // 120 * 120\n",
    "    ma = (model, age)\n",
    "    avg = np.average(mapper[ma])\n",
    "    df.at[idx, 'omv'] = avg\n",
    "\n",
    "print(df['omv'].isnull().sum())"
   ]
  },
  {
   "cell_type": "code",
   "execution_count": 250,
   "id": "french-malpractice",
   "metadata": {},
   "outputs": [
    {
     "name": "stdout",
     "output_type": "stream",
     "text": [
      "3\n"
     ]
    }
   ],
   "source": [
    "# fill in missing omv\n",
    "from collections import defaultdict\n",
    "mal = []\n",
    "dfm = df[df.omv.isnull()]\n",
    "dfv = df[~df.omv.isnull()]\n",
    "mapper = defaultdict(list)\n",
    "for idx, row in dfm.iterrows():\n",
    "    model = row['make']\n",
    "    age = row['age'] // 120 * 120\n",
    "    ma = (model, age)\n",
    "    mal.append(model)\n",
    "\n",
    "for idx, row in dfv.iterrows():\n",
    "    model = row['make']\n",
    "    age = row['age'] // 120 * 120\n",
    "    ma = (model, age)\n",
    "    if model in mal:\n",
    "        mapper[model].append(row['omv'])\n",
    "\n",
    "for idx, row in dfm.iterrows():\n",
    "    model = row['make']\n",
    "    age = row['age'] // 120 * 120\n",
    "    ma = (model, age)\n",
    "    avg = np.average(mapper[model])\n",
    "    df.at[idx, 'omv'] = avg\n",
    "\n",
    "print(df['omv'].isnull().sum())"
   ]
  },
  {
   "cell_type": "code",
   "execution_count": 251,
   "id": "controlling-macintosh",
   "metadata": {},
   "outputs": [
    {
     "name": "stdout",
     "output_type": "stream",
     "text": [
      "0\n"
     ]
    }
   ],
   "source": [
    "df.loc[df.omv.isnull(), 'omv'] = 12575\n",
    "print(df['omv'].isnull().sum())"
   ]
  },
  {
   "cell_type": "code",
   "execution_count": 252,
   "id": "catholic-production",
   "metadata": {},
   "outputs": [],
   "source": [
    "# coe: fill in missing value for coe according to: age and power\n",
    "for idx, row in df.iterrows():\n",
    "    omv = row['omv']\n",
    "    if omv < 20000:\n",
    "        arf = omv\n",
    "    elif omv >= 20000 and omv <= 50000:\n",
    "        arf = (omv - 20000) * 1.40 + 20000\n",
    "    else:\n",
    "        arf =  (omv - 50000) * 1.80 + 62000\n",
    "        \n",
    "    if pd.isnull(row['arf']):\n",
    "        df.at[idx, 'arf'] = arf\n",
    "# print(np.average(diff))\n",
    "# df = df[~(df.arf.isnull() & df.dereg_value.isnull())] # remove values whose dereg_value cannot be calculated"
   ]
  },
  {
   "cell_type": "code",
   "execution_count": 253,
   "id": "fantastic-counter",
   "metadata": {},
   "outputs": [
    {
     "name": "stdout",
     "output_type": "stream",
     "text": [
      "14\n"
     ]
    }
   ],
   "source": [
    "df['remaining_coe'] = df['remaining_coe'].fillna(0)\n",
    "# for date missing both coe and dereg_value, record it's month engine and power\n",
    "coe_to_search = []\n",
    "to_search = df[df.coe.isnull()]\n",
    "\n",
    "for idx, row in to_search.iterrows():\n",
    "    # category -> A / B\n",
    "    power = row[\"power\"]\n",
    "    engine_cap = row[\"engine_cap\"]\n",
    "    cat = 2\n",
    "    month = row[\"remaining_coe\"]\n",
    "    if engine_cap <= 1600 and power <= 97:\n",
    "        cat = 1\n",
    "    coe_to_search.append((cat, month))\n",
    "\n",
    "coe_to_search = list(set(coe_to_search))\n",
    "print(len(coe_to_search))"
   ]
  },
  {
   "cell_type": "code",
   "execution_count": 254,
   "id": "attended-championship",
   "metadata": {},
   "outputs": [
    {
     "name": "stdout",
     "output_type": "stream",
     "text": [
      "0\n",
      "10000\n",
      "891\n"
     ]
    }
   ],
   "source": [
    "t_to_coe = {}\n",
    "\n",
    "for t in coe_to_search:\n",
    "    t_to_coe[str(t)] = []\n",
    "\n",
    "remains = df[~df.coe.isnull()]\n",
    "\n",
    "for idx, row in remains.iterrows():\n",
    "    if idx % 10000 == 0:\n",
    "        print(idx)\n",
    "\n",
    "    power = row[\"power\"]\n",
    "    engine_cap = row[\"engine_cap\"]\n",
    "    cat = 2\n",
    "    month = row[\"remaining_coe\"]\n",
    "    if engine_cap <= 1600 and power <= 97:\n",
    "        cat = 1\n",
    "    \n",
    "    t = (cat, month)\n",
    "    \n",
    "    coe = row[\"coe\"]\n",
    "    if t in coe_to_search:\n",
    "        t_to_coe[str(t)].append(coe)\n",
    "        \n",
    "c = 0\n",
    "for idx, row in df.iterrows():\n",
    "    power = row[\"power\"]\n",
    "    engine_cap = row[\"engine_cap\"]\n",
    "    cat = 2\n",
    "    month = row[\"remaining_coe\"]\n",
    "    if engine_cap <= 1600 and power <= 97:\n",
    "        cat = 1\n",
    "    t = str((cat, month))\n",
    "\n",
    "    if type(row[\"coe\"]) == float and pd.isna(row[\"coe\"]):\n",
    "        if t in t_to_coe:\n",
    "            l = t_to_coe[t]\n",
    "            if len(l) > 0:\n",
    "                avg = sum(l) / len(l)\n",
    "                df.at[idx, 'coe'] = avg\n",
    "                c += 1\n",
    "print(c)"
   ]
  },
  {
   "cell_type": "code",
   "execution_count": 255,
   "id": "registered-beach",
   "metadata": {},
   "outputs": [
    {
     "name": "stdout",
     "output_type": "stream",
     "text": [
      "0\n"
     ]
    }
   ],
   "source": [
    "print(df['coe'].isnull().sum())"
   ]
  },
  {
   "cell_type": "code",
   "execution_count": 256,
   "id": "brown-adolescent",
   "metadata": {},
   "outputs": [],
   "source": [
    "# relevant attributes: omv, remaining coe, arf, power, age, omv, arf\n",
    "useful = ['omv', 'arf', 'coe', 'remaining_coe', 'power', 'age']\n",
    "train = df[~df.dereg_value.isnull()][useful]\n",
    "y = df[~df.dereg_value.isnull()]['dereg_value']\n",
    "to_predict = df[df.dereg_value.isnull()][useful]"
   ]
  },
  {
   "cell_type": "code",
   "execution_count": 257,
   "id": "sufficient-behavior",
   "metadata": {},
   "outputs": [],
   "source": [
    "from sklearn.model_selection import train_test_split\n",
    "X_train, X_test, y_train, y_test = train_test_split(train, y, \n",
    "                                                    train_size=0.7,\n",
    "                                                    test_size = 0.3, random_state=100)"
   ]
  },
  {
   "cell_type": "code",
   "execution_count": 262,
   "id": "earlier-battlefield",
   "metadata": {},
   "outputs": [],
   "source": [
    "from sklearn.ensemble import RandomForestRegressor\n",
    "\n",
    "model=RandomForestRegressor(random_state = 0, max_features = 4).fit(X_train,y_train)"
   ]
  },
  {
   "cell_type": "code",
   "execution_count": 263,
   "id": "mineral-willow",
   "metadata": {},
   "outputs": [
    {
     "name": "stdout",
     "output_type": "stream",
     "text": [
      "35585465.60370748\n"
     ]
    }
   ],
   "source": [
    "from sklearn.metrics import mean_squared_error\n",
    "y_pred = model.predict(X_test)\n",
    "mse=mean_squared_error(y_test, y_pred)\n",
    "print(mse)\n",
    "# 21582718 with dep\n",
    "# 35585465"
   ]
  },
  {
   "cell_type": "code",
   "execution_count": 264,
   "id": "computational-disco",
   "metadata": {},
   "outputs": [
    {
     "name": "stdout",
     "output_type": "stream",
     "text": [
      "0\n"
     ]
    }
   ],
   "source": [
    "# new_dereg = model.predict(to_predict)\n",
    "model=RandomForestRegressor(random_state = 0).fit(train,y)\n",
    "new_dereg = model.predict(to_predict)\n",
    "\n",
    "df.loc[df.dereg_value.isnull(), 'dereg_value'] = new_dereg\n",
    "print(df['dereg_value'].isnull().sum())"
   ]
  },
  {
   "cell_type": "code",
   "execution_count": 265,
   "id": "medieval-sustainability",
   "metadata": {},
   "outputs": [],
   "source": [
    "df.to_csv('filled_dereg.csv')"
   ]
  },
  {
   "cell_type": "code",
   "execution_count": null,
   "id": "dramatic-cancellation",
   "metadata": {},
   "outputs": [],
   "source": []
  }
 ],
 "metadata": {
  "kernelspec": {
   "display_name": "Python 3",
   "language": "python",
   "name": "python3"
  },
  "language_info": {
   "codemirror_mode": {
    "name": "ipython",
    "version": 3
   },
   "file_extension": ".py",
   "mimetype": "text/x-python",
   "name": "python",
   "nbconvert_exporter": "python",
   "pygments_lexer": "ipython3",
   "version": "3.7.9"
  }
 },
 "nbformat": 4,
 "nbformat_minor": 5
}
